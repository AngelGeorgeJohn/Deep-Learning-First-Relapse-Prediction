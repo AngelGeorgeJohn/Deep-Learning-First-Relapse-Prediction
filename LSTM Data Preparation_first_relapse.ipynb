{
 "cells": [
  {
   "cell_type": "code",
   "execution_count": 321,
   "id": "0047c572",
   "metadata": {},
   "outputs": [],
   "source": [
    "import numpy as np\n",
    "import pandas as pd\n",
    "from matplotlib import pyplot as plt\n",
    "from matplotlib.pyplot import rcParams\n",
    "import seaborn as sbs\n",
    "import scipy as sp\n",
    "from scipy import stats\n",
    "import statistics as st  \n",
    "import datetime \n",
    "from datetime import datetime      \n",
    "from datetime import timedelta\n",
    "#date_parser=lambda x:datetime.strptime(x,'%y/%m/%d')"
   ]
  },
  {
   "cell_type": "code",
   "execution_count": null,
   "id": "5937440b-4de6-4e16-9f86-cdbdd85fffb1",
   "metadata": {},
   "outputs": [],
   "source": []
  },
  {
   "cell_type": "markdown",
   "id": "82a191e7",
   "metadata": {},
   "source": [
    "## Import CPD Treatment Output"
   ]
  },
  {
   "cell_type": "code",
   "execution_count": 322,
   "id": "4b16ca66-42c1-483b-abf9-3432583b11cd",
   "metadata": {},
   "outputs": [
    {
     "name": "stderr",
     "output_type": "stream",
     "text": [
      "C:\\Users\\georgea1\\AppData\\Local\\Temp\\ipykernel_23364\\149189757.py:1: DtypeWarning: Columns (14,23,24,26,27,29,30,31,33,35,62,63,64) have mixed types. Specify dtype option on import or set low_memory=False.\n",
      "  data1=pd.read_csv('C:/Users/georgea1/OneDrive - Trinity College Dublin/Angel George/Chap 2. Treatment/Data/CPD Treatment Data/August/CPD Treatment_output_FINAL_OUTPUT_09_08_2024.csv')\n"
     ]
    },
    {
     "data": {
      "text/html": [
       "<div>\n",
       "<style scoped>\n",
       "    .dataframe tbody tr th:only-of-type {\n",
       "        vertical-align: middle;\n",
       "    }\n",
       "\n",
       "    .dataframe tbody tr th {\n",
       "        vertical-align: top;\n",
       "    }\n",
       "\n",
       "    .dataframe thead th {\n",
       "        text-align: right;\n",
       "    }\n",
       "</style>\n",
       "<table border=\"1\" class=\"dataframe\">\n",
       "  <thead>\n",
       "    <tr style=\"text-align: right;\">\n",
       "      <th></th>\n",
       "      <th>RKD.ID</th>\n",
       "      <th>Repeat.Instrument</th>\n",
       "      <th>Date_Of_Visit</th>\n",
       "      <th>Interval.from.diagnosis..months.</th>\n",
       "      <th>Immunosuppressive.status</th>\n",
       "      <th>Corticosteroids</th>\n",
       "      <th>Current.corticosteroid.dose</th>\n",
       "      <th>Corticosteroids.in.response.to.this.clinical.encounter.episode</th>\n",
       "      <th>Immunosuppressive.medication</th>\n",
       "      <th>Immunosuppressive.medication...other</th>\n",
       "      <th>...</th>\n",
       "      <th>CPD IV</th>\n",
       "      <th>CPD ISMed</th>\n",
       "      <th>Step1</th>\n",
       "      <th>Step2</th>\n",
       "      <th>Step3</th>\n",
       "      <th>Step4</th>\n",
       "      <th>Step5</th>\n",
       "      <th>Step6</th>\n",
       "      <th>CPD_on_off</th>\n",
       "      <th>Warnings</th>\n",
       "    </tr>\n",
       "  </thead>\n",
       "  <tbody>\n",
       "    <tr>\n",
       "      <th>0</th>\n",
       "      <td>1</td>\n",
       "      <td>Encounters</td>\n",
       "      <td>2012-08-31</td>\n",
       "      <td>0.0</td>\n",
       "      <td>Treatment Naive</td>\n",
       "      <td>No</td>\n",
       "      <td>NaN</td>\n",
       "      <td>NaN</td>\n",
       "      <td>No</td>\n",
       "      <td>NaN</td>\n",
       "      <td>...</td>\n",
       "      <td>NaN</td>\n",
       "      <td>NaN</td>\n",
       "      <td>Off Treatment</td>\n",
       "      <td>NaN</td>\n",
       "      <td>NaN</td>\n",
       "      <td>NaN</td>\n",
       "      <td>Off Treatment</td>\n",
       "      <td>Treatment Status Unknown</td>\n",
       "      <td>Off Treatment</td>\n",
       "      <td>NaN</td>\n",
       "    </tr>\n",
       "    <tr>\n",
       "      <th>1</th>\n",
       "      <td>1</td>\n",
       "      <td>Encounters</td>\n",
       "      <td>2012-09-07</td>\n",
       "      <td>0.2</td>\n",
       "      <td>NaN</td>\n",
       "      <td>NaN</td>\n",
       "      <td>NaN</td>\n",
       "      <td>NaN</td>\n",
       "      <td>NaN</td>\n",
       "      <td>NaN</td>\n",
       "      <td>...</td>\n",
       "      <td>Cyclophosphamide</td>\n",
       "      <td>Corticosteroids, Cyclophosphamide</td>\n",
       "      <td>NaN</td>\n",
       "      <td>NaN</td>\n",
       "      <td>On Treatment</td>\n",
       "      <td>NaN</td>\n",
       "      <td>NaN</td>\n",
       "      <td>On Treatment</td>\n",
       "      <td>On Treatment</td>\n",
       "      <td>NaN</td>\n",
       "    </tr>\n",
       "    <tr>\n",
       "      <th>2</th>\n",
       "      <td>1</td>\n",
       "      <td>Encounters</td>\n",
       "      <td>2012-09-17</td>\n",
       "      <td>0.6</td>\n",
       "      <td>NaN</td>\n",
       "      <td>NaN</td>\n",
       "      <td>NaN</td>\n",
       "      <td>NaN</td>\n",
       "      <td>NaN</td>\n",
       "      <td>NaN</td>\n",
       "      <td>...</td>\n",
       "      <td>Cyclophosphamide</td>\n",
       "      <td>Corticosteroids, Cyclophosphamide</td>\n",
       "      <td>NaN</td>\n",
       "      <td>NaN</td>\n",
       "      <td>On Treatment</td>\n",
       "      <td>NaN</td>\n",
       "      <td>NaN</td>\n",
       "      <td>On Treatment</td>\n",
       "      <td>On Treatment</td>\n",
       "      <td>NaN</td>\n",
       "    </tr>\n",
       "    <tr>\n",
       "      <th>3</th>\n",
       "      <td>1</td>\n",
       "      <td>Encounters</td>\n",
       "      <td>2012-09-21</td>\n",
       "      <td>0.7</td>\n",
       "      <td>Currently on immunosuppression</td>\n",
       "      <td>Yes</td>\n",
       "      <td>&gt; 20 mg/day</td>\n",
       "      <td>No change</td>\n",
       "      <td>IV Cyclophosphamide</td>\n",
       "      <td>NaN</td>\n",
       "      <td>...</td>\n",
       "      <td>Cyclophosphamide</td>\n",
       "      <td>Corticosteroids, Cyclophosphamide</td>\n",
       "      <td>NaN</td>\n",
       "      <td>On Treatment</td>\n",
       "      <td>On Treatment</td>\n",
       "      <td>On Treatment</td>\n",
       "      <td>On Treatment</td>\n",
       "      <td>On Treatment</td>\n",
       "      <td>On Treatment</td>\n",
       "      <td>NaN</td>\n",
       "    </tr>\n",
       "    <tr>\n",
       "      <th>4</th>\n",
       "      <td>1</td>\n",
       "      <td>Encounters</td>\n",
       "      <td>2012-09-28</td>\n",
       "      <td>0.9</td>\n",
       "      <td>Currently on immunosuppression</td>\n",
       "      <td>NaN</td>\n",
       "      <td>NaN</td>\n",
       "      <td>NaN</td>\n",
       "      <td>IV Cyclophosphamide</td>\n",
       "      <td>NaN</td>\n",
       "      <td>...</td>\n",
       "      <td>Cyclophosphamide</td>\n",
       "      <td>Corticosteroids, Cyclophosphamide</td>\n",
       "      <td>NaN</td>\n",
       "      <td>NaN</td>\n",
       "      <td>On Treatment</td>\n",
       "      <td>On Treatment</td>\n",
       "      <td>On Treatment</td>\n",
       "      <td>On Treatment</td>\n",
       "      <td>On Treatment</td>\n",
       "      <td>NaN</td>\n",
       "    </tr>\n",
       "    <tr>\n",
       "      <th>...</th>\n",
       "      <td>...</td>\n",
       "      <td>...</td>\n",
       "      <td>...</td>\n",
       "      <td>...</td>\n",
       "      <td>...</td>\n",
       "      <td>...</td>\n",
       "      <td>...</td>\n",
       "      <td>...</td>\n",
       "      <td>...</td>\n",
       "      <td>...</td>\n",
       "      <td>...</td>\n",
       "      <td>...</td>\n",
       "      <td>...</td>\n",
       "      <td>...</td>\n",
       "      <td>...</td>\n",
       "      <td>...</td>\n",
       "      <td>...</td>\n",
       "      <td>...</td>\n",
       "      <td>...</td>\n",
       "      <td>...</td>\n",
       "      <td>...</td>\n",
       "    </tr>\n",
       "    <tr>\n",
       "      <th>10639</th>\n",
       "      <td>28621</td>\n",
       "      <td>Encounters</td>\n",
       "      <td>2024-07-19</td>\n",
       "      <td>0.0</td>\n",
       "      <td>Currently on immunosuppression</td>\n",
       "      <td>Yes</td>\n",
       "      <td>11 - 20 mg/day</td>\n",
       "      <td>Increased</td>\n",
       "      <td>No</td>\n",
       "      <td>NaN</td>\n",
       "      <td>...</td>\n",
       "      <td>NaN</td>\n",
       "      <td>Corticosteroids</td>\n",
       "      <td>NaN</td>\n",
       "      <td>On Treatment</td>\n",
       "      <td>NaN</td>\n",
       "      <td>On Treatment</td>\n",
       "      <td>Off Treatment</td>\n",
       "      <td>Treatment Status Unknown</td>\n",
       "      <td>On Treatment</td>\n",
       "      <td>Source data error, IS status contradicting wit...</td>\n",
       "    </tr>\n",
       "    <tr>\n",
       "      <th>10640</th>\n",
       "      <td>28622</td>\n",
       "      <td>Encounters</td>\n",
       "      <td>2024-07-30</td>\n",
       "      <td>0.0</td>\n",
       "      <td>Treatment Naive</td>\n",
       "      <td>Yes</td>\n",
       "      <td>NaN</td>\n",
       "      <td>Increased</td>\n",
       "      <td>Avacopan</td>\n",
       "      <td>NaN</td>\n",
       "      <td>...</td>\n",
       "      <td>NaN</td>\n",
       "      <td>Avacopan</td>\n",
       "      <td>Off Treatment</td>\n",
       "      <td>NaN</td>\n",
       "      <td>NaN</td>\n",
       "      <td>NaN</td>\n",
       "      <td>On Treatment</td>\n",
       "      <td>Treatment Status Unknown</td>\n",
       "      <td>Manual review</td>\n",
       "      <td>Treatment Naive contradicting with IS Med</td>\n",
       "    </tr>\n",
       "    <tr>\n",
       "      <th>10641</th>\n",
       "      <td>28623</td>\n",
       "      <td>Encounters</td>\n",
       "      <td>2024-07-29</td>\n",
       "      <td>NaN</td>\n",
       "      <td>NaN</td>\n",
       "      <td>NaN</td>\n",
       "      <td>NaN</td>\n",
       "      <td>NaN</td>\n",
       "      <td>NaN</td>\n",
       "      <td>NaN</td>\n",
       "      <td>...</td>\n",
       "      <td>NaN</td>\n",
       "      <td>NaN</td>\n",
       "      <td>NaN</td>\n",
       "      <td>NaN</td>\n",
       "      <td>NaN</td>\n",
       "      <td>NaN</td>\n",
       "      <td>NaN</td>\n",
       "      <td>Treatment Status Unknown</td>\n",
       "      <td>Treatment Status Unknown</td>\n",
       "      <td>NaN</td>\n",
       "    </tr>\n",
       "    <tr>\n",
       "      <th>10642</th>\n",
       "      <td>28624</td>\n",
       "      <td>Encounters</td>\n",
       "      <td>2024-07-31</td>\n",
       "      <td>0.0</td>\n",
       "      <td>Treatment Naive</td>\n",
       "      <td>No</td>\n",
       "      <td>NaN</td>\n",
       "      <td>Increased</td>\n",
       "      <td>No</td>\n",
       "      <td>NaN</td>\n",
       "      <td>...</td>\n",
       "      <td>NaN</td>\n",
       "      <td>NaN</td>\n",
       "      <td>Off Treatment</td>\n",
       "      <td>NaN</td>\n",
       "      <td>NaN</td>\n",
       "      <td>NaN</td>\n",
       "      <td>Off Treatment</td>\n",
       "      <td>Treatment Status Unknown</td>\n",
       "      <td>Off Treatment</td>\n",
       "      <td>NaN</td>\n",
       "    </tr>\n",
       "    <tr>\n",
       "      <th>10643</th>\n",
       "      <td>28625</td>\n",
       "      <td>Encounters</td>\n",
       "      <td>2024-08-01</td>\n",
       "      <td>1.0</td>\n",
       "      <td>Treatment Naive</td>\n",
       "      <td>No</td>\n",
       "      <td>NaN</td>\n",
       "      <td>NaN</td>\n",
       "      <td>No</td>\n",
       "      <td>NaN</td>\n",
       "      <td>...</td>\n",
       "      <td>NaN</td>\n",
       "      <td>NaN</td>\n",
       "      <td>Off Treatment</td>\n",
       "      <td>NaN</td>\n",
       "      <td>NaN</td>\n",
       "      <td>NaN</td>\n",
       "      <td>Off Treatment</td>\n",
       "      <td>Treatment Status Unknown</td>\n",
       "      <td>Off Treatment</td>\n",
       "      <td>NaN</td>\n",
       "    </tr>\n",
       "  </tbody>\n",
       "</table>\n",
       "<p>10644 rows × 79 columns</p>\n",
       "</div>"
      ],
      "text/plain": [
       "       RKD.ID Repeat.Instrument Date_Of_Visit  \\\n",
       "0           1        Encounters    2012-08-31   \n",
       "1           1        Encounters    2012-09-07   \n",
       "2           1        Encounters    2012-09-17   \n",
       "3           1        Encounters    2012-09-21   \n",
       "4           1        Encounters    2012-09-28   \n",
       "...       ...               ...           ...   \n",
       "10639   28621        Encounters    2024-07-19   \n",
       "10640   28622        Encounters    2024-07-30   \n",
       "10641   28623        Encounters    2024-07-29   \n",
       "10642   28624        Encounters    2024-07-31   \n",
       "10643   28625        Encounters    2024-08-01   \n",
       "\n",
       "       Interval.from.diagnosis..months.        Immunosuppressive.status  \\\n",
       "0                                   0.0                 Treatment Naive   \n",
       "1                                   0.2                             NaN   \n",
       "2                                   0.6                             NaN   \n",
       "3                                   0.7  Currently on immunosuppression   \n",
       "4                                   0.9  Currently on immunosuppression   \n",
       "...                                 ...                             ...   \n",
       "10639                               0.0  Currently on immunosuppression   \n",
       "10640                               0.0                 Treatment Naive   \n",
       "10641                               NaN                             NaN   \n",
       "10642                               0.0                 Treatment Naive   \n",
       "10643                               1.0                 Treatment Naive   \n",
       "\n",
       "      Corticosteroids Current.corticosteroid.dose  \\\n",
       "0                  No                         NaN   \n",
       "1                 NaN                         NaN   \n",
       "2                 NaN                         NaN   \n",
       "3                 Yes                 > 20 mg/day   \n",
       "4                 NaN                         NaN   \n",
       "...               ...                         ...   \n",
       "10639             Yes              11 - 20 mg/day   \n",
       "10640             Yes                         NaN   \n",
       "10641             NaN                         NaN   \n",
       "10642              No                         NaN   \n",
       "10643              No                         NaN   \n",
       "\n",
       "      Corticosteroids.in.response.to.this.clinical.encounter.episode  \\\n",
       "0                                                    NaN               \n",
       "1                                                    NaN               \n",
       "2                                                    NaN               \n",
       "3                                              No change               \n",
       "4                                                    NaN               \n",
       "...                                                  ...               \n",
       "10639                                          Increased               \n",
       "10640                                          Increased               \n",
       "10641                                                NaN               \n",
       "10642                                          Increased               \n",
       "10643                                                NaN               \n",
       "\n",
       "      Immunosuppressive.medication Immunosuppressive.medication...other  ...  \\\n",
       "0                               No                                  NaN  ...   \n",
       "1                              NaN                                  NaN  ...   \n",
       "2                              NaN                                  NaN  ...   \n",
       "3              IV Cyclophosphamide                                  NaN  ...   \n",
       "4              IV Cyclophosphamide                                  NaN  ...   \n",
       "...                            ...                                  ...  ...   \n",
       "10639                           No                                  NaN  ...   \n",
       "10640                     Avacopan                                  NaN  ...   \n",
       "10641                          NaN                                  NaN  ...   \n",
       "10642                           No                                  NaN  ...   \n",
       "10643                           No                                  NaN  ...   \n",
       "\n",
       "                 CPD IV                           CPD ISMed          Step1  \\\n",
       "0                   NaN                                 NaN  Off Treatment   \n",
       "1      Cyclophosphamide   Corticosteroids, Cyclophosphamide            NaN   \n",
       "2      Cyclophosphamide   Corticosteroids, Cyclophosphamide            NaN   \n",
       "3      Cyclophosphamide   Corticosteroids, Cyclophosphamide            NaN   \n",
       "4      Cyclophosphamide   Corticosteroids, Cyclophosphamide            NaN   \n",
       "...                 ...                                 ...            ...   \n",
       "10639               NaN                     Corticosteroids            NaN   \n",
       "10640               NaN                            Avacopan  Off Treatment   \n",
       "10641               NaN                                 NaN            NaN   \n",
       "10642               NaN                                 NaN  Off Treatment   \n",
       "10643               NaN                                 NaN  Off Treatment   \n",
       "\n",
       "              Step2         Step3         Step4          Step5  \\\n",
       "0               NaN           NaN           NaN  Off Treatment   \n",
       "1               NaN  On Treatment           NaN            NaN   \n",
       "2               NaN  On Treatment           NaN            NaN   \n",
       "3      On Treatment  On Treatment  On Treatment   On Treatment   \n",
       "4               NaN  On Treatment  On Treatment   On Treatment   \n",
       "...             ...           ...           ...            ...   \n",
       "10639  On Treatment           NaN  On Treatment  Off Treatment   \n",
       "10640           NaN           NaN           NaN   On Treatment   \n",
       "10641           NaN           NaN           NaN            NaN   \n",
       "10642           NaN           NaN           NaN  Off Treatment   \n",
       "10643           NaN           NaN           NaN  Off Treatment   \n",
       "\n",
       "                          Step6                CPD_on_off  \\\n",
       "0      Treatment Status Unknown             Off Treatment   \n",
       "1                  On Treatment              On Treatment   \n",
       "2                  On Treatment              On Treatment   \n",
       "3                  On Treatment              On Treatment   \n",
       "4                  On Treatment              On Treatment   \n",
       "...                         ...                       ...   \n",
       "10639  Treatment Status Unknown              On Treatment   \n",
       "10640  Treatment Status Unknown             Manual review   \n",
       "10641  Treatment Status Unknown  Treatment Status Unknown   \n",
       "10642  Treatment Status Unknown             Off Treatment   \n",
       "10643  Treatment Status Unknown             Off Treatment   \n",
       "\n",
       "                                                Warnings  \n",
       "0                                                    NaN  \n",
       "1                                                    NaN  \n",
       "2                                                    NaN  \n",
       "3                                                    NaN  \n",
       "4                                                    NaN  \n",
       "...                                                  ...  \n",
       "10639  Source data error, IS status contradicting wit...  \n",
       "10640          Treatment Naive contradicting with IS Med  \n",
       "10641                                                NaN  \n",
       "10642                                                NaN  \n",
       "10643                                                NaN  \n",
       "\n",
       "[10644 rows x 79 columns]"
      ]
     },
     "execution_count": 322,
     "metadata": {},
     "output_type": "execute_result"
    }
   ],
   "source": [
    "data1=pd.read_csv('C:/Users/georgea1/OneDrive - Trinity College Dublin/Angel George/Chap 2. Treatment/Data/CPD Treatment Data/August/CPD Treatment_output_FINAL_OUTPUT_09_08_2024.csv')\n",
    "data1"
   ]
  },
  {
   "cell_type": "code",
   "execution_count": 323,
   "id": "32f3059c",
   "metadata": {},
   "outputs": [],
   "source": [
    "\n",
    "\n",
    "# Try reading the file with a different encoding\n",
    "#file_path = 'C:/Users/georgea1/OneDrive - Trinity College Dublin/Angel George/Chap 2. Treatment/Data/CPD Treatment Data/CPD Treatment_output_FINAL_OUTPUT_08_07_2024.csv'\n",
    "\n",
    "#try:\n",
    "    #data1 = pd.read_csv(file_path, encoding='utf-8')\n",
    "#except UnicodeDecodeError:\n",
    "    #data1 = pd.read_csv(file_path, encoding='ISO-8859-1')\n",
    "\n",
    "\n"
   ]
  },
  {
   "cell_type": "code",
   "execution_count": 324,
   "id": "ee94e925",
   "metadata": {},
   "outputs": [
    {
     "data": {
      "text/plain": [
       "1924"
      ]
     },
     "execution_count": 324,
     "metadata": {},
     "output_type": "execute_result"
    }
   ],
   "source": [
    "data1['RKD.ID'].nunique()"
   ]
  },
  {
   "cell_type": "code",
   "execution_count": 325,
   "id": "e9b9b444",
   "metadata": {},
   "outputs": [
    {
     "data": {
      "text/html": [
       "<div>\n",
       "<style scoped>\n",
       "    .dataframe tbody tr th:only-of-type {\n",
       "        vertical-align: middle;\n",
       "    }\n",
       "\n",
       "    .dataframe tbody tr th {\n",
       "        vertical-align: top;\n",
       "    }\n",
       "\n",
       "    .dataframe thead th {\n",
       "        text-align: right;\n",
       "    }\n",
       "</style>\n",
       "<table border=\"1\" class=\"dataframe\">\n",
       "  <thead>\n",
       "    <tr style=\"text-align: right;\">\n",
       "      <th></th>\n",
       "      <th>RKD.ID</th>\n",
       "      <th>Repeat.Instrument</th>\n",
       "      <th>Date_Of_Visit</th>\n",
       "      <th>Interval.from.diagnosis..months.</th>\n",
       "      <th>Immunosuppressive.status</th>\n",
       "      <th>Corticosteroids</th>\n",
       "      <th>Current.corticosteroid.dose</th>\n",
       "      <th>Corticosteroids.in.response.to.this.clinical.encounter.episode</th>\n",
       "      <th>Immunosuppressive.medication</th>\n",
       "      <th>Immunosuppressive.medication...other</th>\n",
       "      <th>...</th>\n",
       "      <th>CPD IV</th>\n",
       "      <th>CPD ISMed</th>\n",
       "      <th>Step1</th>\n",
       "      <th>Step2</th>\n",
       "      <th>Step3</th>\n",
       "      <th>Step4</th>\n",
       "      <th>Step5</th>\n",
       "      <th>Step6</th>\n",
       "      <th>CPD_on_off</th>\n",
       "      <th>Warnings</th>\n",
       "    </tr>\n",
       "  </thead>\n",
       "  <tbody>\n",
       "  </tbody>\n",
       "</table>\n",
       "<p>0 rows × 79 columns</p>\n",
       "</div>"
      ],
      "text/plain": [
       "Empty DataFrame\n",
       "Columns: [RKD.ID, Repeat.Instrument, Date_Of_Visit, Interval.from.diagnosis..months., Immunosuppressive.status, Corticosteroids, Current.corticosteroid.dose, Corticosteroids.in.response.to.this.clinical.encounter.episode, Immunosuppressive.medication, Immunosuppressive.medication...other, Immunosuppressive.medication...other..ATC, Immunosuppressive.medication.in.response.to.this.encounter, Response.to.increased.immunosuppression, Date of IV Cyc, Unit.of.dose...other, IV_Cyc, IV_Cyc_dose, Date of IV Rtx, IV_rtx, IV_rtx_dose, Date of IV mtp, IV_mtp, IV_mtp_dose, Date of IV aba, IV_aba, IV_aba_dose, Date of IV alemtuzumab, IV_ale, IV_ale_dose, IV.therapy...other..ATC_x, Date of IV obi, IV_obi, IV_obi_dose, IV Hydrocortisone, Dose Hydrocortisone, IS_med_other1, Corticosteroids_new, CPD ISMed1, Start Date_prd, Stop Date_prd, Drug_prd, Dose_prd, Start Date_aza, Stop Date_aza, Drug_aza, Dose_aza, Start Date_cyc, Stop Date_cyc, Drug_cyc, Dose_cyc, Start Date_met, Stop Date_met, Drug_met, Dose_met, Start Date_myc, Stop Date_myc, Drug_myc, Dose_myc, Start Date_oth, Stop Date_oth, other_cm, Dose_oth, Start Date_ava, Stop Date_ava, Drug_ava, Dose_ava, CPD CM, CPD_Corticosteroids, prd_new, CPD IV, CPD ISMed, Step1, Step2, Step3, Step4, Step5, Step6, CPD_on_off, Warnings]\n",
       "Index: []\n",
       "\n",
       "[0 rows x 79 columns]"
      ]
     },
     "execution_count": 325,
     "metadata": {},
     "output_type": "execute_result"
    }
   ],
   "source": [
    "## Remove duplicates:\n",
    "duplicateRows = data1[data1.duplicated(['RKD.ID','Date_Of_Visit'])]\n",
    "duplicateRows"
   ]
  },
  {
   "cell_type": "code",
   "execution_count": null,
   "id": "94f5688a",
   "metadata": {},
   "outputs": [],
   "source": []
  },
  {
   "cell_type": "code",
   "execution_count": 326,
   "id": "bf15d1a8",
   "metadata": {},
   "outputs": [],
   "source": [
    "#data1=pd.read_csv('C:/Users/georgea1/OneDrive - Trinity College Dublin/Angel George/Chap 2. Treatment/Data/CPD Treatment Data/CPD Treatment_output_FINAL_OUTPUT_08_07_2024.csv')\n",
    "#data1"
   ]
  },
  {
   "cell_type": "code",
   "execution_count": 327,
   "id": "7a4e2887",
   "metadata": {},
   "outputs": [
    {
     "data": {
      "text/plain": [
       "CPD_on_off\n",
       "On Treatment                6145\n",
       "Off Treatment               2649\n",
       "Treatment Status Unknown    1034\n",
       "Manual review                614\n",
       "Prednisolone<=10             202\n",
       "Name: count, dtype: int64"
      ]
     },
     "execution_count": 327,
     "metadata": {},
     "output_type": "execute_result"
    }
   ],
   "source": [
    "data1['CPD_on_off'].value_counts(dropna=False)"
   ]
  },
  {
   "cell_type": "code",
   "execution_count": null,
   "id": "3285c7cb",
   "metadata": {},
   "outputs": [],
   "source": []
  },
  {
   "cell_type": "markdown",
   "id": "70447c72",
   "metadata": {},
   "source": [
    "## Import encounter dataset from pipeline"
   ]
  },
  {
   "cell_type": "code",
   "execution_count": 328,
   "id": "76662da0",
   "metadata": {},
   "outputs": [
    {
     "name": "stderr",
     "output_type": "stream",
     "text": [
      "C:\\Users\\georgea1\\AppData\\Local\\Temp\\ipykernel_23364\\1622696847.py:1: DtypeWarning: Columns (105,242,246,281,283,312,328) have mixed types. Specify dtype option on import or set low_memory=False.\n",
      "  data2=pd.read_csv(\"C:/Users/georgea1/OneDrive - Trinity College Dublin/Angel George/Chap 2. Treatment/Data/LSTM Data/August-2024/Redcap_CPDTreatment_data_merged_version0.0.3.110_Date2024-08-07 .csv\")\n"
     ]
    },
    {
     "data": {
      "text/html": [
       "<div>\n",
       "<style scoped>\n",
       "    .dataframe tbody tr th:only-of-type {\n",
       "        vertical-align: middle;\n",
       "    }\n",
       "\n",
       "    .dataframe tbody tr th {\n",
       "        vertical-align: top;\n",
       "    }\n",
       "\n",
       "    .dataframe thead th {\n",
       "        text-align: right;\n",
       "    }\n",
       "</style>\n",
       "<table border=\"1\" class=\"dataframe\">\n",
       "  <thead>\n",
       "    <tr style=\"text-align: right;\">\n",
       "      <th></th>\n",
       "      <th>RKD.ID</th>\n",
       "      <th>Date.Of.Visit</th>\n",
       "      <th>ANCA_Levels</th>\n",
       "      <th>ANCA_Status</th>\n",
       "      <th>ANCA_Switch</th>\n",
       "      <th>Repeat.Instrument</th>\n",
       "      <th>Repeat.Instance.x</th>\n",
       "      <th>Data.Access.Group.x</th>\n",
       "      <th>Patient.ID</th>\n",
       "      <th>COVID.19.related.entry.</th>\n",
       "      <th>...</th>\n",
       "      <th>duration.off.rx.months_liberal</th>\n",
       "      <th>LTROT</th>\n",
       "      <th>Encounter</th>\n",
       "      <th>Interval_Last_Encounter_Months</th>\n",
       "      <th>Date_Last_Follow_up.y</th>\n",
       "      <th>last_encounter.y</th>\n",
       "      <th>Status.y</th>\n",
       "      <th>Paradise.Encounters</th>\n",
       "      <th>anca_kinetics_longterm</th>\n",
       "      <th>CPD_treatment_MC</th>\n",
       "    </tr>\n",
       "  </thead>\n",
       "  <tbody>\n",
       "    <tr>\n",
       "      <th>0</th>\n",
       "      <td>1</td>\n",
       "      <td>2013-03-01</td>\n",
       "      <td>NaN</td>\n",
       "      <td>ANCA Status Unknown</td>\n",
       "      <td>NaN</td>\n",
       "      <td>Encounters</td>\n",
       "      <td>33</td>\n",
       "      <td>TUH - Tallaght</td>\n",
       "      <td>1</td>\n",
       "      <td>No</td>\n",
       "      <td>...</td>\n",
       "      <td>NaN</td>\n",
       "      <td>no</td>\n",
       "      <td>2013-03-01</td>\n",
       "      <td>NaN</td>\n",
       "      <td>NaN</td>\n",
       "      <td>NaN</td>\n",
       "      <td>NaN</td>\n",
       "      <td>NaN</td>\n",
       "      <td>Unknown ANCA level</td>\n",
       "      <td>On Treatment</td>\n",
       "    </tr>\n",
       "    <tr>\n",
       "      <th>1</th>\n",
       "      <td>1</td>\n",
       "      <td>2013-04-05</td>\n",
       "      <td>NaN</td>\n",
       "      <td>ANCA Negative</td>\n",
       "      <td>Switch Status Unknown</td>\n",
       "      <td>Encounters</td>\n",
       "      <td>34</td>\n",
       "      <td>TUH - Tallaght</td>\n",
       "      <td>1</td>\n",
       "      <td>No</td>\n",
       "      <td>...</td>\n",
       "      <td>NaN</td>\n",
       "      <td>no</td>\n",
       "      <td>2013-04-05</td>\n",
       "      <td>130.947945</td>\n",
       "      <td>01/03/2024</td>\n",
       "      <td>05/04/2013</td>\n",
       "      <td>Alive</td>\n",
       "      <td>1.0</td>\n",
       "      <td>Unknown ANCA level</td>\n",
       "      <td>On Treatment</td>\n",
       "    </tr>\n",
       "    <tr>\n",
       "      <th>2</th>\n",
       "      <td>1</td>\n",
       "      <td>2013-04-12</td>\n",
       "      <td>NaN</td>\n",
       "      <td>ANCA Status Unknown</td>\n",
       "      <td>NaN</td>\n",
       "      <td>Encounters</td>\n",
       "      <td>5</td>\n",
       "      <td>TUH - Tallaght</td>\n",
       "      <td>1</td>\n",
       "      <td>No</td>\n",
       "      <td>...</td>\n",
       "      <td>NaN</td>\n",
       "      <td>no</td>\n",
       "      <td>2013-04-12</td>\n",
       "      <td>130.717808</td>\n",
       "      <td>01/03/2024</td>\n",
       "      <td>12/04/2013</td>\n",
       "      <td>Alive</td>\n",
       "      <td>1.0</td>\n",
       "      <td>Unknown ANCA level</td>\n",
       "      <td>On Treatment</td>\n",
       "    </tr>\n",
       "    <tr>\n",
       "      <th>3</th>\n",
       "      <td>1</td>\n",
       "      <td>2013-04-26</td>\n",
       "      <td>NaN</td>\n",
       "      <td>ANCA Negative</td>\n",
       "      <td>NaN</td>\n",
       "      <td>Encounters</td>\n",
       "      <td>35</td>\n",
       "      <td>TUH - Tallaght</td>\n",
       "      <td>1</td>\n",
       "      <td>No</td>\n",
       "      <td>...</td>\n",
       "      <td>NaN</td>\n",
       "      <td>no</td>\n",
       "      <td>2013-04-26</td>\n",
       "      <td>130.257534</td>\n",
       "      <td>01/03/2024</td>\n",
       "      <td>26/04/2013</td>\n",
       "      <td>Alive</td>\n",
       "      <td>1.0</td>\n",
       "      <td>Unknown ANCA level</td>\n",
       "      <td>On Treatment</td>\n",
       "    </tr>\n",
       "    <tr>\n",
       "      <th>4</th>\n",
       "      <td>1</td>\n",
       "      <td>2013-06-18</td>\n",
       "      <td>NaN</td>\n",
       "      <td>ANCA Negative</td>\n",
       "      <td>Neg-Neg Switch</td>\n",
       "      <td>Encounters</td>\n",
       "      <td>6</td>\n",
       "      <td>TUH - Tallaght</td>\n",
       "      <td>1</td>\n",
       "      <td>No</td>\n",
       "      <td>...</td>\n",
       "      <td>NaN</td>\n",
       "      <td>no</td>\n",
       "      <td>2013-06-18</td>\n",
       "      <td>128.515069</td>\n",
       "      <td>01/03/2024</td>\n",
       "      <td>18/06/2013</td>\n",
       "      <td>Alive</td>\n",
       "      <td>1.0</td>\n",
       "      <td>Unknown ANCA level</td>\n",
       "      <td>On Treatment</td>\n",
       "    </tr>\n",
       "    <tr>\n",
       "      <th>...</th>\n",
       "      <td>...</td>\n",
       "      <td>...</td>\n",
       "      <td>...</td>\n",
       "      <td>...</td>\n",
       "      <td>...</td>\n",
       "      <td>...</td>\n",
       "      <td>...</td>\n",
       "      <td>...</td>\n",
       "      <td>...</td>\n",
       "      <td>...</td>\n",
       "      <td>...</td>\n",
       "      <td>...</td>\n",
       "      <td>...</td>\n",
       "      <td>...</td>\n",
       "      <td>...</td>\n",
       "      <td>...</td>\n",
       "      <td>...</td>\n",
       "      <td>...</td>\n",
       "      <td>...</td>\n",
       "      <td>...</td>\n",
       "      <td>...</td>\n",
       "    </tr>\n",
       "    <tr>\n",
       "      <th>4974</th>\n",
       "      <td>28615</td>\n",
       "      <td>2015-05-19</td>\n",
       "      <td>NaN</td>\n",
       "      <td>ANCA Status Unknown</td>\n",
       "      <td>NaN</td>\n",
       "      <td>Encounters</td>\n",
       "      <td>3</td>\n",
       "      <td>TUH - Tallaght</td>\n",
       "      <td>28615</td>\n",
       "      <td>No</td>\n",
       "      <td>...</td>\n",
       "      <td>86.622951</td>\n",
       "      <td>no</td>\n",
       "      <td>2015-05-19</td>\n",
       "      <td>104.712329</td>\n",
       "      <td>06/02/2024</td>\n",
       "      <td>19/05/2015</td>\n",
       "      <td>Alive</td>\n",
       "      <td>1.0</td>\n",
       "      <td>Unknown ANCA level</td>\n",
       "      <td>On Treatment</td>\n",
       "    </tr>\n",
       "    <tr>\n",
       "      <th>4975</th>\n",
       "      <td>28615</td>\n",
       "      <td>2017-02-24</td>\n",
       "      <td>5.7</td>\n",
       "      <td>ANCA Positive</td>\n",
       "      <td>NaN</td>\n",
       "      <td>Encounters</td>\n",
       "      <td>4</td>\n",
       "      <td>TUH - Tallaght</td>\n",
       "      <td>28615</td>\n",
       "      <td>No</td>\n",
       "      <td>...</td>\n",
       "      <td>86.622951</td>\n",
       "      <td>no</td>\n",
       "      <td>2017-02-24</td>\n",
       "      <td>83.441096</td>\n",
       "      <td>06/02/2024</td>\n",
       "      <td>24/02/2017</td>\n",
       "      <td>Alive</td>\n",
       "      <td>1.0</td>\n",
       "      <td>Unknown ANCA level</td>\n",
       "      <td>On Treatment</td>\n",
       "    </tr>\n",
       "    <tr>\n",
       "      <th>4976</th>\n",
       "      <td>28615</td>\n",
       "      <td>2023-02-14</td>\n",
       "      <td>18</td>\n",
       "      <td>ANCA Positive</td>\n",
       "      <td>NaN</td>\n",
       "      <td>Encounters</td>\n",
       "      <td>6</td>\n",
       "      <td>TUH - Tallaght</td>\n",
       "      <td>28615</td>\n",
       "      <td>No</td>\n",
       "      <td>...</td>\n",
       "      <td>86.622951</td>\n",
       "      <td>no</td>\n",
       "      <td>2023-02-14</td>\n",
       "      <td>NaN</td>\n",
       "      <td>NaN</td>\n",
       "      <td>NaN</td>\n",
       "      <td>NaN</td>\n",
       "      <td>NaN</td>\n",
       "      <td>Unknown ANCA level</td>\n",
       "      <td>Off Treatment</td>\n",
       "    </tr>\n",
       "    <tr>\n",
       "      <th>4977</th>\n",
       "      <td>28615</td>\n",
       "      <td>2024-02-06</td>\n",
       "      <td>134</td>\n",
       "      <td>ANCA Positive</td>\n",
       "      <td>NaN</td>\n",
       "      <td>Encounters</td>\n",
       "      <td>7</td>\n",
       "      <td>TUH - Tallaght</td>\n",
       "      <td>28615</td>\n",
       "      <td>No</td>\n",
       "      <td>...</td>\n",
       "      <td>86.622951</td>\n",
       "      <td>no</td>\n",
       "      <td>2024-02-06</td>\n",
       "      <td>0.000000</td>\n",
       "      <td>06/02/2024</td>\n",
       "      <td>06/02/2024</td>\n",
       "      <td>Alive</td>\n",
       "      <td>1.0</td>\n",
       "      <td>persistent positive</td>\n",
       "      <td>Off Treatment</td>\n",
       "    </tr>\n",
       "    <tr>\n",
       "      <th>4978</th>\n",
       "      <td>28615</td>\n",
       "      <td>2024-05-20</td>\n",
       "      <td>134</td>\n",
       "      <td>ANCA Positive</td>\n",
       "      <td>NaN</td>\n",
       "      <td>Encounters</td>\n",
       "      <td>1</td>\n",
       "      <td>TUH - Tallaght</td>\n",
       "      <td>28615</td>\n",
       "      <td>No</td>\n",
       "      <td>...</td>\n",
       "      <td>86.622951</td>\n",
       "      <td>no</td>\n",
       "      <td>2024-05-20</td>\n",
       "      <td>NaN</td>\n",
       "      <td>NaN</td>\n",
       "      <td>NaN</td>\n",
       "      <td>NaN</td>\n",
       "      <td>NaN</td>\n",
       "      <td>persistent positive</td>\n",
       "      <td>Off Treatment</td>\n",
       "    </tr>\n",
       "  </tbody>\n",
       "</table>\n",
       "<p>4979 rows × 465 columns</p>\n",
       "</div>"
      ],
      "text/plain": [
       "      RKD.ID Date.Of.Visit ANCA_Levels          ANCA_Status  \\\n",
       "0          1    2013-03-01         NaN  ANCA Status Unknown   \n",
       "1          1    2013-04-05         NaN        ANCA Negative   \n",
       "2          1    2013-04-12         NaN  ANCA Status Unknown   \n",
       "3          1    2013-04-26         NaN        ANCA Negative   \n",
       "4          1    2013-06-18         NaN        ANCA Negative   \n",
       "...      ...           ...         ...                  ...   \n",
       "4974   28615    2015-05-19         NaN  ANCA Status Unknown   \n",
       "4975   28615    2017-02-24         5.7        ANCA Positive   \n",
       "4976   28615    2023-02-14          18        ANCA Positive   \n",
       "4977   28615    2024-02-06         134        ANCA Positive   \n",
       "4978   28615    2024-05-20         134        ANCA Positive   \n",
       "\n",
       "                ANCA_Switch Repeat.Instrument  Repeat.Instance.x  \\\n",
       "0                       NaN        Encounters                 33   \n",
       "1     Switch Status Unknown        Encounters                 34   \n",
       "2                       NaN        Encounters                  5   \n",
       "3                       NaN        Encounters                 35   \n",
       "4            Neg-Neg Switch        Encounters                  6   \n",
       "...                     ...               ...                ...   \n",
       "4974                    NaN        Encounters                  3   \n",
       "4975                    NaN        Encounters                  4   \n",
       "4976                    NaN        Encounters                  6   \n",
       "4977                    NaN        Encounters                  7   \n",
       "4978                    NaN        Encounters                  1   \n",
       "\n",
       "     Data.Access.Group.x  Patient.ID COVID.19.related.entry.  ...  \\\n",
       "0         TUH - Tallaght           1                      No  ...   \n",
       "1         TUH - Tallaght           1                      No  ...   \n",
       "2         TUH - Tallaght           1                      No  ...   \n",
       "3         TUH - Tallaght           1                      No  ...   \n",
       "4         TUH - Tallaght           1                      No  ...   \n",
       "...                  ...         ...                     ...  ...   \n",
       "4974      TUH - Tallaght       28615                      No  ...   \n",
       "4975      TUH - Tallaght       28615                      No  ...   \n",
       "4976      TUH - Tallaght       28615                      No  ...   \n",
       "4977      TUH - Tallaght       28615                      No  ...   \n",
       "4978      TUH - Tallaght       28615                      No  ...   \n",
       "\n",
       "      duration.off.rx.months_liberal LTROT    Encounter  \\\n",
       "0                                NaN    no   2013-03-01   \n",
       "1                                NaN    no   2013-04-05   \n",
       "2                                NaN    no   2013-04-12   \n",
       "3                                NaN    no   2013-04-26   \n",
       "4                                NaN    no   2013-06-18   \n",
       "...                              ...   ...          ...   \n",
       "4974                       86.622951    no   2015-05-19   \n",
       "4975                       86.622951    no   2017-02-24   \n",
       "4976                       86.622951    no   2023-02-14   \n",
       "4977                       86.622951    no   2024-02-06   \n",
       "4978                       86.622951    no   2024-05-20   \n",
       "\n",
       "     Interval_Last_Encounter_Months Date_Last_Follow_up.y last_encounter.y  \\\n",
       "0                               NaN                   NaN              NaN   \n",
       "1                        130.947945            01/03/2024       05/04/2013   \n",
       "2                        130.717808            01/03/2024       12/04/2013   \n",
       "3                        130.257534            01/03/2024       26/04/2013   \n",
       "4                        128.515069            01/03/2024       18/06/2013   \n",
       "...                             ...                   ...              ...   \n",
       "4974                     104.712329            06/02/2024       19/05/2015   \n",
       "4975                      83.441096            06/02/2024       24/02/2017   \n",
       "4976                            NaN                   NaN              NaN   \n",
       "4977                       0.000000            06/02/2024       06/02/2024   \n",
       "4978                            NaN                   NaN              NaN   \n",
       "\n",
       "     Status.y Paradise.Encounters anca_kinetics_longterm CPD_treatment_MC  \n",
       "0         NaN                 NaN     Unknown ANCA level     On Treatment  \n",
       "1       Alive                 1.0     Unknown ANCA level     On Treatment  \n",
       "2       Alive                 1.0     Unknown ANCA level     On Treatment  \n",
       "3       Alive                 1.0     Unknown ANCA level     On Treatment  \n",
       "4       Alive                 1.0     Unknown ANCA level     On Treatment  \n",
       "...       ...                 ...                    ...              ...  \n",
       "4974    Alive                 1.0     Unknown ANCA level     On Treatment  \n",
       "4975    Alive                 1.0     Unknown ANCA level     On Treatment  \n",
       "4976      NaN                 NaN     Unknown ANCA level    Off Treatment  \n",
       "4977    Alive                 1.0    persistent positive    Off Treatment  \n",
       "4978      NaN                 NaN    persistent positive    Off Treatment  \n",
       "\n",
       "[4979 rows x 465 columns]"
      ]
     },
     "execution_count": 328,
     "metadata": {},
     "output_type": "execute_result"
    }
   ],
   "source": [
    "data2=pd.read_csv(\"C:/Users/georgea1/OneDrive - Trinity College Dublin/Angel George/Chap 2. Treatment/Data/LSTM Data/August-2024/Redcap_CPDTreatment_data_merged_version0.0.3.110_Date2024-08-07 .csv\")\n",
    "data2"
   ]
  },
  {
   "cell_type": "code",
   "execution_count": 329,
   "id": "10fd7fe8",
   "metadata": {},
   "outputs": [
    {
     "data": {
      "text/plain": [
       "595"
      ]
     },
     "execution_count": 329,
     "metadata": {},
     "output_type": "execute_result"
    }
   ],
   "source": [
    "data2['RKD.ID'].nunique()"
   ]
  },
  {
   "cell_type": "code",
   "execution_count": 330,
   "id": "0250071e",
   "metadata": {},
   "outputs": [],
   "source": [
    "data2.rename(columns = {'Date.Of.Visit':'Date_Of_Visit'}, inplace = True)"
   ]
  },
  {
   "cell_type": "code",
   "execution_count": 331,
   "id": "e5834ea7",
   "metadata": {},
   "outputs": [
    {
     "data": {
      "text/html": [
       "<div>\n",
       "<style scoped>\n",
       "    .dataframe tbody tr th:only-of-type {\n",
       "        vertical-align: middle;\n",
       "    }\n",
       "\n",
       "    .dataframe tbody tr th {\n",
       "        vertical-align: top;\n",
       "    }\n",
       "\n",
       "    .dataframe thead th {\n",
       "        text-align: right;\n",
       "    }\n",
       "</style>\n",
       "<table border=\"1\" class=\"dataframe\">\n",
       "  <thead>\n",
       "    <tr style=\"text-align: right;\">\n",
       "      <th></th>\n",
       "      <th>RKD.ID</th>\n",
       "      <th>Date_Of_Visit</th>\n",
       "      <th>ANCA_Levels</th>\n",
       "      <th>ANCA_Status</th>\n",
       "      <th>ANCA_Switch</th>\n",
       "      <th>Repeat.Instrument</th>\n",
       "      <th>Repeat.Instance.x</th>\n",
       "      <th>Data.Access.Group.x</th>\n",
       "      <th>Patient.ID</th>\n",
       "      <th>COVID.19.related.entry.</th>\n",
       "      <th>...</th>\n",
       "      <th>duration.off.rx.months_liberal</th>\n",
       "      <th>LTROT</th>\n",
       "      <th>Encounter</th>\n",
       "      <th>Interval_Last_Encounter_Months</th>\n",
       "      <th>Date_Last_Follow_up.y</th>\n",
       "      <th>last_encounter.y</th>\n",
       "      <th>Status.y</th>\n",
       "      <th>Paradise.Encounters</th>\n",
       "      <th>anca_kinetics_longterm</th>\n",
       "      <th>CPD_treatment_MC</th>\n",
       "    </tr>\n",
       "  </thead>\n",
       "  <tbody>\n",
       "    <tr>\n",
       "      <th>1041</th>\n",
       "      <td>127</td>\n",
       "      <td>2015-11-27</td>\n",
       "      <td>11</td>\n",
       "      <td>ANCA Positive</td>\n",
       "      <td>NaN</td>\n",
       "      <td>Encounters</td>\n",
       "      <td>4</td>\n",
       "      <td>TUH - Tallaght</td>\n",
       "      <td>127</td>\n",
       "      <td>No</td>\n",
       "      <td>...</td>\n",
       "      <td>NaN</td>\n",
       "      <td>no</td>\n",
       "      <td>2015-11-27</td>\n",
       "      <td>NaN</td>\n",
       "      <td>NaN</td>\n",
       "      <td>NaN</td>\n",
       "      <td>NaN</td>\n",
       "      <td>NaN</td>\n",
       "      <td>Unknown ANCA level</td>\n",
       "      <td>On Treatment</td>\n",
       "    </tr>\n",
       "    <tr>\n",
       "      <th>1535</th>\n",
       "      <td>2015</td>\n",
       "      <td>2017-02-17</td>\n",
       "      <td>80</td>\n",
       "      <td>ANCA Positive</td>\n",
       "      <td>NaN</td>\n",
       "      <td>Encounters</td>\n",
       "      <td>44</td>\n",
       "      <td>TUH - Tallaght</td>\n",
       "      <td>2015</td>\n",
       "      <td>NaN</td>\n",
       "      <td>...</td>\n",
       "      <td>NaN</td>\n",
       "      <td>no</td>\n",
       "      <td>2017-02-17</td>\n",
       "      <td>NaN</td>\n",
       "      <td>NaN</td>\n",
       "      <td>NaN</td>\n",
       "      <td>NaN</td>\n",
       "      <td>NaN</td>\n",
       "      <td>persistent positive</td>\n",
       "      <td>On Treatment</td>\n",
       "    </tr>\n",
       "    <tr>\n",
       "      <th>1536</th>\n",
       "      <td>2015</td>\n",
       "      <td>2017-02-17</td>\n",
       "      <td>80</td>\n",
       "      <td>ANCA Positive</td>\n",
       "      <td>NaN</td>\n",
       "      <td>Encounters</td>\n",
       "      <td>44</td>\n",
       "      <td>TUH - Tallaght</td>\n",
       "      <td>2015</td>\n",
       "      <td>NaN</td>\n",
       "      <td>...</td>\n",
       "      <td>NaN</td>\n",
       "      <td>no</td>\n",
       "      <td>2017-02-17</td>\n",
       "      <td>NaN</td>\n",
       "      <td>NaN</td>\n",
       "      <td>NaN</td>\n",
       "      <td>NaN</td>\n",
       "      <td>NaN</td>\n",
       "      <td>persistent positive</td>\n",
       "      <td>On Treatment</td>\n",
       "    </tr>\n",
       "    <tr>\n",
       "      <th>1537</th>\n",
       "      <td>2015</td>\n",
       "      <td>2017-02-17</td>\n",
       "      <td>NaN</td>\n",
       "      <td>ANCA Status Unknown</td>\n",
       "      <td>NaN</td>\n",
       "      <td>Encounters</td>\n",
       "      <td>18</td>\n",
       "      <td>TUH - Tallaght</td>\n",
       "      <td>2015</td>\n",
       "      <td>No</td>\n",
       "      <td>...</td>\n",
       "      <td>NaN</td>\n",
       "      <td>no</td>\n",
       "      <td>2017-02-17</td>\n",
       "      <td>NaN</td>\n",
       "      <td>NaN</td>\n",
       "      <td>NaN</td>\n",
       "      <td>NaN</td>\n",
       "      <td>NaN</td>\n",
       "      <td>Unknown ANCA level</td>\n",
       "      <td>On Treatment</td>\n",
       "    </tr>\n",
       "    <tr>\n",
       "      <th>1538</th>\n",
       "      <td>2015</td>\n",
       "      <td>2017-02-17</td>\n",
       "      <td>NaN</td>\n",
       "      <td>ANCA Status Unknown</td>\n",
       "      <td>NaN</td>\n",
       "      <td>Encounters</td>\n",
       "      <td>18</td>\n",
       "      <td>TUH - Tallaght</td>\n",
       "      <td>2015</td>\n",
       "      <td>No</td>\n",
       "      <td>...</td>\n",
       "      <td>NaN</td>\n",
       "      <td>no</td>\n",
       "      <td>2017-02-17</td>\n",
       "      <td>NaN</td>\n",
       "      <td>NaN</td>\n",
       "      <td>NaN</td>\n",
       "      <td>NaN</td>\n",
       "      <td>NaN</td>\n",
       "      <td>Unknown ANCA level</td>\n",
       "      <td>On Treatment</td>\n",
       "    </tr>\n",
       "    <tr>\n",
       "      <th>...</th>\n",
       "      <td>...</td>\n",
       "      <td>...</td>\n",
       "      <td>...</td>\n",
       "      <td>...</td>\n",
       "      <td>...</td>\n",
       "      <td>...</td>\n",
       "      <td>...</td>\n",
       "      <td>...</td>\n",
       "      <td>...</td>\n",
       "      <td>...</td>\n",
       "      <td>...</td>\n",
       "      <td>...</td>\n",
       "      <td>...</td>\n",
       "      <td>...</td>\n",
       "      <td>...</td>\n",
       "      <td>...</td>\n",
       "      <td>...</td>\n",
       "      <td>...</td>\n",
       "      <td>...</td>\n",
       "      <td>...</td>\n",
       "      <td>...</td>\n",
       "    </tr>\n",
       "    <tr>\n",
       "      <th>1786</th>\n",
       "      <td>2015</td>\n",
       "      <td>2017-02-17</td>\n",
       "      <td>NaN</td>\n",
       "      <td>ANCA Status Unknown</td>\n",
       "      <td>NaN</td>\n",
       "      <td>Encounters</td>\n",
       "      <td>44</td>\n",
       "      <td>TUH - Tallaght</td>\n",
       "      <td>2015</td>\n",
       "      <td>NaN</td>\n",
       "      <td>...</td>\n",
       "      <td>NaN</td>\n",
       "      <td>no</td>\n",
       "      <td>2017-02-17</td>\n",
       "      <td>NaN</td>\n",
       "      <td>NaN</td>\n",
       "      <td>NaN</td>\n",
       "      <td>NaN</td>\n",
       "      <td>NaN</td>\n",
       "      <td>Unknown ANCA level</td>\n",
       "      <td>On Treatment</td>\n",
       "    </tr>\n",
       "    <tr>\n",
       "      <th>1787</th>\n",
       "      <td>2015</td>\n",
       "      <td>2017-02-17</td>\n",
       "      <td>80</td>\n",
       "      <td>ANCA Positive</td>\n",
       "      <td>NaN</td>\n",
       "      <td>Encounters</td>\n",
       "      <td>18</td>\n",
       "      <td>TUH - Tallaght</td>\n",
       "      <td>2015</td>\n",
       "      <td>No</td>\n",
       "      <td>...</td>\n",
       "      <td>NaN</td>\n",
       "      <td>no</td>\n",
       "      <td>2017-02-17</td>\n",
       "      <td>NaN</td>\n",
       "      <td>NaN</td>\n",
       "      <td>NaN</td>\n",
       "      <td>NaN</td>\n",
       "      <td>NaN</td>\n",
       "      <td>persistent positive</td>\n",
       "      <td>On Treatment</td>\n",
       "    </tr>\n",
       "    <tr>\n",
       "      <th>1788</th>\n",
       "      <td>2015</td>\n",
       "      <td>2017-02-17</td>\n",
       "      <td>80</td>\n",
       "      <td>ANCA Positive</td>\n",
       "      <td>NaN</td>\n",
       "      <td>Encounters</td>\n",
       "      <td>18</td>\n",
       "      <td>TUH - Tallaght</td>\n",
       "      <td>2015</td>\n",
       "      <td>No</td>\n",
       "      <td>...</td>\n",
       "      <td>NaN</td>\n",
       "      <td>no</td>\n",
       "      <td>2017-02-17</td>\n",
       "      <td>NaN</td>\n",
       "      <td>NaN</td>\n",
       "      <td>NaN</td>\n",
       "      <td>NaN</td>\n",
       "      <td>NaN</td>\n",
       "      <td>persistent positive</td>\n",
       "      <td>On Treatment</td>\n",
       "    </tr>\n",
       "    <tr>\n",
       "      <th>1789</th>\n",
       "      <td>2015</td>\n",
       "      <td>2017-02-17</td>\n",
       "      <td>NaN</td>\n",
       "      <td>ANCA Status Unknown</td>\n",
       "      <td>NaN</td>\n",
       "      <td>Encounters</td>\n",
       "      <td>44</td>\n",
       "      <td>TUH - Tallaght</td>\n",
       "      <td>2015</td>\n",
       "      <td>NaN</td>\n",
       "      <td>...</td>\n",
       "      <td>NaN</td>\n",
       "      <td>no</td>\n",
       "      <td>2017-02-17</td>\n",
       "      <td>NaN</td>\n",
       "      <td>NaN</td>\n",
       "      <td>NaN</td>\n",
       "      <td>NaN</td>\n",
       "      <td>NaN</td>\n",
       "      <td>Unknown ANCA level</td>\n",
       "      <td>On Treatment</td>\n",
       "    </tr>\n",
       "    <tr>\n",
       "      <th>4830</th>\n",
       "      <td>28338</td>\n",
       "      <td>2021-07-30</td>\n",
       "      <td>NaN</td>\n",
       "      <td>ANCA Status Unknown</td>\n",
       "      <td>NaN</td>\n",
       "      <td>Encounters</td>\n",
       "      <td>3</td>\n",
       "      <td>TUH - Tallaght</td>\n",
       "      <td>28338</td>\n",
       "      <td>No</td>\n",
       "      <td>...</td>\n",
       "      <td>NaN</td>\n",
       "      <td>no</td>\n",
       "      <td>2021-07-30</td>\n",
       "      <td>NaN</td>\n",
       "      <td>NaN</td>\n",
       "      <td>NaN</td>\n",
       "      <td>NaN</td>\n",
       "      <td>NaN</td>\n",
       "      <td>Unknown ANCA level</td>\n",
       "      <td>On Treatment</td>\n",
       "    </tr>\n",
       "  </tbody>\n",
       "</table>\n",
       "<p>257 rows × 465 columns</p>\n",
       "</div>"
      ],
      "text/plain": [
       "      RKD.ID Date_Of_Visit ANCA_Levels          ANCA_Status ANCA_Switch  \\\n",
       "1041     127    2015-11-27          11        ANCA Positive         NaN   \n",
       "1535    2015    2017-02-17          80        ANCA Positive         NaN   \n",
       "1536    2015    2017-02-17          80        ANCA Positive         NaN   \n",
       "1537    2015    2017-02-17         NaN  ANCA Status Unknown         NaN   \n",
       "1538    2015    2017-02-17         NaN  ANCA Status Unknown         NaN   \n",
       "...      ...           ...         ...                  ...         ...   \n",
       "1786    2015    2017-02-17         NaN  ANCA Status Unknown         NaN   \n",
       "1787    2015    2017-02-17          80        ANCA Positive         NaN   \n",
       "1788    2015    2017-02-17          80        ANCA Positive         NaN   \n",
       "1789    2015    2017-02-17         NaN  ANCA Status Unknown         NaN   \n",
       "4830   28338    2021-07-30         NaN  ANCA Status Unknown         NaN   \n",
       "\n",
       "     Repeat.Instrument  Repeat.Instance.x Data.Access.Group.x  Patient.ID  \\\n",
       "1041        Encounters                  4      TUH - Tallaght         127   \n",
       "1535        Encounters                 44      TUH - Tallaght        2015   \n",
       "1536        Encounters                 44      TUH - Tallaght        2015   \n",
       "1537        Encounters                 18      TUH - Tallaght        2015   \n",
       "1538        Encounters                 18      TUH - Tallaght        2015   \n",
       "...                ...                ...                 ...         ...   \n",
       "1786        Encounters                 44      TUH - Tallaght        2015   \n",
       "1787        Encounters                 18      TUH - Tallaght        2015   \n",
       "1788        Encounters                 18      TUH - Tallaght        2015   \n",
       "1789        Encounters                 44      TUH - Tallaght        2015   \n",
       "4830        Encounters                  3      TUH - Tallaght       28338   \n",
       "\n",
       "     COVID.19.related.entry.  ...  duration.off.rx.months_liberal LTROT  \\\n",
       "1041                      No  ...                             NaN    no   \n",
       "1535                     NaN  ...                             NaN    no   \n",
       "1536                     NaN  ...                             NaN    no   \n",
       "1537                      No  ...                             NaN    no   \n",
       "1538                      No  ...                             NaN    no   \n",
       "...                      ...  ...                             ...   ...   \n",
       "1786                     NaN  ...                             NaN    no   \n",
       "1787                      No  ...                             NaN    no   \n",
       "1788                      No  ...                             NaN    no   \n",
       "1789                     NaN  ...                             NaN    no   \n",
       "4830                      No  ...                             NaN    no   \n",
       "\n",
       "        Encounter Interval_Last_Encounter_Months Date_Last_Follow_up.y  \\\n",
       "1041   2015-11-27                            NaN                   NaN   \n",
       "1535   2017-02-17                            NaN                   NaN   \n",
       "1536   2017-02-17                            NaN                   NaN   \n",
       "1537   2017-02-17                            NaN                   NaN   \n",
       "1538   2017-02-17                            NaN                   NaN   \n",
       "...           ...                            ...                   ...   \n",
       "1786   2017-02-17                            NaN                   NaN   \n",
       "1787   2017-02-17                            NaN                   NaN   \n",
       "1788   2017-02-17                            NaN                   NaN   \n",
       "1789   2017-02-17                            NaN                   NaN   \n",
       "4830   2021-07-30                            NaN                   NaN   \n",
       "\n",
       "     last_encounter.y Status.y Paradise.Encounters anca_kinetics_longterm  \\\n",
       "1041              NaN      NaN                 NaN     Unknown ANCA level   \n",
       "1535              NaN      NaN                 NaN    persistent positive   \n",
       "1536              NaN      NaN                 NaN    persistent positive   \n",
       "1537              NaN      NaN                 NaN     Unknown ANCA level   \n",
       "1538              NaN      NaN                 NaN     Unknown ANCA level   \n",
       "...               ...      ...                 ...                    ...   \n",
       "1786              NaN      NaN                 NaN     Unknown ANCA level   \n",
       "1787              NaN      NaN                 NaN    persistent positive   \n",
       "1788              NaN      NaN                 NaN    persistent positive   \n",
       "1789              NaN      NaN                 NaN     Unknown ANCA level   \n",
       "4830              NaN      NaN                 NaN     Unknown ANCA level   \n",
       "\n",
       "     CPD_treatment_MC  \n",
       "1041     On Treatment  \n",
       "1535     On Treatment  \n",
       "1536     On Treatment  \n",
       "1537     On Treatment  \n",
       "1538     On Treatment  \n",
       "...               ...  \n",
       "1786     On Treatment  \n",
       "1787     On Treatment  \n",
       "1788     On Treatment  \n",
       "1789     On Treatment  \n",
       "4830     On Treatment  \n",
       "\n",
       "[257 rows x 465 columns]"
      ]
     },
     "execution_count": 331,
     "metadata": {},
     "output_type": "execute_result"
    }
   ],
   "source": [
    "duplicateRows = data2[data2.duplicated(['RKD.ID','Date_Of_Visit','Interval.from.diagnosis..months.'])]\n",
    "duplicateRows"
   ]
  },
  {
   "cell_type": "code",
   "execution_count": 332,
   "id": "0e9d34eb",
   "metadata": {},
   "outputs": [],
   "source": [
    "data2=data2.drop_duplicates(subset=['RKD.ID','Date_Of_Visit','Interval.from.diagnosis..months.'], keep='first')"
   ]
  },
  {
   "cell_type": "code",
   "execution_count": 333,
   "id": "bcf3c451",
   "metadata": {},
   "outputs": [
    {
     "data": {
      "text/html": [
       "<div>\n",
       "<style scoped>\n",
       "    .dataframe tbody tr th:only-of-type {\n",
       "        vertical-align: middle;\n",
       "    }\n",
       "\n",
       "    .dataframe tbody tr th {\n",
       "        vertical-align: top;\n",
       "    }\n",
       "\n",
       "    .dataframe thead th {\n",
       "        text-align: right;\n",
       "    }\n",
       "</style>\n",
       "<table border=\"1\" class=\"dataframe\">\n",
       "  <thead>\n",
       "    <tr style=\"text-align: right;\">\n",
       "      <th></th>\n",
       "      <th>RKD.ID</th>\n",
       "      <th>Date_Of_Visit</th>\n",
       "      <th>ANCA_Levels</th>\n",
       "      <th>ANCA_Status</th>\n",
       "      <th>ANCA_Switch</th>\n",
       "      <th>Repeat.Instrument</th>\n",
       "      <th>Repeat.Instance.x</th>\n",
       "      <th>Data.Access.Group.x</th>\n",
       "      <th>Patient.ID</th>\n",
       "      <th>COVID.19.related.entry.</th>\n",
       "      <th>...</th>\n",
       "      <th>duration.off.rx.months_liberal</th>\n",
       "      <th>LTROT</th>\n",
       "      <th>Encounter</th>\n",
       "      <th>Interval_Last_Encounter_Months</th>\n",
       "      <th>Date_Last_Follow_up.y</th>\n",
       "      <th>last_encounter.y</th>\n",
       "      <th>Status.y</th>\n",
       "      <th>Paradise.Encounters</th>\n",
       "      <th>anca_kinetics_longterm</th>\n",
       "      <th>CPD_treatment_MC</th>\n",
       "    </tr>\n",
       "  </thead>\n",
       "  <tbody>\n",
       "    <tr>\n",
       "      <th>0</th>\n",
       "      <td>1</td>\n",
       "      <td>2013-03-01</td>\n",
       "      <td>NaN</td>\n",
       "      <td>ANCA Status Unknown</td>\n",
       "      <td>NaN</td>\n",
       "      <td>Encounters</td>\n",
       "      <td>33</td>\n",
       "      <td>TUH - Tallaght</td>\n",
       "      <td>1</td>\n",
       "      <td>No</td>\n",
       "      <td>...</td>\n",
       "      <td>NaN</td>\n",
       "      <td>no</td>\n",
       "      <td>2013-03-01</td>\n",
       "      <td>NaN</td>\n",
       "      <td>NaN</td>\n",
       "      <td>NaN</td>\n",
       "      <td>NaN</td>\n",
       "      <td>NaN</td>\n",
       "      <td>Unknown ANCA level</td>\n",
       "      <td>On Treatment</td>\n",
       "    </tr>\n",
       "    <tr>\n",
       "      <th>1</th>\n",
       "      <td>1</td>\n",
       "      <td>2013-04-05</td>\n",
       "      <td>NaN</td>\n",
       "      <td>ANCA Negative</td>\n",
       "      <td>Switch Status Unknown</td>\n",
       "      <td>Encounters</td>\n",
       "      <td>34</td>\n",
       "      <td>TUH - Tallaght</td>\n",
       "      <td>1</td>\n",
       "      <td>No</td>\n",
       "      <td>...</td>\n",
       "      <td>NaN</td>\n",
       "      <td>no</td>\n",
       "      <td>2013-04-05</td>\n",
       "      <td>130.947945</td>\n",
       "      <td>01/03/2024</td>\n",
       "      <td>05/04/2013</td>\n",
       "      <td>Alive</td>\n",
       "      <td>1.0</td>\n",
       "      <td>Unknown ANCA level</td>\n",
       "      <td>On Treatment</td>\n",
       "    </tr>\n",
       "    <tr>\n",
       "      <th>2</th>\n",
       "      <td>1</td>\n",
       "      <td>2013-04-12</td>\n",
       "      <td>NaN</td>\n",
       "      <td>ANCA Status Unknown</td>\n",
       "      <td>NaN</td>\n",
       "      <td>Encounters</td>\n",
       "      <td>5</td>\n",
       "      <td>TUH - Tallaght</td>\n",
       "      <td>1</td>\n",
       "      <td>No</td>\n",
       "      <td>...</td>\n",
       "      <td>NaN</td>\n",
       "      <td>no</td>\n",
       "      <td>2013-04-12</td>\n",
       "      <td>130.717808</td>\n",
       "      <td>01/03/2024</td>\n",
       "      <td>12/04/2013</td>\n",
       "      <td>Alive</td>\n",
       "      <td>1.0</td>\n",
       "      <td>Unknown ANCA level</td>\n",
       "      <td>On Treatment</td>\n",
       "    </tr>\n",
       "    <tr>\n",
       "      <th>3</th>\n",
       "      <td>1</td>\n",
       "      <td>2013-04-26</td>\n",
       "      <td>NaN</td>\n",
       "      <td>ANCA Negative</td>\n",
       "      <td>NaN</td>\n",
       "      <td>Encounters</td>\n",
       "      <td>35</td>\n",
       "      <td>TUH - Tallaght</td>\n",
       "      <td>1</td>\n",
       "      <td>No</td>\n",
       "      <td>...</td>\n",
       "      <td>NaN</td>\n",
       "      <td>no</td>\n",
       "      <td>2013-04-26</td>\n",
       "      <td>130.257534</td>\n",
       "      <td>01/03/2024</td>\n",
       "      <td>26/04/2013</td>\n",
       "      <td>Alive</td>\n",
       "      <td>1.0</td>\n",
       "      <td>Unknown ANCA level</td>\n",
       "      <td>On Treatment</td>\n",
       "    </tr>\n",
       "    <tr>\n",
       "      <th>4</th>\n",
       "      <td>1</td>\n",
       "      <td>2013-06-18</td>\n",
       "      <td>NaN</td>\n",
       "      <td>ANCA Negative</td>\n",
       "      <td>Neg-Neg Switch</td>\n",
       "      <td>Encounters</td>\n",
       "      <td>6</td>\n",
       "      <td>TUH - Tallaght</td>\n",
       "      <td>1</td>\n",
       "      <td>No</td>\n",
       "      <td>...</td>\n",
       "      <td>NaN</td>\n",
       "      <td>no</td>\n",
       "      <td>2013-06-18</td>\n",
       "      <td>128.515069</td>\n",
       "      <td>01/03/2024</td>\n",
       "      <td>18/06/2013</td>\n",
       "      <td>Alive</td>\n",
       "      <td>1.0</td>\n",
       "      <td>Unknown ANCA level</td>\n",
       "      <td>On Treatment</td>\n",
       "    </tr>\n",
       "    <tr>\n",
       "      <th>...</th>\n",
       "      <td>...</td>\n",
       "      <td>...</td>\n",
       "      <td>...</td>\n",
       "      <td>...</td>\n",
       "      <td>...</td>\n",
       "      <td>...</td>\n",
       "      <td>...</td>\n",
       "      <td>...</td>\n",
       "      <td>...</td>\n",
       "      <td>...</td>\n",
       "      <td>...</td>\n",
       "      <td>...</td>\n",
       "      <td>...</td>\n",
       "      <td>...</td>\n",
       "      <td>...</td>\n",
       "      <td>...</td>\n",
       "      <td>...</td>\n",
       "      <td>...</td>\n",
       "      <td>...</td>\n",
       "      <td>...</td>\n",
       "      <td>...</td>\n",
       "    </tr>\n",
       "    <tr>\n",
       "      <th>4974</th>\n",
       "      <td>28615</td>\n",
       "      <td>2015-05-19</td>\n",
       "      <td>NaN</td>\n",
       "      <td>ANCA Status Unknown</td>\n",
       "      <td>NaN</td>\n",
       "      <td>Encounters</td>\n",
       "      <td>3</td>\n",
       "      <td>TUH - Tallaght</td>\n",
       "      <td>28615</td>\n",
       "      <td>No</td>\n",
       "      <td>...</td>\n",
       "      <td>86.622951</td>\n",
       "      <td>no</td>\n",
       "      <td>2015-05-19</td>\n",
       "      <td>104.712329</td>\n",
       "      <td>06/02/2024</td>\n",
       "      <td>19/05/2015</td>\n",
       "      <td>Alive</td>\n",
       "      <td>1.0</td>\n",
       "      <td>Unknown ANCA level</td>\n",
       "      <td>On Treatment</td>\n",
       "    </tr>\n",
       "    <tr>\n",
       "      <th>4975</th>\n",
       "      <td>28615</td>\n",
       "      <td>2017-02-24</td>\n",
       "      <td>5.7</td>\n",
       "      <td>ANCA Positive</td>\n",
       "      <td>NaN</td>\n",
       "      <td>Encounters</td>\n",
       "      <td>4</td>\n",
       "      <td>TUH - Tallaght</td>\n",
       "      <td>28615</td>\n",
       "      <td>No</td>\n",
       "      <td>...</td>\n",
       "      <td>86.622951</td>\n",
       "      <td>no</td>\n",
       "      <td>2017-02-24</td>\n",
       "      <td>83.441096</td>\n",
       "      <td>06/02/2024</td>\n",
       "      <td>24/02/2017</td>\n",
       "      <td>Alive</td>\n",
       "      <td>1.0</td>\n",
       "      <td>Unknown ANCA level</td>\n",
       "      <td>On Treatment</td>\n",
       "    </tr>\n",
       "    <tr>\n",
       "      <th>4976</th>\n",
       "      <td>28615</td>\n",
       "      <td>2023-02-14</td>\n",
       "      <td>18</td>\n",
       "      <td>ANCA Positive</td>\n",
       "      <td>NaN</td>\n",
       "      <td>Encounters</td>\n",
       "      <td>6</td>\n",
       "      <td>TUH - Tallaght</td>\n",
       "      <td>28615</td>\n",
       "      <td>No</td>\n",
       "      <td>...</td>\n",
       "      <td>86.622951</td>\n",
       "      <td>no</td>\n",
       "      <td>2023-02-14</td>\n",
       "      <td>NaN</td>\n",
       "      <td>NaN</td>\n",
       "      <td>NaN</td>\n",
       "      <td>NaN</td>\n",
       "      <td>NaN</td>\n",
       "      <td>Unknown ANCA level</td>\n",
       "      <td>Off Treatment</td>\n",
       "    </tr>\n",
       "    <tr>\n",
       "      <th>4977</th>\n",
       "      <td>28615</td>\n",
       "      <td>2024-02-06</td>\n",
       "      <td>134</td>\n",
       "      <td>ANCA Positive</td>\n",
       "      <td>NaN</td>\n",
       "      <td>Encounters</td>\n",
       "      <td>7</td>\n",
       "      <td>TUH - Tallaght</td>\n",
       "      <td>28615</td>\n",
       "      <td>No</td>\n",
       "      <td>...</td>\n",
       "      <td>86.622951</td>\n",
       "      <td>no</td>\n",
       "      <td>2024-02-06</td>\n",
       "      <td>0.000000</td>\n",
       "      <td>06/02/2024</td>\n",
       "      <td>06/02/2024</td>\n",
       "      <td>Alive</td>\n",
       "      <td>1.0</td>\n",
       "      <td>persistent positive</td>\n",
       "      <td>Off Treatment</td>\n",
       "    </tr>\n",
       "    <tr>\n",
       "      <th>4978</th>\n",
       "      <td>28615</td>\n",
       "      <td>2024-05-20</td>\n",
       "      <td>134</td>\n",
       "      <td>ANCA Positive</td>\n",
       "      <td>NaN</td>\n",
       "      <td>Encounters</td>\n",
       "      <td>1</td>\n",
       "      <td>TUH - Tallaght</td>\n",
       "      <td>28615</td>\n",
       "      <td>No</td>\n",
       "      <td>...</td>\n",
       "      <td>86.622951</td>\n",
       "      <td>no</td>\n",
       "      <td>2024-05-20</td>\n",
       "      <td>NaN</td>\n",
       "      <td>NaN</td>\n",
       "      <td>NaN</td>\n",
       "      <td>NaN</td>\n",
       "      <td>NaN</td>\n",
       "      <td>persistent positive</td>\n",
       "      <td>Off Treatment</td>\n",
       "    </tr>\n",
       "  </tbody>\n",
       "</table>\n",
       "<p>4722 rows × 465 columns</p>\n",
       "</div>"
      ],
      "text/plain": [
       "      RKD.ID Date_Of_Visit ANCA_Levels          ANCA_Status  \\\n",
       "0          1    2013-03-01         NaN  ANCA Status Unknown   \n",
       "1          1    2013-04-05         NaN        ANCA Negative   \n",
       "2          1    2013-04-12         NaN  ANCA Status Unknown   \n",
       "3          1    2013-04-26         NaN        ANCA Negative   \n",
       "4          1    2013-06-18         NaN        ANCA Negative   \n",
       "...      ...           ...         ...                  ...   \n",
       "4974   28615    2015-05-19         NaN  ANCA Status Unknown   \n",
       "4975   28615    2017-02-24         5.7        ANCA Positive   \n",
       "4976   28615    2023-02-14          18        ANCA Positive   \n",
       "4977   28615    2024-02-06         134        ANCA Positive   \n",
       "4978   28615    2024-05-20         134        ANCA Positive   \n",
       "\n",
       "                ANCA_Switch Repeat.Instrument  Repeat.Instance.x  \\\n",
       "0                       NaN        Encounters                 33   \n",
       "1     Switch Status Unknown        Encounters                 34   \n",
       "2                       NaN        Encounters                  5   \n",
       "3                       NaN        Encounters                 35   \n",
       "4            Neg-Neg Switch        Encounters                  6   \n",
       "...                     ...               ...                ...   \n",
       "4974                    NaN        Encounters                  3   \n",
       "4975                    NaN        Encounters                  4   \n",
       "4976                    NaN        Encounters                  6   \n",
       "4977                    NaN        Encounters                  7   \n",
       "4978                    NaN        Encounters                  1   \n",
       "\n",
       "     Data.Access.Group.x  Patient.ID COVID.19.related.entry.  ...  \\\n",
       "0         TUH - Tallaght           1                      No  ...   \n",
       "1         TUH - Tallaght           1                      No  ...   \n",
       "2         TUH - Tallaght           1                      No  ...   \n",
       "3         TUH - Tallaght           1                      No  ...   \n",
       "4         TUH - Tallaght           1                      No  ...   \n",
       "...                  ...         ...                     ...  ...   \n",
       "4974      TUH - Tallaght       28615                      No  ...   \n",
       "4975      TUH - Tallaght       28615                      No  ...   \n",
       "4976      TUH - Tallaght       28615                      No  ...   \n",
       "4977      TUH - Tallaght       28615                      No  ...   \n",
       "4978      TUH - Tallaght       28615                      No  ...   \n",
       "\n",
       "      duration.off.rx.months_liberal LTROT    Encounter  \\\n",
       "0                                NaN    no   2013-03-01   \n",
       "1                                NaN    no   2013-04-05   \n",
       "2                                NaN    no   2013-04-12   \n",
       "3                                NaN    no   2013-04-26   \n",
       "4                                NaN    no   2013-06-18   \n",
       "...                              ...   ...          ...   \n",
       "4974                       86.622951    no   2015-05-19   \n",
       "4975                       86.622951    no   2017-02-24   \n",
       "4976                       86.622951    no   2023-02-14   \n",
       "4977                       86.622951    no   2024-02-06   \n",
       "4978                       86.622951    no   2024-05-20   \n",
       "\n",
       "     Interval_Last_Encounter_Months Date_Last_Follow_up.y last_encounter.y  \\\n",
       "0                               NaN                   NaN              NaN   \n",
       "1                        130.947945            01/03/2024       05/04/2013   \n",
       "2                        130.717808            01/03/2024       12/04/2013   \n",
       "3                        130.257534            01/03/2024       26/04/2013   \n",
       "4                        128.515069            01/03/2024       18/06/2013   \n",
       "...                             ...                   ...              ...   \n",
       "4974                     104.712329            06/02/2024       19/05/2015   \n",
       "4975                      83.441096            06/02/2024       24/02/2017   \n",
       "4976                            NaN                   NaN              NaN   \n",
       "4977                       0.000000            06/02/2024       06/02/2024   \n",
       "4978                            NaN                   NaN              NaN   \n",
       "\n",
       "     Status.y Paradise.Encounters anca_kinetics_longterm CPD_treatment_MC  \n",
       "0         NaN                 NaN     Unknown ANCA level     On Treatment  \n",
       "1       Alive                 1.0     Unknown ANCA level     On Treatment  \n",
       "2       Alive                 1.0     Unknown ANCA level     On Treatment  \n",
       "3       Alive                 1.0     Unknown ANCA level     On Treatment  \n",
       "4       Alive                 1.0     Unknown ANCA level     On Treatment  \n",
       "...       ...                 ...                    ...              ...  \n",
       "4974    Alive                 1.0     Unknown ANCA level     On Treatment  \n",
       "4975    Alive                 1.0     Unknown ANCA level     On Treatment  \n",
       "4976      NaN                 NaN     Unknown ANCA level    Off Treatment  \n",
       "4977    Alive                 1.0    persistent positive    Off Treatment  \n",
       "4978      NaN                 NaN    persistent positive    Off Treatment  \n",
       "\n",
       "[4722 rows x 465 columns]"
      ]
     },
     "execution_count": 333,
     "metadata": {},
     "output_type": "execute_result"
    }
   ],
   "source": [
    "data2"
   ]
  },
  {
   "cell_type": "markdown",
   "id": "21bbee8f",
   "metadata": {},
   "source": [
    "## Merge Encounter data with treatment data "
   ]
  },
  {
   "cell_type": "code",
   "execution_count": 334,
   "id": "5a9f6507",
   "metadata": {},
   "outputs": [
    {
     "name": "stderr",
     "output_type": "stream",
     "text": [
      "C:\\Users\\georgea1\\AppData\\Local\\Temp\\ipykernel_23364\\2502807390.py:2: SettingWithCopyWarning: \n",
      "A value is trying to be set on a copy of a slice from a DataFrame.\n",
      "Try using .loc[row_indexer,col_indexer] = value instead\n",
      "\n",
      "See the caveats in the documentation: https://pandas.pydata.org/pandas-docs/stable/user_guide/indexing.html#returning-a-view-versus-a-copy\n",
      "  data2['Date_Of_Visit'] = pd.to_datetime(data2['Date_Of_Visit'])\n"
     ]
    }
   ],
   "source": [
    "data1['Date_Of_Visit'] = pd.to_datetime(data1['Date_Of_Visit'])\n",
    "data2['Date_Of_Visit'] = pd.to_datetime(data2['Date_Of_Visit'])"
   ]
  },
  {
   "cell_type": "code",
   "execution_count": null,
   "id": "f8dd8097",
   "metadata": {},
   "outputs": [],
   "source": []
  },
  {
   "cell_type": "code",
   "execution_count": 335,
   "id": "cf6eb2eb",
   "metadata": {},
   "outputs": [
    {
     "data": {
      "text/html": [
       "<div>\n",
       "<style scoped>\n",
       "    .dataframe tbody tr th:only-of-type {\n",
       "        vertical-align: middle;\n",
       "    }\n",
       "\n",
       "    .dataframe tbody tr th {\n",
       "        vertical-align: top;\n",
       "    }\n",
       "\n",
       "    .dataframe thead th {\n",
       "        text-align: right;\n",
       "    }\n",
       "</style>\n",
       "<table border=\"1\" class=\"dataframe\">\n",
       "  <thead>\n",
       "    <tr style=\"text-align: right;\">\n",
       "      <th></th>\n",
       "      <th>RKD.ID</th>\n",
       "      <th>Repeat.Instrument_x</th>\n",
       "      <th>Date_Of_Visit</th>\n",
       "      <th>Interval.from.diagnosis..months._x</th>\n",
       "      <th>Immunosuppressive.status_x</th>\n",
       "      <th>Corticosteroids_x</th>\n",
       "      <th>Current.corticosteroid.dose_x</th>\n",
       "      <th>Corticosteroids.in.response.to.this.clinical.encounter.episode_x</th>\n",
       "      <th>Immunosuppressive.medication_x</th>\n",
       "      <th>Immunosuppressive.medication...other_x</th>\n",
       "      <th>...</th>\n",
       "      <th>duration.off.rx.months_liberal</th>\n",
       "      <th>LTROT</th>\n",
       "      <th>Encounter</th>\n",
       "      <th>Interval_Last_Encounter_Months</th>\n",
       "      <th>Date_Last_Follow_up.y</th>\n",
       "      <th>last_encounter.y</th>\n",
       "      <th>Status.y</th>\n",
       "      <th>Paradise.Encounters</th>\n",
       "      <th>anca_kinetics_longterm</th>\n",
       "      <th>CPD_treatment_MC</th>\n",
       "    </tr>\n",
       "  </thead>\n",
       "  <tbody>\n",
       "    <tr>\n",
       "      <th>0</th>\n",
       "      <td>1</td>\n",
       "      <td>Encounters</td>\n",
       "      <td>2012-08-31</td>\n",
       "      <td>0.0</td>\n",
       "      <td>Treatment Naive</td>\n",
       "      <td>No</td>\n",
       "      <td>NaN</td>\n",
       "      <td>NaN</td>\n",
       "      <td>No</td>\n",
       "      <td>NaN</td>\n",
       "      <td>...</td>\n",
       "      <td>NaN</td>\n",
       "      <td>NaN</td>\n",
       "      <td>NaN</td>\n",
       "      <td>NaN</td>\n",
       "      <td>NaN</td>\n",
       "      <td>NaN</td>\n",
       "      <td>NaN</td>\n",
       "      <td>NaN</td>\n",
       "      <td>NaN</td>\n",
       "      <td>NaN</td>\n",
       "    </tr>\n",
       "    <tr>\n",
       "      <th>1</th>\n",
       "      <td>1</td>\n",
       "      <td>Encounters</td>\n",
       "      <td>2012-09-07</td>\n",
       "      <td>0.2</td>\n",
       "      <td>NaN</td>\n",
       "      <td>NaN</td>\n",
       "      <td>NaN</td>\n",
       "      <td>NaN</td>\n",
       "      <td>NaN</td>\n",
       "      <td>NaN</td>\n",
       "      <td>...</td>\n",
       "      <td>NaN</td>\n",
       "      <td>NaN</td>\n",
       "      <td>NaN</td>\n",
       "      <td>NaN</td>\n",
       "      <td>NaN</td>\n",
       "      <td>NaN</td>\n",
       "      <td>NaN</td>\n",
       "      <td>NaN</td>\n",
       "      <td>NaN</td>\n",
       "      <td>NaN</td>\n",
       "    </tr>\n",
       "    <tr>\n",
       "      <th>2</th>\n",
       "      <td>1</td>\n",
       "      <td>Encounters</td>\n",
       "      <td>2012-09-17</td>\n",
       "      <td>0.6</td>\n",
       "      <td>NaN</td>\n",
       "      <td>NaN</td>\n",
       "      <td>NaN</td>\n",
       "      <td>NaN</td>\n",
       "      <td>NaN</td>\n",
       "      <td>NaN</td>\n",
       "      <td>...</td>\n",
       "      <td>NaN</td>\n",
       "      <td>NaN</td>\n",
       "      <td>NaN</td>\n",
       "      <td>NaN</td>\n",
       "      <td>NaN</td>\n",
       "      <td>NaN</td>\n",
       "      <td>NaN</td>\n",
       "      <td>NaN</td>\n",
       "      <td>NaN</td>\n",
       "      <td>NaN</td>\n",
       "    </tr>\n",
       "    <tr>\n",
       "      <th>3</th>\n",
       "      <td>1</td>\n",
       "      <td>Encounters</td>\n",
       "      <td>2012-09-21</td>\n",
       "      <td>0.7</td>\n",
       "      <td>Currently on immunosuppression</td>\n",
       "      <td>Yes</td>\n",
       "      <td>&gt; 20 mg/day</td>\n",
       "      <td>No change</td>\n",
       "      <td>IV Cyclophosphamide</td>\n",
       "      <td>NaN</td>\n",
       "      <td>...</td>\n",
       "      <td>NaN</td>\n",
       "      <td>NaN</td>\n",
       "      <td>NaN</td>\n",
       "      <td>NaN</td>\n",
       "      <td>NaN</td>\n",
       "      <td>NaN</td>\n",
       "      <td>NaN</td>\n",
       "      <td>NaN</td>\n",
       "      <td>NaN</td>\n",
       "      <td>NaN</td>\n",
       "    </tr>\n",
       "    <tr>\n",
       "      <th>4</th>\n",
       "      <td>1</td>\n",
       "      <td>Encounters</td>\n",
       "      <td>2012-09-28</td>\n",
       "      <td>0.9</td>\n",
       "      <td>Currently on immunosuppression</td>\n",
       "      <td>NaN</td>\n",
       "      <td>NaN</td>\n",
       "      <td>NaN</td>\n",
       "      <td>IV Cyclophosphamide</td>\n",
       "      <td>NaN</td>\n",
       "      <td>...</td>\n",
       "      <td>NaN</td>\n",
       "      <td>NaN</td>\n",
       "      <td>NaN</td>\n",
       "      <td>NaN</td>\n",
       "      <td>NaN</td>\n",
       "      <td>NaN</td>\n",
       "      <td>NaN</td>\n",
       "      <td>NaN</td>\n",
       "      <td>NaN</td>\n",
       "      <td>NaN</td>\n",
       "    </tr>\n",
       "    <tr>\n",
       "      <th>...</th>\n",
       "      <td>...</td>\n",
       "      <td>...</td>\n",
       "      <td>...</td>\n",
       "      <td>...</td>\n",
       "      <td>...</td>\n",
       "      <td>...</td>\n",
       "      <td>...</td>\n",
       "      <td>...</td>\n",
       "      <td>...</td>\n",
       "      <td>...</td>\n",
       "      <td>...</td>\n",
       "      <td>...</td>\n",
       "      <td>...</td>\n",
       "      <td>...</td>\n",
       "      <td>...</td>\n",
       "      <td>...</td>\n",
       "      <td>...</td>\n",
       "      <td>...</td>\n",
       "      <td>...</td>\n",
       "      <td>...</td>\n",
       "      <td>...</td>\n",
       "    </tr>\n",
       "    <tr>\n",
       "      <th>10639</th>\n",
       "      <td>28621</td>\n",
       "      <td>Encounters</td>\n",
       "      <td>2024-07-19</td>\n",
       "      <td>0.0</td>\n",
       "      <td>Currently on immunosuppression</td>\n",
       "      <td>Yes</td>\n",
       "      <td>11 - 20 mg/day</td>\n",
       "      <td>Increased</td>\n",
       "      <td>No</td>\n",
       "      <td>NaN</td>\n",
       "      <td>...</td>\n",
       "      <td>NaN</td>\n",
       "      <td>NaN</td>\n",
       "      <td>NaN</td>\n",
       "      <td>NaN</td>\n",
       "      <td>NaN</td>\n",
       "      <td>NaN</td>\n",
       "      <td>NaN</td>\n",
       "      <td>NaN</td>\n",
       "      <td>NaN</td>\n",
       "      <td>NaN</td>\n",
       "    </tr>\n",
       "    <tr>\n",
       "      <th>10640</th>\n",
       "      <td>28622</td>\n",
       "      <td>Encounters</td>\n",
       "      <td>2024-07-30</td>\n",
       "      <td>0.0</td>\n",
       "      <td>Treatment Naive</td>\n",
       "      <td>Yes</td>\n",
       "      <td>NaN</td>\n",
       "      <td>Increased</td>\n",
       "      <td>Avacopan</td>\n",
       "      <td>NaN</td>\n",
       "      <td>...</td>\n",
       "      <td>NaN</td>\n",
       "      <td>NaN</td>\n",
       "      <td>NaN</td>\n",
       "      <td>NaN</td>\n",
       "      <td>NaN</td>\n",
       "      <td>NaN</td>\n",
       "      <td>NaN</td>\n",
       "      <td>NaN</td>\n",
       "      <td>NaN</td>\n",
       "      <td>NaN</td>\n",
       "    </tr>\n",
       "    <tr>\n",
       "      <th>10641</th>\n",
       "      <td>28623</td>\n",
       "      <td>Encounters</td>\n",
       "      <td>2024-07-29</td>\n",
       "      <td>NaN</td>\n",
       "      <td>NaN</td>\n",
       "      <td>NaN</td>\n",
       "      <td>NaN</td>\n",
       "      <td>NaN</td>\n",
       "      <td>NaN</td>\n",
       "      <td>NaN</td>\n",
       "      <td>...</td>\n",
       "      <td>NaN</td>\n",
       "      <td>NaN</td>\n",
       "      <td>NaN</td>\n",
       "      <td>NaN</td>\n",
       "      <td>NaN</td>\n",
       "      <td>NaN</td>\n",
       "      <td>NaN</td>\n",
       "      <td>NaN</td>\n",
       "      <td>NaN</td>\n",
       "      <td>NaN</td>\n",
       "    </tr>\n",
       "    <tr>\n",
       "      <th>10642</th>\n",
       "      <td>28624</td>\n",
       "      <td>Encounters</td>\n",
       "      <td>2024-07-31</td>\n",
       "      <td>0.0</td>\n",
       "      <td>Treatment Naive</td>\n",
       "      <td>No</td>\n",
       "      <td>NaN</td>\n",
       "      <td>Increased</td>\n",
       "      <td>No</td>\n",
       "      <td>NaN</td>\n",
       "      <td>...</td>\n",
       "      <td>NaN</td>\n",
       "      <td>NaN</td>\n",
       "      <td>NaN</td>\n",
       "      <td>NaN</td>\n",
       "      <td>NaN</td>\n",
       "      <td>NaN</td>\n",
       "      <td>NaN</td>\n",
       "      <td>NaN</td>\n",
       "      <td>NaN</td>\n",
       "      <td>NaN</td>\n",
       "    </tr>\n",
       "    <tr>\n",
       "      <th>10643</th>\n",
       "      <td>28625</td>\n",
       "      <td>Encounters</td>\n",
       "      <td>2024-08-01</td>\n",
       "      <td>1.0</td>\n",
       "      <td>Treatment Naive</td>\n",
       "      <td>No</td>\n",
       "      <td>NaN</td>\n",
       "      <td>NaN</td>\n",
       "      <td>No</td>\n",
       "      <td>NaN</td>\n",
       "      <td>...</td>\n",
       "      <td>NaN</td>\n",
       "      <td>NaN</td>\n",
       "      <td>NaN</td>\n",
       "      <td>NaN</td>\n",
       "      <td>NaN</td>\n",
       "      <td>NaN</td>\n",
       "      <td>NaN</td>\n",
       "      <td>NaN</td>\n",
       "      <td>NaN</td>\n",
       "      <td>NaN</td>\n",
       "    </tr>\n",
       "  </tbody>\n",
       "</table>\n",
       "<p>10644 rows × 542 columns</p>\n",
       "</div>"
      ],
      "text/plain": [
       "       RKD.ID Repeat.Instrument_x Date_Of_Visit  \\\n",
       "0           1          Encounters    2012-08-31   \n",
       "1           1          Encounters    2012-09-07   \n",
       "2           1          Encounters    2012-09-17   \n",
       "3           1          Encounters    2012-09-21   \n",
       "4           1          Encounters    2012-09-28   \n",
       "...       ...                 ...           ...   \n",
       "10639   28621          Encounters    2024-07-19   \n",
       "10640   28622          Encounters    2024-07-30   \n",
       "10641   28623          Encounters    2024-07-29   \n",
       "10642   28624          Encounters    2024-07-31   \n",
       "10643   28625          Encounters    2024-08-01   \n",
       "\n",
       "       Interval.from.diagnosis..months._x      Immunosuppressive.status_x  \\\n",
       "0                                     0.0                 Treatment Naive   \n",
       "1                                     0.2                             NaN   \n",
       "2                                     0.6                             NaN   \n",
       "3                                     0.7  Currently on immunosuppression   \n",
       "4                                     0.9  Currently on immunosuppression   \n",
       "...                                   ...                             ...   \n",
       "10639                                 0.0  Currently on immunosuppression   \n",
       "10640                                 0.0                 Treatment Naive   \n",
       "10641                                 NaN                             NaN   \n",
       "10642                                 0.0                 Treatment Naive   \n",
       "10643                                 1.0                 Treatment Naive   \n",
       "\n",
       "      Corticosteroids_x Current.corticosteroid.dose_x  \\\n",
       "0                    No                           NaN   \n",
       "1                   NaN                           NaN   \n",
       "2                   NaN                           NaN   \n",
       "3                   Yes                   > 20 mg/day   \n",
       "4                   NaN                           NaN   \n",
       "...                 ...                           ...   \n",
       "10639               Yes                11 - 20 mg/day   \n",
       "10640               Yes                           NaN   \n",
       "10641               NaN                           NaN   \n",
       "10642                No                           NaN   \n",
       "10643                No                           NaN   \n",
       "\n",
       "      Corticosteroids.in.response.to.this.clinical.encounter.episode_x  \\\n",
       "0                                                    NaN                 \n",
       "1                                                    NaN                 \n",
       "2                                                    NaN                 \n",
       "3                                              No change                 \n",
       "4                                                    NaN                 \n",
       "...                                                  ...                 \n",
       "10639                                          Increased                 \n",
       "10640                                          Increased                 \n",
       "10641                                                NaN                 \n",
       "10642                                          Increased                 \n",
       "10643                                                NaN                 \n",
       "\n",
       "      Immunosuppressive.medication_x Immunosuppressive.medication...other_x  \\\n",
       "0                                 No                                    NaN   \n",
       "1                                NaN                                    NaN   \n",
       "2                                NaN                                    NaN   \n",
       "3                IV Cyclophosphamide                                    NaN   \n",
       "4                IV Cyclophosphamide                                    NaN   \n",
       "...                              ...                                    ...   \n",
       "10639                             No                                    NaN   \n",
       "10640                       Avacopan                                    NaN   \n",
       "10641                            NaN                                    NaN   \n",
       "10642                             No                                    NaN   \n",
       "10643                             No                                    NaN   \n",
       "\n",
       "       ... duration.off.rx.months_liberal LTROT Encounter  \\\n",
       "0      ...                            NaN   NaN       NaN   \n",
       "1      ...                            NaN   NaN       NaN   \n",
       "2      ...                            NaN   NaN       NaN   \n",
       "3      ...                            NaN   NaN       NaN   \n",
       "4      ...                            NaN   NaN       NaN   \n",
       "...    ...                            ...   ...       ...   \n",
       "10639  ...                            NaN   NaN       NaN   \n",
       "10640  ...                            NaN   NaN       NaN   \n",
       "10641  ...                            NaN   NaN       NaN   \n",
       "10642  ...                            NaN   NaN       NaN   \n",
       "10643  ...                            NaN   NaN       NaN   \n",
       "\n",
       "      Interval_Last_Encounter_Months Date_Last_Follow_up.y last_encounter.y  \\\n",
       "0                                NaN                   NaN              NaN   \n",
       "1                                NaN                   NaN              NaN   \n",
       "2                                NaN                   NaN              NaN   \n",
       "3                                NaN                   NaN              NaN   \n",
       "4                                NaN                   NaN              NaN   \n",
       "...                              ...                   ...              ...   \n",
       "10639                            NaN                   NaN              NaN   \n",
       "10640                            NaN                   NaN              NaN   \n",
       "10641                            NaN                   NaN              NaN   \n",
       "10642                            NaN                   NaN              NaN   \n",
       "10643                            NaN                   NaN              NaN   \n",
       "\n",
       "       Status.y Paradise.Encounters anca_kinetics_longterm  CPD_treatment_MC  \n",
       "0           NaN                 NaN                    NaN               NaN  \n",
       "1           NaN                 NaN                    NaN               NaN  \n",
       "2           NaN                 NaN                    NaN               NaN  \n",
       "3           NaN                 NaN                    NaN               NaN  \n",
       "4           NaN                 NaN                    NaN               NaN  \n",
       "...         ...                 ...                    ...               ...  \n",
       "10639       NaN                 NaN                    NaN               NaN  \n",
       "10640       NaN                 NaN                    NaN               NaN  \n",
       "10641       NaN                 NaN                    NaN               NaN  \n",
       "10642       NaN                 NaN                    NaN               NaN  \n",
       "10643       NaN                 NaN                    NaN               NaN  \n",
       "\n",
       "[10644 rows x 542 columns]"
      ]
     },
     "execution_count": 335,
     "metadata": {},
     "output_type": "execute_result"
    }
   ],
   "source": [
    "# Merge with left join\n",
    "data = pd.merge(data1, data2, on=['RKD.ID', 'Date_Of_Visit'], how='left')\n",
    "data"
   ]
  },
  {
   "cell_type": "code",
   "execution_count": 336,
   "id": "6a900f94",
   "metadata": {},
   "outputs": [],
   "source": [
    "#data.to_csv('C:/Users/georgea1/OneDrive - Trinity College Dublin/Desktop/merge.csv',index=True)"
   ]
  },
  {
   "cell_type": "code",
   "execution_count": null,
   "id": "a1e47038",
   "metadata": {},
   "outputs": [],
   "source": []
  },
  {
   "cell_type": "markdown",
   "id": "89c63cc8",
   "metadata": {},
   "source": [
    "## Backward fill demographics details"
   ]
  },
  {
   "cell_type": "code",
   "execution_count": 337,
   "id": "e301e6f7",
   "metadata": {},
   "outputs": [],
   "source": [
    "\n",
    "start_col = 'At.any.point.ANCA.IF.pattern'\n",
    "end_col = 'Complete..5'"
   ]
  },
  {
   "cell_type": "code",
   "execution_count": 338,
   "id": "30d74e89",
   "metadata": {},
   "outputs": [],
   "source": [
    "# Get the column names for the specified range\n",
    "start_idx = data.columns.get_loc(start_col)\n",
    "end_idx = data.columns.get_loc(end_col)\n",
    "columns_to_bfill = data.columns[start_idx:end_idx + 1]\n"
   ]
  },
  {
   "cell_type": "code",
   "execution_count": 339,
   "id": "44e0b954",
   "metadata": {},
   "outputs": [
    {
     "data": {
      "text/html": [
       "<div>\n",
       "<style scoped>\n",
       "    .dataframe tbody tr th:only-of-type {\n",
       "        vertical-align: middle;\n",
       "    }\n",
       "\n",
       "    .dataframe tbody tr th {\n",
       "        vertical-align: top;\n",
       "    }\n",
       "\n",
       "    .dataframe thead th {\n",
       "        text-align: right;\n",
       "    }\n",
       "</style>\n",
       "<table border=\"1\" class=\"dataframe\">\n",
       "  <thead>\n",
       "    <tr style=\"text-align: right;\">\n",
       "      <th></th>\n",
       "      <th>RKD.ID</th>\n",
       "      <th>Repeat.Instrument_x</th>\n",
       "      <th>Date_Of_Visit</th>\n",
       "      <th>Interval.from.diagnosis..months._x</th>\n",
       "      <th>Immunosuppressive.status_x</th>\n",
       "      <th>Corticosteroids_x</th>\n",
       "      <th>Current.corticosteroid.dose_x</th>\n",
       "      <th>Corticosteroids.in.response.to.this.clinical.encounter.episode_x</th>\n",
       "      <th>Immunosuppressive.medication_x</th>\n",
       "      <th>Immunosuppressive.medication...other_x</th>\n",
       "      <th>...</th>\n",
       "      <th>duration.off.rx.months_liberal</th>\n",
       "      <th>LTROT</th>\n",
       "      <th>Encounter</th>\n",
       "      <th>Interval_Last_Encounter_Months</th>\n",
       "      <th>Date_Last_Follow_up.y</th>\n",
       "      <th>last_encounter.y</th>\n",
       "      <th>Status.y</th>\n",
       "      <th>Paradise.Encounters</th>\n",
       "      <th>anca_kinetics_longterm</th>\n",
       "      <th>CPD_treatment_MC</th>\n",
       "    </tr>\n",
       "  </thead>\n",
       "  <tbody>\n",
       "    <tr>\n",
       "      <th>0</th>\n",
       "      <td>1</td>\n",
       "      <td>Encounters</td>\n",
       "      <td>2012-08-31</td>\n",
       "      <td>0.0</td>\n",
       "      <td>Treatment Naive</td>\n",
       "      <td>No</td>\n",
       "      <td>NaN</td>\n",
       "      <td>NaN</td>\n",
       "      <td>No</td>\n",
       "      <td>NaN</td>\n",
       "      <td>...</td>\n",
       "      <td>NaN</td>\n",
       "      <td>NaN</td>\n",
       "      <td>NaN</td>\n",
       "      <td>NaN</td>\n",
       "      <td>NaN</td>\n",
       "      <td>NaN</td>\n",
       "      <td>NaN</td>\n",
       "      <td>NaN</td>\n",
       "      <td>NaN</td>\n",
       "      <td>NaN</td>\n",
       "    </tr>\n",
       "    <tr>\n",
       "      <th>1</th>\n",
       "      <td>1</td>\n",
       "      <td>Encounters</td>\n",
       "      <td>2012-09-07</td>\n",
       "      <td>0.2</td>\n",
       "      <td>NaN</td>\n",
       "      <td>NaN</td>\n",
       "      <td>NaN</td>\n",
       "      <td>NaN</td>\n",
       "      <td>NaN</td>\n",
       "      <td>NaN</td>\n",
       "      <td>...</td>\n",
       "      <td>NaN</td>\n",
       "      <td>NaN</td>\n",
       "      <td>NaN</td>\n",
       "      <td>NaN</td>\n",
       "      <td>NaN</td>\n",
       "      <td>NaN</td>\n",
       "      <td>NaN</td>\n",
       "      <td>NaN</td>\n",
       "      <td>NaN</td>\n",
       "      <td>NaN</td>\n",
       "    </tr>\n",
       "    <tr>\n",
       "      <th>2</th>\n",
       "      <td>1</td>\n",
       "      <td>Encounters</td>\n",
       "      <td>2012-09-17</td>\n",
       "      <td>0.6</td>\n",
       "      <td>NaN</td>\n",
       "      <td>NaN</td>\n",
       "      <td>NaN</td>\n",
       "      <td>NaN</td>\n",
       "      <td>NaN</td>\n",
       "      <td>NaN</td>\n",
       "      <td>...</td>\n",
       "      <td>NaN</td>\n",
       "      <td>NaN</td>\n",
       "      <td>NaN</td>\n",
       "      <td>NaN</td>\n",
       "      <td>NaN</td>\n",
       "      <td>NaN</td>\n",
       "      <td>NaN</td>\n",
       "      <td>NaN</td>\n",
       "      <td>NaN</td>\n",
       "      <td>NaN</td>\n",
       "    </tr>\n",
       "    <tr>\n",
       "      <th>3</th>\n",
       "      <td>1</td>\n",
       "      <td>Encounters</td>\n",
       "      <td>2012-09-21</td>\n",
       "      <td>0.7</td>\n",
       "      <td>Currently on immunosuppression</td>\n",
       "      <td>Yes</td>\n",
       "      <td>&gt; 20 mg/day</td>\n",
       "      <td>No change</td>\n",
       "      <td>IV Cyclophosphamide</td>\n",
       "      <td>NaN</td>\n",
       "      <td>...</td>\n",
       "      <td>NaN</td>\n",
       "      <td>NaN</td>\n",
       "      <td>NaN</td>\n",
       "      <td>NaN</td>\n",
       "      <td>NaN</td>\n",
       "      <td>NaN</td>\n",
       "      <td>NaN</td>\n",
       "      <td>NaN</td>\n",
       "      <td>NaN</td>\n",
       "      <td>NaN</td>\n",
       "    </tr>\n",
       "    <tr>\n",
       "      <th>4</th>\n",
       "      <td>1</td>\n",
       "      <td>Encounters</td>\n",
       "      <td>2012-09-28</td>\n",
       "      <td>0.9</td>\n",
       "      <td>Currently on immunosuppression</td>\n",
       "      <td>NaN</td>\n",
       "      <td>NaN</td>\n",
       "      <td>NaN</td>\n",
       "      <td>IV Cyclophosphamide</td>\n",
       "      <td>NaN</td>\n",
       "      <td>...</td>\n",
       "      <td>NaN</td>\n",
       "      <td>NaN</td>\n",
       "      <td>NaN</td>\n",
       "      <td>NaN</td>\n",
       "      <td>NaN</td>\n",
       "      <td>NaN</td>\n",
       "      <td>NaN</td>\n",
       "      <td>NaN</td>\n",
       "      <td>NaN</td>\n",
       "      <td>NaN</td>\n",
       "    </tr>\n",
       "    <tr>\n",
       "      <th>...</th>\n",
       "      <td>...</td>\n",
       "      <td>...</td>\n",
       "      <td>...</td>\n",
       "      <td>...</td>\n",
       "      <td>...</td>\n",
       "      <td>...</td>\n",
       "      <td>...</td>\n",
       "      <td>...</td>\n",
       "      <td>...</td>\n",
       "      <td>...</td>\n",
       "      <td>...</td>\n",
       "      <td>...</td>\n",
       "      <td>...</td>\n",
       "      <td>...</td>\n",
       "      <td>...</td>\n",
       "      <td>...</td>\n",
       "      <td>...</td>\n",
       "      <td>...</td>\n",
       "      <td>...</td>\n",
       "      <td>...</td>\n",
       "      <td>...</td>\n",
       "    </tr>\n",
       "    <tr>\n",
       "      <th>10639</th>\n",
       "      <td>28621</td>\n",
       "      <td>Encounters</td>\n",
       "      <td>2024-07-19</td>\n",
       "      <td>0.0</td>\n",
       "      <td>Currently on immunosuppression</td>\n",
       "      <td>Yes</td>\n",
       "      <td>11 - 20 mg/day</td>\n",
       "      <td>Increased</td>\n",
       "      <td>No</td>\n",
       "      <td>NaN</td>\n",
       "      <td>...</td>\n",
       "      <td>NaN</td>\n",
       "      <td>NaN</td>\n",
       "      <td>NaN</td>\n",
       "      <td>NaN</td>\n",
       "      <td>NaN</td>\n",
       "      <td>NaN</td>\n",
       "      <td>NaN</td>\n",
       "      <td>NaN</td>\n",
       "      <td>NaN</td>\n",
       "      <td>NaN</td>\n",
       "    </tr>\n",
       "    <tr>\n",
       "      <th>10640</th>\n",
       "      <td>28622</td>\n",
       "      <td>Encounters</td>\n",
       "      <td>2024-07-30</td>\n",
       "      <td>0.0</td>\n",
       "      <td>Treatment Naive</td>\n",
       "      <td>Yes</td>\n",
       "      <td>NaN</td>\n",
       "      <td>Increased</td>\n",
       "      <td>Avacopan</td>\n",
       "      <td>NaN</td>\n",
       "      <td>...</td>\n",
       "      <td>NaN</td>\n",
       "      <td>NaN</td>\n",
       "      <td>NaN</td>\n",
       "      <td>NaN</td>\n",
       "      <td>NaN</td>\n",
       "      <td>NaN</td>\n",
       "      <td>NaN</td>\n",
       "      <td>NaN</td>\n",
       "      <td>NaN</td>\n",
       "      <td>NaN</td>\n",
       "    </tr>\n",
       "    <tr>\n",
       "      <th>10641</th>\n",
       "      <td>28623</td>\n",
       "      <td>Encounters</td>\n",
       "      <td>2024-07-29</td>\n",
       "      <td>NaN</td>\n",
       "      <td>NaN</td>\n",
       "      <td>NaN</td>\n",
       "      <td>NaN</td>\n",
       "      <td>NaN</td>\n",
       "      <td>NaN</td>\n",
       "      <td>NaN</td>\n",
       "      <td>...</td>\n",
       "      <td>NaN</td>\n",
       "      <td>NaN</td>\n",
       "      <td>NaN</td>\n",
       "      <td>NaN</td>\n",
       "      <td>NaN</td>\n",
       "      <td>NaN</td>\n",
       "      <td>NaN</td>\n",
       "      <td>NaN</td>\n",
       "      <td>NaN</td>\n",
       "      <td>NaN</td>\n",
       "    </tr>\n",
       "    <tr>\n",
       "      <th>10642</th>\n",
       "      <td>28624</td>\n",
       "      <td>Encounters</td>\n",
       "      <td>2024-07-31</td>\n",
       "      <td>0.0</td>\n",
       "      <td>Treatment Naive</td>\n",
       "      <td>No</td>\n",
       "      <td>NaN</td>\n",
       "      <td>Increased</td>\n",
       "      <td>No</td>\n",
       "      <td>NaN</td>\n",
       "      <td>...</td>\n",
       "      <td>NaN</td>\n",
       "      <td>NaN</td>\n",
       "      <td>NaN</td>\n",
       "      <td>NaN</td>\n",
       "      <td>NaN</td>\n",
       "      <td>NaN</td>\n",
       "      <td>NaN</td>\n",
       "      <td>NaN</td>\n",
       "      <td>NaN</td>\n",
       "      <td>NaN</td>\n",
       "    </tr>\n",
       "    <tr>\n",
       "      <th>10643</th>\n",
       "      <td>28625</td>\n",
       "      <td>Encounters</td>\n",
       "      <td>2024-08-01</td>\n",
       "      <td>1.0</td>\n",
       "      <td>Treatment Naive</td>\n",
       "      <td>No</td>\n",
       "      <td>NaN</td>\n",
       "      <td>NaN</td>\n",
       "      <td>No</td>\n",
       "      <td>NaN</td>\n",
       "      <td>...</td>\n",
       "      <td>NaN</td>\n",
       "      <td>NaN</td>\n",
       "      <td>NaN</td>\n",
       "      <td>NaN</td>\n",
       "      <td>NaN</td>\n",
       "      <td>NaN</td>\n",
       "      <td>NaN</td>\n",
       "      <td>NaN</td>\n",
       "      <td>NaN</td>\n",
       "      <td>NaN</td>\n",
       "    </tr>\n",
       "  </tbody>\n",
       "</table>\n",
       "<p>10644 rows × 542 columns</p>\n",
       "</div>"
      ],
      "text/plain": [
       "       RKD.ID Repeat.Instrument_x Date_Of_Visit  \\\n",
       "0           1          Encounters    2012-08-31   \n",
       "1           1          Encounters    2012-09-07   \n",
       "2           1          Encounters    2012-09-17   \n",
       "3           1          Encounters    2012-09-21   \n",
       "4           1          Encounters    2012-09-28   \n",
       "...       ...                 ...           ...   \n",
       "10639   28621          Encounters    2024-07-19   \n",
       "10640   28622          Encounters    2024-07-30   \n",
       "10641   28623          Encounters    2024-07-29   \n",
       "10642   28624          Encounters    2024-07-31   \n",
       "10643   28625          Encounters    2024-08-01   \n",
       "\n",
       "       Interval.from.diagnosis..months._x      Immunosuppressive.status_x  \\\n",
       "0                                     0.0                 Treatment Naive   \n",
       "1                                     0.2                             NaN   \n",
       "2                                     0.6                             NaN   \n",
       "3                                     0.7  Currently on immunosuppression   \n",
       "4                                     0.9  Currently on immunosuppression   \n",
       "...                                   ...                             ...   \n",
       "10639                                 0.0  Currently on immunosuppression   \n",
       "10640                                 0.0                 Treatment Naive   \n",
       "10641                                 NaN                             NaN   \n",
       "10642                                 0.0                 Treatment Naive   \n",
       "10643                                 1.0                 Treatment Naive   \n",
       "\n",
       "      Corticosteroids_x Current.corticosteroid.dose_x  \\\n",
       "0                    No                           NaN   \n",
       "1                   NaN                           NaN   \n",
       "2                   NaN                           NaN   \n",
       "3                   Yes                   > 20 mg/day   \n",
       "4                   NaN                           NaN   \n",
       "...                 ...                           ...   \n",
       "10639               Yes                11 - 20 mg/day   \n",
       "10640               Yes                           NaN   \n",
       "10641               NaN                           NaN   \n",
       "10642                No                           NaN   \n",
       "10643                No                           NaN   \n",
       "\n",
       "      Corticosteroids.in.response.to.this.clinical.encounter.episode_x  \\\n",
       "0                                                    NaN                 \n",
       "1                                                    NaN                 \n",
       "2                                                    NaN                 \n",
       "3                                              No change                 \n",
       "4                                                    NaN                 \n",
       "...                                                  ...                 \n",
       "10639                                          Increased                 \n",
       "10640                                          Increased                 \n",
       "10641                                                NaN                 \n",
       "10642                                          Increased                 \n",
       "10643                                                NaN                 \n",
       "\n",
       "      Immunosuppressive.medication_x Immunosuppressive.medication...other_x  \\\n",
       "0                                 No                                    NaN   \n",
       "1                                NaN                                    NaN   \n",
       "2                                NaN                                    NaN   \n",
       "3                IV Cyclophosphamide                                    NaN   \n",
       "4                IV Cyclophosphamide                                    NaN   \n",
       "...                              ...                                    ...   \n",
       "10639                             No                                    NaN   \n",
       "10640                       Avacopan                                    NaN   \n",
       "10641                            NaN                                    NaN   \n",
       "10642                             No                                    NaN   \n",
       "10643                             No                                    NaN   \n",
       "\n",
       "       ... duration.off.rx.months_liberal LTROT Encounter  \\\n",
       "0      ...                            NaN   NaN       NaN   \n",
       "1      ...                            NaN   NaN       NaN   \n",
       "2      ...                            NaN   NaN       NaN   \n",
       "3      ...                            NaN   NaN       NaN   \n",
       "4      ...                            NaN   NaN       NaN   \n",
       "...    ...                            ...   ...       ...   \n",
       "10639  ...                            NaN   NaN       NaN   \n",
       "10640  ...                            NaN   NaN       NaN   \n",
       "10641  ...                            NaN   NaN       NaN   \n",
       "10642  ...                            NaN   NaN       NaN   \n",
       "10643  ...                            NaN   NaN       NaN   \n",
       "\n",
       "      Interval_Last_Encounter_Months Date_Last_Follow_up.y last_encounter.y  \\\n",
       "0                                NaN                   NaN              NaN   \n",
       "1                                NaN                   NaN              NaN   \n",
       "2                                NaN                   NaN              NaN   \n",
       "3                                NaN                   NaN              NaN   \n",
       "4                                NaN                   NaN              NaN   \n",
       "...                              ...                   ...              ...   \n",
       "10639                            NaN                   NaN              NaN   \n",
       "10640                            NaN                   NaN              NaN   \n",
       "10641                            NaN                   NaN              NaN   \n",
       "10642                            NaN                   NaN              NaN   \n",
       "10643                            NaN                   NaN              NaN   \n",
       "\n",
       "       Status.y Paradise.Encounters anca_kinetics_longterm  CPD_treatment_MC  \n",
       "0           NaN                 NaN                    NaN               NaN  \n",
       "1           NaN                 NaN                    NaN               NaN  \n",
       "2           NaN                 NaN                    NaN               NaN  \n",
       "3           NaN                 NaN                    NaN               NaN  \n",
       "4           NaN                 NaN                    NaN               NaN  \n",
       "...         ...                 ...                    ...               ...  \n",
       "10639       NaN                 NaN                    NaN               NaN  \n",
       "10640       NaN                 NaN                    NaN               NaN  \n",
       "10641       NaN                 NaN                    NaN               NaN  \n",
       "10642       NaN                 NaN                    NaN               NaN  \n",
       "10643       NaN                 NaN                    NaN               NaN  \n",
       "\n",
       "[10644 rows x 542 columns]"
      ]
     },
     "execution_count": 339,
     "metadata": {},
     "output_type": "execute_result"
    }
   ],
   "source": [
    "\n",
    "data[columns_to_bfill] = data.groupby('RKD.ID')[columns_to_bfill].bfill()\n",
    "data"
   ]
  },
  {
   "cell_type": "code",
   "execution_count": null,
   "id": "c284a53f",
   "metadata": {},
   "outputs": [],
   "source": []
  },
  {
   "cell_type": "code",
   "execution_count": null,
   "id": "30cb7ed7",
   "metadata": {},
   "outputs": [],
   "source": []
  },
  {
   "cell_type": "markdown",
   "id": "b6a7aebd",
   "metadata": {},
   "source": [
    "## Apply PARADISE criteria"
   ]
  },
  {
   "cell_type": "code",
   "execution_count": 340,
   "id": "9f342222",
   "metadata": {},
   "outputs": [
    {
     "name": "stderr",
     "output_type": "stream",
     "text": [
      "C:\\Users\\georgea1\\AppData\\Local\\Temp\\ipykernel_23364\\3161518930.py:1: FutureWarning: A value is trying to be set on a copy of a DataFrame or Series through chained assignment using an inplace method.\n",
      "The behavior will change in pandas 3.0. This inplace method will never work because the intermediate object on which we are setting values always behaves as a copy.\n",
      "\n",
      "For example, when doing 'df[col].method(value, inplace=True)', try using 'df.method({col: value}, inplace=True)' or df[col] = df[col].method(value) instead, to perform the operation inplace on the original object.\n",
      "\n",
      "\n",
      "  data['Diagnosis.confidence'].fillna('NA',inplace=True)\n"
     ]
    }
   ],
   "source": [
    "data['Diagnosis.confidence'].fillna('NA',inplace=True)"
   ]
  },
  {
   "cell_type": "code",
   "execution_count": 341,
   "id": "42e9bcca",
   "metadata": {},
   "outputs": [],
   "source": [
    "\n",
    "data.drop(data[data['Diagnosis.confidence']=='Possible'].index,inplace=True)"
   ]
  },
  {
   "cell_type": "code",
   "execution_count": 342,
   "id": "b8da1164",
   "metadata": {},
   "outputs": [],
   "source": [
    "\n",
    "data.drop(data[data['Diagnosis.confidence']=='Probable'].index,inplace=True)"
   ]
  },
  {
   "cell_type": "code",
   "execution_count": 343,
   "id": "a3ae6b20",
   "metadata": {},
   "outputs": [],
   "source": [
    "\n",
    "data.drop(data[data['Diagnosis.confidence']=='NA'].index,inplace=True)"
   ]
  },
  {
   "cell_type": "code",
   "execution_count": 344,
   "id": "250afa00",
   "metadata": {},
   "outputs": [
    {
     "data": {
      "text/plain": [
       "(7020, 542)"
      ]
     },
     "execution_count": 344,
     "metadata": {},
     "output_type": "execute_result"
    }
   ],
   "source": [
    "data.shape"
   ]
  },
  {
   "cell_type": "code",
   "execution_count": 345,
   "id": "fd65a957",
   "metadata": {},
   "outputs": [
    {
     "name": "stderr",
     "output_type": "stream",
     "text": [
      "C:\\Users\\georgea1\\AppData\\Local\\Temp\\ipykernel_23364\\3695897999.py:1: FutureWarning: A value is trying to be set on a copy of a DataFrame or Series through chained assignment using an inplace method.\n",
      "The behavior will change in pandas 3.0. This inplace method will never work because the intermediate object on which we are setting values always behaves as a copy.\n",
      "\n",
      "For example, when doing 'df[col].method(value, inplace=True)', try using 'df.method({col: value}, inplace=True)' or df[col] = df[col].method(value) instead, to perform the operation inplace on the original object.\n",
      "\n",
      "\n",
      "  data['Small.vessel.vasculitis..ANCA.associated.'].fillna('NA',inplace=True)\n"
     ]
    }
   ],
   "source": [
    "data['Small.vessel.vasculitis..ANCA.associated.'].fillna('NA',inplace=True)"
   ]
  },
  {
   "cell_type": "code",
   "execution_count": 346,
   "id": "e5c8aad5",
   "metadata": {},
   "outputs": [],
   "source": [
    "\n",
    "data.drop(data[data['Small.vessel.vasculitis..ANCA.associated.']=='Eosinophilic granulomatosis with polyangiitis (Churg Strauss) - ORPHA:183'].index,inplace=True)"
   ]
  },
  {
   "cell_type": "code",
   "execution_count": 347,
   "id": "55e26f06",
   "metadata": {},
   "outputs": [],
   "source": [
    "\n",
    "data.drop(data[data['Small.vessel.vasculitis..ANCA.associated.']=='NA'].index,inplace=True)"
   ]
  },
  {
   "cell_type": "code",
   "execution_count": 348,
   "id": "5c33b3ea",
   "metadata": {},
   "outputs": [],
   "source": [
    "\n",
    "data.drop(data[data['Small.vessel.vasculitis..ANCA.associated.']=='ANCA vasculitis unclassified - ORPHA:156152'].index,inplace=True)"
   ]
  },
  {
   "cell_type": "code",
   "execution_count": 349,
   "id": "630dcce4",
   "metadata": {},
   "outputs": [],
   "source": [
    "\n",
    "data.drop(data[data['Small.vessel.vasculitis..Immune.complex.']=='Anti-GBM disease - ORPHA:375'].index,inplace=True)"
   ]
  },
  {
   "cell_type": "code",
   "execution_count": null,
   "id": "29e6c692",
   "metadata": {},
   "outputs": [],
   "source": []
  },
  {
   "cell_type": "code",
   "execution_count": 350,
   "id": "66d1deae",
   "metadata": {},
   "outputs": [],
   "source": [
    "\n",
    "data.drop(data[data['Small.vessel.vasculitis..Immune.complex.']=='IgA vasculitis (Henoch-Schonlein) - ORPHA:761'].index,inplace=True)"
   ]
  },
  {
   "cell_type": "code",
   "execution_count": 351,
   "id": "0c505408",
   "metadata": {},
   "outputs": [],
   "source": [
    "\n",
    "data.drop(data[data['Secondary.vasculitis']=='Yes'].index,inplace=True)"
   ]
  },
  {
   "cell_type": "code",
   "execution_count": 352,
   "id": "c0e588d4",
   "metadata": {},
   "outputs": [],
   "source": [
    "\n",
    "data.drop(data[data['Other']=='Yes'].index,inplace=True)"
   ]
  },
  {
   "cell_type": "code",
   "execution_count": 353,
   "id": "580d2ac1",
   "metadata": {},
   "outputs": [],
   "source": [
    "\n",
    "data.drop(data[data['Unclassified']=='Yes'].index,inplace=True)"
   ]
  },
  {
   "cell_type": "code",
   "execution_count": 354,
   "id": "eaa53e0f",
   "metadata": {},
   "outputs": [
    {
     "data": {
      "text/plain": [
       "(7020, 542)"
      ]
     },
     "execution_count": 354,
     "metadata": {},
     "output_type": "execute_result"
    }
   ],
   "source": [
    "data.shape"
   ]
  },
  {
   "cell_type": "code",
   "execution_count": 355,
   "id": "52ee9053",
   "metadata": {},
   "outputs": [],
   "source": [
    "#data.to_csv('C:/Users/georgea1/OneDrive - Trinity College Dublin/Desktop/RNN1.csv',index=True)\n"
   ]
  },
  {
   "cell_type": "code",
   "execution_count": null,
   "id": "4b3af985",
   "metadata": {},
   "outputs": [],
   "source": []
  },
  {
   "cell_type": "code",
   "execution_count": 356,
   "id": "e7bd26e3",
   "metadata": {},
   "outputs": [
    {
     "data": {
      "text/html": [
       "<div>\n",
       "<style scoped>\n",
       "    .dataframe tbody tr th:only-of-type {\n",
       "        vertical-align: middle;\n",
       "    }\n",
       "\n",
       "    .dataframe tbody tr th {\n",
       "        vertical-align: top;\n",
       "    }\n",
       "\n",
       "    .dataframe thead th {\n",
       "        text-align: right;\n",
       "    }\n",
       "</style>\n",
       "<table border=\"1\" class=\"dataframe\">\n",
       "  <thead>\n",
       "    <tr style=\"text-align: right;\">\n",
       "      <th></th>\n",
       "      <th>RKD.ID</th>\n",
       "      <th>Repeat.Instrument_x</th>\n",
       "      <th>Date_Of_Visit</th>\n",
       "      <th>Interval.from.diagnosis..months._x</th>\n",
       "      <th>Immunosuppressive.status_x</th>\n",
       "      <th>Corticosteroids_x</th>\n",
       "      <th>Current.corticosteroid.dose_x</th>\n",
       "      <th>Corticosteroids.in.response.to.this.clinical.encounter.episode_x</th>\n",
       "      <th>Immunosuppressive.medication_x</th>\n",
       "      <th>Immunosuppressive.medication...other_x</th>\n",
       "      <th>...</th>\n",
       "      <th>duration.off.rx.months_liberal</th>\n",
       "      <th>LTROT</th>\n",
       "      <th>Encounter</th>\n",
       "      <th>Interval_Last_Encounter_Months</th>\n",
       "      <th>Date_Last_Follow_up.y</th>\n",
       "      <th>last_encounter.y</th>\n",
       "      <th>Status.y</th>\n",
       "      <th>Paradise.Encounters</th>\n",
       "      <th>anca_kinetics_longterm</th>\n",
       "      <th>CPD_treatment_MC</th>\n",
       "    </tr>\n",
       "  </thead>\n",
       "  <tbody>\n",
       "  </tbody>\n",
       "</table>\n",
       "<p>0 rows × 542 columns</p>\n",
       "</div>"
      ],
      "text/plain": [
       "Empty DataFrame\n",
       "Columns: [RKD.ID, Repeat.Instrument_x, Date_Of_Visit, Interval.from.diagnosis..months._x, Immunosuppressive.status_x, Corticosteroids_x, Current.corticosteroid.dose_x, Corticosteroids.in.response.to.this.clinical.encounter.episode_x, Immunosuppressive.medication_x, Immunosuppressive.medication...other_x, Immunosuppressive.medication...other..ATC_x, Immunosuppressive.medication.in.response.to.this.encounter_x, Response.to.increased.immunosuppression_x, Date of IV Cyc, Unit.of.dose...other, IV_Cyc, IV_Cyc_dose, Date of IV Rtx, IV_rtx, IV_rtx_dose, Date of IV mtp, IV_mtp, IV_mtp_dose, Date of IV aba, IV_aba, IV_aba_dose, Date of IV alemtuzumab, IV_ale, IV_ale_dose, IV.therapy...other..ATC_x, Date of IV obi, IV_obi, IV_obi_dose, IV Hydrocortisone, Dose Hydrocortisone, IS_med_other1, Corticosteroids_new, CPD ISMed1, Start Date_prd, Stop Date_prd, Drug_prd, Dose_prd, Start Date_aza, Stop Date_aza, Drug_aza, Dose_aza, Start Date_cyc, Stop Date_cyc, Drug_cyc, Dose_cyc, Start Date_met, Stop Date_met, Drug_met, Dose_met, Start Date_myc, Stop Date_myc, Drug_myc, Dose_myc, Start Date_oth, Stop Date_oth, other_cm, Dose_oth, Start Date_ava, Stop Date_ava, Drug_ava, Dose_ava, CPD CM, CPD_Corticosteroids, prd_new, CPD IV, CPD ISMed, Step1, Step2, Step3, Step4, Step5, Step6, CPD_on_off, Warnings, ANCA_Levels, ANCA_Status, ANCA_Switch, Repeat.Instrument_y, Repeat.Instance.x, Data.Access.Group.x, Patient.ID, COVID.19.related.entry., Interval.from.diagnosis..months._y, Hospital.Site, Other.Hospital, Type.of.Visit, Employment.status, Disease.activity.since.last.return, Urinalysis.Done, Urinalysis.Protein, Urinalysis.Blood, Dialysis.dependent, Date.of.dialysis.start, Date.of.dialysis.stop, Sofa.score, ...]\n",
       "Index: []\n",
       "\n",
       "[0 rows x 542 columns]"
      ]
     },
     "execution_count": 356,
     "metadata": {},
     "output_type": "execute_result"
    }
   ],
   "source": [
    "## Remove duplicates:\n",
    "duplicateRows = data[data.duplicated(['RKD.ID','Date_Of_Visit'])]\n",
    "duplicateRows"
   ]
  },
  {
   "cell_type": "code",
   "execution_count": null,
   "id": "6ac7ec7a",
   "metadata": {},
   "outputs": [],
   "source": []
  },
  {
   "cell_type": "code",
   "execution_count": null,
   "id": "e5cf6ed7",
   "metadata": {},
   "outputs": [],
   "source": []
  },
  {
   "cell_type": "markdown",
   "id": "82d54d68",
   "metadata": {},
   "source": [
    "## Drop completely blank columns"
   ]
  },
  {
   "cell_type": "code",
   "execution_count": 357,
   "id": "22921f41",
   "metadata": {},
   "outputs": [
    {
     "data": {
      "text/html": [
       "<div>\n",
       "<style scoped>\n",
       "    .dataframe tbody tr th:only-of-type {\n",
       "        vertical-align: middle;\n",
       "    }\n",
       "\n",
       "    .dataframe tbody tr th {\n",
       "        vertical-align: top;\n",
       "    }\n",
       "\n",
       "    .dataframe thead th {\n",
       "        text-align: right;\n",
       "    }\n",
       "</style>\n",
       "<table border=\"1\" class=\"dataframe\">\n",
       "  <thead>\n",
       "    <tr style=\"text-align: right;\">\n",
       "      <th></th>\n",
       "      <th>RKD.ID</th>\n",
       "      <th>Repeat.Instrument_x</th>\n",
       "      <th>Date_Of_Visit</th>\n",
       "      <th>Interval.from.diagnosis..months._x</th>\n",
       "      <th>Immunosuppressive.status_x</th>\n",
       "      <th>Corticosteroids_x</th>\n",
       "      <th>Current.corticosteroid.dose_x</th>\n",
       "      <th>Corticosteroids.in.response.to.this.clinical.encounter.episode_x</th>\n",
       "      <th>Immunosuppressive.medication_x</th>\n",
       "      <th>Immunosuppressive.medication...other_x</th>\n",
       "      <th>...</th>\n",
       "      <th>duration.off.rx.months_liberal</th>\n",
       "      <th>LTROT</th>\n",
       "      <th>Encounter</th>\n",
       "      <th>Interval_Last_Encounter_Months</th>\n",
       "      <th>Date_Last_Follow_up.y</th>\n",
       "      <th>last_encounter.y</th>\n",
       "      <th>Status.y</th>\n",
       "      <th>Paradise.Encounters</th>\n",
       "      <th>anca_kinetics_longterm</th>\n",
       "      <th>CPD_treatment_MC</th>\n",
       "    </tr>\n",
       "  </thead>\n",
       "  <tbody>\n",
       "    <tr>\n",
       "      <th>0</th>\n",
       "      <td>1</td>\n",
       "      <td>Encounters</td>\n",
       "      <td>2012-08-31</td>\n",
       "      <td>0.0</td>\n",
       "      <td>Treatment Naive</td>\n",
       "      <td>No</td>\n",
       "      <td>NaN</td>\n",
       "      <td>NaN</td>\n",
       "      <td>No</td>\n",
       "      <td>NaN</td>\n",
       "      <td>...</td>\n",
       "      <td>NaN</td>\n",
       "      <td>NaN</td>\n",
       "      <td>NaN</td>\n",
       "      <td>NaN</td>\n",
       "      <td>NaN</td>\n",
       "      <td>NaN</td>\n",
       "      <td>NaN</td>\n",
       "      <td>NaN</td>\n",
       "      <td>NaN</td>\n",
       "      <td>NaN</td>\n",
       "    </tr>\n",
       "    <tr>\n",
       "      <th>1</th>\n",
       "      <td>1</td>\n",
       "      <td>Encounters</td>\n",
       "      <td>2012-09-07</td>\n",
       "      <td>0.2</td>\n",
       "      <td>NaN</td>\n",
       "      <td>NaN</td>\n",
       "      <td>NaN</td>\n",
       "      <td>NaN</td>\n",
       "      <td>NaN</td>\n",
       "      <td>NaN</td>\n",
       "      <td>...</td>\n",
       "      <td>NaN</td>\n",
       "      <td>NaN</td>\n",
       "      <td>NaN</td>\n",
       "      <td>NaN</td>\n",
       "      <td>NaN</td>\n",
       "      <td>NaN</td>\n",
       "      <td>NaN</td>\n",
       "      <td>NaN</td>\n",
       "      <td>NaN</td>\n",
       "      <td>NaN</td>\n",
       "    </tr>\n",
       "    <tr>\n",
       "      <th>2</th>\n",
       "      <td>1</td>\n",
       "      <td>Encounters</td>\n",
       "      <td>2012-09-17</td>\n",
       "      <td>0.6</td>\n",
       "      <td>NaN</td>\n",
       "      <td>NaN</td>\n",
       "      <td>NaN</td>\n",
       "      <td>NaN</td>\n",
       "      <td>NaN</td>\n",
       "      <td>NaN</td>\n",
       "      <td>...</td>\n",
       "      <td>NaN</td>\n",
       "      <td>NaN</td>\n",
       "      <td>NaN</td>\n",
       "      <td>NaN</td>\n",
       "      <td>NaN</td>\n",
       "      <td>NaN</td>\n",
       "      <td>NaN</td>\n",
       "      <td>NaN</td>\n",
       "      <td>NaN</td>\n",
       "      <td>NaN</td>\n",
       "    </tr>\n",
       "    <tr>\n",
       "      <th>3</th>\n",
       "      <td>1</td>\n",
       "      <td>Encounters</td>\n",
       "      <td>2012-09-21</td>\n",
       "      <td>0.7</td>\n",
       "      <td>Currently on immunosuppression</td>\n",
       "      <td>Yes</td>\n",
       "      <td>&gt; 20 mg/day</td>\n",
       "      <td>No change</td>\n",
       "      <td>IV Cyclophosphamide</td>\n",
       "      <td>NaN</td>\n",
       "      <td>...</td>\n",
       "      <td>NaN</td>\n",
       "      <td>NaN</td>\n",
       "      <td>NaN</td>\n",
       "      <td>NaN</td>\n",
       "      <td>NaN</td>\n",
       "      <td>NaN</td>\n",
       "      <td>NaN</td>\n",
       "      <td>NaN</td>\n",
       "      <td>NaN</td>\n",
       "      <td>NaN</td>\n",
       "    </tr>\n",
       "    <tr>\n",
       "      <th>4</th>\n",
       "      <td>1</td>\n",
       "      <td>Encounters</td>\n",
       "      <td>2012-09-28</td>\n",
       "      <td>0.9</td>\n",
       "      <td>Currently on immunosuppression</td>\n",
       "      <td>NaN</td>\n",
       "      <td>NaN</td>\n",
       "      <td>NaN</td>\n",
       "      <td>IV Cyclophosphamide</td>\n",
       "      <td>NaN</td>\n",
       "      <td>...</td>\n",
       "      <td>NaN</td>\n",
       "      <td>NaN</td>\n",
       "      <td>NaN</td>\n",
       "      <td>NaN</td>\n",
       "      <td>NaN</td>\n",
       "      <td>NaN</td>\n",
       "      <td>NaN</td>\n",
       "      <td>NaN</td>\n",
       "      <td>NaN</td>\n",
       "      <td>NaN</td>\n",
       "    </tr>\n",
       "    <tr>\n",
       "      <th>...</th>\n",
       "      <td>...</td>\n",
       "      <td>...</td>\n",
       "      <td>...</td>\n",
       "      <td>...</td>\n",
       "      <td>...</td>\n",
       "      <td>...</td>\n",
       "      <td>...</td>\n",
       "      <td>...</td>\n",
       "      <td>...</td>\n",
       "      <td>...</td>\n",
       "      <td>...</td>\n",
       "      <td>...</td>\n",
       "      <td>...</td>\n",
       "      <td>...</td>\n",
       "      <td>...</td>\n",
       "      <td>...</td>\n",
       "      <td>...</td>\n",
       "      <td>...</td>\n",
       "      <td>...</td>\n",
       "      <td>...</td>\n",
       "      <td>...</td>\n",
       "    </tr>\n",
       "    <tr>\n",
       "      <th>10631</th>\n",
       "      <td>28615</td>\n",
       "      <td>Encounters</td>\n",
       "      <td>2015-05-19</td>\n",
       "      <td>49.8</td>\n",
       "      <td>Currently on immunosuppression</td>\n",
       "      <td>No</td>\n",
       "      <td>NaN</td>\n",
       "      <td>No change</td>\n",
       "      <td>Azathioprine</td>\n",
       "      <td>NaN</td>\n",
       "      <td>...</td>\n",
       "      <td>86.622951</td>\n",
       "      <td>no</td>\n",
       "      <td>2015-05-19</td>\n",
       "      <td>104.712329</td>\n",
       "      <td>06/02/2024</td>\n",
       "      <td>19/05/2015</td>\n",
       "      <td>Alive</td>\n",
       "      <td>1.0</td>\n",
       "      <td>Unknown ANCA level</td>\n",
       "      <td>On Treatment</td>\n",
       "    </tr>\n",
       "    <tr>\n",
       "      <th>10632</th>\n",
       "      <td>28615</td>\n",
       "      <td>Encounters</td>\n",
       "      <td>2017-02-24</td>\n",
       "      <td>71.1</td>\n",
       "      <td>Currently on immunosuppression</td>\n",
       "      <td>No</td>\n",
       "      <td>NaN</td>\n",
       "      <td>No change</td>\n",
       "      <td>Azathioprine</td>\n",
       "      <td>NaN</td>\n",
       "      <td>...</td>\n",
       "      <td>86.622951</td>\n",
       "      <td>no</td>\n",
       "      <td>2017-02-24</td>\n",
       "      <td>83.441096</td>\n",
       "      <td>06/02/2024</td>\n",
       "      <td>24/02/2017</td>\n",
       "      <td>Alive</td>\n",
       "      <td>1.0</td>\n",
       "      <td>Unknown ANCA level</td>\n",
       "      <td>On Treatment</td>\n",
       "    </tr>\n",
       "    <tr>\n",
       "      <th>10633</th>\n",
       "      <td>28615</td>\n",
       "      <td>Encounters</td>\n",
       "      <td>2023-02-14</td>\n",
       "      <td>142.7</td>\n",
       "      <td>Discontinuation of immunosuppression &gt; 6 month...</td>\n",
       "      <td>No</td>\n",
       "      <td>NaN</td>\n",
       "      <td>Increased</td>\n",
       "      <td>No</td>\n",
       "      <td>NaN</td>\n",
       "      <td>...</td>\n",
       "      <td>86.622951</td>\n",
       "      <td>no</td>\n",
       "      <td>2023-02-14</td>\n",
       "      <td>NaN</td>\n",
       "      <td>NaN</td>\n",
       "      <td>NaN</td>\n",
       "      <td>NaN</td>\n",
       "      <td>NaN</td>\n",
       "      <td>Unknown ANCA level</td>\n",
       "      <td>Off Treatment</td>\n",
       "    </tr>\n",
       "    <tr>\n",
       "      <th>10634</th>\n",
       "      <td>28615</td>\n",
       "      <td>Encounters</td>\n",
       "      <td>2024-02-06</td>\n",
       "      <td>154.5</td>\n",
       "      <td>Discontinuation of immunosuppression &gt; 6 month...</td>\n",
       "      <td>No</td>\n",
       "      <td>NaN</td>\n",
       "      <td>No change</td>\n",
       "      <td>No</td>\n",
       "      <td>NaN</td>\n",
       "      <td>...</td>\n",
       "      <td>86.622951</td>\n",
       "      <td>no</td>\n",
       "      <td>2024-02-06</td>\n",
       "      <td>0.000000</td>\n",
       "      <td>06/02/2024</td>\n",
       "      <td>06/02/2024</td>\n",
       "      <td>Alive</td>\n",
       "      <td>1.0</td>\n",
       "      <td>persistent positive</td>\n",
       "      <td>Off Treatment</td>\n",
       "    </tr>\n",
       "    <tr>\n",
       "      <th>10635</th>\n",
       "      <td>28615</td>\n",
       "      <td>Encounters</td>\n",
       "      <td>2024-05-20</td>\n",
       "      <td>157.9</td>\n",
       "      <td>Discontinuation of immunosuppression &gt; 6 month...</td>\n",
       "      <td>No</td>\n",
       "      <td>NaN</td>\n",
       "      <td>Increased</td>\n",
       "      <td>No</td>\n",
       "      <td>NaN</td>\n",
       "      <td>...</td>\n",
       "      <td>86.622951</td>\n",
       "      <td>no</td>\n",
       "      <td>2024-05-20</td>\n",
       "      <td>NaN</td>\n",
       "      <td>NaN</td>\n",
       "      <td>NaN</td>\n",
       "      <td>NaN</td>\n",
       "      <td>NaN</td>\n",
       "      <td>persistent positive</td>\n",
       "      <td>Off Treatment</td>\n",
       "    </tr>\n",
       "  </tbody>\n",
       "</table>\n",
       "<p>7020 rows × 519 columns</p>\n",
       "</div>"
      ],
      "text/plain": [
       "       RKD.ID Repeat.Instrument_x Date_Of_Visit  \\\n",
       "0           1          Encounters    2012-08-31   \n",
       "1           1          Encounters    2012-09-07   \n",
       "2           1          Encounters    2012-09-17   \n",
       "3           1          Encounters    2012-09-21   \n",
       "4           1          Encounters    2012-09-28   \n",
       "...       ...                 ...           ...   \n",
       "10631   28615          Encounters    2015-05-19   \n",
       "10632   28615          Encounters    2017-02-24   \n",
       "10633   28615          Encounters    2023-02-14   \n",
       "10634   28615          Encounters    2024-02-06   \n",
       "10635   28615          Encounters    2024-05-20   \n",
       "\n",
       "       Interval.from.diagnosis..months._x  \\\n",
       "0                                     0.0   \n",
       "1                                     0.2   \n",
       "2                                     0.6   \n",
       "3                                     0.7   \n",
       "4                                     0.9   \n",
       "...                                   ...   \n",
       "10631                                49.8   \n",
       "10632                                71.1   \n",
       "10633                               142.7   \n",
       "10634                               154.5   \n",
       "10635                               157.9   \n",
       "\n",
       "                              Immunosuppressive.status_x Corticosteroids_x  \\\n",
       "0                                        Treatment Naive                No   \n",
       "1                                                    NaN               NaN   \n",
       "2                                                    NaN               NaN   \n",
       "3                         Currently on immunosuppression               Yes   \n",
       "4                         Currently on immunosuppression               NaN   \n",
       "...                                                  ...               ...   \n",
       "10631                     Currently on immunosuppression                No   \n",
       "10632                     Currently on immunosuppression                No   \n",
       "10633  Discontinuation of immunosuppression > 6 month...                No   \n",
       "10634  Discontinuation of immunosuppression > 6 month...                No   \n",
       "10635  Discontinuation of immunosuppression > 6 month...                No   \n",
       "\n",
       "      Current.corticosteroid.dose_x  \\\n",
       "0                               NaN   \n",
       "1                               NaN   \n",
       "2                               NaN   \n",
       "3                       > 20 mg/day   \n",
       "4                               NaN   \n",
       "...                             ...   \n",
       "10631                           NaN   \n",
       "10632                           NaN   \n",
       "10633                           NaN   \n",
       "10634                           NaN   \n",
       "10635                           NaN   \n",
       "\n",
       "      Corticosteroids.in.response.to.this.clinical.encounter.episode_x  \\\n",
       "0                                                    NaN                 \n",
       "1                                                    NaN                 \n",
       "2                                                    NaN                 \n",
       "3                                              No change                 \n",
       "4                                                    NaN                 \n",
       "...                                                  ...                 \n",
       "10631                                          No change                 \n",
       "10632                                          No change                 \n",
       "10633                                          Increased                 \n",
       "10634                                          No change                 \n",
       "10635                                          Increased                 \n",
       "\n",
       "      Immunosuppressive.medication_x Immunosuppressive.medication...other_x  \\\n",
       "0                                 No                                    NaN   \n",
       "1                                NaN                                    NaN   \n",
       "2                                NaN                                    NaN   \n",
       "3                IV Cyclophosphamide                                    NaN   \n",
       "4                IV Cyclophosphamide                                    NaN   \n",
       "...                              ...                                    ...   \n",
       "10631                   Azathioprine                                    NaN   \n",
       "10632                   Azathioprine                                    NaN   \n",
       "10633                             No                                    NaN   \n",
       "10634                             No                                    NaN   \n",
       "10635                             No                                    NaN   \n",
       "\n",
       "       ... duration.off.rx.months_liberal LTROT    Encounter  \\\n",
       "0      ...                            NaN   NaN          NaN   \n",
       "1      ...                            NaN   NaN          NaN   \n",
       "2      ...                            NaN   NaN          NaN   \n",
       "3      ...                            NaN   NaN          NaN   \n",
       "4      ...                            NaN   NaN          NaN   \n",
       "...    ...                            ...   ...          ...   \n",
       "10631  ...                      86.622951    no   2015-05-19   \n",
       "10632  ...                      86.622951    no   2017-02-24   \n",
       "10633  ...                      86.622951    no   2023-02-14   \n",
       "10634  ...                      86.622951    no   2024-02-06   \n",
       "10635  ...                      86.622951    no   2024-05-20   \n",
       "\n",
       "      Interval_Last_Encounter_Months Date_Last_Follow_up.y  last_encounter.y  \\\n",
       "0                                NaN                   NaN               NaN   \n",
       "1                                NaN                   NaN               NaN   \n",
       "2                                NaN                   NaN               NaN   \n",
       "3                                NaN                   NaN               NaN   \n",
       "4                                NaN                   NaN               NaN   \n",
       "...                              ...                   ...               ...   \n",
       "10631                     104.712329            06/02/2024        19/05/2015   \n",
       "10632                      83.441096            06/02/2024        24/02/2017   \n",
       "10633                            NaN                   NaN               NaN   \n",
       "10634                       0.000000            06/02/2024        06/02/2024   \n",
       "10635                            NaN                   NaN               NaN   \n",
       "\n",
       "      Status.y Paradise.Encounters  anca_kinetics_longterm CPD_treatment_MC  \n",
       "0          NaN                 NaN                     NaN              NaN  \n",
       "1          NaN                 NaN                     NaN              NaN  \n",
       "2          NaN                 NaN                     NaN              NaN  \n",
       "3          NaN                 NaN                     NaN              NaN  \n",
       "4          NaN                 NaN                     NaN              NaN  \n",
       "...        ...                 ...                     ...              ...  \n",
       "10631    Alive                 1.0      Unknown ANCA level     On Treatment  \n",
       "10632    Alive                 1.0      Unknown ANCA level     On Treatment  \n",
       "10633      NaN                 NaN      Unknown ANCA level    Off Treatment  \n",
       "10634    Alive                 1.0     persistent positive    Off Treatment  \n",
       "10635      NaN                 NaN     persistent positive    Off Treatment  \n",
       "\n",
       "[7020 rows x 519 columns]"
      ]
     },
     "execution_count": 357,
     "metadata": {},
     "output_type": "execute_result"
    }
   ],
   "source": [
    "data = data.dropna(axis=1, how='all')\n",
    "data"
   ]
  },
  {
   "cell_type": "code",
   "execution_count": 358,
   "id": "df733418",
   "metadata": {},
   "outputs": [
    {
     "data": {
      "text/plain": [
       "595"
      ]
     },
     "execution_count": 358,
     "metadata": {},
     "output_type": "execute_result"
    }
   ],
   "source": [
    "data['RKD.ID'].nunique()"
   ]
  },
  {
   "cell_type": "markdown",
   "id": "687b8f68",
   "metadata": {},
   "source": [
    "## Previous encounter and post encounter"
   ]
  },
  {
   "cell_type": "code",
   "execution_count": 359,
   "id": "734cd336",
   "metadata": {},
   "outputs": [
    {
     "name": "stderr",
     "output_type": "stream",
     "text": [
      "C:\\Users\\georgea1\\AppData\\Local\\Temp\\ipykernel_23364\\733948350.py:1: SettingWithCopyWarning: \n",
      "A value is trying to be set on a copy of a slice from a DataFrame.\n",
      "Try using .loc[row_indexer,col_indexer] = value instead\n",
      "\n",
      "See the caveats in the documentation: https://pandas.pydata.org/pandas-docs/stable/user_guide/indexing.html#returning-a-view-versus-a-copy\n",
      "  data['Date_Of_Visit']=pd.to_datetime(data['Date_Of_Visit'], format='%Y-%m-%d')\n"
     ]
    }
   ],
   "source": [
    "data['Date_Of_Visit']=pd.to_datetime(data['Date_Of_Visit'], format='%Y-%m-%d')"
   ]
  },
  {
   "cell_type": "code",
   "execution_count": 360,
   "id": "bf23bf4f",
   "metadata": {},
   "outputs": [
    {
     "name": "stderr",
     "output_type": "stream",
     "text": [
      "C:\\Users\\georgea1\\AppData\\Local\\Temp\\ipykernel_23364\\3469418559.py:1: SettingWithCopyWarning: \n",
      "A value is trying to be set on a copy of a slice from a DataFrame.\n",
      "Try using .loc[row_indexer,col_indexer] = value instead\n",
      "\n",
      "See the caveats in the documentation: https://pandas.pydata.org/pandas-docs/stable/user_guide/indexing.html#returning-a-view-versus-a-copy\n",
      "  data['Previous_encounter'] = data.groupby(['RKD.ID'])['Date_Of_Visit'].shift(1)\n",
      "C:\\Users\\georgea1\\AppData\\Local\\Temp\\ipykernel_23364\\3469418559.py:2: SettingWithCopyWarning: \n",
      "A value is trying to be set on a copy of a slice from a DataFrame.\n",
      "Try using .loc[row_indexer,col_indexer] = value instead\n",
      "\n",
      "See the caveats in the documentation: https://pandas.pydata.org/pandas-docs/stable/user_guide/indexing.html#returning-a-view-versus-a-copy\n",
      "  data['Post_encounter'] = data.groupby(['RKD.ID'])['Date_Of_Visit'].shift(-1)\n"
     ]
    }
   ],
   "source": [
    "data['Previous_encounter'] = data.groupby(['RKD.ID'])['Date_Of_Visit'].shift(1)\n",
    "data['Post_encounter'] = data.groupby(['RKD.ID'])['Date_Of_Visit'].shift(-1)"
   ]
  },
  {
   "cell_type": "code",
   "execution_count": 361,
   "id": "9e5c06eb",
   "metadata": {},
   "outputs": [
    {
     "name": "stderr",
     "output_type": "stream",
     "text": [
      "C:\\Users\\georgea1\\AppData\\Local\\Temp\\ipykernel_23364\\3342797917.py:1: SettingWithCopyWarning: \n",
      "A value is trying to be set on a copy of a slice from a DataFrame.\n",
      "Try using .loc[row_indexer,col_indexer] = value instead\n",
      "\n",
      "See the caveats in the documentation: https://pandas.pydata.org/pandas-docs/stable/user_guide/indexing.html#returning-a-view-versus-a-copy\n",
      "  data['Previous_encounter']=pd.to_datetime(data['Previous_encounter'], format='%Y-%m-%d')\n",
      "C:\\Users\\georgea1\\AppData\\Local\\Temp\\ipykernel_23364\\3342797917.py:2: SettingWithCopyWarning: \n",
      "A value is trying to be set on a copy of a slice from a DataFrame.\n",
      "Try using .loc[row_indexer,col_indexer] = value instead\n",
      "\n",
      "See the caveats in the documentation: https://pandas.pydata.org/pandas-docs/stable/user_guide/indexing.html#returning-a-view-versus-a-copy\n",
      "  data['Post_encounter']=pd.to_datetime(data['Post_encounter'], format='%Y-%m-%d')\n",
      "C:\\Users\\georgea1\\AppData\\Local\\Temp\\ipykernel_23364\\3342797917.py:3: SettingWithCopyWarning: \n",
      "A value is trying to be set on a copy of a slice from a DataFrame.\n",
      "Try using .loc[row_indexer,col_indexer] = value instead\n",
      "\n",
      "See the caveats in the documentation: https://pandas.pydata.org/pandas-docs/stable/user_guide/indexing.html#returning-a-view-versus-a-copy\n",
      "  data['Date_Of_Visit']=pd.to_datetime(data['Date_Of_Visit'], format='%Y-%m-%d')\n"
     ]
    }
   ],
   "source": [
    "data['Previous_encounter']=pd.to_datetime(data['Previous_encounter'], format='%Y-%m-%d')\n",
    "data['Post_encounter']=pd.to_datetime(data['Post_encounter'], format='%Y-%m-%d')\n",
    "data['Date_Of_Visit']=pd.to_datetime(data['Date_Of_Visit'], format='%Y-%m-%d')"
   ]
  },
  {
   "cell_type": "code",
   "execution_count": null,
   "id": "c9c2d442",
   "metadata": {},
   "outputs": [],
   "source": []
  },
  {
   "cell_type": "markdown",
   "id": "887345f9",
   "metadata": {},
   "source": [
    "## Interval between previous encounter and current encounter"
   ]
  },
  {
   "cell_type": "code",
   "execution_count": 362,
   "id": "58bba621",
   "metadata": {},
   "outputs": [
    {
     "name": "stderr",
     "output_type": "stream",
     "text": [
      "C:\\Users\\georgea1\\AppData\\Local\\Temp\\ipykernel_23364\\2006037517.py:1: SettingWithCopyWarning: \n",
      "A value is trying to be set on a copy of a slice from a DataFrame.\n",
      "Try using .loc[row_indexer,col_indexer] = value instead\n",
      "\n",
      "See the caveats in the documentation: https://pandas.pydata.org/pandas-docs/stable/user_guide/indexing.html#returning-a-view-versus-a-copy\n",
      "  data['Delta_t_previous'] = ((data['Date_Of_Visit']-data['Previous_encounter'])/np.timedelta64(1,'D'))\n"
     ]
    },
    {
     "data": {
      "text/plain": [
       "595"
      ]
     },
     "execution_count": 362,
     "metadata": {},
     "output_type": "execute_result"
    }
   ],
   "source": [
    "data['Delta_t_previous'] = ((data['Date_Of_Visit']-data['Previous_encounter'])/np.timedelta64(1,'D'))\n",
    "data['Delta_t_previous'].isnull().sum()"
   ]
  },
  {
   "cell_type": "markdown",
   "id": "849a0e9a",
   "metadata": {},
   "source": [
    "## Interval between post encounter and current encounter"
   ]
  },
  {
   "cell_type": "code",
   "execution_count": 363,
   "id": "8649a244",
   "metadata": {},
   "outputs": [
    {
     "name": "stderr",
     "output_type": "stream",
     "text": [
      "C:\\Users\\georgea1\\AppData\\Local\\Temp\\ipykernel_23364\\1694521672.py:1: SettingWithCopyWarning: \n",
      "A value is trying to be set on a copy of a slice from a DataFrame.\n",
      "Try using .loc[row_indexer,col_indexer] = value instead\n",
      "\n",
      "See the caveats in the documentation: https://pandas.pydata.org/pandas-docs/stable/user_guide/indexing.html#returning-a-view-versus-a-copy\n",
      "  data['Delta_t_post'] = ((data['Post_encounter']-data['Date_Of_Visit'])/np.timedelta64(1,'D'))\n"
     ]
    },
    {
     "data": {
      "text/plain": [
       "595"
      ]
     },
     "execution_count": 363,
     "metadata": {},
     "output_type": "execute_result"
    }
   ],
   "source": [
    "data['Delta_t_post'] = ((data['Post_encounter']-data['Date_Of_Visit'])/np.timedelta64(1,'D'))\n",
    "data['Delta_t_post'].isnull().sum()"
   ]
  },
  {
   "cell_type": "code",
   "execution_count": 364,
   "id": "913afea3",
   "metadata": {},
   "outputs": [
    {
     "data": {
      "text/plain": [
       "Delta_t_previous\n",
       "7.0       417\n",
       "8.0       139\n",
       "14.0      138\n",
       "6.0       136\n",
       "28.0      119\n",
       "         ... \n",
       "2777.0      1\n",
       "948.0       1\n",
       "1204.0      1\n",
       "718.0       1\n",
       "2181.0      1\n",
       "Name: count, Length: 916, dtype: int64"
      ]
     },
     "execution_count": 364,
     "metadata": {},
     "output_type": "execute_result"
    }
   ],
   "source": [
    "delta_t_counts = data['Delta_t_previous'].value_counts()\n",
    "delta_t_counts"
   ]
  },
  {
   "cell_type": "code",
   "execution_count": 365,
   "id": "dbbf8493",
   "metadata": {},
   "outputs": [
    {
     "data": {
      "text/plain": [
       "(7020, 523)"
      ]
     },
     "execution_count": 365,
     "metadata": {},
     "output_type": "execute_result"
    }
   ],
   "source": [
    "data.shape"
   ]
  },
  {
   "cell_type": "markdown",
   "id": "e5a16f3a",
   "metadata": {},
   "source": [
    "## Feature Selection"
   ]
  },
  {
   "cell_type": "markdown",
   "id": "6c52e583",
   "metadata": {},
   "source": [
    "## 1. ANCA Specificity"
   ]
  },
  {
   "cell_type": "markdown",
   "id": "063a12d9",
   "metadata": {},
   "source": [
    " ## 2. Intensity of induction therapy\n",
    "##   In approximate decreasing order of relapse risk: \n",
    "### i.\tsingle dose rituximab\n",
    "### ii.\tcyclops pulsed IV cyclo\n",
    "### iii.\tmulti-dose rituximab\n",
    "### iv.\tdaily oral cyclo\n"
   ]
  },
  {
   "cell_type": "markdown",
   "id": "c9864eb6",
   "metadata": {},
   "source": [
    "### 1. Rituximab Status Induction: "
   ]
  },
  {
   "cell_type": "code",
   "execution_count": null,
   "id": "c8db23ae",
   "metadata": {},
   "outputs": [],
   "source": []
  },
  {
   "cell_type": "code",
   "execution_count": 366,
   "id": "b1cdfb09",
   "metadata": {},
   "outputs": [],
   "source": [
    "def RTX_Status_induction(data):\n",
    "    if (data['Interval.from.diagnosis..months._x'] <6 and data['Induction.treatment.received..choice.Rituximab.'] == 'Checked'):\n",
    "        return '1'\n",
    "    elif (data['Interval.from.diagnosis..months._x'] < 6 and isinstance(data['CPD ISMed'], str) and 'Rituximab' in [med.strip() for med in data['CPD ISMed'].split(',')]):\n",
    "        return '1'\n",
    "\n"
   ]
  },
  {
   "cell_type": "code",
   "execution_count": 367,
   "id": "e9c1d0ea",
   "metadata": {},
   "outputs": [
    {
     "name": "stderr",
     "output_type": "stream",
     "text": [
      "C:\\Users\\georgea1\\AppData\\Local\\Temp\\ipykernel_23364\\3343582947.py:1: SettingWithCopyWarning: \n",
      "A value is trying to be set on a copy of a slice from a DataFrame.\n",
      "Try using .loc[row_indexer,col_indexer] = value instead\n",
      "\n",
      "See the caveats in the documentation: https://pandas.pydata.org/pandas-docs/stable/user_guide/indexing.html#returning-a-view-versus-a-copy\n",
      "  data['RTX_Status_induction'] = data.apply(RTX_Status_induction, axis = 1)\n"
     ]
    },
    {
     "data": {
      "text/plain": [
       "6361"
      ]
     },
     "execution_count": 367,
     "metadata": {},
     "output_type": "execute_result"
    }
   ],
   "source": [
    "data['RTX_Status_induction'] = data.apply(RTX_Status_induction, axis = 1)\n",
    "data['RTX_Status_induction'].isnull().sum()\n"
   ]
  },
  {
   "cell_type": "code",
   "execution_count": 368,
   "id": "a8df4989",
   "metadata": {},
   "outputs": [
    {
     "data": {
      "text/plain": [
       "RTX_Status_induction\n",
       "None    6361\n",
       "1        659\n",
       "Name: count, dtype: int64"
      ]
     },
     "execution_count": 368,
     "metadata": {},
     "output_type": "execute_result"
    }
   ],
   "source": [
    "data['RTX_Status_induction'].value_counts(dropna=False)"
   ]
  },
  {
   "cell_type": "code",
   "execution_count": 369,
   "id": "2984a05d",
   "metadata": {},
   "outputs": [
    {
     "name": "stderr",
     "output_type": "stream",
     "text": [
      "C:\\Users\\georgea1\\AppData\\Local\\Temp\\ipykernel_23364\\3233769092.py:1: SettingWithCopyWarning: \n",
      "A value is trying to be set on a copy of a slice from a DataFrame.\n",
      "Try using .loc[row_indexer,col_indexer] = value instead\n",
      "\n",
      "See the caveats in the documentation: https://pandas.pydata.org/pandas-docs/stable/user_guide/indexing.html#returning-a-view-versus-a-copy\n",
      "  data['RTX_Status_induction']=data.groupby('RKD.ID').ffill()['RTX_Status_induction']\n"
     ]
    }
   ],
   "source": [
    "data['RTX_Status_induction']=data.groupby('RKD.ID').ffill()['RTX_Status_induction']"
   ]
  },
  {
   "cell_type": "code",
   "execution_count": 370,
   "id": "4e0f34f6",
   "metadata": {},
   "outputs": [
    {
     "name": "stderr",
     "output_type": "stream",
     "text": [
      "C:\\Users\\georgea1\\AppData\\Local\\Temp\\ipykernel_23364\\1596499771.py:1: FutureWarning: A value is trying to be set on a copy of a DataFrame or Series through chained assignment using an inplace method.\n",
      "The behavior will change in pandas 3.0. This inplace method will never work because the intermediate object on which we are setting values always behaves as a copy.\n",
      "\n",
      "For example, when doing 'df[col].method(value, inplace=True)', try using 'df.method({col: value}, inplace=True)' or df[col] = df[col].method(value) instead, to perform the operation inplace on the original object.\n",
      "\n",
      "\n",
      "  data['RTX_Status_induction'].fillna(0,inplace=True)\n",
      "C:\\Users\\georgea1\\AppData\\Local\\Temp\\ipykernel_23364\\1596499771.py:1: SettingWithCopyWarning: \n",
      "A value is trying to be set on a copy of a slice from a DataFrame\n",
      "\n",
      "See the caveats in the documentation: https://pandas.pydata.org/pandas-docs/stable/user_guide/indexing.html#returning-a-view-versus-a-copy\n",
      "  data['RTX_Status_induction'].fillna(0,inplace=True)\n"
     ]
    }
   ],
   "source": [
    "data['RTX_Status_induction'].fillna(0,inplace=True)"
   ]
  },
  {
   "cell_type": "code",
   "execution_count": 371,
   "id": "1bd99d8c",
   "metadata": {},
   "outputs": [
    {
     "data": {
      "text/plain": [
       "RTX_Status_induction\n",
       "0    5428\n",
       "1    1592\n",
       "Name: count, dtype: int64"
      ]
     },
     "execution_count": 371,
     "metadata": {},
     "output_type": "execute_result"
    }
   ],
   "source": [
    "data['RTX_Status_induction'].value_counts(dropna=False)"
   ]
  },
  {
   "cell_type": "code",
   "execution_count": null,
   "id": "7e39ef13",
   "metadata": {},
   "outputs": [],
   "source": []
  },
  {
   "cell_type": "code",
   "execution_count": 372,
   "id": "f3f1a2f8",
   "metadata": {},
   "outputs": [],
   "source": [
    "#data.to_csv('C:/Users/georgea1/OneDrive - Trinity College Dublin/Desktop/rtx.csv',index=True)\n"
   ]
  },
  {
   "cell_type": "markdown",
   "id": "b65958e6",
   "metadata": {},
   "source": [
    "### 2. Rituximab dose category: RTX high or RTX low"
   ]
  },
  {
   "cell_type": "markdown",
   "id": "45f2236c",
   "metadata": {},
   "source": [
    "## Convert gram to mg for all the encounters"
   ]
  },
  {
   "cell_type": "code",
   "execution_count": 373,
   "id": "851aa7fc",
   "metadata": {},
   "outputs": [
    {
     "data": {
      "text/plain": [
       "1.0"
      ]
     },
     "execution_count": 373,
     "metadata": {},
     "output_type": "execute_result"
    }
   ],
   "source": [
    "data['IV_rtx_dose'].min()"
   ]
  },
  {
   "cell_type": "code",
   "execution_count": 374,
   "id": "52015d10",
   "metadata": {},
   "outputs": [
    {
     "data": {
      "text/plain": [
       "1500.0"
      ]
     },
     "execution_count": 374,
     "metadata": {},
     "output_type": "execute_result"
    }
   ],
   "source": [
    "data['IV_rtx_dose'].max()"
   ]
  },
  {
   "cell_type": "code",
   "execution_count": 375,
   "id": "48fb4eef",
   "metadata": {},
   "outputs": [],
   "source": [
    "# Convert 'IV_rtx_dose' to mg if the value is 1 gram\n",
    "data.loc[data['IV_rtx_dose'] == 1, 'IV_rtx_dose'] *= 1000"
   ]
  },
  {
   "cell_type": "code",
   "execution_count": 376,
   "id": "0ac09b90",
   "metadata": {},
   "outputs": [
    {
     "data": {
      "text/plain": [
       "200.0"
      ]
     },
     "execution_count": 376,
     "metadata": {},
     "output_type": "execute_result"
    }
   ],
   "source": [
    "data['IV_rtx_dose'].min()"
   ]
  },
  {
   "cell_type": "code",
   "execution_count": 377,
   "id": "f2cc2214",
   "metadata": {},
   "outputs": [],
   "source": [
    "def RTX_induction_dose(data):\n",
    "    if (data['Interval.from.diagnosis..months._x'] < 6):\n",
    "        return data['IV_rtx_dose']\n",
    "        "
   ]
  },
  {
   "cell_type": "code",
   "execution_count": 378,
   "id": "aabe6b22",
   "metadata": {},
   "outputs": [
    {
     "name": "stderr",
     "output_type": "stream",
     "text": [
      "C:\\Users\\georgea1\\AppData\\Local\\Temp\\ipykernel_23364\\2999406417.py:1: SettingWithCopyWarning: \n",
      "A value is trying to be set on a copy of a slice from a DataFrame.\n",
      "Try using .loc[row_indexer,col_indexer] = value instead\n",
      "\n",
      "See the caveats in the documentation: https://pandas.pydata.org/pandas-docs/stable/user_guide/indexing.html#returning-a-view-versus-a-copy\n",
      "  data['RTX_induction_dose'] = data.apply(RTX_induction_dose, axis = 1)\n"
     ]
    },
    {
     "data": {
      "text/plain": [
       "6642"
      ]
     },
     "execution_count": 378,
     "metadata": {},
     "output_type": "execute_result"
    }
   ],
   "source": [
    "data['RTX_induction_dose'] = data.apply(RTX_induction_dose, axis = 1)\n",
    "data['RTX_induction_dose'].isnull().sum()"
   ]
  },
  {
   "cell_type": "code",
   "execution_count": 379,
   "id": "90b16b42",
   "metadata": {},
   "outputs": [
    {
     "name": "stderr",
     "output_type": "stream",
     "text": [
      "C:\\Users\\georgea1\\AppData\\Local\\Temp\\ipykernel_23364\\2770440724.py:2: SettingWithCopyWarning: \n",
      "A value is trying to be set on a copy of a slice from a DataFrame.\n",
      "Try using .loc[row_indexer,col_indexer] = value instead\n",
      "\n",
      "See the caveats in the documentation: https://pandas.pydata.org/pandas-docs/stable/user_guide/indexing.html#returning-a-view-versus-a-copy\n",
      "  data['Cumulative_Dose'] = data.groupby('RKD.ID')['RTX_induction_dose'].cumsum()\n"
     ]
    }
   ],
   "source": [
    "# Calculate the cumulative dose per ID\n",
    "data['Cumulative_Dose'] = data.groupby('RKD.ID')['RTX_induction_dose'].cumsum()"
   ]
  },
  {
   "cell_type": "code",
   "execution_count": 380,
   "id": "d2cffb5b",
   "metadata": {},
   "outputs": [
    {
     "data": {
      "text/plain": [
       "16000.0"
      ]
     },
     "execution_count": 380,
     "metadata": {},
     "output_type": "execute_result"
    }
   ],
   "source": [
    "data['Cumulative_Dose'].max()"
   ]
  },
  {
   "cell_type": "code",
   "execution_count": 381,
   "id": "67135c58",
   "metadata": {},
   "outputs": [
    {
     "name": "stderr",
     "output_type": "stream",
     "text": [
      "C:\\Users\\georgea1\\AppData\\Local\\Temp\\ipykernel_23364\\1786327361.py:1: SettingWithCopyWarning: \n",
      "A value is trying to be set on a copy of a slice from a DataFrame.\n",
      "Try using .loc[row_indexer,col_indexer] = value instead\n",
      "\n",
      "See the caveats in the documentation: https://pandas.pydata.org/pandas-docs/stable/user_guide/indexing.html#returning-a-view-versus-a-copy\n",
      "  data['Cumulative_Dose']=data.groupby('RKD.ID').ffill()['Cumulative_Dose']\n"
     ]
    }
   ],
   "source": [
    "data['Cumulative_Dose']=data.groupby('RKD.ID').ffill()['Cumulative_Dose']"
   ]
  },
  {
   "cell_type": "code",
   "execution_count": 382,
   "id": "737f01b4",
   "metadata": {},
   "outputs": [
    {
     "name": "stderr",
     "output_type": "stream",
     "text": [
      "C:\\Users\\georgea1\\AppData\\Local\\Temp\\ipykernel_23364\\334078903.py:1: SettingWithCopyWarning: \n",
      "A value is trying to be set on a copy of a slice from a DataFrame.\n",
      "Try using .loc[row_indexer,col_indexer] = value instead\n",
      "\n",
      "See the caveats in the documentation: https://pandas.pydata.org/pandas-docs/stable/user_guide/indexing.html#returning-a-view-versus-a-copy\n",
      "  data['Cumulative_Dose_tail']=data.groupby(['RKD.ID'])['Cumulative_Dose'].tail(1)\n"
     ]
    }
   ],
   "source": [
    "data['Cumulative_Dose_tail']=data.groupby(['RKD.ID'])['Cumulative_Dose'].tail(1)"
   ]
  },
  {
   "cell_type": "code",
   "execution_count": 383,
   "id": "7ab38cf5",
   "metadata": {},
   "outputs": [
    {
     "name": "stderr",
     "output_type": "stream",
     "text": [
      "C:\\Users\\georgea1\\AppData\\Local\\Temp\\ipykernel_23364\\3336725000.py:1: SettingWithCopyWarning: \n",
      "A value is trying to be set on a copy of a slice from a DataFrame.\n",
      "Try using .loc[row_indexer,col_indexer] = value instead\n",
      "\n",
      "See the caveats in the documentation: https://pandas.pydata.org/pandas-docs/stable/user_guide/indexing.html#returning-a-view-versus-a-copy\n",
      "  data['Cumulative_Dose_tail']=data.groupby('RKD.ID').ffill()['Cumulative_Dose_tail']\n"
     ]
    }
   ],
   "source": [
    "data['Cumulative_Dose_tail']=data.groupby('RKD.ID').ffill()['Cumulative_Dose_tail']"
   ]
  },
  {
   "cell_type": "code",
   "execution_count": 384,
   "id": "b969ebd4",
   "metadata": {},
   "outputs": [
    {
     "name": "stderr",
     "output_type": "stream",
     "text": [
      "C:\\Users\\georgea1\\AppData\\Local\\Temp\\ipykernel_23364\\3558150676.py:1: SettingWithCopyWarning: \n",
      "A value is trying to be set on a copy of a slice from a DataFrame.\n",
      "Try using .loc[row_indexer,col_indexer] = value instead\n",
      "\n",
      "See the caveats in the documentation: https://pandas.pydata.org/pandas-docs/stable/user_guide/indexing.html#returning-a-view-versus-a-copy\n",
      "  data['Cumulative_Dose_tail']=data.groupby('RKD.ID').bfill()['Cumulative_Dose_tail']\n"
     ]
    }
   ],
   "source": [
    "data['Cumulative_Dose_tail']=data.groupby('RKD.ID').bfill()['Cumulative_Dose_tail']"
   ]
  },
  {
   "cell_type": "code",
   "execution_count": 385,
   "id": "633e00e1",
   "metadata": {},
   "outputs": [
    {
     "data": {
      "text/plain": [
       "5852"
      ]
     },
     "execution_count": 385,
     "metadata": {},
     "output_type": "execute_result"
    }
   ],
   "source": [
    "data['Cumulative_Dose_tail'].isnull().sum()"
   ]
  },
  {
   "cell_type": "code",
   "execution_count": 386,
   "id": "1ba00e9e",
   "metadata": {},
   "outputs": [
    {
     "name": "stderr",
     "output_type": "stream",
     "text": [
      "C:\\Users\\georgea1\\AppData\\Local\\Temp\\ipykernel_23364\\4187335869.py:1: FutureWarning: A value is trying to be set on a copy of a DataFrame or Series through chained assignment using an inplace method.\n",
      "The behavior will change in pandas 3.0. This inplace method will never work because the intermediate object on which we are setting values always behaves as a copy.\n",
      "\n",
      "For example, when doing 'df[col].method(value, inplace=True)', try using 'df.method({col: value}, inplace=True)' or df[col] = df[col].method(value) instead, to perform the operation inplace on the original object.\n",
      "\n",
      "\n",
      "  data['Cumulative_Dose_tail'].fillna(0,inplace=True)\n",
      "C:\\Users\\georgea1\\AppData\\Local\\Temp\\ipykernel_23364\\4187335869.py:1: SettingWithCopyWarning: \n",
      "A value is trying to be set on a copy of a slice from a DataFrame\n",
      "\n",
      "See the caveats in the documentation: https://pandas.pydata.org/pandas-docs/stable/user_guide/indexing.html#returning-a-view-versus-a-copy\n",
      "  data['Cumulative_Dose_tail'].fillna(0,inplace=True)\n"
     ]
    }
   ],
   "source": [
    "data['Cumulative_Dose_tail'].fillna(0,inplace=True)"
   ]
  },
  {
   "cell_type": "code",
   "execution_count": 387,
   "id": "d75f7d0d",
   "metadata": {},
   "outputs": [
    {
     "data": {
      "text/plain": [
       "RTX_Status_induction\n",
       "0    5428\n",
       "1    1592\n",
       "Name: count, dtype: int64"
      ]
     },
     "execution_count": 387,
     "metadata": {},
     "output_type": "execute_result"
    }
   ],
   "source": [
    "data['RTX_Status_induction'].value_counts(dropna=False)"
   ]
  },
  {
   "cell_type": "code",
   "execution_count": 388,
   "id": "6b0efbf4",
   "metadata": {},
   "outputs": [],
   "source": [
    "def RTX_dose_category(data):\n",
    "    if (data['RTX_Status_induction']!=0)&(data['Cumulative_Dose_tail']>=1500):\n",
    "        return 'Rituximab high'\n",
    "    elif (data['RTX_Status_induction']!=0)&(data['Cumulative_Dose_tail']==0):\n",
    "        return 'Dose Unknown'\n",
    "    elif (data['RTX_Status_induction']!=0)&(data['Cumulative_Dose_tail']<1500):\n",
    "        return 'Rituximab low' \n",
    "    elif (data['RTX_Status_induction']!=1)&(data['Cumulative_Dose_tail']!=1):\n",
    "        return 'Not received'\n",
    "    \n",
    "    \n",
    "    \n",
    "    "
   ]
  },
  {
   "cell_type": "code",
   "execution_count": 389,
   "id": "70fb8f20",
   "metadata": {},
   "outputs": [
    {
     "name": "stderr",
     "output_type": "stream",
     "text": [
      "C:\\Users\\georgea1\\AppData\\Local\\Temp\\ipykernel_23364\\1556349999.py:1: SettingWithCopyWarning: \n",
      "A value is trying to be set on a copy of a slice from a DataFrame.\n",
      "Try using .loc[row_indexer,col_indexer] = value instead\n",
      "\n",
      "See the caveats in the documentation: https://pandas.pydata.org/pandas-docs/stable/user_guide/indexing.html#returning-a-view-versus-a-copy\n",
      "  data['RTX_dose_category'] = data.apply(RTX_dose_category, axis = 1)\n"
     ]
    },
    {
     "data": {
      "text/plain": [
       "0"
      ]
     },
     "execution_count": 389,
     "metadata": {},
     "output_type": "execute_result"
    }
   ],
   "source": [
    "data['RTX_dose_category'] = data.apply(RTX_dose_category, axis = 1)\n",
    "data['RTX_dose_category'].isnull().sum()"
   ]
  },
  {
   "cell_type": "code",
   "execution_count": 390,
   "id": "8ee94cb3",
   "metadata": {},
   "outputs": [
    {
     "data": {
      "text/plain": [
       "RTX_dose_category\n",
       "Not received      5428\n",
       "Rituximab high     855\n",
       "Dose Unknown       454\n",
       "Rituximab low      283\n",
       "Name: count, dtype: int64"
      ]
     },
     "execution_count": 390,
     "metadata": {},
     "output_type": "execute_result"
    }
   ],
   "source": [
    "data['RTX_dose_category'].value_counts(dropna=False)"
   ]
  },
  {
   "cell_type": "code",
   "execution_count": 391,
   "id": "4e95d0d4-542e-483c-b6b3-6d57e326062d",
   "metadata": {},
   "outputs": [
    {
     "data": {
      "text/plain": [
       "RTX_dose_category\n",
       "Not received      5428\n",
       "Rituximab high     855\n",
       "Dose Unknown       454\n",
       "Rituximab low      283\n",
       "Name: count, dtype: int64"
      ]
     },
     "execution_count": 391,
     "metadata": {},
     "output_type": "execute_result"
    }
   ],
   "source": [
    "data['RTX_dose_category'].value_counts(dropna=False)"
   ]
  },
  {
   "cell_type": "code",
   "execution_count": 392,
   "id": "bc2f69c5",
   "metadata": {},
   "outputs": [
    {
     "name": "stderr",
     "output_type": "stream",
     "text": [
      "C:\\Users\\georgea1\\AppData\\Local\\Temp\\ipykernel_23364\\4093395791.py:1: SettingWithCopyWarning: \n",
      "A value is trying to be set on a copy of a slice from a DataFrame.\n",
      "Try using .loc[row_indexer,col_indexer] = value instead\n",
      "\n",
      "See the caveats in the documentation: https://pandas.pydata.org/pandas-docs/stable/user_guide/indexing.html#returning-a-view-versus-a-copy\n",
      "  data['RTX_Status_induction']=data.groupby('RKD.ID').bfill()['RTX_Status_induction']\n"
     ]
    }
   ],
   "source": [
    "data['RTX_Status_induction']=data.groupby('RKD.ID').bfill()['RTX_Status_induction']"
   ]
  },
  {
   "cell_type": "code",
   "execution_count": 393,
   "id": "aa30e671",
   "metadata": {},
   "outputs": [
    {
     "data": {
      "text/plain": [
       "RTX_Status_induction\n",
       "0    5428\n",
       "1    1592\n",
       "Name: count, dtype: int64"
      ]
     },
     "execution_count": 393,
     "metadata": {},
     "output_type": "execute_result"
    }
   ],
   "source": [
    "data['RTX_Status_induction'].value_counts(dropna=False)"
   ]
  },
  {
   "cell_type": "code",
   "execution_count": 394,
   "id": "bc10baf8",
   "metadata": {},
   "outputs": [
    {
     "name": "stderr",
     "output_type": "stream",
     "text": [
      "C:\\Users\\georgea1\\AppData\\Local\\Temp\\ipykernel_23364\\1596499771.py:1: FutureWarning: A value is trying to be set on a copy of a DataFrame or Series through chained assignment using an inplace method.\n",
      "The behavior will change in pandas 3.0. This inplace method will never work because the intermediate object on which we are setting values always behaves as a copy.\n",
      "\n",
      "For example, when doing 'df[col].method(value, inplace=True)', try using 'df.method({col: value}, inplace=True)' or df[col] = df[col].method(value) instead, to perform the operation inplace on the original object.\n",
      "\n",
      "\n",
      "  data['RTX_Status_induction'].fillna(0,inplace=True)\n",
      "C:\\Users\\georgea1\\AppData\\Local\\Temp\\ipykernel_23364\\1596499771.py:1: SettingWithCopyWarning: \n",
      "A value is trying to be set on a copy of a slice from a DataFrame\n",
      "\n",
      "See the caveats in the documentation: https://pandas.pydata.org/pandas-docs/stable/user_guide/indexing.html#returning-a-view-versus-a-copy\n",
      "  data['RTX_Status_induction'].fillna(0,inplace=True)\n"
     ]
    }
   ],
   "source": [
    "data['RTX_Status_induction'].fillna(0,inplace=True)"
   ]
  },
  {
   "cell_type": "code",
   "execution_count": 176,
   "id": "da4e8b2c",
   "metadata": {},
   "outputs": [],
   "source": [
    "#data.to_csv('C:/Users/georgea1/OneDrive - Trinity College Dublin/Desktop/rtx.csv',index=True)\n"
   ]
  },
  {
   "cell_type": "markdown",
   "id": "a381ec22",
   "metadata": {},
   "source": [
    "### 3. IV Cyclophosphamide Status Induction: "
   ]
  },
  {
   "cell_type": "code",
   "execution_count": 395,
   "id": "e6a50907",
   "metadata": {},
   "outputs": [],
   "source": [
    "    \n",
    "def Cyc_Status_induction(data):\n",
    "    if (data['Interval.from.diagnosis..months._x'] <6 and data['Induction.treatment.received..choice.Pulsed.IV.Cyclophosphamide.'] == 'Checked'):\n",
    "        return '1'\n",
    "    elif (data['Interval.from.diagnosis..months._x'] <6 and isinstance(data['CPD IV'], str) and 'Cyclophosphamide' in [med.strip() for med in data['CPD IV'].split(',')]):\n",
    "        return '1'\n",
    "    elif (data['Interval.from.diagnosis..months._x'] < 6 and data['Immunosuppressive.medication_x'] == 'IV Cyclophosphamide'):\n",
    "        return '1'\n",
    "\n",
    "\n",
    "    \n",
    "\n"
   ]
  },
  {
   "cell_type": "code",
   "execution_count": 396,
   "id": "08128a99",
   "metadata": {},
   "outputs": [
    {
     "name": "stderr",
     "output_type": "stream",
     "text": [
      "C:\\Users\\georgea1\\AppData\\Local\\Temp\\ipykernel_23364\\4193405964.py:1: SettingWithCopyWarning: \n",
      "A value is trying to be set on a copy of a slice from a DataFrame.\n",
      "Try using .loc[row_indexer,col_indexer] = value instead\n",
      "\n",
      "See the caveats in the documentation: https://pandas.pydata.org/pandas-docs/stable/user_guide/indexing.html#returning-a-view-versus-a-copy\n",
      "  data['Cyc_Status_induction'] = data.apply(Cyc_Status_induction, axis = 1)\n"
     ]
    },
    {
     "data": {
      "text/plain": [
       "6107"
      ]
     },
     "execution_count": 396,
     "metadata": {},
     "output_type": "execute_result"
    }
   ],
   "source": [
    "data['Cyc_Status_induction'] = data.apply(Cyc_Status_induction, axis = 1)\n",
    "data['Cyc_Status_induction'].isnull().sum()"
   ]
  },
  {
   "cell_type": "code",
   "execution_count": 397,
   "id": "d4a71d2f",
   "metadata": {},
   "outputs": [
    {
     "data": {
      "text/plain": [
       "Cyc_Status_induction\n",
       "None    6107\n",
       "1        913\n",
       "Name: count, dtype: int64"
      ]
     },
     "execution_count": 397,
     "metadata": {},
     "output_type": "execute_result"
    }
   ],
   "source": [
    "data['Cyc_Status_induction'].value_counts(dropna=False)"
   ]
  },
  {
   "cell_type": "code",
   "execution_count": 398,
   "id": "42d1aba0",
   "metadata": {},
   "outputs": [
    {
     "data": {
      "text/plain": [
       "Cyc_Status_induction\n",
       "None    6107\n",
       "1        913\n",
       "Name: count, dtype: int64"
      ]
     },
     "execution_count": 398,
     "metadata": {},
     "output_type": "execute_result"
    }
   ],
   "source": [
    "data['Cyc_Status_induction'].value_counts(dropna=False)"
   ]
  },
  {
   "cell_type": "code",
   "execution_count": 399,
   "id": "66521f61",
   "metadata": {},
   "outputs": [
    {
     "name": "stderr",
     "output_type": "stream",
     "text": [
      "C:\\Users\\georgea1\\AppData\\Local\\Temp\\ipykernel_23364\\878076808.py:1: SettingWithCopyWarning: \n",
      "A value is trying to be set on a copy of a slice from a DataFrame.\n",
      "Try using .loc[row_indexer,col_indexer] = value instead\n",
      "\n",
      "See the caveats in the documentation: https://pandas.pydata.org/pandas-docs/stable/user_guide/indexing.html#returning-a-view-versus-a-copy\n",
      "  data['Cyc_Status_induction']=data.groupby('RKD.ID').bfill()['Cyc_Status_induction']\n"
     ]
    }
   ],
   "source": [
    "data['Cyc_Status_induction']=data.groupby('RKD.ID').bfill()['Cyc_Status_induction']"
   ]
  },
  {
   "cell_type": "code",
   "execution_count": 400,
   "id": "69243bfa",
   "metadata": {},
   "outputs": [
    {
     "name": "stderr",
     "output_type": "stream",
     "text": [
      "C:\\Users\\georgea1\\AppData\\Local\\Temp\\ipykernel_23364\\4211927139.py:1: SettingWithCopyWarning: \n",
      "A value is trying to be set on a copy of a slice from a DataFrame.\n",
      "Try using .loc[row_indexer,col_indexer] = value instead\n",
      "\n",
      "See the caveats in the documentation: https://pandas.pydata.org/pandas-docs/stable/user_guide/indexing.html#returning-a-view-versus-a-copy\n",
      "  data['Cyc_Status_induction']=data.groupby('RKD.ID').ffill()['Cyc_Status_induction']\n"
     ]
    }
   ],
   "source": [
    "data['Cyc_Status_induction']=data.groupby('RKD.ID').ffill()['Cyc_Status_induction']"
   ]
  },
  {
   "cell_type": "code",
   "execution_count": 401,
   "id": "5cac3c4a",
   "metadata": {},
   "outputs": [
    {
     "name": "stderr",
     "output_type": "stream",
     "text": [
      "C:\\Users\\georgea1\\AppData\\Local\\Temp\\ipykernel_23364\\3830922221.py:1: FutureWarning: A value is trying to be set on a copy of a DataFrame or Series through chained assignment using an inplace method.\n",
      "The behavior will change in pandas 3.0. This inplace method will never work because the intermediate object on which we are setting values always behaves as a copy.\n",
      "\n",
      "For example, when doing 'df[col].method(value, inplace=True)', try using 'df.method({col: value}, inplace=True)' or df[col] = df[col].method(value) instead, to perform the operation inplace on the original object.\n",
      "\n",
      "\n",
      "  data['Cyc_Status_induction'].fillna(0,inplace=True)\n",
      "C:\\Users\\georgea1\\AppData\\Local\\Temp\\ipykernel_23364\\3830922221.py:1: SettingWithCopyWarning: \n",
      "A value is trying to be set on a copy of a slice from a DataFrame\n",
      "\n",
      "See the caveats in the documentation: https://pandas.pydata.org/pandas-docs/stable/user_guide/indexing.html#returning-a-view-versus-a-copy\n",
      "  data['Cyc_Status_induction'].fillna(0,inplace=True)\n"
     ]
    }
   ],
   "source": [
    "data['Cyc_Status_induction'].fillna(0,inplace=True)"
   ]
  },
  {
   "cell_type": "code",
   "execution_count": 402,
   "id": "76974214",
   "metadata": {},
   "outputs": [
    {
     "data": {
      "text/plain": [
       "Cyc_Status_induction\n",
       "0    4256\n",
       "1    2764\n",
       "Name: count, dtype: int64"
      ]
     },
     "execution_count": 402,
     "metadata": {},
     "output_type": "execute_result"
    }
   ],
   "source": [
    "data['Cyc_Status_induction'].value_counts(dropna=False)"
   ]
  },
  {
   "cell_type": "markdown",
   "id": "5679ffec",
   "metadata": {},
   "source": [
    "## Oral cylcophosphamide during induction"
   ]
  },
  {
   "cell_type": "code",
   "execution_count": 403,
   "id": "6fd3cf23",
   "metadata": {},
   "outputs": [],
   "source": [
    "\n",
    "def OralCyc_Status_induction(data):\n",
    "    if (data['Interval.from.diagnosis..months._x'] <6 and data['Induction.treatment.received..choice.Daily.Oral.Cyclophosphamide.'] == 'Checked'):\n",
    "        return '1'\n",
    "    elif (data['Interval.from.diagnosis..months._x'] <6 and isinstance(data['CPD ISMed'], str) and 'Daily oral cyclophosphamide' in [med.strip() for med in data['CPD ISMed'].split(',')]):\n",
    "        return '1'\n",
    "    elif (data['Interval.from.diagnosis..months._x'] <6 and isinstance(data['CPD CM'], str) and 'Cyclophosphamide' in [med.strip() for med in data['CPD CM'].split(',')]):\n",
    "        return '1'\n",
    "\n",
    "    \n",
    "\n",
    "\n",
    "    \n",
    "\n",
    "\n"
   ]
  },
  {
   "cell_type": "code",
   "execution_count": 404,
   "id": "931b1e2b",
   "metadata": {},
   "outputs": [
    {
     "name": "stderr",
     "output_type": "stream",
     "text": [
      "C:\\Users\\georgea1\\AppData\\Local\\Temp\\ipykernel_23364\\4009709322.py:1: SettingWithCopyWarning: \n",
      "A value is trying to be set on a copy of a slice from a DataFrame.\n",
      "Try using .loc[row_indexer,col_indexer] = value instead\n",
      "\n",
      "See the caveats in the documentation: https://pandas.pydata.org/pandas-docs/stable/user_guide/indexing.html#returning-a-view-versus-a-copy\n",
      "  data['OralCyc_Status_induction'] = data.apply(OralCyc_Status_induction, axis = 1)\n"
     ]
    },
    {
     "data": {
      "text/plain": [
       "6157"
      ]
     },
     "execution_count": 404,
     "metadata": {},
     "output_type": "execute_result"
    }
   ],
   "source": [
    "data['OralCyc_Status_induction'] = data.apply(OralCyc_Status_induction, axis = 1)\n",
    "data['OralCyc_Status_induction'].isnull().sum()"
   ]
  },
  {
   "cell_type": "code",
   "execution_count": 405,
   "id": "048293e2",
   "metadata": {},
   "outputs": [
    {
     "data": {
      "text/plain": [
       "OralCyc_Status_induction\n",
       "None    6157\n",
       "1        863\n",
       "Name: count, dtype: int64"
      ]
     },
     "execution_count": 405,
     "metadata": {},
     "output_type": "execute_result"
    }
   ],
   "source": [
    "data['OralCyc_Status_induction'].value_counts(dropna=False)"
   ]
  },
  {
   "cell_type": "code",
   "execution_count": 406,
   "id": "db642a01",
   "metadata": {},
   "outputs": [
    {
     "data": {
      "text/plain": [
       "OralCyc_Status_induction\n",
       "None    6157\n",
       "1        863\n",
       "Name: count, dtype: int64"
      ]
     },
     "execution_count": 406,
     "metadata": {},
     "output_type": "execute_result"
    }
   ],
   "source": [
    "data['OralCyc_Status_induction'].value_counts(dropna=False)"
   ]
  },
  {
   "cell_type": "code",
   "execution_count": 407,
   "id": "6ea29003",
   "metadata": {},
   "outputs": [
    {
     "name": "stderr",
     "output_type": "stream",
     "text": [
      "C:\\Users\\georgea1\\AppData\\Local\\Temp\\ipykernel_23364\\2297771004.py:1: SettingWithCopyWarning: \n",
      "A value is trying to be set on a copy of a slice from a DataFrame.\n",
      "Try using .loc[row_indexer,col_indexer] = value instead\n",
      "\n",
      "See the caveats in the documentation: https://pandas.pydata.org/pandas-docs/stable/user_guide/indexing.html#returning-a-view-versus-a-copy\n",
      "  data['OralCyc_Status_induction']=data.groupby('RKD.ID').bfill()['OralCyc_Status_induction']\n"
     ]
    }
   ],
   "source": [
    "data['OralCyc_Status_induction']=data.groupby('RKD.ID').bfill()['OralCyc_Status_induction']"
   ]
  },
  {
   "cell_type": "code",
   "execution_count": 408,
   "id": "3d7fb221",
   "metadata": {},
   "outputs": [
    {
     "name": "stderr",
     "output_type": "stream",
     "text": [
      "C:\\Users\\georgea1\\AppData\\Local\\Temp\\ipykernel_23364\\1386348650.py:1: SettingWithCopyWarning: \n",
      "A value is trying to be set on a copy of a slice from a DataFrame.\n",
      "Try using .loc[row_indexer,col_indexer] = value instead\n",
      "\n",
      "See the caveats in the documentation: https://pandas.pydata.org/pandas-docs/stable/user_guide/indexing.html#returning-a-view-versus-a-copy\n",
      "  data['OralCyc_Status_induction']=data.groupby('RKD.ID').ffill()['OralCyc_Status_induction']\n"
     ]
    }
   ],
   "source": [
    "data['OralCyc_Status_induction']=data.groupby('RKD.ID').ffill()['OralCyc_Status_induction']"
   ]
  },
  {
   "cell_type": "code",
   "execution_count": 409,
   "id": "b8f4bf56",
   "metadata": {},
   "outputs": [
    {
     "name": "stderr",
     "output_type": "stream",
     "text": [
      "C:\\Users\\georgea1\\AppData\\Local\\Temp\\ipykernel_23364\\3806266787.py:1: FutureWarning: A value is trying to be set on a copy of a DataFrame or Series through chained assignment using an inplace method.\n",
      "The behavior will change in pandas 3.0. This inplace method will never work because the intermediate object on which we are setting values always behaves as a copy.\n",
      "\n",
      "For example, when doing 'df[col].method(value, inplace=True)', try using 'df.method({col: value}, inplace=True)' or df[col] = df[col].method(value) instead, to perform the operation inplace on the original object.\n",
      "\n",
      "\n",
      "  data['OralCyc_Status_induction'].fillna(0,inplace=True)\n",
      "C:\\Users\\georgea1\\AppData\\Local\\Temp\\ipykernel_23364\\3806266787.py:1: SettingWithCopyWarning: \n",
      "A value is trying to be set on a copy of a slice from a DataFrame\n",
      "\n",
      "See the caveats in the documentation: https://pandas.pydata.org/pandas-docs/stable/user_guide/indexing.html#returning-a-view-versus-a-copy\n",
      "  data['OralCyc_Status_induction'].fillna(0,inplace=True)\n"
     ]
    }
   ],
   "source": [
    "data['OralCyc_Status_induction'].fillna(0,inplace=True)"
   ]
  },
  {
   "cell_type": "code",
   "execution_count": 410,
   "id": "f3eeb116",
   "metadata": {},
   "outputs": [
    {
     "data": {
      "text/plain": [
       "0"
      ]
     },
     "execution_count": 410,
     "metadata": {},
     "output_type": "execute_result"
    }
   ],
   "source": [
    "data['OralCyc_Status_induction'].isnull().sum()"
   ]
  },
  {
   "cell_type": "code",
   "execution_count": 411,
   "id": "cbfa0c78",
   "metadata": {},
   "outputs": [
    {
     "data": {
      "text/plain": [
       "OralCyc_Status_induction\n",
       "0    4424\n",
       "1    2596\n",
       "Name: count, dtype: int64"
      ]
     },
     "execution_count": 411,
     "metadata": {},
     "output_type": "execute_result"
    }
   ],
   "source": [
    "data['OralCyc_Status_induction'].value_counts(dropna=False)"
   ]
  },
  {
   "cell_type": "code",
   "execution_count": null,
   "id": "8419da97",
   "metadata": {},
   "outputs": [],
   "source": []
  },
  {
   "cell_type": "markdown",
   "id": "42b23395",
   "metadata": {},
   "source": [
    "## Interval between encounters per patients"
   ]
  },
  {
   "cell_type": "code",
   "execution_count": 92,
   "id": "b77be3a9",
   "metadata": {},
   "outputs": [
    {
     "name": "stderr",
     "output_type": "stream",
     "text": [
      "C:\\Users\\georgea1\\AppData\\Local\\Temp\\ipykernel_30080\\2553849236.py:2: SettingWithCopyWarning: \n",
      "A value is trying to be set on a copy of a slice from a DataFrame.\n",
      "Try using .loc[row_indexer,col_indexer] = value instead\n",
      "\n",
      "See the caveats in the documentation: https://pandas.pydata.org/pandas-docs/stable/user_guide/indexing.html#returning-a-view-versus-a-copy\n",
      "  data['Time_Difference'] = data.groupby('RKD.ID')['Interval.from.diagnosis..months._x'].diff()\n"
     ]
    }
   ],
   "source": [
    "#Calculate the time differences between consecutive encounters\n",
    "data['Time_Difference'] = data.groupby('RKD.ID')['Interval.from.diagnosis..months._x'].diff()"
   ]
  },
  {
   "cell_type": "code",
   "execution_count": 93,
   "id": "2c15a8c7",
   "metadata": {},
   "outputs": [
    {
     "data": {
      "text/plain": [
       "7.913836575875486"
      ]
     },
     "execution_count": 93,
     "metadata": {},
     "output_type": "execute_result"
    }
   ],
   "source": [
    "data['Time_Difference'].mean()"
   ]
  },
  {
   "cell_type": "markdown",
   "id": "b8491909",
   "metadata": {},
   "source": [
    "## median_time_intervals "
   ]
  },
  {
   "cell_type": "code",
   "execution_count": 238,
   "id": "4fd0a96e",
   "metadata": {},
   "outputs": [
    {
     "data": {
      "text/html": [
       "<div>\n",
       "<style scoped>\n",
       "    .dataframe tbody tr th:only-of-type {\n",
       "        vertical-align: middle;\n",
       "    }\n",
       "\n",
       "    .dataframe tbody tr th {\n",
       "        vertical-align: top;\n",
       "    }\n",
       "\n",
       "    .dataframe thead th {\n",
       "        text-align: right;\n",
       "    }\n",
       "</style>\n",
       "<table border=\"1\" class=\"dataframe\">\n",
       "  <thead>\n",
       "    <tr style=\"text-align: right;\">\n",
       "      <th></th>\n",
       "      <th>RKD.ID</th>\n",
       "      <th>Time_Difference</th>\n",
       "    </tr>\n",
       "  </thead>\n",
       "  <tbody>\n",
       "    <tr>\n",
       "      <th>0</th>\n",
       "      <td>1</td>\n",
       "      <td>2.65</td>\n",
       "    </tr>\n",
       "    <tr>\n",
       "      <th>1</th>\n",
       "      <td>2</td>\n",
       "      <td>1.65</td>\n",
       "    </tr>\n",
       "    <tr>\n",
       "      <th>2</th>\n",
       "      <td>3</td>\n",
       "      <td>1.05</td>\n",
       "    </tr>\n",
       "    <tr>\n",
       "      <th>3</th>\n",
       "      <td>4</td>\n",
       "      <td>0.80</td>\n",
       "    </tr>\n",
       "    <tr>\n",
       "      <th>4</th>\n",
       "      <td>6</td>\n",
       "      <td>8.90</td>\n",
       "    </tr>\n",
       "    <tr>\n",
       "      <th>...</th>\n",
       "      <td>...</td>\n",
       "      <td>...</td>\n",
       "    </tr>\n",
       "    <tr>\n",
       "      <th>590</th>\n",
       "      <td>28587</td>\n",
       "      <td>1.50</td>\n",
       "    </tr>\n",
       "    <tr>\n",
       "      <th>591</th>\n",
       "      <td>28592</td>\n",
       "      <td>6.50</td>\n",
       "    </tr>\n",
       "    <tr>\n",
       "      <th>592</th>\n",
       "      <td>28594</td>\n",
       "      <td>5.00</td>\n",
       "    </tr>\n",
       "    <tr>\n",
       "      <th>593</th>\n",
       "      <td>28603</td>\n",
       "      <td>105.30</td>\n",
       "    </tr>\n",
       "    <tr>\n",
       "      <th>594</th>\n",
       "      <td>28615</td>\n",
       "      <td>21.30</td>\n",
       "    </tr>\n",
       "  </tbody>\n",
       "</table>\n",
       "<p>595 rows × 2 columns</p>\n",
       "</div>"
      ],
      "text/plain": [
       "     RKD.ID  Time_Difference\n",
       "0         1             2.65\n",
       "1         2             1.65\n",
       "2         3             1.05\n",
       "3         4             0.80\n",
       "4         6             8.90\n",
       "..      ...              ...\n",
       "590   28587             1.50\n",
       "591   28592             6.50\n",
       "592   28594             5.00\n",
       "593   28603           105.30\n",
       "594   28615            21.30\n",
       "\n",
       "[595 rows x 2 columns]"
      ]
     },
     "execution_count": 238,
     "metadata": {},
     "output_type": "execute_result"
    }
   ],
   "source": [
    "# Calculate the median time interval per patient\n",
    "median_time_intervals = data.groupby('RKD.ID')['Time_Difference'].median().reset_index()\n",
    "median_time_intervals "
   ]
  },
  {
   "cell_type": "code",
   "execution_count": 240,
   "id": "d577c5ec",
   "metadata": {},
   "outputs": [
    {
     "data": {
      "text/plain": [
       "RKD.ID             12058.0\n",
       "Time_Difference        6.6\n",
       "dtype: float64"
      ]
     },
     "execution_count": 240,
     "metadata": {},
     "output_type": "execute_result"
    }
   ],
   "source": [
    "median_time_intervals.median()"
   ]
  },
  {
   "cell_type": "markdown",
   "id": "a7a9d097",
   "metadata": {},
   "source": [
    "## mean_time_intervals "
   ]
  },
  {
   "cell_type": "code",
   "execution_count": 243,
   "id": "68d20d94",
   "metadata": {},
   "outputs": [
    {
     "data": {
      "text/html": [
       "<div>\n",
       "<style scoped>\n",
       "    .dataframe tbody tr th:only-of-type {\n",
       "        vertical-align: middle;\n",
       "    }\n",
       "\n",
       "    .dataframe tbody tr th {\n",
       "        vertical-align: top;\n",
       "    }\n",
       "\n",
       "    .dataframe thead th {\n",
       "        text-align: right;\n",
       "    }\n",
       "</style>\n",
       "<table border=\"1\" class=\"dataframe\">\n",
       "  <thead>\n",
       "    <tr style=\"text-align: right;\">\n",
       "      <th></th>\n",
       "      <th>RKD.ID</th>\n",
       "      <th>Time_Difference</th>\n",
       "    </tr>\n",
       "  </thead>\n",
       "  <tbody>\n",
       "    <tr>\n",
       "      <th>0</th>\n",
       "      <td>1</td>\n",
       "      <td>2.760000</td>\n",
       "    </tr>\n",
       "    <tr>\n",
       "      <th>1</th>\n",
       "      <td>2</td>\n",
       "      <td>1.956000</td>\n",
       "    </tr>\n",
       "    <tr>\n",
       "      <th>2</th>\n",
       "      <td>3</td>\n",
       "      <td>2.081429</td>\n",
       "    </tr>\n",
       "    <tr>\n",
       "      <th>3</th>\n",
       "      <td>4</td>\n",
       "      <td>4.154839</td>\n",
       "    </tr>\n",
       "    <tr>\n",
       "      <th>4</th>\n",
       "      <td>6</td>\n",
       "      <td>20.188235</td>\n",
       "    </tr>\n",
       "    <tr>\n",
       "      <th>...</th>\n",
       "      <td>...</td>\n",
       "      <td>...</td>\n",
       "    </tr>\n",
       "    <tr>\n",
       "      <th>590</th>\n",
       "      <td>28587</td>\n",
       "      <td>2.466667</td>\n",
       "    </tr>\n",
       "    <tr>\n",
       "      <th>591</th>\n",
       "      <td>28592</td>\n",
       "      <td>6.700000</td>\n",
       "    </tr>\n",
       "    <tr>\n",
       "      <th>592</th>\n",
       "      <td>28594</td>\n",
       "      <td>5.000000</td>\n",
       "    </tr>\n",
       "    <tr>\n",
       "      <th>593</th>\n",
       "      <td>28603</td>\n",
       "      <td>105.300000</td>\n",
       "    </tr>\n",
       "    <tr>\n",
       "      <th>594</th>\n",
       "      <td>28615</td>\n",
       "      <td>31.580000</td>\n",
       "    </tr>\n",
       "  </tbody>\n",
       "</table>\n",
       "<p>595 rows × 2 columns</p>\n",
       "</div>"
      ],
      "text/plain": [
       "     RKD.ID  Time_Difference\n",
       "0         1         2.760000\n",
       "1         2         1.956000\n",
       "2         3         2.081429\n",
       "3         4         4.154839\n",
       "4         6        20.188235\n",
       "..      ...              ...\n",
       "590   28587         2.466667\n",
       "591   28592         6.700000\n",
       "592   28594         5.000000\n",
       "593   28603       105.300000\n",
       "594   28615        31.580000\n",
       "\n",
       "[595 rows x 2 columns]"
      ]
     },
     "execution_count": 243,
     "metadata": {},
     "output_type": "execute_result"
    }
   ],
   "source": [
    "mean_time_intervals = data.groupby('RKD.ID')['Time_Difference'].mean().reset_index()\n",
    "mean_time_intervals "
   ]
  },
  {
   "cell_type": "code",
   "execution_count": 245,
   "id": "1e8dcf20",
   "metadata": {},
   "outputs": [
    {
     "data": {
      "text/plain": [
       "RKD.ID             12058.0\n",
       "Time_Difference        8.9\n",
       "dtype: float64"
      ]
     },
     "execution_count": 245,
     "metadata": {},
     "output_type": "execute_result"
    }
   ],
   "source": [
    "mean_time_intervals.median()"
   ]
  },
  {
   "cell_type": "code",
   "execution_count": null,
   "id": "7bdaacd9",
   "metadata": {},
   "outputs": [],
   "source": []
  },
  {
   "cell_type": "markdown",
   "id": "7630e758",
   "metadata": {},
   "source": [
    "## Mode_time_interval"
   ]
  },
  {
   "cell_type": "code",
   "execution_count": 249,
   "id": "7cfad79a",
   "metadata": {},
   "outputs": [
    {
     "data": {
      "text/html": [
       "<div>\n",
       "<style scoped>\n",
       "    .dataframe tbody tr th:only-of-type {\n",
       "        vertical-align: middle;\n",
       "    }\n",
       "\n",
       "    .dataframe tbody tr th {\n",
       "        vertical-align: top;\n",
       "    }\n",
       "\n",
       "    .dataframe thead th {\n",
       "        text-align: right;\n",
       "    }\n",
       "</style>\n",
       "<table border=\"1\" class=\"dataframe\">\n",
       "  <thead>\n",
       "    <tr style=\"text-align: right;\">\n",
       "      <th></th>\n",
       "      <th>RKD.ID</th>\n",
       "      <th>Time_Difference</th>\n",
       "    </tr>\n",
       "  </thead>\n",
       "  <tbody>\n",
       "    <tr>\n",
       "      <th>0</th>\n",
       "      <td>1</td>\n",
       "      <td>3.000000</td>\n",
       "    </tr>\n",
       "    <tr>\n",
       "      <th>1</th>\n",
       "      <td>2</td>\n",
       "      <td>1.600000</td>\n",
       "    </tr>\n",
       "    <tr>\n",
       "      <th>2</th>\n",
       "      <td>3</td>\n",
       "      <td>0.500000</td>\n",
       "    </tr>\n",
       "    <tr>\n",
       "      <th>3</th>\n",
       "      <td>4</td>\n",
       "      <td>0.125000</td>\n",
       "    </tr>\n",
       "    <tr>\n",
       "      <th>4</th>\n",
       "      <td>6</td>\n",
       "      <td>12.200000</td>\n",
       "    </tr>\n",
       "    <tr>\n",
       "      <th>...</th>\n",
       "      <td>...</td>\n",
       "      <td>...</td>\n",
       "    </tr>\n",
       "    <tr>\n",
       "      <th>590</th>\n",
       "      <td>28587</td>\n",
       "      <td>2.466667</td>\n",
       "    </tr>\n",
       "    <tr>\n",
       "      <th>591</th>\n",
       "      <td>28592</td>\n",
       "      <td>6.700000</td>\n",
       "    </tr>\n",
       "    <tr>\n",
       "      <th>592</th>\n",
       "      <td>28594</td>\n",
       "      <td>5.000000</td>\n",
       "    </tr>\n",
       "    <tr>\n",
       "      <th>593</th>\n",
       "      <td>28603</td>\n",
       "      <td>105.300000</td>\n",
       "    </tr>\n",
       "    <tr>\n",
       "      <th>594</th>\n",
       "      <td>28615</td>\n",
       "      <td>31.580000</td>\n",
       "    </tr>\n",
       "  </tbody>\n",
       "</table>\n",
       "<p>595 rows × 2 columns</p>\n",
       "</div>"
      ],
      "text/plain": [
       "     RKD.ID  Time_Difference\n",
       "0         1         3.000000\n",
       "1         2         1.600000\n",
       "2         3         0.500000\n",
       "3         4         0.125000\n",
       "4         6        12.200000\n",
       "..      ...              ...\n",
       "590   28587         2.466667\n",
       "591   28592         6.700000\n",
       "592   28594         5.000000\n",
       "593   28603       105.300000\n",
       "594   28615        31.580000\n",
       "\n",
       "[595 rows x 2 columns]"
      ]
     },
     "execution_count": 249,
     "metadata": {},
     "output_type": "execute_result"
    }
   ],
   "source": [
    "# Function to calculate mode(s) and average them if multiple modes exist\n",
    "def calculate_mode(series):\n",
    "    mode_series = series.mode()\n",
    "    if len(mode_series) == 1:\n",
    "        return mode_series.iloc[0]\n",
    "    else:\n",
    "        return np.mean(mode_series)  # Calculate average of multiple modes\n",
    "\n",
    "# Calculate the mode time interval per patient\n",
    "mode_time_intervals = data.groupby('RKD.ID')['Time_Difference'].apply(calculate_mode).reset_index()\n",
    "mode_time_intervals"
   ]
  },
  {
   "cell_type": "code",
   "execution_count": 251,
   "id": "4cd52d77",
   "metadata": {},
   "outputs": [
    {
     "data": {
      "text/plain": [
       "RKD.ID             12058.000000\n",
       "Time_Difference        8.072727\n",
       "dtype: float64"
      ]
     },
     "execution_count": 251,
     "metadata": {},
     "output_type": "execute_result"
    }
   ],
   "source": [
    "mode_time_intervals.median()"
   ]
  },
  {
   "cell_type": "code",
   "execution_count": 253,
   "id": "a2c0f202",
   "metadata": {},
   "outputs": [
    {
     "data": {
      "text/plain": [
       "RKD.ID             12720.751261\n",
       "Time_Difference       11.705759\n",
       "dtype: float64"
      ]
     },
     "execution_count": 253,
     "metadata": {},
     "output_type": "execute_result"
    }
   ],
   "source": [
    "mode_time_intervals.mean()"
   ]
  },
  {
   "cell_type": "code",
   "execution_count": null,
   "id": "00f2b62e",
   "metadata": {},
   "outputs": [],
   "source": []
  },
  {
   "cell_type": "code",
   "execution_count": null,
   "id": "ae630719",
   "metadata": {},
   "outputs": [],
   "source": []
  },
  {
   "cell_type": "code",
   "execution_count": 99,
   "id": "a6c742c4",
   "metadata": {},
   "outputs": [],
   "source": [
    "# Merge the median and mean intervals for plotting\n",
    "intervals = median_time_intervals.merge(mean_time_intervals, on='RKD.ID', suffixes=('_Median', '_Mean'))\n"
   ]
  },
  {
   "cell_type": "code",
   "execution_count": 100,
   "id": "2f0bcccf",
   "metadata": {},
   "outputs": [
    {
     "data": {
      "image/png": "[encoded data removed]",
      "text/plain": [
       "<Figure size 640x480 with 1 Axes>"
      ]
     },
     "metadata": {},
     "output_type": "display_data"
    }
   ],
   "source": [
    "# Histograms\n",
    "plt.subplot(1, 2, 2)\n",
    "sbs.histplot(median_time_intervals['Time_Difference'], kde=True, color='skyblue', label='Median Intervals', binwidth=1)\n",
    "sbs.histplot(mean_time_intervals['Time_Difference'], kde=True, color='salmon', label='Mean Intervals', binwidth=1)\n",
    "plt.title('Histogram of Median and Mean Time Intervals')\n",
    "plt.xlabel('Time Interval (months)')\n",
    "plt.ylabel('Frequency')\n",
    "plt.legend()\n",
    "\n",
    "plt.tight_layout()\n",
    "plt.show()"
   ]
  },
  {
   "cell_type": "code",
   "execution_count": null,
   "id": "3d8488f9",
   "metadata": {},
   "outputs": [],
   "source": []
  },
  {
   "cell_type": "code",
   "execution_count": null,
   "id": "9e3ae0a5",
   "metadata": {},
   "outputs": [],
   "source": []
  },
  {
   "cell_type": "markdown",
   "id": "a4245875",
   "metadata": {},
   "source": [
    "## Historical Features"
   ]
  },
  {
   "cell_type": "code",
   "execution_count": null,
   "id": "6442d2be",
   "metadata": {},
   "outputs": [],
   "source": []
  },
  {
   "cell_type": "markdown",
   "id": "06bb51bd",
   "metadata": {},
   "source": [
    "###  Rituximab current status"
   ]
  },
  {
   "cell_type": "code",
   "execution_count": 418,
   "id": "6d9a6ab0",
   "metadata": {},
   "outputs": [],
   "source": [
    "def Rituximab(data):\n",
    "    if isinstance(data['CPD ISMed'], str) and 'Rituximab' in [med.strip() for med in data['CPD ISMed'].split(',')]:\n",
    "        return 'Rituximab'\n"
   ]
  },
  {
   "cell_type": "code",
   "execution_count": 419,
   "id": "54d28908",
   "metadata": {},
   "outputs": [
    {
     "name": "stderr",
     "output_type": "stream",
     "text": [
      "C:\\Users\\georgea1\\AppData\\Local\\Temp\\ipykernel_23364\\2126280.py:1: SettingWithCopyWarning: \n",
      "A value is trying to be set on a copy of a slice from a DataFrame.\n",
      "Try using .loc[row_indexer,col_indexer] = value instead\n",
      "\n",
      "See the caveats in the documentation: https://pandas.pydata.org/pandas-docs/stable/user_guide/indexing.html#returning-a-view-versus-a-copy\n",
      "  data['Rituximab'] = data.apply(Rituximab, axis = 1)\n"
     ]
    }
   ],
   "source": [
    "data['Rituximab'] = data.apply(Rituximab, axis = 1)"
   ]
  },
  {
   "cell_type": "code",
   "execution_count": null,
   "id": "75470d55-d8e7-4d66-8b4d-81e9e99271f4",
   "metadata": {},
   "outputs": [],
   "source": []
  },
  {
   "cell_type": "code",
   "execution_count": 422,
   "id": "d5731af9",
   "metadata": {},
   "outputs": [
    {
     "data": {
      "text/plain": [
       "Rituximab\n",
       "0.0    5694\n",
       "1.0    1326\n",
       "Name: count, dtype: int64"
      ]
     },
     "execution_count": 422,
     "metadata": {},
     "output_type": "execute_result"
    }
   ],
   "source": [
    "data['Rituximab'].value_counts(dropna=False)"
   ]
  },
  {
   "cell_type": "code",
   "execution_count": 415,
   "id": "57d37a45",
   "metadata": {},
   "outputs": [
    {
     "name": "stderr",
     "output_type": "stream",
     "text": [
      "C:\\Users\\georgea1\\AppData\\Local\\Temp\\ipykernel_23364\\2093833610.py:1: SettingWithCopyWarning: \n",
      "A value is trying to be set on a copy of a slice from a DataFrame.\n",
      "Try using .loc[row_indexer,col_indexer] = value instead\n",
      "\n",
      "See the caveats in the documentation: https://pandas.pydata.org/pandas-docs/stable/user_guide/indexing.html#returning-a-view-versus-a-copy\n",
      "  data['Rituximab'] = data['Rituximab'].map({'Rituximab': 1})\n"
     ]
    }
   ],
   "source": []
  },
  {
   "cell_type": "code",
   "execution_count": 421,
   "id": "a82b1390-7a28-4ef1-90f5-98b86e7679cf",
   "metadata": {},
   "outputs": [
    {
     "name": "stderr",
     "output_type": "stream",
     "text": [
      "C:\\Users\\georgea1\\AppData\\Local\\Temp\\ipykernel_23364\\1466387476.py:1: SettingWithCopyWarning: \n",
      "A value is trying to be set on a copy of a slice from a DataFrame.\n",
      "Try using .loc[row_indexer,col_indexer] = value instead\n",
      "\n",
      "See the caveats in the documentation: https://pandas.pydata.org/pandas-docs/stable/user_guide/indexing.html#returning-a-view-versus-a-copy\n",
      "  data['Rituximab'] = data['Rituximab'].map({'Rituximab': 1}).fillna(0)\n"
     ]
    }
   ],
   "source": [
    "data['Rituximab'] = data['Rituximab'].map({'Rituximab': 1}).fillna(0)\n"
   ]
  },
  {
   "cell_type": "code",
   "execution_count": null,
   "id": "d6db22f3-d42d-4122-a8f2-4a0a1bcf97c4",
   "metadata": {},
   "outputs": [],
   "source": []
  },
  {
   "cell_type": "markdown",
   "id": "8415b4c9-021a-4fa7-9342-7bb1a21f554a",
   "metadata": {},
   "source": [
    "## Rituximab status: last 6 months"
   ]
  },
  {
   "cell_type": "code",
   "execution_count": 423,
   "id": "70cc8bda-2839-47b5-920b-653fdf45ae96",
   "metadata": {},
   "outputs": [
    {
     "name": "stderr",
     "output_type": "stream",
     "text": [
      "C:\\Users\\georgea1\\AppData\\Local\\Temp\\ipykernel_23364\\2925525738.py:2: SettingWithCopyWarning: \n",
      "A value is trying to be set on a copy of a slice from a DataFrame.\n",
      "Try using .loc[row_indexer,col_indexer] = value instead\n",
      "\n",
      "See the caveats in the documentation: https://pandas.pydata.org/pandas-docs/stable/user_guide/indexing.html#returning-a-view-versus-a-copy\n",
      "  data['Date_Of_Visit']=pd.to_datetime(data['Date_Of_Visit'], format='%Y-%m-%d')\n",
      "C:\\Users\\georgea1\\AppData\\Local\\Temp\\ipykernel_23364\\2925525738.py:3: SettingWithCopyWarning: \n",
      "A value is trying to be set on a copy of a slice from a DataFrame.\n",
      "Try using .loc[row_indexer,col_indexer] = value instead\n",
      "\n",
      "See the caveats in the documentation: https://pandas.pydata.org/pandas-docs/stable/user_guide/indexing.html#returning-a-view-versus-a-copy\n",
      "  data['Date of IV Rtx']=pd.to_datetime(data['Date of IV Rtx'], format='%Y-%m-%d')\n"
     ]
    }
   ],
   "source": [
    "\n",
    "# Ensure date columns are in datetime format\n",
    "data['Date_Of_Visit']=pd.to_datetime(data['Date_Of_Visit'], format='%Y-%m-%d')\n",
    "data['Date of IV Rtx']=pd.to_datetime(data['Date of IV Rtx'], format='%Y-%m-%d')\n"
   ]
  },
  {
   "cell_type": "code",
   "execution_count": 426,
   "id": "feb8a6d2",
   "metadata": {},
   "outputs": [
    {
     "name": "stderr",
     "output_type": "stream",
     "text": [
      "C:\\Users\\georgea1\\AppData\\Local\\Temp\\ipykernel_23364\\403422203.py:28: DeprecationWarning: DataFrameGroupBy.apply operated on the grouping columns. This behavior is deprecated, and in a future version of pandas the grouping columns will be excluded from the operation. Either pass `include_groups=False` to exclude the groupings or explicitly select the grouping columns after groupby to silence this warning.\n",
      "  data['Rituximab_6months'] = data.groupby('RKD.ID', group_keys=False).apply(check_rituximab_within_6months)\n",
      "C:\\Users\\georgea1\\AppData\\Local\\Temp\\ipykernel_23364\\403422203.py:28: SettingWithCopyWarning: \n",
      "A value is trying to be set on a copy of a slice from a DataFrame.\n",
      "Try using .loc[row_indexer,col_indexer] = value instead\n",
      "\n",
      "See the caveats in the documentation: https://pandas.pydata.org/pandas-docs/stable/user_guide/indexing.html#returning-a-view-versus-a-copy\n",
      "  data['Rituximab_6months'] = data.groupby('RKD.ID', group_keys=False).apply(check_rituximab_within_6months)\n"
     ]
    }
   ],
   "source": [
    "import pandas as pd\n",
    "\n",
    "# Define a function to check if Rituximab was given in the last 6 months\n",
    "def check_rituximab_within_6months(group):\n",
    "    last_rituximab_date = None\n",
    "    rituximab_6months = []\n",
    "    \n",
    "    for i, row in group.iterrows():\n",
    "        if pd.notna(row['Date of IV Rtx']):  # If Rituximab was given\n",
    "            last_rituximab_date = row['Date of IV Rtx']\n",
    "        \n",
    "        # Check if Rituximab is in 'Immunosuppressive.medication_x' within the last 6 months\n",
    "        if last_rituximab_date is not None:\n",
    "            within_6months = row['Date_Of_Visit'] <= last_rituximab_date + pd.DateOffset(months=6)\n",
    "            if within_6months or (pd.notna(row['Rituximab']) and row['Rituximab'] == 1):\n",
    "                rituximab_6months.append(1)\n",
    "            else:\n",
    "                rituximab_6months.append(0)\n",
    "        else:\n",
    "            if pd.notna(row['Rituximab']) and row['Rituximab'] == 1:\n",
    "                rituximab_6months.append(1)\n",
    "            else:\n",
    "                rituximab_6months.append(0)\n",
    "    \n",
    "    return pd.Series(rituximab_6months, index=group.index)\n",
    "\n",
    "# Apply the function group by RKD.ID\n",
    "data['Rituximab_6months'] = data.groupby('RKD.ID', group_keys=False).apply(check_rituximab_within_6months)\n"
   ]
  },
  {
   "cell_type": "code",
   "execution_count": 427,
   "id": "5fb23c13-fd27-4f88-a1df-8e98d400f2bc",
   "metadata": {},
   "outputs": [
    {
     "data": {
      "text/plain": [
       "Rituximab_6months\n",
       "0    5690\n",
       "1    1330\n",
       "Name: count, dtype: int64"
      ]
     },
     "execution_count": 427,
     "metadata": {},
     "output_type": "execute_result"
    }
   ],
   "source": [
    "data['Rituximab_6months'].value_counts(dropna=False)"
   ]
  },
  {
   "cell_type": "markdown",
   "id": "92ec8af5",
   "metadata": {},
   "source": [
    "### Current MMF Status"
   ]
  },
  {
   "cell_type": "code",
   "execution_count": null,
   "id": "2591ccc6-f8f3-4cf6-b82d-db7cd3031a4a",
   "metadata": {},
   "outputs": [],
   "source": []
  },
  {
   "cell_type": "code",
   "execution_count": 428,
   "id": "846295c1",
   "metadata": {},
   "outputs": [],
   "source": [
    "def MMF(data):\n",
    "    if isinstance(data['CPD ISMed'], str) and 'Mycophenolate mofetil' in [med.strip() for med in data['CPD ISMed'].split(',')]:\n",
    "        return 'Mycophenolate mofetil'\n",
    "\n",
    "\n"
   ]
  },
  {
   "cell_type": "code",
   "execution_count": 429,
   "id": "9ed3db95",
   "metadata": {},
   "outputs": [
    {
     "name": "stderr",
     "output_type": "stream",
     "text": [
      "C:\\Users\\georgea1\\AppData\\Local\\Temp\\ipykernel_23364\\195011212.py:1: SettingWithCopyWarning: \n",
      "A value is trying to be set on a copy of a slice from a DataFrame.\n",
      "Try using .loc[row_indexer,col_indexer] = value instead\n",
      "\n",
      "See the caveats in the documentation: https://pandas.pydata.org/pandas-docs/stable/user_guide/indexing.html#returning-a-view-versus-a-copy\n",
      "  data['MMF'] = data.apply(MMF, axis = 1)\n"
     ]
    }
   ],
   "source": [
    "data['MMF'] = data.apply(MMF, axis = 1)"
   ]
  },
  {
   "cell_type": "code",
   "execution_count": 430,
   "id": "c5e9ef12-c60d-47d1-9b93-fd3e3ed83e88",
   "metadata": {},
   "outputs": [
    {
     "name": "stderr",
     "output_type": "stream",
     "text": [
      "C:\\Users\\georgea1\\AppData\\Local\\Temp\\ipykernel_23364\\3149699219.py:1: SettingWithCopyWarning: \n",
      "A value is trying to be set on a copy of a slice from a DataFrame.\n",
      "Try using .loc[row_indexer,col_indexer] = value instead\n",
      "\n",
      "See the caveats in the documentation: https://pandas.pydata.org/pandas-docs/stable/user_guide/indexing.html#returning-a-view-versus-a-copy\n",
      "  data['MMF'] = data['MMF'].map({'Mycophenolate mofetil': 1}).fillna(0)\n"
     ]
    }
   ],
   "source": [
    "data['MMF'] = data['MMF'].map({'Mycophenolate mofetil': 1}).fillna(0)\n"
   ]
  },
  {
   "cell_type": "code",
   "execution_count": 431,
   "id": "21cd8771",
   "metadata": {},
   "outputs": [
    {
     "data": {
      "text/plain": [
       "MMF\n",
       "0.0    6471\n",
       "1.0     549\n",
       "Name: count, dtype: int64"
      ]
     },
     "execution_count": 431,
     "metadata": {},
     "output_type": "execute_result"
    }
   ],
   "source": [
    "data['MMF'].value_counts(dropna=False)"
   ]
  },
  {
   "cell_type": "markdown",
   "id": "f66876ca-5479-4706-9d36-8ade7cf7c806",
   "metadata": {},
   "source": [
    "## MMF status last 6 months"
   ]
  },
  {
   "cell_type": "code",
   "execution_count": 432,
   "id": "f013023d-1a1e-4d4c-889a-8e90bdfd81f5",
   "metadata": {},
   "outputs": [
    {
     "name": "stderr",
     "output_type": "stream",
     "text": [
      "C:\\Users\\georgea1\\AppData\\Local\\Temp\\ipykernel_23364\\796315539.py:2: SettingWithCopyWarning: \n",
      "A value is trying to be set on a copy of a slice from a DataFrame.\n",
      "Try using .loc[row_indexer,col_indexer] = value instead\n",
      "\n",
      "See the caveats in the documentation: https://pandas.pydata.org/pandas-docs/stable/user_guide/indexing.html#returning-a-view-versus-a-copy\n",
      "  data['Date_Of_Visit']=pd.to_datetime(data['Date_Of_Visit'], format='%Y-%m-%d')\n",
      "C:\\Users\\georgea1\\AppData\\Local\\Temp\\ipykernel_23364\\796315539.py:3: SettingWithCopyWarning: \n",
      "A value is trying to be set on a copy of a slice from a DataFrame.\n",
      "Try using .loc[row_indexer,col_indexer] = value instead\n",
      "\n",
      "See the caveats in the documentation: https://pandas.pydata.org/pandas-docs/stable/user_guide/indexing.html#returning-a-view-versus-a-copy\n",
      "  data['Stop Date_myc']=pd.to_datetime(data['Stop Date_myc'], format='%Y-%m-%d')\n"
     ]
    }
   ],
   "source": [
    "\n",
    "# Ensure date columns are in datetime format\n",
    "data['Date_Of_Visit']=pd.to_datetime(data['Date_Of_Visit'], format='%Y-%m-%d')\n",
    "data['Stop Date_myc']=pd.to_datetime(data['Stop Date_myc'], format='%Y-%m-%d')\n"
   ]
  },
  {
   "cell_type": "code",
   "execution_count": 433,
   "id": "74fb9482-07c9-459a-b14d-516732b08b38",
   "metadata": {},
   "outputs": [
    {
     "name": "stderr",
     "output_type": "stream",
     "text": [
      "C:\\Users\\georgea1\\AppData\\Local\\Temp\\ipykernel_23364\\1849978157.py:28: DeprecationWarning: DataFrameGroupBy.apply operated on the grouping columns. This behavior is deprecated, and in a future version of pandas the grouping columns will be excluded from the operation. Either pass `include_groups=False` to exclude the groupings or explicitly select the grouping columns after groupby to silence this warning.\n",
      "  data['MMF_6months'] = data.groupby('RKD.ID', group_keys=False).apply(check_MMF_within_6months)\n",
      "C:\\Users\\georgea1\\AppData\\Local\\Temp\\ipykernel_23364\\1849978157.py:28: SettingWithCopyWarning: \n",
      "A value is trying to be set on a copy of a slice from a DataFrame.\n",
      "Try using .loc[row_indexer,col_indexer] = value instead\n",
      "\n",
      "See the caveats in the documentation: https://pandas.pydata.org/pandas-docs/stable/user_guide/indexing.html#returning-a-view-versus-a-copy\n",
      "  data['MMF_6months'] = data.groupby('RKD.ID', group_keys=False).apply(check_MMF_within_6months)\n"
     ]
    }
   ],
   "source": [
    "import pandas as pd\n",
    "\n",
    "# Define a function to check if Rituximab was given in the last 6 months\n",
    "def check_MMF_within_6months(group):\n",
    "    last_MMF_date = None\n",
    "    MMF_6months = []\n",
    "    \n",
    "    for i, row in group.iterrows():\n",
    "        if pd.notna(row['Stop Date_myc']):  # If Rituximab was given\n",
    "            last_MMF_date = row['Stop Date_myc']\n",
    "        \n",
    "        # Check if Rituximab is in 'Immunosuppressive.medication_x' within the last 6 months\n",
    "        if last_MMF_date is not None:\n",
    "            within_6months = row['Date_Of_Visit'] <= last_MMF_date + pd.DateOffset(months=6)\n",
    "            if within_6months or (pd.notna(row['Immunosuppressive.medication_x']) and row['Immunosuppressive.medication_x'] == 'Mycophenolate mofetil'):\n",
    "                MMF_6months.append(1)\n",
    "            else:\n",
    "                MMF_6months.append(0)\n",
    "        else:\n",
    "            if pd.notna(row['Immunosuppressive.medication_x']) and row['Immunosuppressive.medication_x'] == 'Mycophenolate mofetil':\n",
    "                MMF_6months.append(1)\n",
    "            else:\n",
    "                MMF_6months.append(0)\n",
    "    \n",
    "    return pd.Series(MMF_6months, index=group.index)\n",
    "\n",
    "# Apply the function group by RKD.ID\n",
    "data['MMF_6months'] = data.groupby('RKD.ID', group_keys=False).apply(check_MMF_within_6months)\n"
   ]
  },
  {
   "cell_type": "code",
   "execution_count": null,
   "id": "77c265af-6ba7-423a-8ccc-fc69b87f982f",
   "metadata": {},
   "outputs": [],
   "source": []
  },
  {
   "cell_type": "code",
   "execution_count": null,
   "id": "6a964959",
   "metadata": {},
   "outputs": [],
   "source": []
  },
  {
   "cell_type": "code",
   "execution_count": null,
   "id": "3f665a44",
   "metadata": {},
   "outputs": [],
   "source": []
  },
  {
   "cell_type": "code",
   "execution_count": 434,
   "id": "c949adf4",
   "metadata": {},
   "outputs": [
    {
     "data": {
      "text/plain": [
       "MMF_6months\n",
       "0    6413\n",
       "1     607\n",
       "Name: count, dtype: int64"
      ]
     },
     "execution_count": 434,
     "metadata": {},
     "output_type": "execute_result"
    }
   ],
   "source": [
    "data['MMF_6months'].value_counts(dropna=False)"
   ]
  },
  {
   "cell_type": "code",
   "execution_count": null,
   "id": "f78f1e9f",
   "metadata": {},
   "outputs": [],
   "source": []
  },
  {
   "cell_type": "markdown",
   "id": "a905b73d",
   "metadata": {},
   "source": [
    "### 3. Methotrexate last 6 months"
   ]
  },
  {
   "cell_type": "code",
   "execution_count": 435,
   "id": "448d9f2f",
   "metadata": {},
   "outputs": [],
   "source": [
    "def Methotrexate(data): \n",
    "    if isinstance(data['CPD ISMed'], str) and 'Methotrexate' in [med.strip() for med in data['CPD ISMed'].split(',')]:\n",
    "        return 'Methotrexate'\n",
    " "
   ]
  },
  {
   "cell_type": "code",
   "execution_count": 436,
   "id": "bd0ca569",
   "metadata": {},
   "outputs": [
    {
     "name": "stderr",
     "output_type": "stream",
     "text": [
      "C:\\Users\\georgea1\\AppData\\Local\\Temp\\ipykernel_23364\\2125988589.py:1: SettingWithCopyWarning: \n",
      "A value is trying to be set on a copy of a slice from a DataFrame.\n",
      "Try using .loc[row_indexer,col_indexer] = value instead\n",
      "\n",
      "See the caveats in the documentation: https://pandas.pydata.org/pandas-docs/stable/user_guide/indexing.html#returning-a-view-versus-a-copy\n",
      "  data['Methotrexate'] = data.apply(Methotrexate, axis = 1)\n"
     ]
    }
   ],
   "source": [
    "data['Methotrexate'] = data.apply(Methotrexate, axis = 1)\n"
   ]
  },
  {
   "cell_type": "code",
   "execution_count": 437,
   "id": "4beab0b5",
   "metadata": {},
   "outputs": [
    {
     "data": {
      "text/plain": [
       "Methotrexate\n",
       "None            6688\n",
       "Methotrexate     332\n",
       "Name: count, dtype: int64"
      ]
     },
     "execution_count": 437,
     "metadata": {},
     "output_type": "execute_result"
    }
   ],
   "source": [
    "data['Methotrexate'].value_counts(dropna=False)"
   ]
  },
  {
   "cell_type": "code",
   "execution_count": 438,
   "id": "ad3cc48c",
   "metadata": {},
   "outputs": [
    {
     "name": "stderr",
     "output_type": "stream",
     "text": [
      "C:\\Users\\georgea1\\AppData\\Local\\Temp\\ipykernel_23364\\159167353.py:1: SettingWithCopyWarning: \n",
      "A value is trying to be set on a copy of a slice from a DataFrame.\n",
      "Try using .loc[row_indexer,col_indexer] = value instead\n",
      "\n",
      "See the caveats in the documentation: https://pandas.pydata.org/pandas-docs/stable/user_guide/indexing.html#returning-a-view-versus-a-copy\n",
      "  data['Methotrexate'] = data['Methotrexate'].map({'Methotrexate': 1}).fillna(0)\n"
     ]
    }
   ],
   "source": [
    "data['Methotrexate'] = data['Methotrexate'].map({'Methotrexate': 1}).fillna(0)\n"
   ]
  },
  {
   "cell_type": "code",
   "execution_count": 439,
   "id": "d7d97aba-fbcc-419a-a7ad-0e5528e38e49",
   "metadata": {},
   "outputs": [
    {
     "name": "stderr",
     "output_type": "stream",
     "text": [
      "C:\\Users\\georgea1\\AppData\\Local\\Temp\\ipykernel_23364\\2449195598.py:2: SettingWithCopyWarning: \n",
      "A value is trying to be set on a copy of a slice from a DataFrame.\n",
      "Try using .loc[row_indexer,col_indexer] = value instead\n",
      "\n",
      "See the caveats in the documentation: https://pandas.pydata.org/pandas-docs/stable/user_guide/indexing.html#returning-a-view-versus-a-copy\n",
      "  data['Date_Of_Visit']=pd.to_datetime(data['Date_Of_Visit'], format='%Y-%m-%d')\n",
      "C:\\Users\\georgea1\\AppData\\Local\\Temp\\ipykernel_23364\\2449195598.py:3: SettingWithCopyWarning: \n",
      "A value is trying to be set on a copy of a slice from a DataFrame.\n",
      "Try using .loc[row_indexer,col_indexer] = value instead\n",
      "\n",
      "See the caveats in the documentation: https://pandas.pydata.org/pandas-docs/stable/user_guide/indexing.html#returning-a-view-versus-a-copy\n",
      "  data['Stop Date_met']=pd.to_datetime(data['Stop Date_met'], format='%Y-%m-%d')\n"
     ]
    }
   ],
   "source": [
    "\n",
    "# Ensure date columns are in datetime format\n",
    "data['Date_Of_Visit']=pd.to_datetime(data['Date_Of_Visit'], format='%Y-%m-%d')\n",
    "data['Stop Date_met']=pd.to_datetime(data['Stop Date_met'], format='%Y-%m-%d')\n"
   ]
  },
  {
   "cell_type": "code",
   "execution_count": 440,
   "id": "5e5e9015-1357-45b2-98df-30f7b6eecc47",
   "metadata": {},
   "outputs": [
    {
     "name": "stderr",
     "output_type": "stream",
     "text": [
      "C:\\Users\\georgea1\\AppData\\Local\\Temp\\ipykernel_23364\\2466468059.py:28: DeprecationWarning: DataFrameGroupBy.apply operated on the grouping columns. This behavior is deprecated, and in a future version of pandas the grouping columns will be excluded from the operation. Either pass `include_groups=False` to exclude the groupings or explicitly select the grouping columns after groupby to silence this warning.\n",
      "  data['Methotrexate_6months'] = data.groupby('RKD.ID', group_keys=False).apply(check_Methotrexate_within_6months)\n",
      "C:\\Users\\georgea1\\AppData\\Local\\Temp\\ipykernel_23364\\2466468059.py:28: SettingWithCopyWarning: \n",
      "A value is trying to be set on a copy of a slice from a DataFrame.\n",
      "Try using .loc[row_indexer,col_indexer] = value instead\n",
      "\n",
      "See the caveats in the documentation: https://pandas.pydata.org/pandas-docs/stable/user_guide/indexing.html#returning-a-view-versus-a-copy\n",
      "  data['Methotrexate_6months'] = data.groupby('RKD.ID', group_keys=False).apply(check_Methotrexate_within_6months)\n"
     ]
    }
   ],
   "source": [
    "import pandas as pd\n",
    "\n",
    "# Define a function to check if Rituximab was given in the last 6 months\n",
    "def check_Methotrexate_within_6months(group):\n",
    "    last_Methotrexate_date = None\n",
    "    Methotrexate_6months = []\n",
    "    \n",
    "    for i, row in group.iterrows():\n",
    "        if pd.notna(row['Stop Date_met']): \n",
    "            last_Methotrexate_date = row['Stop Date_met']\n",
    "        \n",
    "        \n",
    "        if last_Methotrexate_date is not None:\n",
    "            within_6months = row['Date_Of_Visit'] <= last_Methotrexate_date + pd.DateOffset(months=6)\n",
    "            if within_6months or (pd.notna(row['Methotrexate']) and row['Methotrexate'] == 1):\n",
    "                Methotrexate_6months.append(1)\n",
    "            else:\n",
    "                Methotrexate_6months.append(0)\n",
    "        else:\n",
    "            if pd.notna(row['Methotrexate']) and row['Methotrexate'] == 1:\n",
    "                Methotrexate_6months.append(1)\n",
    "            else:\n",
    "                Methotrexate_6months.append(0)\n",
    "    \n",
    "    return pd.Series(Methotrexate_6months, index=group.index)\n",
    "\n",
    "# Apply the function group by RKD.ID\n",
    "data['Methotrexate_6months'] = data.groupby('RKD.ID', group_keys=False).apply(check_Methotrexate_within_6months)\n"
   ]
  },
  {
   "cell_type": "code",
   "execution_count": null,
   "id": "632ab82c-39e5-4672-b1b3-645d23db042f",
   "metadata": {},
   "outputs": [],
   "source": []
  },
  {
   "cell_type": "code",
   "execution_count": null,
   "id": "d195cdf2-db11-43c6-9a36-8501f629d2b7",
   "metadata": {},
   "outputs": [],
   "source": []
  },
  {
   "cell_type": "code",
   "execution_count": 441,
   "id": "aa20ac23",
   "metadata": {},
   "outputs": [
    {
     "data": {
      "text/plain": [
       "Methotrexate_6months\n",
       "0    6621\n",
       "1     399\n",
       "Name: count, dtype: int64"
      ]
     },
     "execution_count": 441,
     "metadata": {},
     "output_type": "execute_result"
    }
   ],
   "source": [
    "data['Methotrexate_6months'].value_counts(dropna=False)"
   ]
  },
  {
   "cell_type": "code",
   "execution_count": 320,
   "id": "56e1f17b",
   "metadata": {},
   "outputs": [
    {
     "data": {
      "text/plain": [
       "Methotrexate_6months\n",
       "0    6621\n",
       "1     399\n",
       "Name: count, dtype: int64"
      ]
     },
     "execution_count": 320,
     "metadata": {},
     "output_type": "execute_result"
    }
   ],
   "source": [
    "data['Methotrexate_6months'].value_counts(dropna=False)"
   ]
  },
  {
   "cell_type": "code",
   "execution_count": null,
   "id": "1aa3cb57",
   "metadata": {},
   "outputs": [],
   "source": []
  },
  {
   "cell_type": "code",
   "execution_count": null,
   "id": "93d521e7",
   "metadata": {},
   "outputs": [],
   "source": []
  },
  {
   "cell_type": "markdown",
   "id": "ebf839a4",
   "metadata": {},
   "source": [
    "## Current Azathioprine Status"
   ]
  },
  {
   "cell_type": "code",
   "execution_count": 442,
   "id": "17e94008",
   "metadata": {},
   "outputs": [],
   "source": [
    "def AZA(data):    \n",
    "    if isinstance(data['CPD ISMed'], str) and 'Azathioprine' in [med.strip() for med in data['CPD ISMed'].split(',')]:\n",
    "        return 1"
   ]
  },
  {
   "cell_type": "code",
   "execution_count": 443,
   "id": "4e8cd56c",
   "metadata": {},
   "outputs": [
    {
     "name": "stderr",
     "output_type": "stream",
     "text": [
      "C:\\Users\\georgea1\\AppData\\Local\\Temp\\ipykernel_23364\\3607175038.py:1: SettingWithCopyWarning: \n",
      "A value is trying to be set on a copy of a slice from a DataFrame.\n",
      "Try using .loc[row_indexer,col_indexer] = value instead\n",
      "\n",
      "See the caveats in the documentation: https://pandas.pydata.org/pandas-docs/stable/user_guide/indexing.html#returning-a-view-versus-a-copy\n",
      "  data['AZA'] = data.apply(AZA, axis = 1)\n"
     ]
    }
   ],
   "source": [
    "data['AZA'] = data.apply(AZA, axis = 1)"
   ]
  },
  {
   "cell_type": "code",
   "execution_count": 444,
   "id": "870b818b-bfb7-4b8b-a24f-092408275e76",
   "metadata": {},
   "outputs": [
    {
     "name": "stderr",
     "output_type": "stream",
     "text": [
      "C:\\Users\\georgea1\\AppData\\Local\\Temp\\ipykernel_23364\\518413601.py:1: FutureWarning: A value is trying to be set on a copy of a DataFrame or Series through chained assignment using an inplace method.\n",
      "The behavior will change in pandas 3.0. This inplace method will never work because the intermediate object on which we are setting values always behaves as a copy.\n",
      "\n",
      "For example, when doing 'df[col].method(value, inplace=True)', try using 'df.method({col: value}, inplace=True)' or df[col] = df[col].method(value) instead, to perform the operation inplace on the original object.\n",
      "\n",
      "\n",
      "  data['AZA'].fillna(0,inplace=True)\n",
      "C:\\Users\\georgea1\\AppData\\Local\\Temp\\ipykernel_23364\\518413601.py:1: SettingWithCopyWarning: \n",
      "A value is trying to be set on a copy of a slice from a DataFrame\n",
      "\n",
      "See the caveats in the documentation: https://pandas.pydata.org/pandas-docs/stable/user_guide/indexing.html#returning-a-view-versus-a-copy\n",
      "  data['AZA'].fillna(0,inplace=True)\n"
     ]
    }
   ],
   "source": [
    "\n",
    "data['AZA'].fillna(0,inplace=True)"
   ]
  },
  {
   "cell_type": "code",
   "execution_count": 445,
   "id": "7bce4ec2",
   "metadata": {},
   "outputs": [
    {
     "data": {
      "text/plain": [
       "AZA\n",
       "0.0    5432\n",
       "1.0    1588\n",
       "Name: count, dtype: int64"
      ]
     },
     "execution_count": 445,
     "metadata": {},
     "output_type": "execute_result"
    }
   ],
   "source": [
    "data['AZA'].value_counts(dropna=False)"
   ]
  },
  {
   "cell_type": "markdown",
   "id": "4ec12818-d877-4394-a182-7097a59aa0f0",
   "metadata": {},
   "source": [
    "## Azathioprine last 6 months"
   ]
  },
  {
   "cell_type": "code",
   "execution_count": 446,
   "id": "9728a810-4b92-4bc2-91b1-f464537dc696",
   "metadata": {},
   "outputs": [
    {
     "name": "stderr",
     "output_type": "stream",
     "text": [
      "C:\\Users\\georgea1\\AppData\\Local\\Temp\\ipykernel_23364\\3070539575.py:2: SettingWithCopyWarning: \n",
      "A value is trying to be set on a copy of a slice from a DataFrame.\n",
      "Try using .loc[row_indexer,col_indexer] = value instead\n",
      "\n",
      "See the caveats in the documentation: https://pandas.pydata.org/pandas-docs/stable/user_guide/indexing.html#returning-a-view-versus-a-copy\n",
      "  data['Date_Of_Visit']=pd.to_datetime(data['Date_Of_Visit'], format='%Y-%m-%d')\n",
      "C:\\Users\\georgea1\\AppData\\Local\\Temp\\ipykernel_23364\\3070539575.py:3: SettingWithCopyWarning: \n",
      "A value is trying to be set on a copy of a slice from a DataFrame.\n",
      "Try using .loc[row_indexer,col_indexer] = value instead\n",
      "\n",
      "See the caveats in the documentation: https://pandas.pydata.org/pandas-docs/stable/user_guide/indexing.html#returning-a-view-versus-a-copy\n",
      "  data['Stop Date_aza']=pd.to_datetime(data['Stop Date_aza'], format='%Y-%m-%d')\n"
     ]
    }
   ],
   "source": [
    "\n",
    "# Ensure date columns are in datetime format\n",
    "data['Date_Of_Visit']=pd.to_datetime(data['Date_Of_Visit'], format='%Y-%m-%d')\n",
    "data['Stop Date_aza']=pd.to_datetime(data['Stop Date_aza'], format='%Y-%m-%d')\n"
   ]
  },
  {
   "cell_type": "code",
   "execution_count": 447,
   "id": "ef73602c-9365-45ab-aae3-4a3147af6c69",
   "metadata": {},
   "outputs": [
    {
     "name": "stderr",
     "output_type": "stream",
     "text": [
      "C:\\Users\\georgea1\\AppData\\Local\\Temp\\ipykernel_23364\\1373971429.py:28: DeprecationWarning: DataFrameGroupBy.apply operated on the grouping columns. This behavior is deprecated, and in a future version of pandas the grouping columns will be excluded from the operation. Either pass `include_groups=False` to exclude the groupings or explicitly select the grouping columns after groupby to silence this warning.\n",
      "  data['AZA_6months'] = data.groupby('RKD.ID', group_keys=False).apply(check_AZA_within_6months)\n",
      "C:\\Users\\georgea1\\AppData\\Local\\Temp\\ipykernel_23364\\1373971429.py:28: PerformanceWarning: DataFrame is highly fragmented.  This is usually the result of calling `frame.insert` many times, which has poor performance.  Consider joining all columns at once using pd.concat(axis=1) instead. To get a de-fragmented frame, use `newframe = frame.copy()`\n",
      "  data['AZA_6months'] = data.groupby('RKD.ID', group_keys=False).apply(check_AZA_within_6months)\n",
      "C:\\Users\\georgea1\\AppData\\Local\\Temp\\ipykernel_23364\\1373971429.py:28: SettingWithCopyWarning: \n",
      "A value is trying to be set on a copy of a slice from a DataFrame.\n",
      "Try using .loc[row_indexer,col_indexer] = value instead\n",
      "\n",
      "See the caveats in the documentation: https://pandas.pydata.org/pandas-docs/stable/user_guide/indexing.html#returning-a-view-versus-a-copy\n",
      "  data['AZA_6months'] = data.groupby('RKD.ID', group_keys=False).apply(check_AZA_within_6months)\n"
     ]
    }
   ],
   "source": [
    "import pandas as pd\n",
    "\n",
    "# Define a function to check if Rituximab was given in the last 6 months\n",
    "def check_AZA_within_6months(group):\n",
    "    last_AZA_date = None\n",
    "    AZA_6months = []\n",
    "    \n",
    "    for i, row in group.iterrows():\n",
    "        if pd.notna(row['Stop Date_aza']):  # If Rituximab was given\n",
    "            last_AZA_date = row['Stop Date_aza']\n",
    "        \n",
    "        # Check if Rituximab is in 'Immunosuppressive.medication_x' within the last 6 months\n",
    "        if last_AZA_date is not None:\n",
    "            within_6months = row['Date_Of_Visit'] <= last_AZA_date + pd.DateOffset(months=6)\n",
    "            if within_6months or (pd.notna(row['AZA']) and row['AZA'] == 1):\n",
    "                AZA_6months.append(1)\n",
    "            else:\n",
    "                AZA_6months.append(0)\n",
    "        else:\n",
    "            if pd.notna(row['AZA']) and row['AZA'] ==1:\n",
    "                AZA_6months.append(1)\n",
    "            else:\n",
    "                AZA_6months.append(0)\n",
    "    \n",
    "    return pd.Series(AZA_6months, index=group.index)\n",
    "\n",
    "# Apply the function group by RKD.ID\n",
    "data['AZA_6months'] = data.groupby('RKD.ID', group_keys=False).apply(check_AZA_within_6months)\n"
   ]
  },
  {
   "cell_type": "code",
   "execution_count": null,
   "id": "110b84f4-d7d6-4dd8-ae25-1c4b708aed2d",
   "metadata": {},
   "outputs": [],
   "source": []
  },
  {
   "cell_type": "code",
   "execution_count": null,
   "id": "592ff00b-5781-4fac-9cf5-a9f020a599e0",
   "metadata": {},
   "outputs": [],
   "source": []
  },
  {
   "cell_type": "code",
   "execution_count": null,
   "id": "4899c7af-d49c-4127-9cfe-d03ae9d98fce",
   "metadata": {},
   "outputs": [],
   "source": []
  },
  {
   "cell_type": "code",
   "execution_count": null,
   "id": "3d4d2c53",
   "metadata": {},
   "outputs": [],
   "source": []
  },
  {
   "cell_type": "code",
   "execution_count": 448,
   "id": "9c955d87",
   "metadata": {},
   "outputs": [
    {
     "data": {
      "text/plain": [
       "AZA_6months\n",
       "0    5214\n",
       "1    1806\n",
       "Name: count, dtype: int64"
      ]
     },
     "execution_count": 448,
     "metadata": {},
     "output_type": "execute_result"
    }
   ],
   "source": [
    "data['AZA_6months'].value_counts(dropna=False)"
   ]
  },
  {
   "cell_type": "code",
   "execution_count": 115,
   "id": "ac7fd660",
   "metadata": {},
   "outputs": [
    {
     "data": {
      "text/plain": [
       "AZA_6months\n",
       "0.0    4658\n",
       "1.0    2362\n",
       "Name: count, dtype: int64"
      ]
     },
     "execution_count": 115,
     "metadata": {},
     "output_type": "execute_result"
    }
   ],
   "source": [
    "data['AZA_6months'].value_counts(dropna=False)"
   ]
  },
  {
   "cell_type": "code",
   "execution_count": 279,
   "id": "bb713da9",
   "metadata": {},
   "outputs": [
    {
     "data": {
      "text/plain": [
       "AZA_6months\n",
       "0    5214\n",
       "1    1806\n",
       "Name: count, dtype: int64"
      ]
     },
     "execution_count": 279,
     "metadata": {},
     "output_type": "execute_result"
    }
   ],
   "source": [
    "data['AZA_6months'].value_counts(dropna=False)"
   ]
  },
  {
   "cell_type": "code",
   "execution_count": 449,
   "id": "f5eae3a2",
   "metadata": {},
   "outputs": [],
   "source": [
    "data.to_csv('C:/Users/georgea1/OneDrive - Trinity College Dublin/Desktop/data7.csv',index=True)\n"
   ]
  },
  {
   "cell_type": "code",
   "execution_count": null,
   "id": "48c9e199",
   "metadata": {},
   "outputs": [],
   "source": []
  },
  {
   "cell_type": "code",
   "execution_count": null,
   "id": "3f2352cf",
   "metadata": {},
   "outputs": [],
   "source": []
  },
  {
   "cell_type": "markdown",
   "id": "2c65dbc6",
   "metadata": {},
   "source": [
    "## Previous relapse# This feature is not needed for first relapse prediction"
   ]
  },
  {
   "cell_type": "code",
   "execution_count": 119,
   "id": "3d4621d9",
   "metadata": {},
   "outputs": [],
   "source": [
    "def rlp(data):    \n",
    "    if (data['CPD_relapse']=='Definite Relapse'):\n",
    "        return 1"
   ]
  },
  {
   "cell_type": "code",
   "execution_count": 120,
   "id": "21c45a20",
   "metadata": {},
   "outputs": [
    {
     "name": "stderr",
     "output_type": "stream",
     "text": [
      "C:\\Users\\georgea1\\AppData\\Local\\Temp\\ipykernel_30080\\1148304147.py:1: SettingWithCopyWarning: \n",
      "A value is trying to be set on a copy of a slice from a DataFrame.\n",
      "Try using .loc[row_indexer,col_indexer] = value instead\n",
      "\n",
      "See the caveats in the documentation: https://pandas.pydata.org/pandas-docs/stable/user_guide/indexing.html#returning-a-view-versus-a-copy\n",
      "  data['rlp'] = data.apply(rlp, axis = 1)\n"
     ]
    }
   ],
   "source": [
    "data['rlp'] = data.apply(rlp, axis = 1)"
   ]
  },
  {
   "cell_type": "code",
   "execution_count": 121,
   "id": "b2079c20",
   "metadata": {},
   "outputs": [
    {
     "name": "stderr",
     "output_type": "stream",
     "text": [
      "C:\\Users\\georgea1\\AppData\\Local\\Temp\\ipykernel_30080\\2891949075.py:1: SettingWithCopyWarning: \n",
      "A value is trying to be set on a copy of a slice from a DataFrame.\n",
      "Try using .loc[row_indexer,col_indexer] = value instead\n",
      "\n",
      "See the caveats in the documentation: https://pandas.pydata.org/pandas-docs/stable/user_guide/indexing.html#returning-a-view-versus-a-copy\n",
      "  data['rlp']=data.groupby('RKD.ID').ffill()['rlp']\n"
     ]
    }
   ],
   "source": [
    "data['rlp']=data.groupby('RKD.ID').ffill()['rlp']"
   ]
  },
  {
   "cell_type": "code",
   "execution_count": 122,
   "id": "006f1845",
   "metadata": {},
   "outputs": [
    {
     "data": {
      "text/plain": [
       "rlp\n",
       "NaN    4927\n",
       "1.0    2093\n",
       "Name: count, dtype: int64"
      ]
     },
     "execution_count": 122,
     "metadata": {},
     "output_type": "execute_result"
    }
   ],
   "source": [
    "data['rlp'].value_counts(dropna=False)"
   ]
  },
  {
   "cell_type": "code",
   "execution_count": 123,
   "id": "895e98fc",
   "metadata": {},
   "outputs": [],
   "source": [
    "def Previous_relapse(data):    \n",
    "    if (data['CPD_relapse']=='Definite Relapse'):\n",
    "        return 0\n"
   ]
  },
  {
   "cell_type": "code",
   "execution_count": 124,
   "id": "ea88e78e",
   "metadata": {},
   "outputs": [
    {
     "name": "stderr",
     "output_type": "stream",
     "text": [
      "C:\\Users\\georgea1\\AppData\\Local\\Temp\\ipykernel_30080\\1633889300.py:1: SettingWithCopyWarning: \n",
      "A value is trying to be set on a copy of a slice from a DataFrame.\n",
      "Try using .loc[row_indexer,col_indexer] = value instead\n",
      "\n",
      "See the caveats in the documentation: https://pandas.pydata.org/pandas-docs/stable/user_guide/indexing.html#returning-a-view-versus-a-copy\n",
      "  data['Previous_relapse'] = data.apply(Previous_relapse, axis = 1)\n"
     ]
    }
   ],
   "source": [
    "data['Previous_relapse'] = data.apply(Previous_relapse, axis = 1)"
   ]
  },
  {
   "cell_type": "code",
   "execution_count": 125,
   "id": "1565f68b",
   "metadata": {},
   "outputs": [
    {
     "data": {
      "text/plain": [
       "Previous_relapse\n",
       "NaN    6607\n",
       "0.0     413\n",
       "Name: count, dtype: int64"
      ]
     },
     "execution_count": 125,
     "metadata": {},
     "output_type": "execute_result"
    }
   ],
   "source": [
    "data['Previous_relapse'].value_counts(dropna=False)"
   ]
  },
  {
   "cell_type": "code",
   "execution_count": 126,
   "id": "b3e12a1e",
   "metadata": {},
   "outputs": [
    {
     "name": "stderr",
     "output_type": "stream",
     "text": [
      "C:\\Users\\georgea1\\AppData\\Local\\Temp\\ipykernel_30080\\227020245.py:1: FutureWarning: A value is trying to be set on a copy of a DataFrame or Series through chained assignment using an inplace method.\n",
      "The behavior will change in pandas 3.0. This inplace method will never work because the intermediate object on which we are setting values always behaves as a copy.\n",
      "\n",
      "For example, when doing 'df[col].method(value, inplace=True)', try using 'df.method({col: value}, inplace=True)' or df[col] = df[col].method(value) instead, to perform the operation inplace on the original object.\n",
      "\n",
      "\n",
      "  data['Previous_relapse'].fillna(data['rlp'],inplace=True)\n",
      "C:\\Users\\georgea1\\AppData\\Local\\Temp\\ipykernel_30080\\227020245.py:1: SettingWithCopyWarning: \n",
      "A value is trying to be set on a copy of a slice from a DataFrame\n",
      "\n",
      "See the caveats in the documentation: https://pandas.pydata.org/pandas-docs/stable/user_guide/indexing.html#returning-a-view-versus-a-copy\n",
      "  data['Previous_relapse'].fillna(data['rlp'],inplace=True)\n"
     ]
    }
   ],
   "source": [
    "data['Previous_relapse'].fillna(data['rlp'],inplace=True)"
   ]
  },
  {
   "cell_type": "code",
   "execution_count": 127,
   "id": "5a8b6349",
   "metadata": {},
   "outputs": [
    {
     "data": {
      "text/plain": [
       "Previous_relapse\n",
       "NaN    4927\n",
       "1.0    1680\n",
       "0.0     413\n",
       "Name: count, dtype: int64"
      ]
     },
     "execution_count": 127,
     "metadata": {},
     "output_type": "execute_result"
    }
   ],
   "source": [
    "data['Previous_relapse'].value_counts(dropna=False)"
   ]
  },
  {
   "cell_type": "code",
   "execution_count": 128,
   "id": "0097bdd0",
   "metadata": {},
   "outputs": [
    {
     "name": "stderr",
     "output_type": "stream",
     "text": [
      "C:\\Users\\georgea1\\AppData\\Local\\Temp\\ipykernel_30080\\2269832989.py:1: FutureWarning: A value is trying to be set on a copy of a DataFrame or Series through chained assignment using an inplace method.\n",
      "The behavior will change in pandas 3.0. This inplace method will never work because the intermediate object on which we are setting values always behaves as a copy.\n",
      "\n",
      "For example, when doing 'df[col].method(value, inplace=True)', try using 'df.method({col: value}, inplace=True)' or df[col] = df[col].method(value) instead, to perform the operation inplace on the original object.\n",
      "\n",
      "\n",
      "  data['Previous_relapse'].fillna(0,inplace=True)\n",
      "C:\\Users\\georgea1\\AppData\\Local\\Temp\\ipykernel_30080\\2269832989.py:1: SettingWithCopyWarning: \n",
      "A value is trying to be set on a copy of a slice from a DataFrame\n",
      "\n",
      "See the caveats in the documentation: https://pandas.pydata.org/pandas-docs/stable/user_guide/indexing.html#returning-a-view-versus-a-copy\n",
      "  data['Previous_relapse'].fillna(0,inplace=True)\n"
     ]
    }
   ],
   "source": [
    "data['Previous_relapse'].fillna(0,inplace=True)"
   ]
  },
  {
   "cell_type": "code",
   "execution_count": null,
   "id": "83aa6f07",
   "metadata": {},
   "outputs": [],
   "source": []
  },
  {
   "cell_type": "markdown",
   "id": "4d590c93",
   "metadata": {},
   "source": [
    "## ANCA switch"
   ]
  },
  {
   "cell_type": "code",
   "execution_count": 450,
   "id": "7b32a7bc",
   "metadata": {},
   "outputs": [
    {
     "name": "stderr",
     "output_type": "stream",
     "text": [
      "C:\\Users\\georgea1\\AppData\\Local\\Temp\\ipykernel_23364\\417430006.py:1: PerformanceWarning: DataFrame is highly fragmented.  This is usually the result of calling `frame.insert` many times, which has poor performance.  Consider joining all columns at once using pd.concat(axis=1) instead. To get a de-fragmented frame, use `newframe = frame.copy()`\n",
      "  data['ANCA IF_pre'] = data.groupby(['RKD.ID'])['ANCA.IF'].shift(1)\n",
      "C:\\Users\\georgea1\\AppData\\Local\\Temp\\ipykernel_23364\\417430006.py:1: SettingWithCopyWarning: \n",
      "A value is trying to be set on a copy of a slice from a DataFrame.\n",
      "Try using .loc[row_indexer,col_indexer] = value instead\n",
      "\n",
      "See the caveats in the documentation: https://pandas.pydata.org/pandas-docs/stable/user_guide/indexing.html#returning-a-view-versus-a-copy\n",
      "  data['ANCA IF_pre'] = data.groupby(['RKD.ID'])['ANCA.IF'].shift(1)\n"
     ]
    }
   ],
   "source": [
    "data['ANCA IF_pre'] = data.groupby(['RKD.ID'])['ANCA.IF'].shift(1)"
   ]
  },
  {
   "cell_type": "code",
   "execution_count": 451,
   "id": "13fdff2b",
   "metadata": {},
   "outputs": [
    {
     "name": "stderr",
     "output_type": "stream",
     "text": [
      "C:\\Users\\georgea1\\AppData\\Local\\Temp\\ipykernel_23364\\2709418373.py:1: PerformanceWarning: DataFrame is highly fragmented.  This is usually the result of calling `frame.insert` many times, which has poor performance.  Consider joining all columns at once using pd.concat(axis=1) instead. To get a de-fragmented frame, use `newframe = frame.copy()`\n",
      "  data['ANCA IF_post'] = data.groupby(['RKD.ID'])['ANCA.IF'].shift(-1)\n",
      "C:\\Users\\georgea1\\AppData\\Local\\Temp\\ipykernel_23364\\2709418373.py:1: SettingWithCopyWarning: \n",
      "A value is trying to be set on a copy of a slice from a DataFrame.\n",
      "Try using .loc[row_indexer,col_indexer] = value instead\n",
      "\n",
      "See the caveats in the documentation: https://pandas.pydata.org/pandas-docs/stable/user_guide/indexing.html#returning-a-view-versus-a-copy\n",
      "  data['ANCA IF_post'] = data.groupby(['RKD.ID'])['ANCA.IF'].shift(-1)\n"
     ]
    }
   ],
   "source": [
    "data['ANCA IF_post'] = data.groupby(['RKD.ID'])['ANCA.IF'].shift(-1)\n"
   ]
  },
  {
   "cell_type": "code",
   "execution_count": 452,
   "id": "c061c916",
   "metadata": {},
   "outputs": [],
   "source": [
    "def ancastatus(data):    \n",
    "    if (data['ANCA IF_pre'] =='Negative') & (data['ANCA IF_pre']=='Negative')& (data['Delta_t_previous']<=200)&(data['Delta_t_post']<=200):\n",
    "        return 'Negative'\n",
    "    elif (data['ANCA IF_post'] =='Positive') & (data['ANCA IF_post']=='Positive')& (data['Delta_t_previous']<=200)&(data['Delta_t_post']<=200):\n",
    "        return 'Positive'\n",
    "    elif (data['ANCA IF_post'] =='Atypical') & (data['ANCA IF_post']=='Atypical')& (data['Delta_t_previous']<=200)&(data['Delta_t_post']<=200):\n",
    "        return 'Atypical'\n",
    "    "
   ]
  },
  {
   "cell_type": "code",
   "execution_count": 453,
   "id": "a39ae6c0",
   "metadata": {},
   "outputs": [
    {
     "name": "stderr",
     "output_type": "stream",
     "text": [
      "C:\\Users\\georgea1\\AppData\\Local\\Temp\\ipykernel_23364\\687635160.py:1: PerformanceWarning: DataFrame is highly fragmented.  This is usually the result of calling `frame.insert` many times, which has poor performance.  Consider joining all columns at once using pd.concat(axis=1) instead. To get a de-fragmented frame, use `newframe = frame.copy()`\n",
      "  data['ancastatus'] = data.apply(ancastatus, axis = 1)\n",
      "C:\\Users\\georgea1\\AppData\\Local\\Temp\\ipykernel_23364\\687635160.py:1: SettingWithCopyWarning: \n",
      "A value is trying to be set on a copy of a slice from a DataFrame.\n",
      "Try using .loc[row_indexer,col_indexer] = value instead\n",
      "\n",
      "See the caveats in the documentation: https://pandas.pydata.org/pandas-docs/stable/user_guide/indexing.html#returning-a-view-versus-a-copy\n",
      "  data['ancastatus'] = data.apply(ancastatus, axis = 1)\n"
     ]
    }
   ],
   "source": [
    "\n",
    "data['ancastatus'] = data.apply(ancastatus, axis = 1)"
   ]
  },
  {
   "cell_type": "code",
   "execution_count": 454,
   "id": "8cfc8d6d",
   "metadata": {},
   "outputs": [
    {
     "data": {
      "text/plain": [
       "ancastatus\n",
       "None        6794\n",
       "Negative     198\n",
       "Atypical      28\n",
       "Name: count, dtype: int64"
      ]
     },
     "execution_count": 454,
     "metadata": {},
     "output_type": "execute_result"
    }
   ],
   "source": [
    "data['ancastatus'].value_counts(dropna=False)"
   ]
  },
  {
   "cell_type": "code",
   "execution_count": 455,
   "id": "b2c3c796",
   "metadata": {},
   "outputs": [],
   "source": [
    "def ANCAIF_nw(data):    \n",
    "    if (data['ANCA IF_pre'] =='Negative') & (data['ANCA IF_post']=='Negative') & (data['Delta_t_previous']<=200) & (data['Delta_t_post']<=200)&(data['ANCA.IF']=='Not tested'):\n",
    "        return 'Negative'\n",
    "    elif (data['ANCA IF_pre'] =='C') & (data['ANCA IF_post']=='C')& (data['Delta_t_previous']<=200)&(data['Delta_t_post']<=200)&(data['ANCA.IF']=='Not tested') :\n",
    "        return 'C'\n",
    "    elif (data['ANCA IF_pre'] =='P') & (data['ANCA IF_post']=='P')& (data['Delta_t_previous']<=200)&(data['Delta_t_post']<=200)&(data['ANCA.IF']=='Not tested'):\n",
    "        return 'P'\n",
    "    elif (data['ANCA IF_pre'] =='Atypical') & (data['ANCA IF_post']=='Atypical')& (data['Delta_t_previous']<=200)&(data['Delta_t_post']<=200)&(data['ANCA.IF']=='Not tested'):\n",
    "        return 'Atypical'\n",
    "    "
   ]
  },
  {
   "cell_type": "code",
   "execution_count": 456,
   "id": "35813fdc",
   "metadata": {},
   "outputs": [
    {
     "name": "stderr",
     "output_type": "stream",
     "text": [
      "C:\\Users\\georgea1\\AppData\\Local\\Temp\\ipykernel_23364\\3734994526.py:1: PerformanceWarning: DataFrame is highly fragmented.  This is usually the result of calling `frame.insert` many times, which has poor performance.  Consider joining all columns at once using pd.concat(axis=1) instead. To get a de-fragmented frame, use `newframe = frame.copy()`\n",
      "  data['ANCAIF_nw'] = data.apply(ANCAIF_nw, axis = 1)\n"
     ]
    }
   ],
   "source": [
    "\n",
    "data['ANCAIF_nw'] = data.apply(ANCAIF_nw, axis = 1)"
   ]
  },
  {
   "cell_type": "code",
   "execution_count": 457,
   "id": "837659ef",
   "metadata": {},
   "outputs": [
    {
     "name": "stderr",
     "output_type": "stream",
     "text": [
      "C:\\Users\\georgea1\\AppData\\Local\\Temp\\ipykernel_23364\\2042393290.py:1: FutureWarning: A value is trying to be set on a copy of a DataFrame or Series through chained assignment using an inplace method.\n",
      "The behavior will change in pandas 3.0. This inplace method will never work because the intermediate object on which we are setting values always behaves as a copy.\n",
      "\n",
      "For example, when doing 'df[col].method(value, inplace=True)', try using 'df.method({col: value}, inplace=True)' or df[col] = df[col].method(value) instead, to perform the operation inplace on the original object.\n",
      "\n",
      "\n",
      "  data['ANCAIF_nw'].fillna(data['ANCA.IF'],inplace=True)\n"
     ]
    }
   ],
   "source": [
    "data['ANCAIF_nw'].fillna(data['ANCA.IF'],inplace=True)"
   ]
  },
  {
   "cell_type": "code",
   "execution_count": 458,
   "id": "f1ccfea8",
   "metadata": {},
   "outputs": [
    {
     "data": {
      "text/plain": [
       "ANCA.IF\n",
       "NaN           3763\n",
       "Not tested    1000\n",
       "C              712\n",
       "P              706\n",
       "Negative       700\n",
       "Atypical        84\n",
       "Pending         55\n",
       "Name: count, dtype: int64"
      ]
     },
     "execution_count": 458,
     "metadata": {},
     "output_type": "execute_result"
    }
   ],
   "source": [
    "\n",
    "data['ANCA.IF'].value_counts(dropna=False)"
   ]
  },
  {
   "cell_type": "code",
   "execution_count": 459,
   "id": "edb7f19d",
   "metadata": {},
   "outputs": [
    {
     "data": {
      "text/plain": [
       "ANCAIF_nw\n",
       "NaN           3763\n",
       "Not tested     946\n",
       "C              733\n",
       "P              723\n",
       "Negative       715\n",
       "Atypical        85\n",
       "Pending         55\n",
       "Name: count, dtype: int64"
      ]
     },
     "execution_count": 459,
     "metadata": {},
     "output_type": "execute_result"
    }
   ],
   "source": [
    "\n",
    "data['ANCAIF_nw'].value_counts(dropna=False)"
   ]
  },
  {
   "cell_type": "code",
   "execution_count": 460,
   "id": "0c3f8d14",
   "metadata": {},
   "outputs": [
    {
     "name": "stderr",
     "output_type": "stream",
     "text": [
      "C:\\Users\\georgea1\\AppData\\Local\\Temp\\ipykernel_23364\\2897031956.py:1: PerformanceWarning: DataFrame is highly fragmented.  This is usually the result of calling `frame.insert` many times, which has poor performance.  Consider joining all columns at once using pd.concat(axis=1) instead. To get a de-fragmented frame, use `newframe = frame.copy()`\n",
      "  data['ANCAIF_nw_1'] = data.groupby(['RKD.ID'])['ANCAIF_nw'].shift(1)\n"
     ]
    }
   ],
   "source": [
    "data['ANCAIF_nw_1'] = data.groupby(['RKD.ID'])['ANCAIF_nw'].shift(1)"
   ]
  },
  {
   "cell_type": "code",
   "execution_count": 461,
   "id": "dafdcf87",
   "metadata": {},
   "outputs": [],
   "source": [
    "def ancalevel3(data):    \n",
    "    if (data['ANCAIF_nw'] =='Negative'):\n",
    "        return 2\n",
    "    "
   ]
  },
  {
   "cell_type": "code",
   "execution_count": 462,
   "id": "4bca5abd",
   "metadata": {},
   "outputs": [
    {
     "name": "stderr",
     "output_type": "stream",
     "text": [
      "C:\\Users\\georgea1\\AppData\\Local\\Temp\\ipykernel_23364\\2042417159.py:1: PerformanceWarning: DataFrame is highly fragmented.  This is usually the result of calling `frame.insert` many times, which has poor performance.  Consider joining all columns at once using pd.concat(axis=1) instead. To get a de-fragmented frame, use `newframe = frame.copy()`\n",
      "  data['ancalevel3'] = data.apply(ancalevel3, axis = 1)\n"
     ]
    }
   ],
   "source": [
    "\n",
    "data['ancalevel3'] = data.apply(ancalevel3, axis = 1)"
   ]
  },
  {
   "cell_type": "code",
   "execution_count": null,
   "id": "b621bdd2",
   "metadata": {},
   "outputs": [],
   "source": []
  },
  {
   "cell_type": "code",
   "execution_count": 463,
   "id": "a8fd652e",
   "metadata": {},
   "outputs": [],
   "source": [
    "def ancalevel(data):    \n",
    "    if (data['At.any.point.ANCA.specificity']=='MPO'):\n",
    "        return data['Anti.MPO.level']\n",
    "    elif (data['At.any.point.ANCA.specificity']=='PR3'):\n",
    "        return data['Anti.PR3.level']\n",
    "    elif (data['At.any.point.ANCA.specificity'] =='ELISA negative')&(data['ANCA.IF'] =='P'):\n",
    "        return data['Anti.MPO.level']\n",
    "    elif (data['At.any.point.ANCA.specificity'] =='ELISA negative')&(data['ANCA.IF'] =='C'):\n",
    "        return data['Anti.PR3.level']\n",
    "    elif (data['At.any.point.ANCA.specificity'] =='ELISA negative')&(data['ANCA.IF'] =='Negative')&(data['Anti.PR3.level']>=data['Anti.MPO.level']):\n",
    "        return data['Anti.PR3.level']\n",
    "    elif (data['At.any.point.ANCA.specificity'] =='ELISA negative')&(data['ANCA.IF'] =='Atypical')&(data['Anti.PR3.level']>=data['Anti.MPO.level']):\n",
    "        return data['Anti.PR3.level']\n",
    "    elif (data['At.any.point.ANCA.specificity'] =='ELISA negative')&(data['ANCA.IF'] =='Pending')&(data['Anti.PR3.level']>=data['Anti.MPO.level']):\n",
    "        return data['Anti.PR3.level']\n",
    "    elif (data['At.any.point.ANCA.specificity'] =='MPO and PR3')&(data['Anti.PR3.level']<=data['Anti.MPO.level']):\n",
    "        return data['Anti.MPO.level']\n",
    "    elif (data['At.any.point.ANCA.specificity'] =='MPO and PR3')&(data['Anti.PR3.level']>data['Anti.MPO.level']):\n",
    "        return data['Anti.PR3.level']\n",
    "    elif (data['At.any.point.ANCA.specificity'] =='MPO and PR3')&(data['ANCA.IF'] =='Not tested'):\n",
    "        return data['Anti.MPO.level']\n",
    "    elif (data['At.any.point.ANCA.specificity'] =='MPO and PR3')&(data['ANCA.IF'] =='Atypical'):\n",
    "        return data['Anti-MPO level']\n",
    "    elif (data['At.any.point.ANCA.specificity'] =='No ELISA performed'):\n",
    "        return data['Anti.PR3.level']\n",
    "    \n",
    "    \n",
    "    \n",
    "    \n",
    "    "
   ]
  },
  {
   "cell_type": "code",
   "execution_count": 464,
   "id": "d5f1027c",
   "metadata": {},
   "outputs": [
    {
     "name": "stderr",
     "output_type": "stream",
     "text": [
      "C:\\Users\\georgea1\\AppData\\Local\\Temp\\ipykernel_23364\\4054293319.py:1: PerformanceWarning: DataFrame is highly fragmented.  This is usually the result of calling `frame.insert` many times, which has poor performance.  Consider joining all columns at once using pd.concat(axis=1) instead. To get a de-fragmented frame, use `newframe = frame.copy()`\n",
      "  data['ANCA_level'] = data.apply(ancalevel, axis = 1)\n"
     ]
    }
   ],
   "source": [
    "\n",
    "data['ANCA_level'] = data.apply(ancalevel, axis = 1)\n"
   ]
  },
  {
   "cell_type": "code",
   "execution_count": 465,
   "id": "7a061118",
   "metadata": {},
   "outputs": [
    {
     "name": "stderr",
     "output_type": "stream",
     "text": [
      "C:\\Users\\georgea1\\AppData\\Local\\Temp\\ipykernel_23364\\2854777096.py:1: FutureWarning: A value is trying to be set on a copy of a DataFrame or Series through chained assignment using an inplace method.\n",
      "The behavior will change in pandas 3.0. This inplace method will never work because the intermediate object on which we are setting values always behaves as a copy.\n",
      "\n",
      "For example, when doing 'df[col].method(value, inplace=True)', try using 'df.method({col: value}, inplace=True)' or df[col] = df[col].method(value) instead, to perform the operation inplace on the original object.\n",
      "\n",
      "\n",
      "  data['ANCA_level'].fillna(data['ancalevel3'],inplace=True)\n"
     ]
    }
   ],
   "source": [
    "data['ANCA_level'].fillna(data['ancalevel3'],inplace=True)"
   ]
  },
  {
   "cell_type": "code",
   "execution_count": 466,
   "id": "50b16bfc",
   "metadata": {},
   "outputs": [],
   "source": [
    "## Create a new variable- ANCA_Status \n",
    "def anca_status1(data): \n",
    "    if (data['ANCA_level']<=2):\n",
    "        return 'ANCA Negative'\n",
    "    elif (data['ANCA_level']>2):\n",
    "        return 'ANCA Positive'\n",
    "\n"
   ]
  },
  {
   "cell_type": "code",
   "execution_count": 467,
   "id": "cb26f19f",
   "metadata": {},
   "outputs": [
    {
     "name": "stderr",
     "output_type": "stream",
     "text": [
      "C:\\Users\\georgea1\\AppData\\Local\\Temp\\ipykernel_23364\\2111880144.py:1: PerformanceWarning: DataFrame is highly fragmented.  This is usually the result of calling `frame.insert` many times, which has poor performance.  Consider joining all columns at once using pd.concat(axis=1) instead. To get a de-fragmented frame, use `newframe = frame.copy()`\n",
      "  data['ANCA_Status1'] = data.apply(anca_status1, axis = 1)\n"
     ]
    }
   ],
   "source": [
    "\n",
    "data['ANCA_Status1'] = data.apply(anca_status1, axis = 1)"
   ]
  },
  {
   "cell_type": "code",
   "execution_count": 468,
   "id": "9a1c4e71",
   "metadata": {},
   "outputs": [],
   "source": [
    "def anca_status2(data):    \n",
    "    if (data['ANCAIF_nw']=='Negative'):\n",
    "        return 'ANCA Negative'\n",
    "    elif (data['ANCAIF_nw']=='C'):\n",
    "        return \"ANCA Positive\"\n",
    "    elif (data['ANCAIF_nw']=='P'):\n",
    "        return 'ANCA Positive'\n",
    "    elif (data['ANCAIF_nw']=='Atypical'): \n",
    "        return 'ANCA Positive'"
   ]
  },
  {
   "cell_type": "code",
   "execution_count": 469,
   "id": "9d0ada2c",
   "metadata": {},
   "outputs": [
    {
     "name": "stderr",
     "output_type": "stream",
     "text": [
      "C:\\Users\\georgea1\\AppData\\Local\\Temp\\ipykernel_23364\\848874717.py:1: PerformanceWarning: DataFrame is highly fragmented.  This is usually the result of calling `frame.insert` many times, which has poor performance.  Consider joining all columns at once using pd.concat(axis=1) instead. To get a de-fragmented frame, use `newframe = frame.copy()`\n",
      "  data['ANCA_Status2'] = data.apply(anca_status2, axis = 1)\n"
     ]
    }
   ],
   "source": [
    "\n",
    "data['ANCA_Status2'] = data.apply(anca_status2, axis = 1)"
   ]
  },
  {
   "cell_type": "code",
   "execution_count": 470,
   "id": "b009de85",
   "metadata": {},
   "outputs": [
    {
     "name": "stderr",
     "output_type": "stream",
     "text": [
      "C:\\Users\\georgea1\\AppData\\Local\\Temp\\ipykernel_23364\\3401221081.py:1: FutureWarning: A value is trying to be set on a copy of a DataFrame or Series through chained assignment using an inplace method.\n",
      "The behavior will change in pandas 3.0. This inplace method will never work because the intermediate object on which we are setting values always behaves as a copy.\n",
      "\n",
      "For example, when doing 'df[col].method(value, inplace=True)', try using 'df.method({col: value}, inplace=True)' or df[col] = df[col].method(value) instead, to perform the operation inplace on the original object.\n",
      "\n",
      "\n",
      "  data['ANCA_Status1'].fillna(data['ANCA_Status2'],inplace=True)\n"
     ]
    }
   ],
   "source": [
    "data['ANCA_Status1'].fillna(data['ANCA_Status2'],inplace=True)"
   ]
  },
  {
   "cell_type": "code",
   "execution_count": 471,
   "id": "5ae1ea53",
   "metadata": {},
   "outputs": [],
   "source": [
    "data.drop(['ANCA_Status2','ancalevel3'], axis=1, inplace=True)"
   ]
  },
  {
   "cell_type": "code",
   "execution_count": 472,
   "id": "5df668a2",
   "metadata": {},
   "outputs": [
    {
     "data": {
      "text/plain": [
       "ANCA_Status1\n",
       "None             4159\n",
       "ANCA Positive    1896\n",
       "ANCA Negative     965\n",
       "Name: count, dtype: int64"
      ]
     },
     "execution_count": 472,
     "metadata": {},
     "output_type": "execute_result"
    }
   ],
   "source": [
    "data['ANCA_Status1'].value_counts(dropna=False)"
   ]
  },
  {
   "cell_type": "code",
   "execution_count": 473,
   "id": "f7076884",
   "metadata": {},
   "outputs": [
    {
     "name": "stderr",
     "output_type": "stream",
     "text": [
      "C:\\Users\\georgea1\\AppData\\Local\\Temp\\ipykernel_23364\\416630138.py:1: PerformanceWarning: DataFrame is highly fragmented.  This is usually the result of calling `frame.insert` many times, which has poor performance.  Consider joining all columns at once using pd.concat(axis=1) instead. To get a de-fragmented frame, use `newframe = frame.copy()`\n",
      "  data['ANCA_Status_1'] = data.groupby(['RKD.ID'])['ANCA_Status1'].shift(1)\n"
     ]
    }
   ],
   "source": [
    "data['ANCA_Status_1'] = data.groupby(['RKD.ID'])['ANCA_Status1'].shift(1)"
   ]
  },
  {
   "cell_type": "code",
   "execution_count": 474,
   "id": "1bf5af5c",
   "metadata": {},
   "outputs": [],
   "source": [
    "def ANCA_group(data):    \n",
    "    if (data['ANCA_Status_1'] =='ANCA Negative')&(data['ANCA_Status1']=='ANCA Negative')&(data['Delta_t_previous']<=550):\n",
    "        return 'Neg-Neg'\n",
    "    elif (data['ANCA_Status_1'] =='ANCA Negative')&(data['ANCA_Status1']=='ANCA Positive')&(data['Delta_t_previous']<=550):\n",
    "        return 'Neg-Pos'\n",
    "    elif (data['ANCA_Status_1'] =='ANCA Positive')&(data['ANCA_Status1']=='ANCA Positive')&(data['Delta_t_previous']<=550):\n",
    "        return 'Pos-Pos'\n",
    "    elif (data['ANCA_Status_1'] =='ANCA Positive')&(data['ANCA_Status1']=='ANCA Negative')&(data['Delta_t_previous']<=550):\n",
    "        return 'Pos-Neg'\n",
    "    else:\n",
    "        return 'Switch Status Unknown'"
   ]
  },
  {
   "cell_type": "code",
   "execution_count": 475,
   "id": "ceed8eb5",
   "metadata": {},
   "outputs": [
    {
     "name": "stderr",
     "output_type": "stream",
     "text": [
      "C:\\Users\\georgea1\\AppData\\Local\\Temp\\ipykernel_23364\\4106831817.py:1: PerformanceWarning: DataFrame is highly fragmented.  This is usually the result of calling `frame.insert` many times, which has poor performance.  Consider joining all columns at once using pd.concat(axis=1) instead. To get a de-fragmented frame, use `newframe = frame.copy()`\n",
      "  data['ANCA_group'] = data.apply(ANCA_group, axis = 1)\n"
     ]
    }
   ],
   "source": [
    "data['ANCA_group'] = data.apply(ANCA_group, axis = 1)\n"
   ]
  },
  {
   "cell_type": "code",
   "execution_count": 476,
   "id": "1e6f0150",
   "metadata": {},
   "outputs": [],
   "source": [
    "def ANCA_switch(data):    \n",
    "    if (data['CPD_relapse'] =='Definite Relapse'):\n",
    "        return 'NA'"
   ]
  },
  {
   "cell_type": "code",
   "execution_count": 477,
   "id": "f73b6087",
   "metadata": {},
   "outputs": [
    {
     "name": "stderr",
     "output_type": "stream",
     "text": [
      "C:\\Users\\georgea1\\AppData\\Local\\Temp\\ipykernel_23364\\2761639527.py:1: PerformanceWarning: DataFrame is highly fragmented.  This is usually the result of calling `frame.insert` many times, which has poor performance.  Consider joining all columns at once using pd.concat(axis=1) instead. To get a de-fragmented frame, use `newframe = frame.copy()`\n",
      "  data['ANCA_switch'] = data.apply(ANCA_switch, axis = 1)\n"
     ]
    }
   ],
   "source": [
    "data['ANCA_switch'] = data.apply(ANCA_switch, axis = 1)\n"
   ]
  },
  {
   "cell_type": "code",
   "execution_count": 478,
   "id": "ddba70da",
   "metadata": {},
   "outputs": [
    {
     "name": "stderr",
     "output_type": "stream",
     "text": [
      "C:\\Users\\georgea1\\AppData\\Local\\Temp\\ipykernel_23364\\3071787752.py:1: FutureWarning: A value is trying to be set on a copy of a DataFrame or Series through chained assignment using an inplace method.\n",
      "The behavior will change in pandas 3.0. This inplace method will never work because the intermediate object on which we are setting values always behaves as a copy.\n",
      "\n",
      "For example, when doing 'df[col].method(value, inplace=True)', try using 'df.method({col: value}, inplace=True)' or df[col] = df[col].method(value) instead, to perform the operation inplace on the original object.\n",
      "\n",
      "\n",
      "  data['ANCA_switch'].fillna(data['ANCA_group'],inplace=True)\n"
     ]
    }
   ],
   "source": [
    "data['ANCA_switch'].fillna(data['ANCA_group'],inplace=True)"
   ]
  },
  {
   "cell_type": "code",
   "execution_count": 479,
   "id": "780cee03",
   "metadata": {},
   "outputs": [
    {
     "data": {
      "text/plain": [
       "ANCA_switch\n",
       "Switch Status Unknown    5234\n",
       "Pos-Pos                   838\n",
       "NA                        413\n",
       "Neg-Neg                   377\n",
       "Pos-Neg                    89\n",
       "Neg-Pos                    69\n",
       "Name: count, dtype: int64"
      ]
     },
     "execution_count": 479,
     "metadata": {},
     "output_type": "execute_result"
    }
   ],
   "source": [
    "data['ANCA_switch'].value_counts(dropna=False)"
   ]
  },
  {
   "cell_type": "code",
   "execution_count": 480,
   "id": "df46a861",
   "metadata": {},
   "outputs": [
    {
     "data": {
      "text/plain": [
       "ANCA_Status1\n",
       "None             4159\n",
       "ANCA Positive    1896\n",
       "ANCA Negative     965\n",
       "Name: count, dtype: int64"
      ]
     },
     "execution_count": 480,
     "metadata": {},
     "output_type": "execute_result"
    }
   ],
   "source": [
    "data['ANCA_Status1'].value_counts(dropna=False)"
   ]
  },
  {
   "cell_type": "code",
   "execution_count": 481,
   "id": "76f78a00",
   "metadata": {},
   "outputs": [
    {
     "name": "stderr",
     "output_type": "stream",
     "text": [
      "C:\\Users\\georgea1\\AppData\\Local\\Temp\\ipykernel_23364\\1327860053.py:1: FutureWarning: A value is trying to be set on a copy of a DataFrame or Series through chained assignment using an inplace method.\n",
      "The behavior will change in pandas 3.0. This inplace method will never work because the intermediate object on which we are setting values always behaves as a copy.\n",
      "\n",
      "For example, when doing 'df[col].method(value, inplace=True)', try using 'df.method({col: value}, inplace=True)' or df[col] = df[col].method(value) instead, to perform the operation inplace on the original object.\n",
      "\n",
      "\n",
      "  data['ANCA_Status1'].fillna('ANCA Status Unknown',inplace=True)\n"
     ]
    }
   ],
   "source": [
    "data['ANCA_Status1'].fillna('ANCA Status Unknown',inplace=True)"
   ]
  },
  {
   "cell_type": "code",
   "execution_count": 148,
   "id": "d353ed33",
   "metadata": {},
   "outputs": [],
   "source": [
    "data.to_csv('C:/Users/georgea1/OneDrive - Trinity College Dublin/Desktop/persistent_pos.csv',index=True)\n"
   ]
  },
  {
   "cell_type": "code",
   "execution_count": null,
   "id": "1537ffb4",
   "metadata": {},
   "outputs": [],
   "source": []
  },
  {
   "cell_type": "markdown",
   "id": "a5857e08",
   "metadata": {},
   "source": [
    "## Treatment Discountinuation points"
   ]
  },
  {
   "cell_type": "code",
   "execution_count": 482,
   "id": "157e733e",
   "metadata": {},
   "outputs": [
    {
     "data": {
      "text/plain": [
       "0       2012-08-31\n",
       "1       2012-09-07\n",
       "2       2012-09-17\n",
       "3       2012-09-21\n",
       "4       2012-09-28\n",
       "           ...    \n",
       "10631   2015-05-19\n",
       "10632   2017-02-24\n",
       "10633   2023-02-14\n",
       "10634   2024-02-06\n",
       "10635   2024-05-20\n",
       "Name: Date_Of_Visit, Length: 7020, dtype: datetime64[ns]"
      ]
     },
     "execution_count": 482,
     "metadata": {},
     "output_type": "execute_result"
    }
   ],
   "source": [
    "data['Date_Of_Visit'] = pd.to_datetime(data['Date_Of_Visit'], format='%Y-%m-%d')\n",
    "data['Date_Of_Visit']"
   ]
  },
  {
   "cell_type": "code",
   "execution_count": 483,
   "id": "6b2bee11",
   "metadata": {},
   "outputs": [
    {
     "name": "stderr",
     "output_type": "stream",
     "text": [
      "C:\\Users\\georgea1\\AppData\\Local\\Temp\\ipykernel_23364\\192431476.py:1: PerformanceWarning: DataFrame is highly fragmented.  This is usually the result of calling `frame.insert` many times, which has poor performance.  Consider joining all columns at once using pd.concat(axis=1) instead. To get a de-fragmented frame, use `newframe = frame.copy()`\n",
      "  data['Immunosuppressive.status+1'] = data.groupby(['RKD.ID'])['Immunosuppressive.status_x'].shift(-1)\n"
     ]
    }
   ],
   "source": [
    "data['Immunosuppressive.status+1'] = data.groupby(['RKD.ID'])['Immunosuppressive.status_x'].shift(-1)"
   ]
  },
  {
   "cell_type": "code",
   "execution_count": 484,
   "id": "c2d41984",
   "metadata": {},
   "outputs": [
    {
     "name": "stderr",
     "output_type": "stream",
     "text": [
      "C:\\Users\\georgea1\\AppData\\Local\\Temp\\ipykernel_23364\\2016929995.py:1: PerformanceWarning: DataFrame is highly fragmented.  This is usually the result of calling `frame.insert` many times, which has poor performance.  Consider joining all columns at once using pd.concat(axis=1) instead. To get a de-fragmented frame, use `newframe = frame.copy()`\n",
      "  data['Date_Of_Visit+1'] = data.groupby(['RKD.ID'])['Date_Of_Visit'].shift(-1)\n"
     ]
    }
   ],
   "source": [
    "data['Date_Of_Visit+1'] = data.groupby(['RKD.ID'])['Date_Of_Visit'].shift(-1)"
   ]
  },
  {
   "cell_type": "code",
   "execution_count": 485,
   "id": "62f651d9",
   "metadata": {},
   "outputs": [
    {
     "data": {
      "text/plain": [
       "0       2012-09-07\n",
       "1       2012-09-17\n",
       "2       2012-09-21\n",
       "3       2012-09-28\n",
       "4       2012-10-01\n",
       "           ...    \n",
       "10631   2017-02-24\n",
       "10632   2023-02-14\n",
       "10633   2024-02-06\n",
       "10634   2024-05-20\n",
       "10635          NaT\n",
       "Name: Date_Of_Visit+1, Length: 7020, dtype: datetime64[ns]"
      ]
     },
     "execution_count": 485,
     "metadata": {},
     "output_type": "execute_result"
    }
   ],
   "source": [
    "data['Date_Of_Visit+1'] = pd.to_datetime(data['Date_Of_Visit+1'], format='%Y-%m-%d')\n",
    "data['Date_Of_Visit+1']"
   ]
  },
  {
   "cell_type": "code",
   "execution_count": 486,
   "id": "6015468f",
   "metadata": {},
   "outputs": [
    {
     "name": "stderr",
     "output_type": "stream",
     "text": [
      "C:\\Users\\georgea1\\AppData\\Local\\Temp\\ipykernel_23364\\1009745644.py:1: PerformanceWarning: DataFrame is highly fragmented.  This is usually the result of calling `frame.insert` many times, which has poor performance.  Consider joining all columns at once using pd.concat(axis=1) instead. To get a de-fragmented frame, use `newframe = frame.copy()`\n",
      "  data['CPD_on_off+1']=data.groupby(['RKD.ID'])['CPD_on_off'].shift(-1)\n"
     ]
    },
    {
     "data": {
      "text/plain": [
       "CPD_on_off+1\n",
       "On Treatment                4505\n",
       "Off Treatment               1178\n",
       "NaN                          595\n",
       "Manual review                330\n",
       "Treatment Status Unknown     265\n",
       "Prednisolone<=10             147\n",
       "Name: count, dtype: int64"
      ]
     },
     "execution_count": 486,
     "metadata": {},
     "output_type": "execute_result"
    }
   ],
   "source": [
    "data['CPD_on_off+1']=data.groupby(['RKD.ID'])['CPD_on_off'].shift(-1)\n",
    "data['CPD_on_off+1'].value_counts(dropna=False)"
   ]
  },
  {
   "cell_type": "code",
   "execution_count": 487,
   "id": "255a027e",
   "metadata": {},
   "outputs": [
    {
     "name": "stderr",
     "output_type": "stream",
     "text": [
      "C:\\Users\\georgea1\\AppData\\Local\\Temp\\ipykernel_23364\\2823367593.py:1: FutureWarning: A value is trying to be set on a copy of a DataFrame or Series through chained assignment using an inplace method.\n",
      "The behavior will change in pandas 3.0. This inplace method will never work because the intermediate object on which we are setting values always behaves as a copy.\n",
      "\n",
      "For example, when doing 'df[col].method(value, inplace=True)', try using 'df.method({col: value}, inplace=True)' or df[col] = df[col].method(value) instead, to perform the operation inplace on the original object.\n",
      "\n",
      "\n",
      "  data['CPD_on_off+1'].fillna('NA', inplace=True)\n"
     ]
    }
   ],
   "source": [
    "data['CPD_on_off+1'].fillna('NA', inplace=True)\n"
   ]
  },
  {
   "cell_type": "code",
   "execution_count": 488,
   "id": "ca54d54f",
   "metadata": {},
   "outputs": [
    {
     "name": "stderr",
     "output_type": "stream",
     "text": [
      "C:\\Users\\georgea1\\AppData\\Local\\Temp\\ipykernel_23364\\2361542141.py:2: PerformanceWarning: DataFrame is highly fragmented.  This is usually the result of calling `frame.insert` many times, which has poor performance.  Consider joining all columns at once using pd.concat(axis=1) instead. To get a de-fragmented frame, use `newframe = frame.copy()`\n",
      "  data['enc_diff'] = ((data['Date_Of_Visit+1']-data['Date_Of_Visit'])/np.timedelta64(1,'D'))\n"
     ]
    },
    {
     "data": {
      "text/plain": [
       "595"
      ]
     },
     "execution_count": 488,
     "metadata": {},
     "output_type": "execute_result"
    }
   ],
   "source": [
    "#lets have a look at the difference between the encounters\n",
    "data['enc_diff'] = ((data['Date_Of_Visit+1']-data['Date_Of_Visit'])/np.timedelta64(1,'D'))\n",
    "data['enc_diff'].isnull().sum()"
   ]
  },
  {
   "cell_type": "code",
   "execution_count": 489,
   "id": "95fdf008",
   "metadata": {},
   "outputs": [],
   "source": [
    "data['Immunosuppressive.status+1']=data.groupby(['RKD.ID'])['Immunosuppressive.status_x'].shift(-1)"
   ]
  },
  {
   "cell_type": "code",
   "execution_count": 490,
   "id": "da4326c6",
   "metadata": {},
   "outputs": [
    {
     "data": {
      "text/plain": [
       "Immunosuppressive.medication.in.response.to.this.encounter_x\n",
       "NaN                               3385\n",
       "No change in Immunosuppression    2666\n",
       "Immunosuppression increased        650\n",
       "Immunosuppression reduced          235\n",
       "Immunosuppression stopped           68\n",
       "Unknown                             16\n",
       "Name: count, dtype: int64"
      ]
     },
     "execution_count": 490,
     "metadata": {},
     "output_type": "execute_result"
    }
   ],
   "source": [
    "data['Immunosuppressive.medication.in.response.to.this.encounter_x'].value_counts(dropna=False)"
   ]
  },
  {
   "cell_type": "code",
   "execution_count": 491,
   "id": "c817849b-91d2-4228-bb5d-ec0700da803c",
   "metadata": {},
   "outputs": [],
   "source": [
    "data.rename(columns = {'Immunosuppressive.medication.in.response.to.this.encounter_x':'Immunosuppressive.medication.in.response.to.this.encounter'}, inplace = True)"
   ]
  },
  {
   "cell_type": "code",
   "execution_count": 497,
   "id": "3c15cbc6",
   "metadata": {},
   "outputs": [],
   "source": [
    "def dis_con_points(data):  \n",
    "    if (data['Immunosuppressive.medication.in.response.to.this.encounter']=='Immunosuppression stopped')&((data['CPD_on_off+1']=='Off Treatment')|(data['CPD_on_off+1']=='Treatment Status Unknown')|(data['CPD_on_off+1']=='Prednisolone<=10')):\n",
    "        return 'Treatment Stopped'\n",
    "    elif (data['Immunosuppressive.status_x']=='Currently on immunosuppression')&(data['Immunosuppressive.status+1']=='Discontinuation of immunosuppression > 6 months prior to this encounter')&(data['CPD_on_off+1']=='Off Treatment')&(data['enc_diff']<=365):\n",
    "        return 'Treatment Stopped'\n",
    "    elif (data['Immunosuppressive.status_x']=='Currently on immunosuppression')&(data['Immunosuppressive.status+1']=='Discontinuation of immunosuppression within 6 months prior to this encounter')&(data['CPD_on_off+1']=='Off Treatment')&(data['enc_diff']<=365):\n",
    "        return 'Treatment Stopped'\n",
    "    \n",
    "\n"
   ]
  },
  {
   "cell_type": "code",
   "execution_count": 498,
   "id": "710f5a24",
   "metadata": {},
   "outputs": [],
   "source": [
    "\n",
    "data['dis_con_points'] = data.apply(dis_con_points, axis = 1)"
   ]
  },
  {
   "cell_type": "code",
   "execution_count": 499,
   "id": "24bb8c5d",
   "metadata": {},
   "outputs": [
    {
     "data": {
      "text/plain": [
       "dis_con_points\n",
       "None                 6885\n",
       "Treatment Stopped     135\n",
       "Name: count, dtype: int64"
      ]
     },
     "execution_count": 499,
     "metadata": {},
     "output_type": "execute_result"
    }
   ],
   "source": [
    "data['dis_con_points'].value_counts(dropna=False)"
   ]
  },
  {
   "cell_type": "code",
   "execution_count": 500,
   "id": "848ba169",
   "metadata": {},
   "outputs": [
    {
     "name": "stderr",
     "output_type": "stream",
     "text": [
      "C:\\Users\\georgea1\\AppData\\Local\\Temp\\ipykernel_23364\\583250417.py:2: PerformanceWarning: DataFrame is highly fragmented.  This is usually the result of calling `frame.insert` many times, which has poor performance.  Consider joining all columns at once using pd.concat(axis=1) instead. To get a de-fragmented frame, use `newframe = frame.copy()`\n",
      "  data['treatment_discontinuation_points'] = None\n"
     ]
    }
   ],
   "source": [
    "# Initialize a new column for treatment discontinuation points\n",
    "data['treatment_discontinuation_points'] = None\n",
    "\n",
    "# Define the threshold for continuous off treatment in months\n",
    "threshold_months = 12\n",
    "\n",
    "# Group by RKD ID and iterate through the groups\n",
    "for rkd_id, group in data.groupby('RKD.ID'):\n",
    "    # Sort the group by Date_Of_Visit just in case\n",
    "    group = group.sort_values('Date_Of_Visit')\n",
    "    \n",
    "    # Iterate through the group to identify discontinuation points\n",
    "    for i in range(len(group) - 1):\n",
    "        if group.iloc[i]['CPD_on_off'] == 'On Treatment' and group.iloc[i + 1]['CPD_on_off'] == 'Off Treatment':\n",
    "            # Check the next instances to find if off treatment lasts for 12 months\n",
    "            off_treatment_start_date = group.iloc[i + 1]['Date_Of_Visit']\n",
    "            end_date = off_treatment_start_date + pd.DateOffset(months=threshold_months)\n",
    "            mask = (group['Date_Of_Visit'] > off_treatment_start_date) & (group['Date_Of_Visit'] <= end_date)\n",
    "            \n",
    "            # Ensure all records within the period are 'Off Treatment'\n",
    "            if (group.loc[mask, 'CPD_on_off'] == 'Off Treatment').all() and not group[mask].empty:\n",
    "                # If there's no visits within the 12 months after going off treatment or all are \"Off Treatment\"\n",
    "                data.loc[group.index[i], 'treatment_discontinuation_points'] = 'Treatment Stopped'\n",
    "\n",
    "# Ensure the last row for each RKD ID is not marked as a discontinuation point\n",
    "last_rows = data.groupby('RKD.ID').tail(1).index\n",
    "data.loc[last_rows, 'treatment_discontinuation_points'] = None\n"
   ]
  },
  {
   "cell_type": "code",
   "execution_count": 501,
   "id": "230bd2c0",
   "metadata": {},
   "outputs": [
    {
     "data": {
      "text/plain": [
       "treatment_discontinuation_points\n",
       "None                 6938\n",
       "Treatment Stopped      82\n",
       "Name: count, dtype: int64"
      ]
     },
     "execution_count": 501,
     "metadata": {},
     "output_type": "execute_result"
    }
   ],
   "source": [
    "data['treatment_discontinuation_points'].value_counts(dropna=False)"
   ]
  },
  {
   "cell_type": "code",
   "execution_count": 502,
   "id": "8927feba",
   "metadata": {},
   "outputs": [
    {
     "name": "stderr",
     "output_type": "stream",
     "text": [
      "C:\\Users\\georgea1\\AppData\\Local\\Temp\\ipykernel_23364\\1142539149.py:1: FutureWarning: A value is trying to be set on a copy of a DataFrame or Series through chained assignment using an inplace method.\n",
      "The behavior will change in pandas 3.0. This inplace method will never work because the intermediate object on which we are setting values always behaves as a copy.\n",
      "\n",
      "For example, when doing 'df[col].method(value, inplace=True)', try using 'df.method({col: value}, inplace=True)' or df[col] = df[col].method(value) instead, to perform the operation inplace on the original object.\n",
      "\n",
      "\n",
      "  data['dis_con_points'].fillna(data['treatment_discontinuation_points'],inplace=True)\n"
     ]
    }
   ],
   "source": [
    "data['dis_con_points'].fillna(data['treatment_discontinuation_points'],inplace=True)"
   ]
  },
  {
   "cell_type": "code",
   "execution_count": 503,
   "id": "7eaffebf",
   "metadata": {},
   "outputs": [
    {
     "data": {
      "text/plain": [
       "dis_con_points\n",
       "None                 6847\n",
       "Treatment Stopped     173\n",
       "Name: count, dtype: int64"
      ]
     },
     "execution_count": 503,
     "metadata": {},
     "output_type": "execute_result"
    }
   ],
   "source": [
    "data['dis_con_points'].value_counts(dropna=False)"
   ]
  },
  {
   "cell_type": "markdown",
   "id": "dc4550a8",
   "metadata": {},
   "source": [
    "## Ever stopped medication?"
   ]
  },
  {
   "cell_type": "code",
   "execution_count": 504,
   "id": "e18705bf",
   "metadata": {},
   "outputs": [],
   "source": [
    "data['dis_con_points']=data.groupby('RKD.ID').ffill()['dis_con_points']"
   ]
  },
  {
   "cell_type": "code",
   "execution_count": 505,
   "id": "8eca66bd",
   "metadata": {},
   "outputs": [
    {
     "name": "stderr",
     "output_type": "stream",
     "text": [
      "C:\\Users\\georgea1\\AppData\\Local\\Temp\\ipykernel_23364\\2581971085.py:1: PerformanceWarning: DataFrame is highly fragmented.  This is usually the result of calling `frame.insert` many times, which has poor performance.  Consider joining all columns at once using pd.concat(axis=1) instead. To get a de-fragmented frame, use `newframe = frame.copy()`\n",
      "  data['dis_con_points_1'] = data.groupby(['RKD.ID'])['dis_con_points'].shift(1)\n"
     ]
    }
   ],
   "source": [
    "data['dis_con_points_1'] = data.groupby(['RKD.ID'])['dis_con_points'].shift(1)"
   ]
  },
  {
   "cell_type": "code",
   "execution_count": 506,
   "id": "458eb9b4",
   "metadata": {},
   "outputs": [
    {
     "name": "stderr",
     "output_type": "stream",
     "text": [
      "C:\\Users\\georgea1\\AppData\\Local\\Temp\\ipykernel_23364\\3646036286.py:1: FutureWarning: A value is trying to be set on a copy of a DataFrame or Series through chained assignment using an inplace method.\n",
      "The behavior will change in pandas 3.0. This inplace method will never work because the intermediate object on which we are setting values always behaves as a copy.\n",
      "\n",
      "For example, when doing 'df[col].method(value, inplace=True)', try using 'df.method({col: value}, inplace=True)' or df[col] = df[col].method(value) instead, to perform the operation inplace on the original object.\n",
      "\n",
      "\n",
      "  data['dis_con_points_1'].fillna('NA',inplace=True)\n"
     ]
    }
   ],
   "source": [
    "data['dis_con_points_1'].fillna('NA',inplace=True)"
   ]
  },
  {
   "cell_type": "code",
   "execution_count": 507,
   "id": "9df40d2e",
   "metadata": {},
   "outputs": [],
   "source": [
    "def Treatment_stopped(data):    \n",
    "    if (data['dis_con_points']=='Treatment Stopped')&(data['dis_con_points_1']=='Treatment Stopped'):\n",
    "        return 'Yes'\n",
    "    elif (data['dis_con_points']=='Treatment Stopped')&(data['dis_con_points_1']=='NA'):\n",
    "        return 'No'\n"
   ]
  },
  {
   "cell_type": "code",
   "execution_count": 508,
   "id": "973d895a",
   "metadata": {},
   "outputs": [
    {
     "name": "stderr",
     "output_type": "stream",
     "text": [
      "C:\\Users\\georgea1\\AppData\\Local\\Temp\\ipykernel_23364\\566101606.py:1: PerformanceWarning: DataFrame is highly fragmented.  This is usually the result of calling `frame.insert` many times, which has poor performance.  Consider joining all columns at once using pd.concat(axis=1) instead. To get a de-fragmented frame, use `newframe = frame.copy()`\n",
      "  data['Treatment_stopped'] = data.apply(Treatment_stopped, axis = 1)\n"
     ]
    }
   ],
   "source": [
    "\n",
    "data['Treatment_stopped'] = data.apply(Treatment_stopped, axis = 1)"
   ]
  },
  {
   "cell_type": "code",
   "execution_count": 509,
   "id": "c69754c4",
   "metadata": {},
   "outputs": [
    {
     "name": "stderr",
     "output_type": "stream",
     "text": [
      "C:\\Users\\georgea1\\AppData\\Local\\Temp\\ipykernel_23364\\2535427458.py:1: FutureWarning: A value is trying to be set on a copy of a DataFrame or Series through chained assignment using an inplace method.\n",
      "The behavior will change in pandas 3.0. This inplace method will never work because the intermediate object on which we are setting values always behaves as a copy.\n",
      "\n",
      "For example, when doing 'df[col].method(value, inplace=True)', try using 'df.method({col: value}, inplace=True)' or df[col] = df[col].method(value) instead, to perform the operation inplace on the original object.\n",
      "\n",
      "\n",
      "  data['Treatment_stopped'].fillna('No',inplace=True)\n"
     ]
    }
   ],
   "source": [
    "data['Treatment_stopped'].fillna('No',inplace=True)"
   ]
  },
  {
   "cell_type": "code",
   "execution_count": 510,
   "id": "87987f60",
   "metadata": {},
   "outputs": [
    {
     "data": {
      "text/plain": [
       "Treatment_stopped\n",
       "No     6074\n",
       "Yes     946\n",
       "Name: count, dtype: int64"
      ]
     },
     "execution_count": 510,
     "metadata": {},
     "output_type": "execute_result"
    }
   ],
   "source": [
    "data['Treatment_stopped'].value_counts(dropna=False)"
   ]
  },
  {
   "cell_type": "code",
   "execution_count": null,
   "id": "8eb1b26e",
   "metadata": {},
   "outputs": [],
   "source": []
  },
  {
   "cell_type": "code",
   "execution_count": null,
   "id": "e049426c",
   "metadata": {},
   "outputs": [],
   "source": []
  },
  {
   "cell_type": "code",
   "execution_count": 511,
   "id": "3dda7f3b",
   "metadata": {},
   "outputs": [
    {
     "data": {
      "text/html": [
       "<div>\n",
       "<style scoped>\n",
       "    .dataframe tbody tr th:only-of-type {\n",
       "        vertical-align: middle;\n",
       "    }\n",
       "\n",
       "    .dataframe tbody tr th {\n",
       "        vertical-align: top;\n",
       "    }\n",
       "\n",
       "    .dataframe thead th {\n",
       "        text-align: right;\n",
       "    }\n",
       "</style>\n",
       "<table border=\"1\" class=\"dataframe\">\n",
       "  <thead>\n",
       "    <tr style=\"text-align: right;\">\n",
       "      <th></th>\n",
       "      <th>RKD.ID</th>\n",
       "      <th>Repeat.Instrument_x</th>\n",
       "      <th>Date_Of_Visit</th>\n",
       "      <th>Interval.from.diagnosis..months._x</th>\n",
       "      <th>Immunosuppressive.status_x</th>\n",
       "      <th>Corticosteroids_x</th>\n",
       "      <th>Current.corticosteroid.dose_x</th>\n",
       "      <th>Corticosteroids.in.response.to.this.clinical.encounter.episode_x</th>\n",
       "      <th>Immunosuppressive.medication_x</th>\n",
       "      <th>Immunosuppressive.medication...other_x</th>\n",
       "      <th>...</th>\n",
       "      <th>ANCA_group</th>\n",
       "      <th>ANCA_switch</th>\n",
       "      <th>Immunosuppressive.status+1</th>\n",
       "      <th>Date_Of_Visit+1</th>\n",
       "      <th>CPD_on_off+1</th>\n",
       "      <th>enc_diff</th>\n",
       "      <th>dis_con_points</th>\n",
       "      <th>treatment_discontinuation_points</th>\n",
       "      <th>dis_con_points_1</th>\n",
       "      <th>Treatment_stopped</th>\n",
       "    </tr>\n",
       "  </thead>\n",
       "  <tbody>\n",
       "    <tr>\n",
       "      <th>0</th>\n",
       "      <td>1</td>\n",
       "      <td>Encounters</td>\n",
       "      <td>2012-08-31</td>\n",
       "      <td>0.0</td>\n",
       "      <td>Treatment Naive</td>\n",
       "      <td>No</td>\n",
       "      <td>NaN</td>\n",
       "      <td>NaN</td>\n",
       "      <td>No</td>\n",
       "      <td>NaN</td>\n",
       "      <td>...</td>\n",
       "      <td>Switch Status Unknown</td>\n",
       "      <td>Switch Status Unknown</td>\n",
       "      <td>NaN</td>\n",
       "      <td>2012-09-07</td>\n",
       "      <td>On Treatment</td>\n",
       "      <td>7.0</td>\n",
       "      <td>NaN</td>\n",
       "      <td>None</td>\n",
       "      <td>NA</td>\n",
       "      <td>No</td>\n",
       "    </tr>\n",
       "    <tr>\n",
       "      <th>1</th>\n",
       "      <td>1</td>\n",
       "      <td>Encounters</td>\n",
       "      <td>2012-09-07</td>\n",
       "      <td>0.2</td>\n",
       "      <td>NaN</td>\n",
       "      <td>NaN</td>\n",
       "      <td>NaN</td>\n",
       "      <td>NaN</td>\n",
       "      <td>NaN</td>\n",
       "      <td>NaN</td>\n",
       "      <td>...</td>\n",
       "      <td>Switch Status Unknown</td>\n",
       "      <td>Switch Status Unknown</td>\n",
       "      <td>NaN</td>\n",
       "      <td>2012-09-17</td>\n",
       "      <td>On Treatment</td>\n",
       "      <td>10.0</td>\n",
       "      <td>NaN</td>\n",
       "      <td>None</td>\n",
       "      <td>NA</td>\n",
       "      <td>No</td>\n",
       "    </tr>\n",
       "    <tr>\n",
       "      <th>2</th>\n",
       "      <td>1</td>\n",
       "      <td>Encounters</td>\n",
       "      <td>2012-09-17</td>\n",
       "      <td>0.6</td>\n",
       "      <td>NaN</td>\n",
       "      <td>NaN</td>\n",
       "      <td>NaN</td>\n",
       "      <td>NaN</td>\n",
       "      <td>NaN</td>\n",
       "      <td>NaN</td>\n",
       "      <td>...</td>\n",
       "      <td>Switch Status Unknown</td>\n",
       "      <td>Switch Status Unknown</td>\n",
       "      <td>Currently on immunosuppression</td>\n",
       "      <td>2012-09-21</td>\n",
       "      <td>On Treatment</td>\n",
       "      <td>4.0</td>\n",
       "      <td>NaN</td>\n",
       "      <td>None</td>\n",
       "      <td>NA</td>\n",
       "      <td>No</td>\n",
       "    </tr>\n",
       "    <tr>\n",
       "      <th>3</th>\n",
       "      <td>1</td>\n",
       "      <td>Encounters</td>\n",
       "      <td>2012-09-21</td>\n",
       "      <td>0.7</td>\n",
       "      <td>Currently on immunosuppression</td>\n",
       "      <td>Yes</td>\n",
       "      <td>&gt; 20 mg/day</td>\n",
       "      <td>No change</td>\n",
       "      <td>IV Cyclophosphamide</td>\n",
       "      <td>NaN</td>\n",
       "      <td>...</td>\n",
       "      <td>Switch Status Unknown</td>\n",
       "      <td>Switch Status Unknown</td>\n",
       "      <td>Currently on immunosuppression</td>\n",
       "      <td>2012-09-28</td>\n",
       "      <td>On Treatment</td>\n",
       "      <td>7.0</td>\n",
       "      <td>NaN</td>\n",
       "      <td>None</td>\n",
       "      <td>NA</td>\n",
       "      <td>No</td>\n",
       "    </tr>\n",
       "    <tr>\n",
       "      <th>4</th>\n",
       "      <td>1</td>\n",
       "      <td>Encounters</td>\n",
       "      <td>2012-09-28</td>\n",
       "      <td>0.9</td>\n",
       "      <td>Currently on immunosuppression</td>\n",
       "      <td>NaN</td>\n",
       "      <td>NaN</td>\n",
       "      <td>NaN</td>\n",
       "      <td>IV Cyclophosphamide</td>\n",
       "      <td>NaN</td>\n",
       "      <td>...</td>\n",
       "      <td>Switch Status Unknown</td>\n",
       "      <td>Switch Status Unknown</td>\n",
       "      <td>Currently on immunosuppression</td>\n",
       "      <td>2012-10-01</td>\n",
       "      <td>On Treatment</td>\n",
       "      <td>3.0</td>\n",
       "      <td>NaN</td>\n",
       "      <td>None</td>\n",
       "      <td>NA</td>\n",
       "      <td>No</td>\n",
       "    </tr>\n",
       "    <tr>\n",
       "      <th>...</th>\n",
       "      <td>...</td>\n",
       "      <td>...</td>\n",
       "      <td>...</td>\n",
       "      <td>...</td>\n",
       "      <td>...</td>\n",
       "      <td>...</td>\n",
       "      <td>...</td>\n",
       "      <td>...</td>\n",
       "      <td>...</td>\n",
       "      <td>...</td>\n",
       "      <td>...</td>\n",
       "      <td>...</td>\n",
       "      <td>...</td>\n",
       "      <td>...</td>\n",
       "      <td>...</td>\n",
       "      <td>...</td>\n",
       "      <td>...</td>\n",
       "      <td>...</td>\n",
       "      <td>...</td>\n",
       "      <td>...</td>\n",
       "      <td>...</td>\n",
       "    </tr>\n",
       "    <tr>\n",
       "      <th>10631</th>\n",
       "      <td>28615</td>\n",
       "      <td>Encounters</td>\n",
       "      <td>2015-05-19</td>\n",
       "      <td>49.8</td>\n",
       "      <td>Currently on immunosuppression</td>\n",
       "      <td>No</td>\n",
       "      <td>NaN</td>\n",
       "      <td>No change</td>\n",
       "      <td>Azathioprine</td>\n",
       "      <td>NaN</td>\n",
       "      <td>...</td>\n",
       "      <td>Switch Status Unknown</td>\n",
       "      <td>Switch Status Unknown</td>\n",
       "      <td>Currently on immunosuppression</td>\n",
       "      <td>2017-02-24</td>\n",
       "      <td>On Treatment</td>\n",
       "      <td>647.0</td>\n",
       "      <td>NaN</td>\n",
       "      <td>None</td>\n",
       "      <td>NA</td>\n",
       "      <td>No</td>\n",
       "    </tr>\n",
       "    <tr>\n",
       "      <th>10632</th>\n",
       "      <td>28615</td>\n",
       "      <td>Encounters</td>\n",
       "      <td>2017-02-24</td>\n",
       "      <td>71.1</td>\n",
       "      <td>Currently on immunosuppression</td>\n",
       "      <td>No</td>\n",
       "      <td>NaN</td>\n",
       "      <td>No change</td>\n",
       "      <td>Azathioprine</td>\n",
       "      <td>NaN</td>\n",
       "      <td>...</td>\n",
       "      <td>Switch Status Unknown</td>\n",
       "      <td>Switch Status Unknown</td>\n",
       "      <td>Discontinuation of immunosuppression &gt; 6 month...</td>\n",
       "      <td>2023-02-14</td>\n",
       "      <td>Off Treatment</td>\n",
       "      <td>2181.0</td>\n",
       "      <td>Treatment Stopped</td>\n",
       "      <td>Treatment Stopped</td>\n",
       "      <td>NA</td>\n",
       "      <td>No</td>\n",
       "    </tr>\n",
       "    <tr>\n",
       "      <th>10633</th>\n",
       "      <td>28615</td>\n",
       "      <td>Encounters</td>\n",
       "      <td>2023-02-14</td>\n",
       "      <td>142.7</td>\n",
       "      <td>Discontinuation of immunosuppression &gt; 6 month...</td>\n",
       "      <td>No</td>\n",
       "      <td>NaN</td>\n",
       "      <td>Increased</td>\n",
       "      <td>No</td>\n",
       "      <td>NaN</td>\n",
       "      <td>...</td>\n",
       "      <td>Switch Status Unknown</td>\n",
       "      <td>NA</td>\n",
       "      <td>Discontinuation of immunosuppression &gt; 6 month...</td>\n",
       "      <td>2024-02-06</td>\n",
       "      <td>Off Treatment</td>\n",
       "      <td>357.0</td>\n",
       "      <td>Treatment Stopped</td>\n",
       "      <td>None</td>\n",
       "      <td>Treatment Stopped</td>\n",
       "      <td>Yes</td>\n",
       "    </tr>\n",
       "    <tr>\n",
       "      <th>10634</th>\n",
       "      <td>28615</td>\n",
       "      <td>Encounters</td>\n",
       "      <td>2024-02-06</td>\n",
       "      <td>154.5</td>\n",
       "      <td>Discontinuation of immunosuppression &gt; 6 month...</td>\n",
       "      <td>No</td>\n",
       "      <td>NaN</td>\n",
       "      <td>No change</td>\n",
       "      <td>No</td>\n",
       "      <td>NaN</td>\n",
       "      <td>...</td>\n",
       "      <td>Pos-Pos</td>\n",
       "      <td>Pos-Pos</td>\n",
       "      <td>Discontinuation of immunosuppression &gt; 6 month...</td>\n",
       "      <td>2024-05-20</td>\n",
       "      <td>Off Treatment</td>\n",
       "      <td>104.0</td>\n",
       "      <td>Treatment Stopped</td>\n",
       "      <td>None</td>\n",
       "      <td>Treatment Stopped</td>\n",
       "      <td>Yes</td>\n",
       "    </tr>\n",
       "    <tr>\n",
       "      <th>10635</th>\n",
       "      <td>28615</td>\n",
       "      <td>Encounters</td>\n",
       "      <td>2024-05-20</td>\n",
       "      <td>157.9</td>\n",
       "      <td>Discontinuation of immunosuppression &gt; 6 month...</td>\n",
       "      <td>No</td>\n",
       "      <td>NaN</td>\n",
       "      <td>Increased</td>\n",
       "      <td>No</td>\n",
       "      <td>NaN</td>\n",
       "      <td>...</td>\n",
       "      <td>Pos-Pos</td>\n",
       "      <td>NA</td>\n",
       "      <td>NaN</td>\n",
       "      <td>NaT</td>\n",
       "      <td>NA</td>\n",
       "      <td>NaN</td>\n",
       "      <td>Treatment Stopped</td>\n",
       "      <td>None</td>\n",
       "      <td>Treatment Stopped</td>\n",
       "      <td>Yes</td>\n",
       "    </tr>\n",
       "  </tbody>\n",
       "</table>\n",
       "<p>7020 rows × 556 columns</p>\n",
       "</div>"
      ],
      "text/plain": [
       "       RKD.ID Repeat.Instrument_x Date_Of_Visit  \\\n",
       "0           1          Encounters    2012-08-31   \n",
       "1           1          Encounters    2012-09-07   \n",
       "2           1          Encounters    2012-09-17   \n",
       "3           1          Encounters    2012-09-21   \n",
       "4           1          Encounters    2012-09-28   \n",
       "...       ...                 ...           ...   \n",
       "10631   28615          Encounters    2015-05-19   \n",
       "10632   28615          Encounters    2017-02-24   \n",
       "10633   28615          Encounters    2023-02-14   \n",
       "10634   28615          Encounters    2024-02-06   \n",
       "10635   28615          Encounters    2024-05-20   \n",
       "\n",
       "       Interval.from.diagnosis..months._x  \\\n",
       "0                                     0.0   \n",
       "1                                     0.2   \n",
       "2                                     0.6   \n",
       "3                                     0.7   \n",
       "4                                     0.9   \n",
       "...                                   ...   \n",
       "10631                                49.8   \n",
       "10632                                71.1   \n",
       "10633                               142.7   \n",
       "10634                               154.5   \n",
       "10635                               157.9   \n",
       "\n",
       "                              Immunosuppressive.status_x Corticosteroids_x  \\\n",
       "0                                        Treatment Naive                No   \n",
       "1                                                    NaN               NaN   \n",
       "2                                                    NaN               NaN   \n",
       "3                         Currently on immunosuppression               Yes   \n",
       "4                         Currently on immunosuppression               NaN   \n",
       "...                                                  ...               ...   \n",
       "10631                     Currently on immunosuppression                No   \n",
       "10632                     Currently on immunosuppression                No   \n",
       "10633  Discontinuation of immunosuppression > 6 month...                No   \n",
       "10634  Discontinuation of immunosuppression > 6 month...                No   \n",
       "10635  Discontinuation of immunosuppression > 6 month...                No   \n",
       "\n",
       "      Current.corticosteroid.dose_x  \\\n",
       "0                               NaN   \n",
       "1                               NaN   \n",
       "2                               NaN   \n",
       "3                       > 20 mg/day   \n",
       "4                               NaN   \n",
       "...                             ...   \n",
       "10631                           NaN   \n",
       "10632                           NaN   \n",
       "10633                           NaN   \n",
       "10634                           NaN   \n",
       "10635                           NaN   \n",
       "\n",
       "      Corticosteroids.in.response.to.this.clinical.encounter.episode_x  \\\n",
       "0                                                    NaN                 \n",
       "1                                                    NaN                 \n",
       "2                                                    NaN                 \n",
       "3                                              No change                 \n",
       "4                                                    NaN                 \n",
       "...                                                  ...                 \n",
       "10631                                          No change                 \n",
       "10632                                          No change                 \n",
       "10633                                          Increased                 \n",
       "10634                                          No change                 \n",
       "10635                                          Increased                 \n",
       "\n",
       "      Immunosuppressive.medication_x Immunosuppressive.medication...other_x  \\\n",
       "0                                 No                                    NaN   \n",
       "1                                NaN                                    NaN   \n",
       "2                                NaN                                    NaN   \n",
       "3                IV Cyclophosphamide                                    NaN   \n",
       "4                IV Cyclophosphamide                                    NaN   \n",
       "...                              ...                                    ...   \n",
       "10631                   Azathioprine                                    NaN   \n",
       "10632                   Azathioprine                                    NaN   \n",
       "10633                             No                                    NaN   \n",
       "10634                             No                                    NaN   \n",
       "10635                             No                                    NaN   \n",
       "\n",
       "       ...             ANCA_group            ANCA_switch  \\\n",
       "0      ...  Switch Status Unknown  Switch Status Unknown   \n",
       "1      ...  Switch Status Unknown  Switch Status Unknown   \n",
       "2      ...  Switch Status Unknown  Switch Status Unknown   \n",
       "3      ...  Switch Status Unknown  Switch Status Unknown   \n",
       "4      ...  Switch Status Unknown  Switch Status Unknown   \n",
       "...    ...                    ...                    ...   \n",
       "10631  ...  Switch Status Unknown  Switch Status Unknown   \n",
       "10632  ...  Switch Status Unknown  Switch Status Unknown   \n",
       "10633  ...  Switch Status Unknown                     NA   \n",
       "10634  ...                Pos-Pos                Pos-Pos   \n",
       "10635  ...                Pos-Pos                     NA   \n",
       "\n",
       "                              Immunosuppressive.status+1 Date_Of_Visit+1  \\\n",
       "0                                                    NaN      2012-09-07   \n",
       "1                                                    NaN      2012-09-17   \n",
       "2                         Currently on immunosuppression      2012-09-21   \n",
       "3                         Currently on immunosuppression      2012-09-28   \n",
       "4                         Currently on immunosuppression      2012-10-01   \n",
       "...                                                  ...             ...   \n",
       "10631                     Currently on immunosuppression      2017-02-24   \n",
       "10632  Discontinuation of immunosuppression > 6 month...      2023-02-14   \n",
       "10633  Discontinuation of immunosuppression > 6 month...      2024-02-06   \n",
       "10634  Discontinuation of immunosuppression > 6 month...      2024-05-20   \n",
       "10635                                                NaN             NaT   \n",
       "\n",
       "        CPD_on_off+1  enc_diff     dis_con_points  \\\n",
       "0       On Treatment       7.0                NaN   \n",
       "1       On Treatment      10.0                NaN   \n",
       "2       On Treatment       4.0                NaN   \n",
       "3       On Treatment       7.0                NaN   \n",
       "4       On Treatment       3.0                NaN   \n",
       "...              ...       ...                ...   \n",
       "10631   On Treatment     647.0                NaN   \n",
       "10632  Off Treatment    2181.0  Treatment Stopped   \n",
       "10633  Off Treatment     357.0  Treatment Stopped   \n",
       "10634  Off Treatment     104.0  Treatment Stopped   \n",
       "10635             NA       NaN  Treatment Stopped   \n",
       "\n",
       "      treatment_discontinuation_points   dis_con_points_1 Treatment_stopped  \n",
       "0                                 None                 NA                No  \n",
       "1                                 None                 NA                No  \n",
       "2                                 None                 NA                No  \n",
       "3                                 None                 NA                No  \n",
       "4                                 None                 NA                No  \n",
       "...                                ...                ...               ...  \n",
       "10631                             None                 NA                No  \n",
       "10632                Treatment Stopped                 NA                No  \n",
       "10633                             None  Treatment Stopped               Yes  \n",
       "10634                             None  Treatment Stopped               Yes  \n",
       "10635                             None  Treatment Stopped               Yes  \n",
       "\n",
       "[7020 rows x 556 columns]"
      ]
     },
     "execution_count": 511,
     "metadata": {},
     "output_type": "execute_result"
    }
   ],
   "source": [
    "data"
   ]
  },
  {
   "cell_type": "code",
   "execution_count": null,
   "id": "5983b8ba",
   "metadata": {},
   "outputs": [],
   "source": []
  },
  {
   "cell_type": "markdown",
   "id": "4c719342",
   "metadata": {},
   "source": [
    "## Next relapse status"
   ]
  },
  {
   "cell_type": "code",
   "execution_count": 512,
   "id": "bf5ebb1a",
   "metadata": {},
   "outputs": [
    {
     "name": "stderr",
     "output_type": "stream",
     "text": [
      "C:\\Users\\georgea1\\AppData\\Local\\Temp\\ipykernel_23364\\674029745.py:1: PerformanceWarning: DataFrame is highly fragmented.  This is usually the result of calling `frame.insert` many times, which has poor performance.  Consider joining all columns at once using pd.concat(axis=1) instead. To get a de-fragmented frame, use `newframe = frame.copy()`\n",
      "  data['Relapse+1'] = data.groupby(['RKD.ID'])['CPD_relapse'].shift(-1)\n"
     ]
    }
   ],
   "source": [
    "data['Relapse+1'] = data.groupby(['RKD.ID'])['CPD_relapse'].shift(-1)"
   ]
  },
  {
   "cell_type": "code",
   "execution_count": null,
   "id": "ecc9b884",
   "metadata": {},
   "outputs": [],
   "source": []
  },
  {
   "cell_type": "markdown",
   "id": "b82785cf",
   "metadata": {},
   "source": [
    "## Relapse Status next 12 months"
   ]
  },
  {
   "cell_type": "code",
   "execution_count": 513,
   "id": "973b1b95",
   "metadata": {},
   "outputs": [],
   "source": [
    "data['Date_Of_Visit'] = pd.to_datetime(data['Date_Of_Visit'], format='%d/%m/%Y')\n"
   ]
  },
  {
   "cell_type": "code",
   "execution_count": 514,
   "id": "a591bef7",
   "metadata": {},
   "outputs": [
    {
     "data": {
      "text/plain": [
       "CPD_relapse\n",
       "No Relapse                4046\n",
       "Definite Relapse           413\n",
       "Exclude this encounter     204\n",
       "Possible Relapse            59\n",
       "Name: count, dtype: int64"
      ]
     },
     "execution_count": 514,
     "metadata": {},
     "output_type": "execute_result"
    }
   ],
   "source": [
    "data['CPD_relapse'].value_counts()"
   ]
  },
  {
   "cell_type": "code",
   "execution_count": 515,
   "id": "c5a2a0fd",
   "metadata": {},
   "outputs": [],
   "source": [
    "def Relapse_date(data):    \n",
    "    if (data['CPD_relapse']=='Definite Relapse'):\n",
    "        return data['Date_Of_Visit']"
   ]
  },
  {
   "cell_type": "code",
   "execution_count": 516,
   "id": "bc4e356e",
   "metadata": {},
   "outputs": [
    {
     "name": "stderr",
     "output_type": "stream",
     "text": [
      "C:\\Users\\georgea1\\AppData\\Local\\Temp\\ipykernel_23364\\1079759120.py:1: PerformanceWarning: DataFrame is highly fragmented.  This is usually the result of calling `frame.insert` many times, which has poor performance.  Consider joining all columns at once using pd.concat(axis=1) instead. To get a de-fragmented frame, use `newframe = frame.copy()`\n",
      "  data['Relapse_date'] = data.apply(Relapse_date,axis = 1)\n"
     ]
    }
   ],
   "source": [
    "data['Relapse_date'] = data.apply(Relapse_date,axis = 1)"
   ]
  },
  {
   "cell_type": "code",
   "execution_count": 517,
   "id": "4c9a27a3",
   "metadata": {},
   "outputs": [
    {
     "data": {
      "text/plain": [
       "6607"
      ]
     },
     "execution_count": 517,
     "metadata": {},
     "output_type": "execute_result"
    }
   ],
   "source": [
    "data['Relapse_date'].isnull().sum()"
   ]
  },
  {
   "cell_type": "code",
   "execution_count": 518,
   "id": "9c33de81",
   "metadata": {},
   "outputs": [],
   "source": [
    "data['Relapse_date']=data.groupby('RKD.ID').bfill()['Relapse_date']"
   ]
  },
  {
   "cell_type": "code",
   "execution_count": 519,
   "id": "75ab7e6d",
   "metadata": {},
   "outputs": [],
   "source": [
    "data['Relapse_date'] = pd.to_datetime(data['Relapse_date'], format='%d/%m/%Y')\n"
   ]
  },
  {
   "cell_type": "code",
   "execution_count": 520,
   "id": "ae44e80d",
   "metadata": {},
   "outputs": [],
   "source": [
    "data['Date_Of_Visit'] = pd.to_datetime(data['Date_Of_Visit'], format='%d/%m/%Y')\n"
   ]
  },
  {
   "cell_type": "code",
   "execution_count": 521,
   "id": "07d8b203",
   "metadata": {},
   "outputs": [
    {
     "name": "stderr",
     "output_type": "stream",
     "text": [
      "C:\\Users\\georgea1\\AppData\\Local\\Temp\\ipykernel_23364\\4270184992.py:1: PerformanceWarning: DataFrame is highly fragmented.  This is usually the result of calling `frame.insert` many times, which has poor performance.  Consider joining all columns at once using pd.concat(axis=1) instead. To get a de-fragmented frame, use `newframe = frame.copy()`\n",
      "  data['Time_D']=((data['Relapse_date']-data['Date_Of_Visit'])/np.timedelta64(1,'D'))\n"
     ]
    },
    {
     "data": {
      "text/plain": [
       "4243"
      ]
     },
     "execution_count": 521,
     "metadata": {},
     "output_type": "execute_result"
    }
   ],
   "source": [
    "data['Time_D']=((data['Relapse_date']-data['Date_Of_Visit'])/np.timedelta64(1,'D'))\n",
    "data['Time_D'].isnull().sum()"
   ]
  },
  {
   "cell_type": "code",
   "execution_count": 522,
   "id": "c7abdc5e-80b7-40ae-908b-5539b6014915",
   "metadata": {},
   "outputs": [
    {
     "data": {
      "text/plain": [
       "0        3164.0\n",
       "1        3157.0\n",
       "2        3147.0\n",
       "3        3143.0\n",
       "4        3136.0\n",
       "          ...  \n",
       "10631    2828.0\n",
       "10632    2181.0\n",
       "10633       0.0\n",
       "10634     104.0\n",
       "10635       0.0\n",
       "Name: Time_D, Length: 7020, dtype: float64"
      ]
     },
     "execution_count": 522,
     "metadata": {},
     "output_type": "execute_result"
    }
   ],
   "source": [
    "data['Time_D']"
   ]
  },
  {
   "cell_type": "code",
   "execution_count": 523,
   "id": "89c98cd7",
   "metadata": {},
   "outputs": [],
   "source": [
    "def Relapse_next_12_months(data):    \n",
    "    if (data['Time_D']<=366):\n",
    "        return 1\n",
    "    else:\n",
    "        return 0"
   ]
  },
  {
   "cell_type": "code",
   "execution_count": 528,
   "id": "46cbdee5",
   "metadata": {},
   "outputs": [
    {
     "name": "stderr",
     "output_type": "stream",
     "text": [
      "C:\\Users\\georgea1\\AppData\\Local\\Temp\\ipykernel_23364\\1221187227.py:1: PerformanceWarning: DataFrame is highly fragmented.  This is usually the result of calling `frame.insert` many times, which has poor performance.  Consider joining all columns at once using pd.concat(axis=1) instead. To get a de-fragmented frame, use `newframe = frame.copy()`\n",
      "  data['Relapse_next_6_months'] = data.apply(Relapse_next_12_months,axis = 1)\n"
     ]
    }
   ],
   "source": [
    "data['Relapse_next_6_months'] = data.apply(Relapse_next_12_months,axis = 1)"
   ]
  },
  {
   "cell_type": "code",
   "execution_count": 529,
   "id": "0dcbcf99",
   "metadata": {},
   "outputs": [
    {
     "data": {
      "text/plain": [
       "Relapse_next_6_months\n",
       "0    6104\n",
       "1     916\n",
       "Name: count, dtype: int64"
      ]
     },
     "execution_count": 529,
     "metadata": {},
     "output_type": "execute_result"
    }
   ],
   "source": [
    "data['Relapse_next_6_months'].value_counts(dropna=False)"
   ]
  },
  {
   "cell_type": "markdown",
   "id": "73bd56e3-ec22-473d-b026-f8e93f52ae4c",
   "metadata": {},
   "source": [
    "## Merge with Kideny Function data"
   ]
  },
  {
   "cell_type": "code",
   "execution_count": 530,
   "id": "cbc2ae54-41d4-42ff-a1a6-bdcb28d920f8",
   "metadata": {},
   "outputs": [
    {
     "data": {
      "text/html": [
       "<div>\n",
       "<style scoped>\n",
       "    .dataframe tbody tr th:only-of-type {\n",
       "        vertical-align: middle;\n",
       "    }\n",
       "\n",
       "    .dataframe tbody tr th {\n",
       "        vertical-align: top;\n",
       "    }\n",
       "\n",
       "    .dataframe thead th {\n",
       "        text-align: right;\n",
       "    }\n",
       "</style>\n",
       "<table border=\"1\" class=\"dataframe\">\n",
       "  <thead>\n",
       "    <tr style=\"text-align: right;\">\n",
       "      <th></th>\n",
       "      <th>RKD.ID</th>\n",
       "      <th>Date_Of_Visit</th>\n",
       "      <th>Interval.from.diagnosis..months.</th>\n",
       "      <th>Date.of.transplant.</th>\n",
       "      <th>Date.of.graft.failure</th>\n",
       "      <th>Dialysis1</th>\n",
       "      <th>Dialysis.1</th>\n",
       "      <th>Dialysis</th>\n",
       "    </tr>\n",
       "  </thead>\n",
       "  <tbody>\n",
       "    <tr>\n",
       "      <th>0</th>\n",
       "      <td>1</td>\n",
       "      <td>2012-08-31</td>\n",
       "      <td>0.0</td>\n",
       "      <td>NaN</td>\n",
       "      <td>NaN</td>\n",
       "      <td>NaN</td>\n",
       "      <td>Off Dialysis</td>\n",
       "      <td>Off Dialysis</td>\n",
       "    </tr>\n",
       "    <tr>\n",
       "      <th>1</th>\n",
       "      <td>1</td>\n",
       "      <td>2012-09-07</td>\n",
       "      <td>0.2</td>\n",
       "      <td>NaN</td>\n",
       "      <td>NaN</td>\n",
       "      <td>NaN</td>\n",
       "      <td>NaN</td>\n",
       "      <td>Functioning native kidneys</td>\n",
       "    </tr>\n",
       "    <tr>\n",
       "      <th>2</th>\n",
       "      <td>1</td>\n",
       "      <td>2012-09-17</td>\n",
       "      <td>0.6</td>\n",
       "      <td>NaN</td>\n",
       "      <td>NaN</td>\n",
       "      <td>NaN</td>\n",
       "      <td>NaN</td>\n",
       "      <td>Functioning native kidneys</td>\n",
       "    </tr>\n",
       "    <tr>\n",
       "      <th>3</th>\n",
       "      <td>1</td>\n",
       "      <td>2012-09-21</td>\n",
       "      <td>0.7</td>\n",
       "      <td>NaN</td>\n",
       "      <td>NaN</td>\n",
       "      <td>NaN</td>\n",
       "      <td>Off Dialysis</td>\n",
       "      <td>Off Dialysis</td>\n",
       "    </tr>\n",
       "    <tr>\n",
       "      <th>4</th>\n",
       "      <td>1</td>\n",
       "      <td>2012-09-28</td>\n",
       "      <td>0.9</td>\n",
       "      <td>NaN</td>\n",
       "      <td>NaN</td>\n",
       "      <td>NaN</td>\n",
       "      <td>NaN</td>\n",
       "      <td>Functioning native kidneys</td>\n",
       "    </tr>\n",
       "    <tr>\n",
       "      <th>...</th>\n",
       "      <td>...</td>\n",
       "      <td>...</td>\n",
       "      <td>...</td>\n",
       "      <td>...</td>\n",
       "      <td>...</td>\n",
       "      <td>...</td>\n",
       "      <td>...</td>\n",
       "      <td>...</td>\n",
       "    </tr>\n",
       "    <tr>\n",
       "      <th>7213</th>\n",
       "      <td>28615</td>\n",
       "      <td>2024-02-06</td>\n",
       "      <td>154.5</td>\n",
       "      <td>NaN</td>\n",
       "      <td>NaN</td>\n",
       "      <td>NaN</td>\n",
       "      <td>Off Dialysis</td>\n",
       "      <td>Off Dialysis</td>\n",
       "    </tr>\n",
       "    <tr>\n",
       "      <th>7214</th>\n",
       "      <td>28615</td>\n",
       "      <td>2024-05-20</td>\n",
       "      <td>157.9</td>\n",
       "      <td>NaN</td>\n",
       "      <td>NaN</td>\n",
       "      <td>NaN</td>\n",
       "      <td>Off Dialysis</td>\n",
       "      <td>Off Dialysis</td>\n",
       "    </tr>\n",
       "    <tr>\n",
       "      <th>7215</th>\n",
       "      <td>28619</td>\n",
       "      <td>2024-06-25</td>\n",
       "      <td>0.0</td>\n",
       "      <td>NaN</td>\n",
       "      <td>NaN</td>\n",
       "      <td>NaN</td>\n",
       "      <td>On Dialysis</td>\n",
       "      <td>On Dialysis</td>\n",
       "    </tr>\n",
       "    <tr>\n",
       "      <th>7216</th>\n",
       "      <td>28621</td>\n",
       "      <td>2024-07-19</td>\n",
       "      <td>0.0</td>\n",
       "      <td>NaN</td>\n",
       "      <td>NaN</td>\n",
       "      <td>NaN</td>\n",
       "      <td>Off Dialysis</td>\n",
       "      <td>Off Dialysis</td>\n",
       "    </tr>\n",
       "    <tr>\n",
       "      <th>7217</th>\n",
       "      <td>28622</td>\n",
       "      <td>2024-07-30</td>\n",
       "      <td>0.0</td>\n",
       "      <td>NaN</td>\n",
       "      <td>NaN</td>\n",
       "      <td>NaN</td>\n",
       "      <td>Off Dialysis</td>\n",
       "      <td>Off Dialysis</td>\n",
       "    </tr>\n",
       "  </tbody>\n",
       "</table>\n",
       "<p>7218 rows × 8 columns</p>\n",
       "</div>"
      ],
      "text/plain": [
       "      RKD.ID Date_Of_Visit  Interval.from.diagnosis..months.  \\\n",
       "0          1    2012-08-31                               0.0   \n",
       "1          1    2012-09-07                               0.2   \n",
       "2          1    2012-09-17                               0.6   \n",
       "3          1    2012-09-21                               0.7   \n",
       "4          1    2012-09-28                               0.9   \n",
       "...      ...           ...                               ...   \n",
       "7213   28615    2024-02-06                             154.5   \n",
       "7214   28615    2024-05-20                             157.9   \n",
       "7215   28619    2024-06-25                               0.0   \n",
       "7216   28621    2024-07-19                               0.0   \n",
       "7217   28622    2024-07-30                               0.0   \n",
       "\n",
       "     Date.of.transplant. Date.of.graft.failure Dialysis1    Dialysis.1  \\\n",
       "0                    NaN                   NaN       NaN  Off Dialysis   \n",
       "1                    NaN                   NaN       NaN           NaN   \n",
       "2                    NaN                   NaN       NaN           NaN   \n",
       "3                    NaN                   NaN       NaN  Off Dialysis   \n",
       "4                    NaN                   NaN       NaN           NaN   \n",
       "...                  ...                   ...       ...           ...   \n",
       "7213                 NaN                   NaN       NaN  Off Dialysis   \n",
       "7214                 NaN                   NaN       NaN  Off Dialysis   \n",
       "7215                 NaN                   NaN       NaN   On Dialysis   \n",
       "7216                 NaN                   NaN       NaN  Off Dialysis   \n",
       "7217                 NaN                   NaN       NaN  Off Dialysis   \n",
       "\n",
       "                        Dialysis  \n",
       "0                   Off Dialysis  \n",
       "1     Functioning native kidneys  \n",
       "2     Functioning native kidneys  \n",
       "3                   Off Dialysis  \n",
       "4     Functioning native kidneys  \n",
       "...                          ...  \n",
       "7213                Off Dialysis  \n",
       "7214                Off Dialysis  \n",
       "7215                 On Dialysis  \n",
       "7216                Off Dialysis  \n",
       "7217                Off Dialysis  \n",
       "\n",
       "[7218 rows x 8 columns]"
      ]
     },
     "execution_count": 530,
     "metadata": {},
     "output_type": "execute_result"
    }
   ],
   "source": [
    "data2=pd.read_csv(\"C:/Users/georgea1/OneDrive - Trinity College Dublin/Angel George/Chap 2. Treatment/Data/LSTM Data/August-2024/Kidney_function.csv\")\n",
    "data2"
   ]
  },
  {
   "cell_type": "code",
   "execution_count": 531,
   "id": "31d1800a-0ee1-42ba-8637-68f7f0f23f7c",
   "metadata": {},
   "outputs": [
    {
     "data": {
      "text/html": [
       "<div>\n",
       "<style scoped>\n",
       "    .dataframe tbody tr th:only-of-type {\n",
       "        vertical-align: middle;\n",
       "    }\n",
       "\n",
       "    .dataframe tbody tr th {\n",
       "        vertical-align: top;\n",
       "    }\n",
       "\n",
       "    .dataframe thead th {\n",
       "        text-align: right;\n",
       "    }\n",
       "</style>\n",
       "<table border=\"1\" class=\"dataframe\">\n",
       "  <thead>\n",
       "    <tr style=\"text-align: right;\">\n",
       "      <th></th>\n",
       "      <th>RKD.ID</th>\n",
       "      <th>Repeat.Instrument_x</th>\n",
       "      <th>Date_Of_Visit</th>\n",
       "      <th>Interval.from.diagnosis..months._x</th>\n",
       "      <th>Immunosuppressive.status_x</th>\n",
       "      <th>Corticosteroids_x</th>\n",
       "      <th>Current.corticosteroid.dose_x</th>\n",
       "      <th>Corticosteroids.in.response.to.this.clinical.encounter.episode_x</th>\n",
       "      <th>Immunosuppressive.medication_x</th>\n",
       "      <th>Immunosuppressive.medication...other_x</th>\n",
       "      <th>...</th>\n",
       "      <th>Relapse_date</th>\n",
       "      <th>Time_D</th>\n",
       "      <th>Relapse_next_12_months</th>\n",
       "      <th>Relapse_next_6_months</th>\n",
       "      <th>Interval.from.diagnosis..months.</th>\n",
       "      <th>Date.of.transplant.</th>\n",
       "      <th>Date.of.graft.failure</th>\n",
       "      <th>Dialysis1</th>\n",
       "      <th>Dialysis.1</th>\n",
       "      <th>Dialysis</th>\n",
       "    </tr>\n",
       "  </thead>\n",
       "  <tbody>\n",
       "    <tr>\n",
       "      <th>0</th>\n",
       "      <td>1</td>\n",
       "      <td>Encounters</td>\n",
       "      <td>2012-08-31</td>\n",
       "      <td>0.0</td>\n",
       "      <td>Treatment Naive</td>\n",
       "      <td>No</td>\n",
       "      <td>NaN</td>\n",
       "      <td>NaN</td>\n",
       "      <td>No</td>\n",
       "      <td>NaN</td>\n",
       "      <td>...</td>\n",
       "      <td>2021-04-30</td>\n",
       "      <td>3164.0</td>\n",
       "      <td>0</td>\n",
       "      <td>0</td>\n",
       "      <td>0.0</td>\n",
       "      <td>NaN</td>\n",
       "      <td>NaN</td>\n",
       "      <td>NaN</td>\n",
       "      <td>Off Dialysis</td>\n",
       "      <td>Off Dialysis</td>\n",
       "    </tr>\n",
       "    <tr>\n",
       "      <th>1</th>\n",
       "      <td>1</td>\n",
       "      <td>Encounters</td>\n",
       "      <td>2012-09-07</td>\n",
       "      <td>0.2</td>\n",
       "      <td>NaN</td>\n",
       "      <td>NaN</td>\n",
       "      <td>NaN</td>\n",
       "      <td>NaN</td>\n",
       "      <td>NaN</td>\n",
       "      <td>NaN</td>\n",
       "      <td>...</td>\n",
       "      <td>2021-04-30</td>\n",
       "      <td>3157.0</td>\n",
       "      <td>0</td>\n",
       "      <td>0</td>\n",
       "      <td>0.2</td>\n",
       "      <td>NaN</td>\n",
       "      <td>NaN</td>\n",
       "      <td>NaN</td>\n",
       "      <td>NaN</td>\n",
       "      <td>Functioning native kidneys</td>\n",
       "    </tr>\n",
       "    <tr>\n",
       "      <th>2</th>\n",
       "      <td>1</td>\n",
       "      <td>Encounters</td>\n",
       "      <td>2012-09-17</td>\n",
       "      <td>0.6</td>\n",
       "      <td>NaN</td>\n",
       "      <td>NaN</td>\n",
       "      <td>NaN</td>\n",
       "      <td>NaN</td>\n",
       "      <td>NaN</td>\n",
       "      <td>NaN</td>\n",
       "      <td>...</td>\n",
       "      <td>2021-04-30</td>\n",
       "      <td>3147.0</td>\n",
       "      <td>0</td>\n",
       "      <td>0</td>\n",
       "      <td>0.6</td>\n",
       "      <td>NaN</td>\n",
       "      <td>NaN</td>\n",
       "      <td>NaN</td>\n",
       "      <td>NaN</td>\n",
       "      <td>Functioning native kidneys</td>\n",
       "    </tr>\n",
       "    <tr>\n",
       "      <th>3</th>\n",
       "      <td>1</td>\n",
       "      <td>Encounters</td>\n",
       "      <td>2012-09-21</td>\n",
       "      <td>0.7</td>\n",
       "      <td>Currently on immunosuppression</td>\n",
       "      <td>Yes</td>\n",
       "      <td>&gt; 20 mg/day</td>\n",
       "      <td>No change</td>\n",
       "      <td>IV Cyclophosphamide</td>\n",
       "      <td>NaN</td>\n",
       "      <td>...</td>\n",
       "      <td>2021-04-30</td>\n",
       "      <td>3143.0</td>\n",
       "      <td>0</td>\n",
       "      <td>0</td>\n",
       "      <td>0.7</td>\n",
       "      <td>NaN</td>\n",
       "      <td>NaN</td>\n",
       "      <td>NaN</td>\n",
       "      <td>Off Dialysis</td>\n",
       "      <td>Off Dialysis</td>\n",
       "    </tr>\n",
       "    <tr>\n",
       "      <th>4</th>\n",
       "      <td>1</td>\n",
       "      <td>Encounters</td>\n",
       "      <td>2012-09-28</td>\n",
       "      <td>0.9</td>\n",
       "      <td>Currently on immunosuppression</td>\n",
       "      <td>NaN</td>\n",
       "      <td>NaN</td>\n",
       "      <td>NaN</td>\n",
       "      <td>IV Cyclophosphamide</td>\n",
       "      <td>NaN</td>\n",
       "      <td>...</td>\n",
       "      <td>2021-04-30</td>\n",
       "      <td>3136.0</td>\n",
       "      <td>0</td>\n",
       "      <td>0</td>\n",
       "      <td>0.9</td>\n",
       "      <td>NaN</td>\n",
       "      <td>NaN</td>\n",
       "      <td>NaN</td>\n",
       "      <td>NaN</td>\n",
       "      <td>Functioning native kidneys</td>\n",
       "    </tr>\n",
       "    <tr>\n",
       "      <th>...</th>\n",
       "      <td>...</td>\n",
       "      <td>...</td>\n",
       "      <td>...</td>\n",
       "      <td>...</td>\n",
       "      <td>...</td>\n",
       "      <td>...</td>\n",
       "      <td>...</td>\n",
       "      <td>...</td>\n",
       "      <td>...</td>\n",
       "      <td>...</td>\n",
       "      <td>...</td>\n",
       "      <td>...</td>\n",
       "      <td>...</td>\n",
       "      <td>...</td>\n",
       "      <td>...</td>\n",
       "      <td>...</td>\n",
       "      <td>...</td>\n",
       "      <td>...</td>\n",
       "      <td>...</td>\n",
       "      <td>...</td>\n",
       "      <td>...</td>\n",
       "    </tr>\n",
       "    <tr>\n",
       "      <th>7016</th>\n",
       "      <td>28615</td>\n",
       "      <td>Encounters</td>\n",
       "      <td>2015-05-19</td>\n",
       "      <td>49.8</td>\n",
       "      <td>Currently on immunosuppression</td>\n",
       "      <td>No</td>\n",
       "      <td>NaN</td>\n",
       "      <td>No change</td>\n",
       "      <td>Azathioprine</td>\n",
       "      <td>NaN</td>\n",
       "      <td>...</td>\n",
       "      <td>2023-02-14</td>\n",
       "      <td>2828.0</td>\n",
       "      <td>0</td>\n",
       "      <td>0</td>\n",
       "      <td>49.8</td>\n",
       "      <td>NaN</td>\n",
       "      <td>NaN</td>\n",
       "      <td>NaN</td>\n",
       "      <td>Off Dialysis</td>\n",
       "      <td>Off Dialysis</td>\n",
       "    </tr>\n",
       "    <tr>\n",
       "      <th>7017</th>\n",
       "      <td>28615</td>\n",
       "      <td>Encounters</td>\n",
       "      <td>2017-02-24</td>\n",
       "      <td>71.1</td>\n",
       "      <td>Currently on immunosuppression</td>\n",
       "      <td>No</td>\n",
       "      <td>NaN</td>\n",
       "      <td>No change</td>\n",
       "      <td>Azathioprine</td>\n",
       "      <td>NaN</td>\n",
       "      <td>...</td>\n",
       "      <td>2023-02-14</td>\n",
       "      <td>2181.0</td>\n",
       "      <td>0</td>\n",
       "      <td>0</td>\n",
       "      <td>71.1</td>\n",
       "      <td>NaN</td>\n",
       "      <td>NaN</td>\n",
       "      <td>NaN</td>\n",
       "      <td>Off Dialysis</td>\n",
       "      <td>Off Dialysis</td>\n",
       "    </tr>\n",
       "    <tr>\n",
       "      <th>7018</th>\n",
       "      <td>28615</td>\n",
       "      <td>Encounters</td>\n",
       "      <td>2023-02-14</td>\n",
       "      <td>142.7</td>\n",
       "      <td>Discontinuation of immunosuppression &gt; 6 month...</td>\n",
       "      <td>No</td>\n",
       "      <td>NaN</td>\n",
       "      <td>Increased</td>\n",
       "      <td>No</td>\n",
       "      <td>NaN</td>\n",
       "      <td>...</td>\n",
       "      <td>2023-02-14</td>\n",
       "      <td>0.0</td>\n",
       "      <td>1</td>\n",
       "      <td>1</td>\n",
       "      <td>142.7</td>\n",
       "      <td>NaN</td>\n",
       "      <td>NaN</td>\n",
       "      <td>NaN</td>\n",
       "      <td>Off Dialysis</td>\n",
       "      <td>Off Dialysis</td>\n",
       "    </tr>\n",
       "    <tr>\n",
       "      <th>7019</th>\n",
       "      <td>28615</td>\n",
       "      <td>Encounters</td>\n",
       "      <td>2024-02-06</td>\n",
       "      <td>154.5</td>\n",
       "      <td>Discontinuation of immunosuppression &gt; 6 month...</td>\n",
       "      <td>No</td>\n",
       "      <td>NaN</td>\n",
       "      <td>No change</td>\n",
       "      <td>No</td>\n",
       "      <td>NaN</td>\n",
       "      <td>...</td>\n",
       "      <td>2024-05-20</td>\n",
       "      <td>104.0</td>\n",
       "      <td>1</td>\n",
       "      <td>1</td>\n",
       "      <td>154.5</td>\n",
       "      <td>NaN</td>\n",
       "      <td>NaN</td>\n",
       "      <td>NaN</td>\n",
       "      <td>Off Dialysis</td>\n",
       "      <td>Off Dialysis</td>\n",
       "    </tr>\n",
       "    <tr>\n",
       "      <th>7020</th>\n",
       "      <td>28615</td>\n",
       "      <td>Encounters</td>\n",
       "      <td>2024-05-20</td>\n",
       "      <td>157.9</td>\n",
       "      <td>Discontinuation of immunosuppression &gt; 6 month...</td>\n",
       "      <td>No</td>\n",
       "      <td>NaN</td>\n",
       "      <td>Increased</td>\n",
       "      <td>No</td>\n",
       "      <td>NaN</td>\n",
       "      <td>...</td>\n",
       "      <td>2024-05-20</td>\n",
       "      <td>0.0</td>\n",
       "      <td>1</td>\n",
       "      <td>1</td>\n",
       "      <td>157.9</td>\n",
       "      <td>NaN</td>\n",
       "      <td>NaN</td>\n",
       "      <td>NaN</td>\n",
       "      <td>Off Dialysis</td>\n",
       "      <td>Off Dialysis</td>\n",
       "    </tr>\n",
       "  </tbody>\n",
       "</table>\n",
       "<p>7021 rows × 567 columns</p>\n",
       "</div>"
      ],
      "text/plain": [
       "      RKD.ID Repeat.Instrument_x Date_Of_Visit  \\\n",
       "0          1          Encounters    2012-08-31   \n",
       "1          1          Encounters    2012-09-07   \n",
       "2          1          Encounters    2012-09-17   \n",
       "3          1          Encounters    2012-09-21   \n",
       "4          1          Encounters    2012-09-28   \n",
       "...      ...                 ...           ...   \n",
       "7016   28615          Encounters    2015-05-19   \n",
       "7017   28615          Encounters    2017-02-24   \n",
       "7018   28615          Encounters    2023-02-14   \n",
       "7019   28615          Encounters    2024-02-06   \n",
       "7020   28615          Encounters    2024-05-20   \n",
       "\n",
       "      Interval.from.diagnosis..months._x  \\\n",
       "0                                    0.0   \n",
       "1                                    0.2   \n",
       "2                                    0.6   \n",
       "3                                    0.7   \n",
       "4                                    0.9   \n",
       "...                                  ...   \n",
       "7016                                49.8   \n",
       "7017                                71.1   \n",
       "7018                               142.7   \n",
       "7019                               154.5   \n",
       "7020                               157.9   \n",
       "\n",
       "                             Immunosuppressive.status_x Corticosteroids_x  \\\n",
       "0                                       Treatment Naive                No   \n",
       "1                                                   NaN               NaN   \n",
       "2                                                   NaN               NaN   \n",
       "3                        Currently on immunosuppression               Yes   \n",
       "4                        Currently on immunosuppression               NaN   \n",
       "...                                                 ...               ...   \n",
       "7016                     Currently on immunosuppression                No   \n",
       "7017                     Currently on immunosuppression                No   \n",
       "7018  Discontinuation of immunosuppression > 6 month...                No   \n",
       "7019  Discontinuation of immunosuppression > 6 month...                No   \n",
       "7020  Discontinuation of immunosuppression > 6 month...                No   \n",
       "\n",
       "     Current.corticosteroid.dose_x  \\\n",
       "0                              NaN   \n",
       "1                              NaN   \n",
       "2                              NaN   \n",
       "3                      > 20 mg/day   \n",
       "4                              NaN   \n",
       "...                            ...   \n",
       "7016                           NaN   \n",
       "7017                           NaN   \n",
       "7018                           NaN   \n",
       "7019                           NaN   \n",
       "7020                           NaN   \n",
       "\n",
       "     Corticosteroids.in.response.to.this.clinical.encounter.episode_x  \\\n",
       "0                                                   NaN                 \n",
       "1                                                   NaN                 \n",
       "2                                                   NaN                 \n",
       "3                                             No change                 \n",
       "4                                                   NaN                 \n",
       "...                                                 ...                 \n",
       "7016                                          No change                 \n",
       "7017                                          No change                 \n",
       "7018                                          Increased                 \n",
       "7019                                          No change                 \n",
       "7020                                          Increased                 \n",
       "\n",
       "     Immunosuppressive.medication_x Immunosuppressive.medication...other_x  \\\n",
       "0                                No                                    NaN   \n",
       "1                               NaN                                    NaN   \n",
       "2                               NaN                                    NaN   \n",
       "3               IV Cyclophosphamide                                    NaN   \n",
       "4               IV Cyclophosphamide                                    NaN   \n",
       "...                             ...                                    ...   \n",
       "7016                   Azathioprine                                    NaN   \n",
       "7017                   Azathioprine                                    NaN   \n",
       "7018                             No                                    NaN   \n",
       "7019                             No                                    NaN   \n",
       "7020                             No                                    NaN   \n",
       "\n",
       "      ... Relapse_date  Time_D Relapse_next_12_months Relapse_next_6_months  \\\n",
       "0     ...   2021-04-30  3164.0                      0                     0   \n",
       "1     ...   2021-04-30  3157.0                      0                     0   \n",
       "2     ...   2021-04-30  3147.0                      0                     0   \n",
       "3     ...   2021-04-30  3143.0                      0                     0   \n",
       "4     ...   2021-04-30  3136.0                      0                     0   \n",
       "...   ...          ...     ...                    ...                   ...   \n",
       "7016  ...   2023-02-14  2828.0                      0                     0   \n",
       "7017  ...   2023-02-14  2181.0                      0                     0   \n",
       "7018  ...   2023-02-14     0.0                      1                     1   \n",
       "7019  ...   2024-05-20   104.0                      1                     1   \n",
       "7020  ...   2024-05-20     0.0                      1                     1   \n",
       "\n",
       "     Interval.from.diagnosis..months.  Date.of.transplant.  \\\n",
       "0                                 0.0                  NaN   \n",
       "1                                 0.2                  NaN   \n",
       "2                                 0.6                  NaN   \n",
       "3                                 0.7                  NaN   \n",
       "4                                 0.9                  NaN   \n",
       "...                               ...                  ...   \n",
       "7016                             49.8                  NaN   \n",
       "7017                             71.1                  NaN   \n",
       "7018                            142.7                  NaN   \n",
       "7019                            154.5                  NaN   \n",
       "7020                            157.9                  NaN   \n",
       "\n",
       "     Date.of.graft.failure Dialysis1    Dialysis.1                    Dialysis  \n",
       "0                      NaN       NaN  Off Dialysis                Off Dialysis  \n",
       "1                      NaN       NaN           NaN  Functioning native kidneys  \n",
       "2                      NaN       NaN           NaN  Functioning native kidneys  \n",
       "3                      NaN       NaN  Off Dialysis                Off Dialysis  \n",
       "4                      NaN       NaN           NaN  Functioning native kidneys  \n",
       "...                    ...       ...           ...                         ...  \n",
       "7016                   NaN       NaN  Off Dialysis                Off Dialysis  \n",
       "7017                   NaN       NaN  Off Dialysis                Off Dialysis  \n",
       "7018                   NaN       NaN  Off Dialysis                Off Dialysis  \n",
       "7019                   NaN       NaN  Off Dialysis                Off Dialysis  \n",
       "7020                   NaN       NaN  Off Dialysis                Off Dialysis  \n",
       "\n",
       "[7021 rows x 567 columns]"
      ]
     },
     "execution_count": 531,
     "metadata": {},
     "output_type": "execute_result"
    }
   ],
   "source": [
    "data['Date_Of_Visit'] = pd.to_datetime(data['Date_Of_Visit'])\n",
    "data2['Date_Of_Visit'] = pd.to_datetime(data2['Date_Of_Visit'])\n",
    "# Merge with left join\n",
    "data = pd.merge(data, data2, on=['RKD.ID', 'Date_Of_Visit'], how='left')\n",
    "data"
   ]
  },
  {
   "cell_type": "code",
   "execution_count": 532,
   "id": "609e8a37-83b5-4d15-9b3f-053fe9f83d3f",
   "metadata": {},
   "outputs": [
    {
     "data": {
      "text/plain": [
       "6360"
      ]
     },
     "execution_count": 532,
     "metadata": {},
     "output_type": "execute_result"
    }
   ],
   "source": [
    "data['Urine.sCD163..ng.mmmol...Euroimmun'].isnull().sum()"
   ]
  },
  {
   "cell_type": "code",
   "execution_count": 533,
   "id": "7c8b574f-5fb3-48ee-9f07-523f5c4cf5c2",
   "metadata": {},
   "outputs": [
    {
     "data": {
      "text/plain": [
       "6683"
      ]
     },
     "execution_count": 533,
     "metadata": {},
     "output_type": "execute_result"
    }
   ],
   "source": [
    "data['Urine.sCD163..ng.mmmol...Duoset'].isnull().sum()"
   ]
  },
  {
   "cell_type": "markdown",
   "id": "eff14bf0-a106-450c-a054-5d40524a238d",
   "metadata": {},
   "source": [
    "## Creatinine"
   ]
  },
  {
   "cell_type": "code",
   "execution_count": 534,
   "id": "2f15517e-4313-42e0-8e02-c2e514c8816e",
   "metadata": {},
   "outputs": [
    {
     "data": {
      "text/plain": [
       "3391"
      ]
     },
     "execution_count": 534,
     "metadata": {},
     "output_type": "execute_result"
    }
   ],
   "source": [
    "data['Creatinine'].isnull().sum()"
   ]
  },
  {
   "cell_type": "markdown",
   "id": "99975cc0-2c3e-45e1-b97d-8be79ae5b12a",
   "metadata": {},
   "source": [
    "## CRP"
   ]
  },
  {
   "cell_type": "code",
   "execution_count": 535,
   "id": "f6a8418b-f935-47f6-9602-d4d40d883502",
   "metadata": {},
   "outputs": [
    {
     "data": {
      "text/plain": [
       "4183"
      ]
     },
     "execution_count": 535,
     "metadata": {},
     "output_type": "execute_result"
    }
   ],
   "source": [
    "data['CRP'].isnull().sum()"
   ]
  },
  {
   "cell_type": "code",
   "execution_count": null,
   "id": "6ab9b629-250a-4e43-8046-39d7f84dba3d",
   "metadata": {},
   "outputs": [],
   "source": []
  },
  {
   "cell_type": "markdown",
   "id": "d4981003-e444-4699-ad55-dd60779b3ac2",
   "metadata": {},
   "source": [
    "## Uninalysis Protein"
   ]
  },
  {
   "cell_type": "code",
   "execution_count": 537,
   "id": "8213f879-d015-4c8c-b862-eec5188c853c",
   "metadata": {},
   "outputs": [
    {
     "data": {
      "text/plain": [
       "Urinalysis.Protein\n",
       "NaN         4423\n",
       "Negative    1334\n",
       "1            547\n",
       "2            461\n",
       ">=+3         256\n",
       "Name: count, dtype: int64"
      ]
     },
     "execution_count": 537,
     "metadata": {},
     "output_type": "execute_result"
    }
   ],
   "source": [
    "data['Urinalysis.Protein'].value_counts(dropna=False)"
   ]
  },
  {
   "cell_type": "code",
   "execution_count": null,
   "id": "470accd2-3c45-428b-b96a-3ff02ffbcc3a",
   "metadata": {},
   "outputs": [],
   "source": []
  },
  {
   "cell_type": "markdown",
   "id": "c33d3ab6-74ec-4239-bd96-d7ac469ac4f3",
   "metadata": {},
   "source": [
    "## Urinalysis.Blood"
   ]
  },
  {
   "cell_type": "code",
   "execution_count": 538,
   "id": "608eaf14-82b9-450d-936d-1b5fd70c82fc",
   "metadata": {},
   "outputs": [
    {
     "data": {
      "text/plain": [
       "Urinalysis.Blood\n",
       "NaN         4423\n",
       "Negative    1745\n",
       "1            374\n",
       "2            289\n",
       ">=+3         190\n",
       "Name: count, dtype: int64"
      ]
     },
     "execution_count": 538,
     "metadata": {},
     "output_type": "execute_result"
    }
   ],
   "source": [
    "data['Urinalysis.Blood'].value_counts(dropna=False)"
   ]
  },
  {
   "cell_type": "code",
   "execution_count": null,
   "id": "1ffa6203-2e7f-478c-8fff-3c8c23970fc5",
   "metadata": {},
   "outputs": [],
   "source": []
  },
  {
   "cell_type": "code",
   "execution_count": 539,
   "id": "df104172-4711-4222-97ac-9eb647ef44d0",
   "metadata": {},
   "outputs": [
    {
     "data": {
      "text/plain": [
       "5600"
      ]
     },
     "execution_count": 539,
     "metadata": {},
     "output_type": "execute_result"
    }
   ],
   "source": [
    "data['Urine.PCR.ACR..mg.mmol.'].isnull().sum()"
   ]
  },
  {
   "cell_type": "code",
   "execution_count": null,
   "id": "4372ae58-8e81-4a39-94ac-5f80252c4984",
   "metadata": {},
   "outputs": [],
   "source": []
  },
  {
   "cell_type": "code",
   "execution_count": 540,
   "id": "963c8d92",
   "metadata": {},
   "outputs": [
    {
     "data": {
      "text/html": [
       "<div>\n",
       "<style scoped>\n",
       "    .dataframe tbody tr th:only-of-type {\n",
       "        vertical-align: middle;\n",
       "    }\n",
       "\n",
       "    .dataframe tbody tr th {\n",
       "        vertical-align: top;\n",
       "    }\n",
       "\n",
       "    .dataframe thead th {\n",
       "        text-align: right;\n",
       "    }\n",
       "</style>\n",
       "<table border=\"1\" class=\"dataframe\">\n",
       "  <thead>\n",
       "    <tr style=\"text-align: right;\">\n",
       "      <th></th>\n",
       "      <th>RKD.ID</th>\n",
       "      <th>Date_Of_Visit</th>\n",
       "      <th>Interval.from.diagnosis..months._x</th>\n",
       "      <th>At.any.point.ANCA.specificity</th>\n",
       "      <th>Delta_t_previous</th>\n",
       "      <th>Delta_t_post</th>\n",
       "      <th>RTX_Status_induction</th>\n",
       "      <th>RTX_dose_category</th>\n",
       "      <th>Cyc_Status_induction</th>\n",
       "      <th>OralCyc_Status_induction</th>\n",
       "      <th>...</th>\n",
       "      <th>CPD_relapse</th>\n",
       "      <th>CPD ISMed</th>\n",
       "      <th>LTROT</th>\n",
       "      <th>Treatment_stopped</th>\n",
       "      <th>Dialysis</th>\n",
       "      <th>Urine.sCD163..ng.mmmol...Euroimmun</th>\n",
       "      <th>Urinalysis.Protein</th>\n",
       "      <th>Urine.PCR.ACR..mg.mmol.</th>\n",
       "      <th>Urinalysis.Blood</th>\n",
       "      <th>Relapse_next_6_months</th>\n",
       "    </tr>\n",
       "  </thead>\n",
       "  <tbody>\n",
       "    <tr>\n",
       "      <th>0</th>\n",
       "      <td>1</td>\n",
       "      <td>2012-08-31</td>\n",
       "      <td>0.0</td>\n",
       "      <td>MPO</td>\n",
       "      <td>NaN</td>\n",
       "      <td>7.0</td>\n",
       "      <td>0</td>\n",
       "      <td>Not received</td>\n",
       "      <td>1</td>\n",
       "      <td>0</td>\n",
       "      <td>...</td>\n",
       "      <td>NaN</td>\n",
       "      <td>NaN</td>\n",
       "      <td>NaN</td>\n",
       "      <td>No</td>\n",
       "      <td>Off Dialysis</td>\n",
       "      <td>NaN</td>\n",
       "      <td>NaN</td>\n",
       "      <td>NaN</td>\n",
       "      <td>NaN</td>\n",
       "      <td>0</td>\n",
       "    </tr>\n",
       "    <tr>\n",
       "      <th>1</th>\n",
       "      <td>1</td>\n",
       "      <td>2012-09-07</td>\n",
       "      <td>0.2</td>\n",
       "      <td>MPO</td>\n",
       "      <td>7.0</td>\n",
       "      <td>10.0</td>\n",
       "      <td>0</td>\n",
       "      <td>Not received</td>\n",
       "      <td>1</td>\n",
       "      <td>0</td>\n",
       "      <td>...</td>\n",
       "      <td>NaN</td>\n",
       "      <td>Corticosteroids, Cyclophosphamide</td>\n",
       "      <td>NaN</td>\n",
       "      <td>No</td>\n",
       "      <td>Functioning native kidneys</td>\n",
       "      <td>NaN</td>\n",
       "      <td>NaN</td>\n",
       "      <td>NaN</td>\n",
       "      <td>NaN</td>\n",
       "      <td>0</td>\n",
       "    </tr>\n",
       "    <tr>\n",
       "      <th>2</th>\n",
       "      <td>1</td>\n",
       "      <td>2012-09-17</td>\n",
       "      <td>0.6</td>\n",
       "      <td>MPO</td>\n",
       "      <td>10.0</td>\n",
       "      <td>4.0</td>\n",
       "      <td>0</td>\n",
       "      <td>Not received</td>\n",
       "      <td>1</td>\n",
       "      <td>0</td>\n",
       "      <td>...</td>\n",
       "      <td>NaN</td>\n",
       "      <td>Corticosteroids, Cyclophosphamide</td>\n",
       "      <td>NaN</td>\n",
       "      <td>No</td>\n",
       "      <td>Functioning native kidneys</td>\n",
       "      <td>NaN</td>\n",
       "      <td>NaN</td>\n",
       "      <td>NaN</td>\n",
       "      <td>NaN</td>\n",
       "      <td>0</td>\n",
       "    </tr>\n",
       "    <tr>\n",
       "      <th>3</th>\n",
       "      <td>1</td>\n",
       "      <td>2012-09-21</td>\n",
       "      <td>0.7</td>\n",
       "      <td>MPO</td>\n",
       "      <td>4.0</td>\n",
       "      <td>7.0</td>\n",
       "      <td>0</td>\n",
       "      <td>Not received</td>\n",
       "      <td>1</td>\n",
       "      <td>0</td>\n",
       "      <td>...</td>\n",
       "      <td>NaN</td>\n",
       "      <td>Corticosteroids, Cyclophosphamide</td>\n",
       "      <td>NaN</td>\n",
       "      <td>No</td>\n",
       "      <td>Off Dialysis</td>\n",
       "      <td>NaN</td>\n",
       "      <td>NaN</td>\n",
       "      <td>NaN</td>\n",
       "      <td>NaN</td>\n",
       "      <td>0</td>\n",
       "    </tr>\n",
       "    <tr>\n",
       "      <th>4</th>\n",
       "      <td>1</td>\n",
       "      <td>2012-09-28</td>\n",
       "      <td>0.9</td>\n",
       "      <td>MPO</td>\n",
       "      <td>7.0</td>\n",
       "      <td>3.0</td>\n",
       "      <td>0</td>\n",
       "      <td>Not received</td>\n",
       "      <td>1</td>\n",
       "      <td>0</td>\n",
       "      <td>...</td>\n",
       "      <td>NaN</td>\n",
       "      <td>Corticosteroids, Cyclophosphamide</td>\n",
       "      <td>NaN</td>\n",
       "      <td>No</td>\n",
       "      <td>Functioning native kidneys</td>\n",
       "      <td>NaN</td>\n",
       "      <td>NaN</td>\n",
       "      <td>NaN</td>\n",
       "      <td>NaN</td>\n",
       "      <td>0</td>\n",
       "    </tr>\n",
       "    <tr>\n",
       "      <th>...</th>\n",
       "      <td>...</td>\n",
       "      <td>...</td>\n",
       "      <td>...</td>\n",
       "      <td>...</td>\n",
       "      <td>...</td>\n",
       "      <td>...</td>\n",
       "      <td>...</td>\n",
       "      <td>...</td>\n",
       "      <td>...</td>\n",
       "      <td>...</td>\n",
       "      <td>...</td>\n",
       "      <td>...</td>\n",
       "      <td>...</td>\n",
       "      <td>...</td>\n",
       "      <td>...</td>\n",
       "      <td>...</td>\n",
       "      <td>...</td>\n",
       "      <td>...</td>\n",
       "      <td>...</td>\n",
       "      <td>...</td>\n",
       "      <td>...</td>\n",
       "    </tr>\n",
       "    <tr>\n",
       "      <th>7016</th>\n",
       "      <td>28615</td>\n",
       "      <td>2015-05-19</td>\n",
       "      <td>49.8</td>\n",
       "      <td>MPO</td>\n",
       "      <td>1516.0</td>\n",
       "      <td>647.0</td>\n",
       "      <td>0</td>\n",
       "      <td>Not received</td>\n",
       "      <td>1</td>\n",
       "      <td>0</td>\n",
       "      <td>...</td>\n",
       "      <td>No Relapse</td>\n",
       "      <td>Azathioprine</td>\n",
       "      <td>no</td>\n",
       "      <td>No</td>\n",
       "      <td>Off Dialysis</td>\n",
       "      <td>NaN</td>\n",
       "      <td>Negative</td>\n",
       "      <td>22.0</td>\n",
       "      <td>Negative</td>\n",
       "      <td>0</td>\n",
       "    </tr>\n",
       "    <tr>\n",
       "      <th>7017</th>\n",
       "      <td>28615</td>\n",
       "      <td>2017-02-24</td>\n",
       "      <td>71.1</td>\n",
       "      <td>MPO</td>\n",
       "      <td>647.0</td>\n",
       "      <td>2181.0</td>\n",
       "      <td>0</td>\n",
       "      <td>Not received</td>\n",
       "      <td>1</td>\n",
       "      <td>0</td>\n",
       "      <td>...</td>\n",
       "      <td>No Relapse</td>\n",
       "      <td>Azathioprine</td>\n",
       "      <td>no</td>\n",
       "      <td>No</td>\n",
       "      <td>Off Dialysis</td>\n",
       "      <td>NaN</td>\n",
       "      <td>1</td>\n",
       "      <td>NaN</td>\n",
       "      <td>Negative</td>\n",
       "      <td>0</td>\n",
       "    </tr>\n",
       "    <tr>\n",
       "      <th>7018</th>\n",
       "      <td>28615</td>\n",
       "      <td>2023-02-14</td>\n",
       "      <td>142.7</td>\n",
       "      <td>MPO</td>\n",
       "      <td>2181.0</td>\n",
       "      <td>357.0</td>\n",
       "      <td>0</td>\n",
       "      <td>Not received</td>\n",
       "      <td>1</td>\n",
       "      <td>0</td>\n",
       "      <td>...</td>\n",
       "      <td>Definite Relapse</td>\n",
       "      <td>NaN</td>\n",
       "      <td>no</td>\n",
       "      <td>Yes</td>\n",
       "      <td>Off Dialysis</td>\n",
       "      <td>NaN</td>\n",
       "      <td>&gt;=+3</td>\n",
       "      <td>76.0</td>\n",
       "      <td>&gt;=+3</td>\n",
       "      <td>1</td>\n",
       "    </tr>\n",
       "    <tr>\n",
       "      <th>7019</th>\n",
       "      <td>28615</td>\n",
       "      <td>2024-02-06</td>\n",
       "      <td>154.5</td>\n",
       "      <td>MPO</td>\n",
       "      <td>357.0</td>\n",
       "      <td>104.0</td>\n",
       "      <td>0</td>\n",
       "      <td>Not received</td>\n",
       "      <td>1</td>\n",
       "      <td>0</td>\n",
       "      <td>...</td>\n",
       "      <td>No Relapse</td>\n",
       "      <td>NaN</td>\n",
       "      <td>no</td>\n",
       "      <td>Yes</td>\n",
       "      <td>Off Dialysis</td>\n",
       "      <td>NaN</td>\n",
       "      <td>&gt;=+3</td>\n",
       "      <td>NaN</td>\n",
       "      <td>&gt;=+3</td>\n",
       "      <td>1</td>\n",
       "    </tr>\n",
       "    <tr>\n",
       "      <th>7020</th>\n",
       "      <td>28615</td>\n",
       "      <td>2024-05-20</td>\n",
       "      <td>157.9</td>\n",
       "      <td>MPO</td>\n",
       "      <td>104.0</td>\n",
       "      <td>NaN</td>\n",
       "      <td>0</td>\n",
       "      <td>Not received</td>\n",
       "      <td>1</td>\n",
       "      <td>0</td>\n",
       "      <td>...</td>\n",
       "      <td>Definite Relapse</td>\n",
       "      <td>NaN</td>\n",
       "      <td>no</td>\n",
       "      <td>Yes</td>\n",
       "      <td>Off Dialysis</td>\n",
       "      <td>NaN</td>\n",
       "      <td>NaN</td>\n",
       "      <td>237.0</td>\n",
       "      <td>NaN</td>\n",
       "      <td>1</td>\n",
       "    </tr>\n",
       "  </tbody>\n",
       "</table>\n",
       "<p>7021 rows × 31 columns</p>\n",
       "</div>"
      ],
      "text/plain": [
       "      RKD.ID Date_Of_Visit  Interval.from.diagnosis..months._x  \\\n",
       "0          1    2012-08-31                                 0.0   \n",
       "1          1    2012-09-07                                 0.2   \n",
       "2          1    2012-09-17                                 0.6   \n",
       "3          1    2012-09-21                                 0.7   \n",
       "4          1    2012-09-28                                 0.9   \n",
       "...      ...           ...                                 ...   \n",
       "7016   28615    2015-05-19                                49.8   \n",
       "7017   28615    2017-02-24                                71.1   \n",
       "7018   28615    2023-02-14                               142.7   \n",
       "7019   28615    2024-02-06                               154.5   \n",
       "7020   28615    2024-05-20                               157.9   \n",
       "\n",
       "     At.any.point.ANCA.specificity  Delta_t_previous  Delta_t_post  \\\n",
       "0                              MPO               NaN           7.0   \n",
       "1                              MPO               7.0          10.0   \n",
       "2                              MPO              10.0           4.0   \n",
       "3                              MPO               4.0           7.0   \n",
       "4                              MPO               7.0           3.0   \n",
       "...                            ...               ...           ...   \n",
       "7016                           MPO            1516.0         647.0   \n",
       "7017                           MPO             647.0        2181.0   \n",
       "7018                           MPO            2181.0         357.0   \n",
       "7019                           MPO             357.0         104.0   \n",
       "7020                           MPO             104.0           NaN   \n",
       "\n",
       "     RTX_Status_induction RTX_dose_category Cyc_Status_induction  \\\n",
       "0                       0      Not received                    1   \n",
       "1                       0      Not received                    1   \n",
       "2                       0      Not received                    1   \n",
       "3                       0      Not received                    1   \n",
       "4                       0      Not received                    1   \n",
       "...                   ...               ...                  ...   \n",
       "7016                    0      Not received                    1   \n",
       "7017                    0      Not received                    1   \n",
       "7018                    0      Not received                    1   \n",
       "7019                    0      Not received                    1   \n",
       "7020                    0      Not received                    1   \n",
       "\n",
       "     OralCyc_Status_induction  ...       CPD_relapse  \\\n",
       "0                           0  ...               NaN   \n",
       "1                           0  ...               NaN   \n",
       "2                           0  ...               NaN   \n",
       "3                           0  ...               NaN   \n",
       "4                           0  ...               NaN   \n",
       "...                       ...  ...               ...   \n",
       "7016                        0  ...        No Relapse   \n",
       "7017                        0  ...        No Relapse   \n",
       "7018                        0  ...  Definite Relapse   \n",
       "7019                        0  ...        No Relapse   \n",
       "7020                        0  ...  Definite Relapse   \n",
       "\n",
       "                               CPD ISMed  LTROT  Treatment_stopped  \\\n",
       "0                                    NaN    NaN                 No   \n",
       "1      Corticosteroids, Cyclophosphamide    NaN                 No   \n",
       "2      Corticosteroids, Cyclophosphamide    NaN                 No   \n",
       "3      Corticosteroids, Cyclophosphamide    NaN                 No   \n",
       "4      Corticosteroids, Cyclophosphamide    NaN                 No   \n",
       "...                                  ...    ...                ...   \n",
       "7016                        Azathioprine     no                 No   \n",
       "7017                        Azathioprine     no                 No   \n",
       "7018                                 NaN     no                Yes   \n",
       "7019                                 NaN     no                Yes   \n",
       "7020                                 NaN     no                Yes   \n",
       "\n",
       "                        Dialysis  Urine.sCD163..ng.mmmol...Euroimmun  \\\n",
       "0                   Off Dialysis                                 NaN   \n",
       "1     Functioning native kidneys                                 NaN   \n",
       "2     Functioning native kidneys                                 NaN   \n",
       "3                   Off Dialysis                                 NaN   \n",
       "4     Functioning native kidneys                                 NaN   \n",
       "...                          ...                                 ...   \n",
       "7016                Off Dialysis                                 NaN   \n",
       "7017                Off Dialysis                                 NaN   \n",
       "7018                Off Dialysis                                 NaN   \n",
       "7019                Off Dialysis                                 NaN   \n",
       "7020                Off Dialysis                                 NaN   \n",
       "\n",
       "      Urinalysis.Protein  Urine.PCR.ACR..mg.mmol. Urinalysis.Blood  \\\n",
       "0                    NaN                      NaN              NaN   \n",
       "1                    NaN                      NaN              NaN   \n",
       "2                    NaN                      NaN              NaN   \n",
       "3                    NaN                      NaN              NaN   \n",
       "4                    NaN                      NaN              NaN   \n",
       "...                  ...                      ...              ...   \n",
       "7016            Negative                     22.0         Negative   \n",
       "7017                   1                      NaN         Negative   \n",
       "7018                >=+3                     76.0             >=+3   \n",
       "7019                >=+3                      NaN             >=+3   \n",
       "7020                 NaN                    237.0              NaN   \n",
       "\n",
       "     Relapse_next_6_months  \n",
       "0                        0  \n",
       "1                        0  \n",
       "2                        0  \n",
       "3                        0  \n",
       "4                        0  \n",
       "...                    ...  \n",
       "7016                     0  \n",
       "7017                     0  \n",
       "7018                     1  \n",
       "7019                     1  \n",
       "7020                     1  \n",
       "\n",
       "[7021 rows x 31 columns]"
      ]
     },
     "execution_count": 540,
     "metadata": {},
     "output_type": "execute_result"
    }
   ],
   "source": [
    "data1=data.loc[:,['RKD.ID','Date_Of_Visit','Interval.from.diagnosis..months._x','At.any.point.ANCA.specificity','Delta_t_previous','Delta_t_post','RTX_Status_induction','RTX_dose_category','Cyc_Status_induction','OralCyc_Status_induction','Rituximab_6months','MMF_6months','Methotrexate_6months','AZA_6months','Rituximab','MMF','Methotrexate','AZA','ANCA_switch','anca_kinetics_longterm','CPD_on_off','CPD_relapse','CPD ISMed','LTROT','Treatment_stopped','Dialysis','Urine.sCD163..ng.mmmol...Euroimmun','Urinalysis.Protein','Urine.PCR.ACR..mg.mmol.','Urinalysis.Blood','Relapse_next_6_months']]\n",
    "data1"
   ]
  },
  {
   "cell_type": "code",
   "execution_count": 198,
   "id": "5553f473",
   "metadata": {},
   "outputs": [
    {
     "data": {
      "text/html": [
       "<div>\n",
       "<style scoped>\n",
       "    .dataframe tbody tr th:only-of-type {\n",
       "        vertical-align: middle;\n",
       "    }\n",
       "\n",
       "    .dataframe tbody tr th {\n",
       "        vertical-align: top;\n",
       "    }\n",
       "\n",
       "    .dataframe thead th {\n",
       "        text-align: right;\n",
       "    }\n",
       "</style>\n",
       "<table border=\"1\" class=\"dataframe\">\n",
       "  <thead>\n",
       "    <tr style=\"text-align: right;\">\n",
       "      <th></th>\n",
       "      <th>RKD.ID</th>\n",
       "      <th>Repeat.Instrument_x</th>\n",
       "      <th>Date_Of_Visit</th>\n",
       "      <th>Interval.from.diagnosis..months._x</th>\n",
       "      <th>Immunosuppressive.status_x</th>\n",
       "      <th>Corticosteroids_x</th>\n",
       "      <th>Current.corticosteroid.dose_x</th>\n",
       "      <th>Corticosteroids.in.response.to.this.clinical.encounter.episode_x</th>\n",
       "      <th>Immunosuppressive.medication_x</th>\n",
       "      <th>Immunosuppressive.medication...other_x</th>\n",
       "      <th>...</th>\n",
       "      <th>Relapse+1</th>\n",
       "      <th>Relapse_date</th>\n",
       "      <th>Time_D</th>\n",
       "      <th>Relapse_next_6_months</th>\n",
       "      <th>Interval.from.diagnosis..months.</th>\n",
       "      <th>Date.of.transplant.</th>\n",
       "      <th>Date.of.graft.failure</th>\n",
       "      <th>Dialysis1</th>\n",
       "      <th>Dialysis.1</th>\n",
       "      <th>Dialysis</th>\n",
       "    </tr>\n",
       "  </thead>\n",
       "  <tbody>\n",
       "    <tr>\n",
       "      <th>0</th>\n",
       "      <td>1</td>\n",
       "      <td>Encounters</td>\n",
       "      <td>2012-08-31</td>\n",
       "      <td>0.0</td>\n",
       "      <td>Treatment Naive</td>\n",
       "      <td>No</td>\n",
       "      <td>NaN</td>\n",
       "      <td>NaN</td>\n",
       "      <td>No</td>\n",
       "      <td>NaN</td>\n",
       "      <td>...</td>\n",
       "      <td>NaN</td>\n",
       "      <td>2021-04-30</td>\n",
       "      <td>3164.0</td>\n",
       "      <td>0</td>\n",
       "      <td>0.0</td>\n",
       "      <td>NaN</td>\n",
       "      <td>NaN</td>\n",
       "      <td>NaN</td>\n",
       "      <td>Off Dialysis</td>\n",
       "      <td>Off Dialysis</td>\n",
       "    </tr>\n",
       "    <tr>\n",
       "      <th>1</th>\n",
       "      <td>1</td>\n",
       "      <td>Encounters</td>\n",
       "      <td>2012-09-07</td>\n",
       "      <td>0.2</td>\n",
       "      <td>NaN</td>\n",
       "      <td>NaN</td>\n",
       "      <td>NaN</td>\n",
       "      <td>NaN</td>\n",
       "      <td>NaN</td>\n",
       "      <td>NaN</td>\n",
       "      <td>...</td>\n",
       "      <td>NaN</td>\n",
       "      <td>2021-04-30</td>\n",
       "      <td>3157.0</td>\n",
       "      <td>0</td>\n",
       "      <td>0.2</td>\n",
       "      <td>NaN</td>\n",
       "      <td>NaN</td>\n",
       "      <td>NaN</td>\n",
       "      <td>NaN</td>\n",
       "      <td>Functioning native kidneys</td>\n",
       "    </tr>\n",
       "    <tr>\n",
       "      <th>2</th>\n",
       "      <td>1</td>\n",
       "      <td>Encounters</td>\n",
       "      <td>2012-09-17</td>\n",
       "      <td>0.6</td>\n",
       "      <td>NaN</td>\n",
       "      <td>NaN</td>\n",
       "      <td>NaN</td>\n",
       "      <td>NaN</td>\n",
       "      <td>NaN</td>\n",
       "      <td>NaN</td>\n",
       "      <td>...</td>\n",
       "      <td>NaN</td>\n",
       "      <td>2021-04-30</td>\n",
       "      <td>3147.0</td>\n",
       "      <td>0</td>\n",
       "      <td>0.6</td>\n",
       "      <td>NaN</td>\n",
       "      <td>NaN</td>\n",
       "      <td>NaN</td>\n",
       "      <td>NaN</td>\n",
       "      <td>Functioning native kidneys</td>\n",
       "    </tr>\n",
       "    <tr>\n",
       "      <th>3</th>\n",
       "      <td>1</td>\n",
       "      <td>Encounters</td>\n",
       "      <td>2012-09-21</td>\n",
       "      <td>0.7</td>\n",
       "      <td>Currently on immunosuppression</td>\n",
       "      <td>Yes</td>\n",
       "      <td>&gt; 20 mg/day</td>\n",
       "      <td>No change</td>\n",
       "      <td>IV Cyclophosphamide</td>\n",
       "      <td>NaN</td>\n",
       "      <td>...</td>\n",
       "      <td>NaN</td>\n",
       "      <td>2021-04-30</td>\n",
       "      <td>3143.0</td>\n",
       "      <td>0</td>\n",
       "      <td>0.7</td>\n",
       "      <td>NaN</td>\n",
       "      <td>NaN</td>\n",
       "      <td>NaN</td>\n",
       "      <td>Off Dialysis</td>\n",
       "      <td>Off Dialysis</td>\n",
       "    </tr>\n",
       "    <tr>\n",
       "      <th>4</th>\n",
       "      <td>1</td>\n",
       "      <td>Encounters</td>\n",
       "      <td>2012-09-28</td>\n",
       "      <td>0.9</td>\n",
       "      <td>Currently on immunosuppression</td>\n",
       "      <td>NaN</td>\n",
       "      <td>NaN</td>\n",
       "      <td>NaN</td>\n",
       "      <td>IV Cyclophosphamide</td>\n",
       "      <td>NaN</td>\n",
       "      <td>...</td>\n",
       "      <td>NaN</td>\n",
       "      <td>2021-04-30</td>\n",
       "      <td>3136.0</td>\n",
       "      <td>0</td>\n",
       "      <td>0.9</td>\n",
       "      <td>NaN</td>\n",
       "      <td>NaN</td>\n",
       "      <td>NaN</td>\n",
       "      <td>NaN</td>\n",
       "      <td>Functioning native kidneys</td>\n",
       "    </tr>\n",
       "    <tr>\n",
       "      <th>...</th>\n",
       "      <td>...</td>\n",
       "      <td>...</td>\n",
       "      <td>...</td>\n",
       "      <td>...</td>\n",
       "      <td>...</td>\n",
       "      <td>...</td>\n",
       "      <td>...</td>\n",
       "      <td>...</td>\n",
       "      <td>...</td>\n",
       "      <td>...</td>\n",
       "      <td>...</td>\n",
       "      <td>...</td>\n",
       "      <td>...</td>\n",
       "      <td>...</td>\n",
       "      <td>...</td>\n",
       "      <td>...</td>\n",
       "      <td>...</td>\n",
       "      <td>...</td>\n",
       "      <td>...</td>\n",
       "      <td>...</td>\n",
       "      <td>...</td>\n",
       "    </tr>\n",
       "    <tr>\n",
       "      <th>7016</th>\n",
       "      <td>28615</td>\n",
       "      <td>Encounters</td>\n",
       "      <td>2015-05-19</td>\n",
       "      <td>49.8</td>\n",
       "      <td>Currently on immunosuppression</td>\n",
       "      <td>No</td>\n",
       "      <td>NaN</td>\n",
       "      <td>No change</td>\n",
       "      <td>Azathioprine</td>\n",
       "      <td>NaN</td>\n",
       "      <td>...</td>\n",
       "      <td>No Relapse</td>\n",
       "      <td>2023-02-14</td>\n",
       "      <td>2828.0</td>\n",
       "      <td>0</td>\n",
       "      <td>49.8</td>\n",
       "      <td>NaN</td>\n",
       "      <td>NaN</td>\n",
       "      <td>NaN</td>\n",
       "      <td>Off Dialysis</td>\n",
       "      <td>Off Dialysis</td>\n",
       "    </tr>\n",
       "    <tr>\n",
       "      <th>7017</th>\n",
       "      <td>28615</td>\n",
       "      <td>Encounters</td>\n",
       "      <td>2017-02-24</td>\n",
       "      <td>71.1</td>\n",
       "      <td>Currently on immunosuppression</td>\n",
       "      <td>No</td>\n",
       "      <td>NaN</td>\n",
       "      <td>No change</td>\n",
       "      <td>Azathioprine</td>\n",
       "      <td>NaN</td>\n",
       "      <td>...</td>\n",
       "      <td>Definite Relapse</td>\n",
       "      <td>2023-02-14</td>\n",
       "      <td>2181.0</td>\n",
       "      <td>0</td>\n",
       "      <td>71.1</td>\n",
       "      <td>NaN</td>\n",
       "      <td>NaN</td>\n",
       "      <td>NaN</td>\n",
       "      <td>Off Dialysis</td>\n",
       "      <td>Off Dialysis</td>\n",
       "    </tr>\n",
       "    <tr>\n",
       "      <th>7018</th>\n",
       "      <td>28615</td>\n",
       "      <td>Encounters</td>\n",
       "      <td>2023-02-14</td>\n",
       "      <td>142.7</td>\n",
       "      <td>Discontinuation of immunosuppression &gt; 6 month...</td>\n",
       "      <td>No</td>\n",
       "      <td>NaN</td>\n",
       "      <td>Increased</td>\n",
       "      <td>No</td>\n",
       "      <td>NaN</td>\n",
       "      <td>...</td>\n",
       "      <td>No Relapse</td>\n",
       "      <td>2023-02-14</td>\n",
       "      <td>0.0</td>\n",
       "      <td>1</td>\n",
       "      <td>142.7</td>\n",
       "      <td>NaN</td>\n",
       "      <td>NaN</td>\n",
       "      <td>NaN</td>\n",
       "      <td>Off Dialysis</td>\n",
       "      <td>Off Dialysis</td>\n",
       "    </tr>\n",
       "    <tr>\n",
       "      <th>7019</th>\n",
       "      <td>28615</td>\n",
       "      <td>Encounters</td>\n",
       "      <td>2024-02-06</td>\n",
       "      <td>154.5</td>\n",
       "      <td>Discontinuation of immunosuppression &gt; 6 month...</td>\n",
       "      <td>No</td>\n",
       "      <td>NaN</td>\n",
       "      <td>No change</td>\n",
       "      <td>No</td>\n",
       "      <td>NaN</td>\n",
       "      <td>...</td>\n",
       "      <td>Definite Relapse</td>\n",
       "      <td>2024-05-20</td>\n",
       "      <td>104.0</td>\n",
       "      <td>1</td>\n",
       "      <td>154.5</td>\n",
       "      <td>NaN</td>\n",
       "      <td>NaN</td>\n",
       "      <td>NaN</td>\n",
       "      <td>Off Dialysis</td>\n",
       "      <td>Off Dialysis</td>\n",
       "    </tr>\n",
       "    <tr>\n",
       "      <th>7020</th>\n",
       "      <td>28615</td>\n",
       "      <td>Encounters</td>\n",
       "      <td>2024-05-20</td>\n",
       "      <td>157.9</td>\n",
       "      <td>Discontinuation of immunosuppression &gt; 6 month...</td>\n",
       "      <td>No</td>\n",
       "      <td>NaN</td>\n",
       "      <td>Increased</td>\n",
       "      <td>No</td>\n",
       "      <td>NaN</td>\n",
       "      <td>...</td>\n",
       "      <td>NaN</td>\n",
       "      <td>2024-05-20</td>\n",
       "      <td>0.0</td>\n",
       "      <td>1</td>\n",
       "      <td>157.9</td>\n",
       "      <td>NaN</td>\n",
       "      <td>NaN</td>\n",
       "      <td>NaN</td>\n",
       "      <td>Off Dialysis</td>\n",
       "      <td>Off Dialysis</td>\n",
       "    </tr>\n",
       "  </tbody>\n",
       "</table>\n",
       "<p>7021 rows × 566 columns</p>\n",
       "</div>"
      ],
      "text/plain": [
       "      RKD.ID Repeat.Instrument_x Date_Of_Visit  \\\n",
       "0          1          Encounters    2012-08-31   \n",
       "1          1          Encounters    2012-09-07   \n",
       "2          1          Encounters    2012-09-17   \n",
       "3          1          Encounters    2012-09-21   \n",
       "4          1          Encounters    2012-09-28   \n",
       "...      ...                 ...           ...   \n",
       "7016   28615          Encounters    2015-05-19   \n",
       "7017   28615          Encounters    2017-02-24   \n",
       "7018   28615          Encounters    2023-02-14   \n",
       "7019   28615          Encounters    2024-02-06   \n",
       "7020   28615          Encounters    2024-05-20   \n",
       "\n",
       "      Interval.from.diagnosis..months._x  \\\n",
       "0                                    0.0   \n",
       "1                                    0.2   \n",
       "2                                    0.6   \n",
       "3                                    0.7   \n",
       "4                                    0.9   \n",
       "...                                  ...   \n",
       "7016                                49.8   \n",
       "7017                                71.1   \n",
       "7018                               142.7   \n",
       "7019                               154.5   \n",
       "7020                               157.9   \n",
       "\n",
       "                             Immunosuppressive.status_x Corticosteroids_x  \\\n",
       "0                                       Treatment Naive                No   \n",
       "1                                                   NaN               NaN   \n",
       "2                                                   NaN               NaN   \n",
       "3                        Currently on immunosuppression               Yes   \n",
       "4                        Currently on immunosuppression               NaN   \n",
       "...                                                 ...               ...   \n",
       "7016                     Currently on immunosuppression                No   \n",
       "7017                     Currently on immunosuppression                No   \n",
       "7018  Discontinuation of immunosuppression > 6 month...                No   \n",
       "7019  Discontinuation of immunosuppression > 6 month...                No   \n",
       "7020  Discontinuation of immunosuppression > 6 month...                No   \n",
       "\n",
       "     Current.corticosteroid.dose_x  \\\n",
       "0                              NaN   \n",
       "1                              NaN   \n",
       "2                              NaN   \n",
       "3                      > 20 mg/day   \n",
       "4                              NaN   \n",
       "...                            ...   \n",
       "7016                           NaN   \n",
       "7017                           NaN   \n",
       "7018                           NaN   \n",
       "7019                           NaN   \n",
       "7020                           NaN   \n",
       "\n",
       "     Corticosteroids.in.response.to.this.clinical.encounter.episode_x  \\\n",
       "0                                                   NaN                 \n",
       "1                                                   NaN                 \n",
       "2                                                   NaN                 \n",
       "3                                             No change                 \n",
       "4                                                   NaN                 \n",
       "...                                                 ...                 \n",
       "7016                                          No change                 \n",
       "7017                                          No change                 \n",
       "7018                                          Increased                 \n",
       "7019                                          No change                 \n",
       "7020                                          Increased                 \n",
       "\n",
       "     Immunosuppressive.medication_x Immunosuppressive.medication...other_x  \\\n",
       "0                                No                                    NaN   \n",
       "1                               NaN                                    NaN   \n",
       "2                               NaN                                    NaN   \n",
       "3               IV Cyclophosphamide                                    NaN   \n",
       "4               IV Cyclophosphamide                                    NaN   \n",
       "...                             ...                                    ...   \n",
       "7016                   Azathioprine                                    NaN   \n",
       "7017                   Azathioprine                                    NaN   \n",
       "7018                             No                                    NaN   \n",
       "7019                             No                                    NaN   \n",
       "7020                             No                                    NaN   \n",
       "\n",
       "      ...         Relapse+1 Relapse_date  Time_D Relapse_next_6_months  \\\n",
       "0     ...               NaN   2021-04-30  3164.0                     0   \n",
       "1     ...               NaN   2021-04-30  3157.0                     0   \n",
       "2     ...               NaN   2021-04-30  3147.0                     0   \n",
       "3     ...               NaN   2021-04-30  3143.0                     0   \n",
       "4     ...               NaN   2021-04-30  3136.0                     0   \n",
       "...   ...               ...          ...     ...                   ...   \n",
       "7016  ...        No Relapse   2023-02-14  2828.0                     0   \n",
       "7017  ...  Definite Relapse   2023-02-14  2181.0                     0   \n",
       "7018  ...        No Relapse   2023-02-14     0.0                     1   \n",
       "7019  ...  Definite Relapse   2024-05-20   104.0                     1   \n",
       "7020  ...               NaN   2024-05-20     0.0                     1   \n",
       "\n",
       "     Interval.from.diagnosis..months.  Date.of.transplant.  \\\n",
       "0                                 0.0                  NaN   \n",
       "1                                 0.2                  NaN   \n",
       "2                                 0.6                  NaN   \n",
       "3                                 0.7                  NaN   \n",
       "4                                 0.9                  NaN   \n",
       "...                               ...                  ...   \n",
       "7016                             49.8                  NaN   \n",
       "7017                             71.1                  NaN   \n",
       "7018                            142.7                  NaN   \n",
       "7019                            154.5                  NaN   \n",
       "7020                            157.9                  NaN   \n",
       "\n",
       "     Date.of.graft.failure Dialysis1    Dialysis.1                    Dialysis  \n",
       "0                      NaN       NaN  Off Dialysis                Off Dialysis  \n",
       "1                      NaN       NaN           NaN  Functioning native kidneys  \n",
       "2                      NaN       NaN           NaN  Functioning native kidneys  \n",
       "3                      NaN       NaN  Off Dialysis                Off Dialysis  \n",
       "4                      NaN       NaN           NaN  Functioning native kidneys  \n",
       "...                    ...       ...           ...                         ...  \n",
       "7016                   NaN       NaN  Off Dialysis                Off Dialysis  \n",
       "7017                   NaN       NaN  Off Dialysis                Off Dialysis  \n",
       "7018                   NaN       NaN  Off Dialysis                Off Dialysis  \n",
       "7019                   NaN       NaN  Off Dialysis                Off Dialysis  \n",
       "7020                   NaN       NaN  Off Dialysis                Off Dialysis  \n",
       "\n",
       "[7021 rows x 566 columns]"
      ]
     },
     "execution_count": 198,
     "metadata": {},
     "output_type": "execute_result"
    }
   ],
   "source": [
    "data"
   ]
  },
  {
   "cell_type": "code",
   "execution_count": 199,
   "id": "7c84367a",
   "metadata": {},
   "outputs": [
    {
     "data": {
      "text/plain": [
       "RTX_Status_induction\n",
       "0    5429\n",
       "1    1592\n",
       "Name: count, dtype: int64"
      ]
     },
     "execution_count": 199,
     "metadata": {},
     "output_type": "execute_result"
    }
   ],
   "source": [
    "data1['RTX_Status_induction'].value_counts(dropna=False)"
   ]
  },
  {
   "cell_type": "code",
   "execution_count": null,
   "id": "9cb4bb24",
   "metadata": {},
   "outputs": [],
   "source": []
  },
  {
   "cell_type": "code",
   "execution_count": null,
   "id": "f8e003f0",
   "metadata": {},
   "outputs": [],
   "source": []
  },
  {
   "cell_type": "code",
   "execution_count": null,
   "id": "d1e25bd0",
   "metadata": {},
   "outputs": [],
   "source": []
  },
  {
   "cell_type": "code",
   "execution_count": null,
   "id": "4a5c3588",
   "metadata": {},
   "outputs": [],
   "source": []
  },
  {
   "cell_type": "code",
   "execution_count": null,
   "id": "bf7ea004",
   "metadata": {},
   "outputs": [],
   "source": []
  },
  {
   "cell_type": "code",
   "execution_count": 541,
   "id": "e66ec654",
   "metadata": {},
   "outputs": [],
   "source": [
    "data1.to_csv('C:/Users/georgea1/OneDrive - Trinity College Dublin/Desktop/LSTM_First_relapse_12_months_data1_21_08_2024.csv',index=True)\n"
   ]
  },
  {
   "cell_type": "markdown",
   "id": "dc0c43ac",
   "metadata": {},
   "source": [
    "## RNN+ Logistic Regression"
   ]
  },
  {
   "cell_type": "code",
   "execution_count": 315,
   "id": "0566f5e5",
   "metadata": {},
   "outputs": [
    {
     "data": {
      "text/html": [
       "<div>\n",
       "<style scoped>\n",
       "    .dataframe tbody tr th:only-of-type {\n",
       "        vertical-align: middle;\n",
       "    }\n",
       "\n",
       "    .dataframe tbody tr th {\n",
       "        vertical-align: top;\n",
       "    }\n",
       "\n",
       "    .dataframe thead th {\n",
       "        text-align: right;\n",
       "    }\n",
       "</style>\n",
       "<table border=\"1\" class=\"dataframe\">\n",
       "  <thead>\n",
       "    <tr style=\"text-align: right;\">\n",
       "      <th></th>\n",
       "      <th>RKD ID</th>\n",
       "      <th>At any point ANCA specificity</th>\n",
       "      <th>Interval from diagnosis (months)_x</th>\n",
       "      <th>Delta_t_previous</th>\n",
       "      <th>Delta_t_post</th>\n",
       "      <th>RTX_Status_induction</th>\n",
       "      <th>RTX_induction_max_dose</th>\n",
       "      <th>Cyc_Status_induction</th>\n",
       "      <th>OralCyc_Status_induction</th>\n",
       "      <th>ESKD_at_diagnosis</th>\n",
       "      <th>...</th>\n",
       "      <th>Methotrexate</th>\n",
       "      <th>Methotrexate_6months</th>\n",
       "      <th>AZA</th>\n",
       "      <th>AZA_6months</th>\n",
       "      <th>Previous_relapse</th>\n",
       "      <th>ANCA_level_last_6</th>\n",
       "      <th>ANCA_level</th>\n",
       "      <th>LTROT</th>\n",
       "      <th>CPD_on_off</th>\n",
       "      <th>Relapse_next_6_months</th>\n",
       "    </tr>\n",
       "  </thead>\n",
       "  <tbody>\n",
       "    <tr>\n",
       "      <th>0</th>\n",
       "      <td>1</td>\n",
       "      <td>MPO</td>\n",
       "      <td>6.0</td>\n",
       "      <td>35.0</td>\n",
       "      <td>35.0</td>\n",
       "      <td>0</td>\n",
       "      <td>NaN</td>\n",
       "      <td>1</td>\n",
       "      <td>0</td>\n",
       "      <td>0</td>\n",
       "      <td>...</td>\n",
       "      <td>0</td>\n",
       "      <td>0</td>\n",
       "      <td>1</td>\n",
       "      <td>1</td>\n",
       "      <td>0</td>\n",
       "      <td>26.0</td>\n",
       "      <td>NaN</td>\n",
       "      <td>no</td>\n",
       "      <td>On Treatment</td>\n",
       "      <td>0</td>\n",
       "    </tr>\n",
       "    <tr>\n",
       "      <th>1</th>\n",
       "      <td>1</td>\n",
       "      <td>MPO</td>\n",
       "      <td>7.1</td>\n",
       "      <td>35.0</td>\n",
       "      <td>7.0</td>\n",
       "      <td>0</td>\n",
       "      <td>NaN</td>\n",
       "      <td>1</td>\n",
       "      <td>0</td>\n",
       "      <td>0</td>\n",
       "      <td>...</td>\n",
       "      <td>0</td>\n",
       "      <td>0</td>\n",
       "      <td>1</td>\n",
       "      <td>1</td>\n",
       "      <td>0</td>\n",
       "      <td>7.0</td>\n",
       "      <td>NaN</td>\n",
       "      <td>no</td>\n",
       "      <td>On Treatment</td>\n",
       "      <td>0</td>\n",
       "    </tr>\n",
       "    <tr>\n",
       "      <th>2</th>\n",
       "      <td>1</td>\n",
       "      <td>MPO</td>\n",
       "      <td>7.4</td>\n",
       "      <td>7.0</td>\n",
       "      <td>14.0</td>\n",
       "      <td>0</td>\n",
       "      <td>NaN</td>\n",
       "      <td>1</td>\n",
       "      <td>0</td>\n",
       "      <td>0</td>\n",
       "      <td>...</td>\n",
       "      <td>0</td>\n",
       "      <td>0</td>\n",
       "      <td>1</td>\n",
       "      <td>1</td>\n",
       "      <td>0</td>\n",
       "      <td>7.0</td>\n",
       "      <td>NaN</td>\n",
       "      <td>no</td>\n",
       "      <td>On Treatment</td>\n",
       "      <td>0</td>\n",
       "    </tr>\n",
       "    <tr>\n",
       "      <th>3</th>\n",
       "      <td>1</td>\n",
       "      <td>MPO</td>\n",
       "      <td>7.8</td>\n",
       "      <td>14.0</td>\n",
       "      <td>53.0</td>\n",
       "      <td>0</td>\n",
       "      <td>NaN</td>\n",
       "      <td>1</td>\n",
       "      <td>0</td>\n",
       "      <td>0</td>\n",
       "      <td>...</td>\n",
       "      <td>0</td>\n",
       "      <td>0</td>\n",
       "      <td>1</td>\n",
       "      <td>1</td>\n",
       "      <td>0</td>\n",
       "      <td>1.7</td>\n",
       "      <td>NaN</td>\n",
       "      <td>no</td>\n",
       "      <td>On Treatment</td>\n",
       "      <td>0</td>\n",
       "    </tr>\n",
       "    <tr>\n",
       "      <th>4</th>\n",
       "      <td>1</td>\n",
       "      <td>MPO</td>\n",
       "      <td>9.6</td>\n",
       "      <td>53.0</td>\n",
       "      <td>24.0</td>\n",
       "      <td>0</td>\n",
       "      <td>NaN</td>\n",
       "      <td>1</td>\n",
       "      <td>0</td>\n",
       "      <td>0</td>\n",
       "      <td>...</td>\n",
       "      <td>0</td>\n",
       "      <td>0</td>\n",
       "      <td>1</td>\n",
       "      <td>1</td>\n",
       "      <td>0</td>\n",
       "      <td>0.5</td>\n",
       "      <td>NaN</td>\n",
       "      <td>no</td>\n",
       "      <td>On Treatment</td>\n",
       "      <td>0</td>\n",
       "    </tr>\n",
       "    <tr>\n",
       "      <th>...</th>\n",
       "      <td>...</td>\n",
       "      <td>...</td>\n",
       "      <td>...</td>\n",
       "      <td>...</td>\n",
       "      <td>...</td>\n",
       "      <td>...</td>\n",
       "      <td>...</td>\n",
       "      <td>...</td>\n",
       "      <td>...</td>\n",
       "      <td>...</td>\n",
       "      <td>...</td>\n",
       "      <td>...</td>\n",
       "      <td>...</td>\n",
       "      <td>...</td>\n",
       "      <td>...</td>\n",
       "      <td>...</td>\n",
       "      <td>...</td>\n",
       "      <td>...</td>\n",
       "      <td>...</td>\n",
       "      <td>...</td>\n",
       "      <td>...</td>\n",
       "    </tr>\n",
       "    <tr>\n",
       "      <th>4337</th>\n",
       "      <td>98</td>\n",
       "      <td>PR3</td>\n",
       "      <td>83.5</td>\n",
       "      <td>56.0</td>\n",
       "      <td>196.0</td>\n",
       "      <td>1</td>\n",
       "      <td>870.0</td>\n",
       "      <td>1</td>\n",
       "      <td>0</td>\n",
       "      <td>0</td>\n",
       "      <td>...</td>\n",
       "      <td>0</td>\n",
       "      <td>0</td>\n",
       "      <td>0</td>\n",
       "      <td>0</td>\n",
       "      <td>1</td>\n",
       "      <td>0.2</td>\n",
       "      <td>NaN</td>\n",
       "      <td>no</td>\n",
       "      <td>On Treatment</td>\n",
       "      <td>0</td>\n",
       "    </tr>\n",
       "    <tr>\n",
       "      <th>4338</th>\n",
       "      <td>98</td>\n",
       "      <td>PR3</td>\n",
       "      <td>89.9</td>\n",
       "      <td>196.0</td>\n",
       "      <td>119.0</td>\n",
       "      <td>1</td>\n",
       "      <td>870.0</td>\n",
       "      <td>1</td>\n",
       "      <td>0</td>\n",
       "      <td>0</td>\n",
       "      <td>...</td>\n",
       "      <td>0</td>\n",
       "      <td>0</td>\n",
       "      <td>0</td>\n",
       "      <td>0</td>\n",
       "      <td>1</td>\n",
       "      <td>0.2</td>\n",
       "      <td>NaN</td>\n",
       "      <td>no</td>\n",
       "      <td>On Treatment</td>\n",
       "      <td>0</td>\n",
       "    </tr>\n",
       "    <tr>\n",
       "      <th>4339</th>\n",
       "      <td>98</td>\n",
       "      <td>PR3</td>\n",
       "      <td>93.8</td>\n",
       "      <td>119.0</td>\n",
       "      <td>105.0</td>\n",
       "      <td>1</td>\n",
       "      <td>870.0</td>\n",
       "      <td>1</td>\n",
       "      <td>0</td>\n",
       "      <td>0</td>\n",
       "      <td>...</td>\n",
       "      <td>0</td>\n",
       "      <td>0</td>\n",
       "      <td>0</td>\n",
       "      <td>0</td>\n",
       "      <td>1</td>\n",
       "      <td>0.2</td>\n",
       "      <td>NaN</td>\n",
       "      <td>no</td>\n",
       "      <td>On Treatment</td>\n",
       "      <td>0</td>\n",
       "    </tr>\n",
       "    <tr>\n",
       "      <th>4340</th>\n",
       "      <td>98</td>\n",
       "      <td>PR3</td>\n",
       "      <td>97.3</td>\n",
       "      <td>105.0</td>\n",
       "      <td>175.0</td>\n",
       "      <td>1</td>\n",
       "      <td>870.0</td>\n",
       "      <td>1</td>\n",
       "      <td>0</td>\n",
       "      <td>0</td>\n",
       "      <td>...</td>\n",
       "      <td>0</td>\n",
       "      <td>0</td>\n",
       "      <td>0</td>\n",
       "      <td>0</td>\n",
       "      <td>1</td>\n",
       "      <td>0.2</td>\n",
       "      <td>NaN</td>\n",
       "      <td>no</td>\n",
       "      <td>Manual review</td>\n",
       "      <td>0</td>\n",
       "    </tr>\n",
       "    <tr>\n",
       "      <th>4341</th>\n",
       "      <td>98</td>\n",
       "      <td>PR3</td>\n",
       "      <td>103.0</td>\n",
       "      <td>175.0</td>\n",
       "      <td>NaN</td>\n",
       "      <td>1</td>\n",
       "      <td>870.0</td>\n",
       "      <td>1</td>\n",
       "      <td>0</td>\n",
       "      <td>0</td>\n",
       "      <td>...</td>\n",
       "      <td>0</td>\n",
       "      <td>0</td>\n",
       "      <td>0</td>\n",
       "      <td>0</td>\n",
       "      <td>1</td>\n",
       "      <td>0.2</td>\n",
       "      <td>NaN</td>\n",
       "      <td>no</td>\n",
       "      <td>On Treatment</td>\n",
       "      <td>0</td>\n",
       "    </tr>\n",
       "  </tbody>\n",
       "</table>\n",
       "<p>4342 rows × 25 columns</p>\n",
       "</div>"
      ],
      "text/plain": [
       "      RKD ID At any point ANCA specificity  \\\n",
       "0          1                           MPO   \n",
       "1          1                           MPO   \n",
       "2          1                           MPO   \n",
       "3          1                           MPO   \n",
       "4          1                           MPO   \n",
       "...      ...                           ...   \n",
       "4337      98                           PR3   \n",
       "4338      98                           PR3   \n",
       "4339      98                           PR3   \n",
       "4340      98                           PR3   \n",
       "4341      98                           PR3   \n",
       "\n",
       "      Interval from diagnosis (months)_x  Delta_t_previous  Delta_t_post  \\\n",
       "0                                    6.0              35.0          35.0   \n",
       "1                                    7.1              35.0           7.0   \n",
       "2                                    7.4               7.0          14.0   \n",
       "3                                    7.8              14.0          53.0   \n",
       "4                                    9.6              53.0          24.0   \n",
       "...                                  ...               ...           ...   \n",
       "4337                                83.5              56.0         196.0   \n",
       "4338                                89.9             196.0         119.0   \n",
       "4339                                93.8             119.0         105.0   \n",
       "4340                                97.3             105.0         175.0   \n",
       "4341                               103.0             175.0           NaN   \n",
       "\n",
       "      RTX_Status_induction  RTX_induction_max_dose  Cyc_Status_induction  \\\n",
       "0                        0                     NaN                     1   \n",
       "1                        0                     NaN                     1   \n",
       "2                        0                     NaN                     1   \n",
       "3                        0                     NaN                     1   \n",
       "4                        0                     NaN                     1   \n",
       "...                    ...                     ...                   ...   \n",
       "4337                     1                   870.0                     1   \n",
       "4338                     1                   870.0                     1   \n",
       "4339                     1                   870.0                     1   \n",
       "4340                     1                   870.0                     1   \n",
       "4341                     1                   870.0                     1   \n",
       "\n",
       "      OralCyc_Status_induction  ESKD_at_diagnosis  ...  Methotrexate  \\\n",
       "0                            0                  0  ...             0   \n",
       "1                            0                  0  ...             0   \n",
       "2                            0                  0  ...             0   \n",
       "3                            0                  0  ...             0   \n",
       "4                            0                  0  ...             0   \n",
       "...                        ...                ...  ...           ...   \n",
       "4337                         0                  0  ...             0   \n",
       "4338                         0                  0  ...             0   \n",
       "4339                         0                  0  ...             0   \n",
       "4340                         0                  0  ...             0   \n",
       "4341                         0                  0  ...             0   \n",
       "\n",
       "      Methotrexate_6months  AZA  AZA_6months  Previous_relapse  \\\n",
       "0                        0    1            1                 0   \n",
       "1                        0    1            1                 0   \n",
       "2                        0    1            1                 0   \n",
       "3                        0    1            1                 0   \n",
       "4                        0    1            1                 0   \n",
       "...                    ...  ...          ...               ...   \n",
       "4337                     0    0            0                 1   \n",
       "4338                     0    0            0                 1   \n",
       "4339                     0    0            0                 1   \n",
       "4340                     0    0            0                 1   \n",
       "4341                     0    0            0                 1   \n",
       "\n",
       "      ANCA_level_last_6  ANCA_level  LTROT     CPD_on_off  \\\n",
       "0                  26.0         NaN     no   On Treatment   \n",
       "1                   7.0         NaN     no   On Treatment   \n",
       "2                   7.0         NaN     no   On Treatment   \n",
       "3                   1.7         NaN     no   On Treatment   \n",
       "4                   0.5         NaN     no   On Treatment   \n",
       "...                 ...         ...    ...            ...   \n",
       "4337                0.2         NaN     no   On Treatment   \n",
       "4338                0.2         NaN     no   On Treatment   \n",
       "4339                0.2         NaN     no   On Treatment   \n",
       "4340                0.2         NaN     no  Manual review   \n",
       "4341                0.2         NaN     no   On Treatment   \n",
       "\n",
       "      Relapse_next_6_months  \n",
       "0                         0  \n",
       "1                         0  \n",
       "2                         0  \n",
       "3                         0  \n",
       "4                         0  \n",
       "...                     ...  \n",
       "4337                      0  \n",
       "4338                      0  \n",
       "4339                      0  \n",
       "4340                      0  \n",
       "4341                      0  \n",
       "\n",
       "[4342 rows x 25 columns]"
      ]
     },
     "execution_count": 315,
     "metadata": {},
     "output_type": "execute_result"
    }
   ],
   "source": [
    "data=pd.read_csv('C:/Users/georgea1/OneDrive - Trinity College Dublin/Desktop/RNN_30_05_2024.csv')\n",
    "data"
   ]
  },
  {
   "cell_type": "code",
   "execution_count": null,
   "id": "4b77f7e5",
   "metadata": {},
   "outputs": [],
   "source": []
  },
  {
   "cell_type": "code",
   "execution_count": 321,
   "id": "b680df9a",
   "metadata": {},
   "outputs": [
    {
     "name": "stdout",
     "output_type": "stream",
     "text": [
      "Collecting theano\n",
      "  Using cached Theano-1.0.5-py3-none-any.whl\n",
      "Requirement already satisfied: scipy>=0.14 in c:\\users\\georgea1\\anaconda3\\lib\\site-packages (from theano) (1.9.1)\n",
      "Requirement already satisfied: numpy>=1.9.1 in c:\\users\\georgea1\\anaconda3\\lib\\site-packages (from theano) (1.24.4)\n",
      "Requirement already satisfied: six>=1.9.0 in c:\\users\\georgea1\\anaconda3\\lib\\site-packages (from theano) (1.16.0)\n",
      "Installing collected packages: theano\n",
      "Successfully installed theano-1.0.5\n"
     ]
    }
   ],
   "source": [
    "!pip install theano"
   ]
  },
  {
   "cell_type": "code",
   "execution_count": 322,
   "id": "37bbe702",
   "metadata": {},
   "outputs": [
    {
     "name": "stderr",
     "output_type": "stream",
     "text": [
      "WARNING (theano.configdefaults): g++ not available, if using conda: `conda install m2w64-toolchain`\n",
      "C:\\Users\\georgea1\\Anaconda3\\lib\\site-packages\\theano\\configdefaults.py:560: UserWarning: DeprecationWarning: there is no c++ compiler.This is deprecated and with Theano 0.11 a c++ compiler will be mandatory\n",
      "  warnings.warn(\"DeprecationWarning: there is no c++ compiler.\"\n",
      "WARNING (theano.configdefaults): g++ not detected ! Theano will be unable to execute optimized C-implementations (for both CPU and GPU) and will default to Python implementations. Performance will be severely degraded. To remove this warning, set Theano flags cxx to an empty string.\n",
      "C:\\Users\\georgea1\\Anaconda3\\lib\\site-packages\\theano\\scalar\\basic.py:2323: FutureWarning: In the future `np.bool` will be defined as the corresponding NumPy scalar.\n",
      "  self.ctor = getattr(np, o_type.dtype)\n"
     ]
    },
    {
     "ename": "AttributeError",
     "evalue": "module 'numpy' has no attribute 'bool'.\n`np.bool` was a deprecated alias for the builtin `bool`. To avoid this error in existing code, use `bool` by itself. Doing this will not modify any behavior and is safe. If you specifically wanted the numpy scalar type, use `np.bool_` here.\nThe aliases was originally deprecated in NumPy 1.20; for more details and guidance see the original release note at:\n    https://numpy.org/devdocs/release/1.20.0-notes.html#deprecations",
     "output_type": "error",
     "traceback": [
      "\u001b[1;31m---------------------------------------------------------------------------\u001b[0m",
      "\u001b[1;31mAttributeError\u001b[0m                            Traceback (most recent call last)",
      "\u001b[1;32m~\\AppData\\Local\\Temp\\ipykernel_10496\\3398623194.py\u001b[0m in \u001b[0;36m<module>\u001b[1;34m\u001b[0m\n\u001b[0;32m      1\u001b[0m \u001b[1;32mimport\u001b[0m \u001b[0msys\u001b[0m\u001b[1;33m,\u001b[0m \u001b[0mrandom\u001b[0m\u001b[1;33m\u001b[0m\u001b[1;33m\u001b[0m\u001b[0m\n\u001b[0;32m      2\u001b[0m \u001b[1;32mimport\u001b[0m \u001b[0mnumpy\u001b[0m \u001b[1;32mas\u001b[0m \u001b[0mnp\u001b[0m\u001b[1;33m\u001b[0m\u001b[1;33m\u001b[0m\u001b[0m\n\u001b[1;32m----> 3\u001b[1;33m \u001b[1;32mimport\u001b[0m \u001b[0mtheano\u001b[0m\u001b[1;33m\u001b[0m\u001b[1;33m\u001b[0m\u001b[0m\n\u001b[0m\u001b[0;32m      4\u001b[0m \u001b[1;32mimport\u001b[0m \u001b[0mtheano\u001b[0m\u001b[1;33m.\u001b[0m\u001b[0mtensor\u001b[0m \u001b[1;32mas\u001b[0m \u001b[0mT\u001b[0m\u001b[1;33m\u001b[0m\u001b[1;33m\u001b[0m\u001b[0m\n\u001b[0;32m      5\u001b[0m \u001b[1;32mfrom\u001b[0m \u001b[0mtheano\u001b[0m \u001b[1;32mimport\u001b[0m \u001b[0mconfig\u001b[0m\u001b[1;33m\u001b[0m\u001b[1;33m\u001b[0m\u001b[0m\n",
      "\u001b[1;32m~\\Anaconda3\\lib\\site-packages\\theano\\__init__.py\u001b[0m in \u001b[0;36m<module>\u001b[1;34m\u001b[0m\n\u001b[0;32m    122\u001b[0m \u001b[1;32mfrom\u001b[0m \u001b[0mtheano\u001b[0m\u001b[1;33m.\u001b[0m\u001b[0mprinting\u001b[0m \u001b[1;32mimport\u001b[0m \u001b[0mpprint\u001b[0m\u001b[1;33m,\u001b[0m \u001b[0mpp\u001b[0m\u001b[1;33m\u001b[0m\u001b[1;33m\u001b[0m\u001b[0m\n\u001b[0;32m    123\u001b[0m \u001b[1;33m\u001b[0m\u001b[0m\n\u001b[1;32m--> 124\u001b[1;33m from theano.scan_module import (scan, map, reduce, foldl, foldr, clone,\n\u001b[0m\u001b[0;32m    125\u001b[0m                                 scan_checkpoints)\n\u001b[0;32m    126\u001b[0m \u001b[1;33m\u001b[0m\u001b[0m\n",
      "\u001b[1;32m~\\Anaconda3\\lib\\site-packages\\theano\\scan_module\\__init__.py\u001b[0m in \u001b[0;36m<module>\u001b[1;34m\u001b[0m\n\u001b[0;32m     39\u001b[0m \u001b[0m__contact__\u001b[0m \u001b[1;33m=\u001b[0m \u001b[1;34m\"Razvan Pascanu <r.pascanu@gmail>\"\u001b[0m\u001b[1;33m\u001b[0m\u001b[1;33m\u001b[0m\u001b[0m\n\u001b[0;32m     40\u001b[0m \u001b[1;33m\u001b[0m\u001b[0m\n\u001b[1;32m---> 41\u001b[1;33m \u001b[1;32mfrom\u001b[0m \u001b[0mtheano\u001b[0m\u001b[1;33m.\u001b[0m\u001b[0mscan_module\u001b[0m \u001b[1;32mimport\u001b[0m \u001b[0mscan_opt\u001b[0m\u001b[1;33m\u001b[0m\u001b[1;33m\u001b[0m\u001b[0m\n\u001b[0m\u001b[0;32m     42\u001b[0m \u001b[1;32mfrom\u001b[0m \u001b[0mtheano\u001b[0m\u001b[1;33m.\u001b[0m\u001b[0mscan_module\u001b[0m\u001b[1;33m.\u001b[0m\u001b[0mscan\u001b[0m \u001b[1;32mimport\u001b[0m \u001b[0mscan\u001b[0m\u001b[1;33m\u001b[0m\u001b[1;33m\u001b[0m\u001b[0m\n\u001b[0;32m     43\u001b[0m \u001b[1;32mfrom\u001b[0m \u001b[0mtheano\u001b[0m\u001b[1;33m.\u001b[0m\u001b[0mscan_module\u001b[0m\u001b[1;33m.\u001b[0m\u001b[0mscan_checkpoints\u001b[0m \u001b[1;32mimport\u001b[0m \u001b[0mscan_checkpoints\u001b[0m\u001b[1;33m\u001b[0m\u001b[1;33m\u001b[0m\u001b[0m\n",
      "\u001b[1;32m~\\Anaconda3\\lib\\site-packages\\theano\\scan_module\\scan_opt.py\u001b[0m in \u001b[0;36m<module>\u001b[1;34m\u001b[0m\n\u001b[0;32m     58\u001b[0m \u001b[1;33m\u001b[0m\u001b[0m\n\u001b[0;32m     59\u001b[0m \u001b[1;32mimport\u001b[0m \u001b[0mtheano\u001b[0m\u001b[1;33m\u001b[0m\u001b[1;33m\u001b[0m\u001b[0m\n\u001b[1;32m---> 60\u001b[1;33m \u001b[1;32mfrom\u001b[0m \u001b[0mtheano\u001b[0m \u001b[1;32mimport\u001b[0m \u001b[0mtensor\u001b[0m\u001b[1;33m,\u001b[0m \u001b[0mscalar\u001b[0m\u001b[1;33m\u001b[0m\u001b[1;33m\u001b[0m\u001b[0m\n\u001b[0m\u001b[0;32m     61\u001b[0m \u001b[1;32mfrom\u001b[0m \u001b[0mtheano\u001b[0m\u001b[1;33m.\u001b[0m\u001b[0mtensor\u001b[0m \u001b[1;32mimport\u001b[0m \u001b[0mopt\u001b[0m\u001b[1;33m,\u001b[0m \u001b[0mget_scalar_constant_value\u001b[0m\u001b[1;33m,\u001b[0m \u001b[0mAlloc\u001b[0m\u001b[1;33m,\u001b[0m \u001b[0mAllocEmpty\u001b[0m\u001b[1;33m\u001b[0m\u001b[1;33m\u001b[0m\u001b[0m\n\u001b[0;32m     62\u001b[0m \u001b[1;32mfrom\u001b[0m \u001b[0mtheano\u001b[0m \u001b[1;32mimport\u001b[0m \u001b[0mgof\u001b[0m\u001b[1;33m\u001b[0m\u001b[1;33m\u001b[0m\u001b[0m\n",
      "\u001b[1;32m~\\Anaconda3\\lib\\site-packages\\theano\\tensor\\__init__.py\u001b[0m in \u001b[0;36m<module>\u001b[1;34m\u001b[0m\n\u001b[0;32m      6\u001b[0m \u001b[1;32mimport\u001b[0m \u001b[0mwarnings\u001b[0m\u001b[1;33m\u001b[0m\u001b[1;33m\u001b[0m\u001b[0m\n\u001b[0;32m      7\u001b[0m \u001b[1;33m\u001b[0m\u001b[0m\n\u001b[1;32m----> 8\u001b[1;33m \u001b[1;32mfrom\u001b[0m \u001b[0mtheano\u001b[0m\u001b[1;33m.\u001b[0m\u001b[0mtensor\u001b[0m\u001b[1;33m.\u001b[0m\u001b[0mbasic\u001b[0m \u001b[1;32mimport\u001b[0m \u001b[1;33m*\u001b[0m\u001b[1;33m\u001b[0m\u001b[1;33m\u001b[0m\u001b[0m\n\u001b[0m\u001b[0;32m      9\u001b[0m \u001b[1;32mfrom\u001b[0m \u001b[0mtheano\u001b[0m\u001b[1;33m.\u001b[0m\u001b[0mtensor\u001b[0m\u001b[1;33m.\u001b[0m\u001b[0msubtensor\u001b[0m \u001b[1;32mimport\u001b[0m \u001b[1;33m*\u001b[0m\u001b[1;33m\u001b[0m\u001b[1;33m\u001b[0m\u001b[0m\n\u001b[0;32m     10\u001b[0m \u001b[1;32mfrom\u001b[0m \u001b[0mtheano\u001b[0m\u001b[1;33m.\u001b[0m\u001b[0mtensor\u001b[0m\u001b[1;33m.\u001b[0m\u001b[0mtype_other\u001b[0m \u001b[1;32mimport\u001b[0m \u001b[1;33m*\u001b[0m\u001b[1;33m\u001b[0m\u001b[1;33m\u001b[0m\u001b[0m\n",
      "\u001b[1;32m~\\Anaconda3\\lib\\site-packages\\theano\\tensor\\basic.py\u001b[0m in \u001b[0;36m<module>\u001b[1;34m\u001b[0m\n\u001b[0;32m     18\u001b[0m \u001b[1;32mfrom\u001b[0m \u001b[0mtheano\u001b[0m\u001b[1;33m.\u001b[0m\u001b[0mgof\u001b[0m\u001b[1;33m.\u001b[0m\u001b[0mtype\u001b[0m \u001b[1;32mimport\u001b[0m \u001b[0mGeneric\u001b[0m\u001b[1;33m\u001b[0m\u001b[1;33m\u001b[0m\u001b[0m\n\u001b[0;32m     19\u001b[0m \u001b[1;33m\u001b[0m\u001b[0m\n\u001b[1;32m---> 20\u001b[1;33m \u001b[1;32mfrom\u001b[0m \u001b[0mtheano\u001b[0m\u001b[1;33m.\u001b[0m\u001b[0mscalar\u001b[0m \u001b[1;32mimport\u001b[0m \u001b[0mint32\u001b[0m \u001b[1;32mas\u001b[0m \u001b[0mint32_t\u001b[0m\u001b[1;33m\u001b[0m\u001b[1;33m\u001b[0m\u001b[0m\n\u001b[0m\u001b[0;32m     21\u001b[0m \u001b[1;32mfrom\u001b[0m \u001b[0mtheano\u001b[0m\u001b[1;33m.\u001b[0m\u001b[0mtensor\u001b[0m \u001b[1;32mimport\u001b[0m \u001b[0melemwise\u001b[0m\u001b[1;33m\u001b[0m\u001b[1;33m\u001b[0m\u001b[0m\n\u001b[0;32m     22\u001b[0m from theano.tensor.var import (AsTensorError, TensorVariable,\n",
      "\u001b[1;32m~\\Anaconda3\\lib\\site-packages\\theano\\scalar\\__init__.py\u001b[0m in \u001b[0;36m<module>\u001b[1;34m\u001b[0m\n\u001b[0;32m      1\u001b[0m \u001b[1;32mfrom\u001b[0m \u001b[0m__future__\u001b[0m \u001b[1;32mimport\u001b[0m \u001b[0mabsolute_import\u001b[0m\u001b[1;33m,\u001b[0m \u001b[0mprint_function\u001b[0m\u001b[1;33m,\u001b[0m \u001b[0mdivision\u001b[0m\u001b[1;33m\u001b[0m\u001b[1;33m\u001b[0m\u001b[0m\n\u001b[0;32m      2\u001b[0m \u001b[1;33m\u001b[0m\u001b[0m\n\u001b[1;32m----> 3\u001b[1;33m \u001b[1;32mfrom\u001b[0m \u001b[1;33m.\u001b[0m\u001b[0mbasic\u001b[0m \u001b[1;32mimport\u001b[0m \u001b[1;33m*\u001b[0m\u001b[1;33m\u001b[0m\u001b[1;33m\u001b[0m\u001b[0m\n\u001b[0m\u001b[0;32m      4\u001b[0m \u001b[1;33m\u001b[0m\u001b[0m\n\u001b[0;32m      5\u001b[0m \u001b[1;32mfrom\u001b[0m \u001b[1;33m.\u001b[0m\u001b[0mbasic_scipy\u001b[0m \u001b[1;32mimport\u001b[0m \u001b[1;33m*\u001b[0m\u001b[1;33m\u001b[0m\u001b[1;33m\u001b[0m\u001b[0m\n",
      "\u001b[1;32m~\\Anaconda3\\lib\\site-packages\\theano\\scalar\\basic.py\u001b[0m in \u001b[0;36m<module>\u001b[1;34m\u001b[0m\n\u001b[0;32m   2368\u001b[0m             \u001b[1;32mreturn\u001b[0m \u001b[0ms\u001b[0m\u001b[1;33m\u001b[0m\u001b[1;33m\u001b[0m\u001b[0m\n\u001b[0;32m   2369\u001b[0m \u001b[1;33m\u001b[0m\u001b[0m\n\u001b[1;32m-> 2370\u001b[1;33m \u001b[0mconvert_to_bool\u001b[0m \u001b[1;33m=\u001b[0m \u001b[0mCast\u001b[0m\u001b[1;33m(\u001b[0m\u001b[0mbool\u001b[0m\u001b[1;33m,\u001b[0m \u001b[0mname\u001b[0m\u001b[1;33m=\u001b[0m\u001b[1;34m'convert_to_bool'\u001b[0m\u001b[1;33m)\u001b[0m\u001b[1;33m\u001b[0m\u001b[1;33m\u001b[0m\u001b[0m\n\u001b[0m\u001b[0;32m   2371\u001b[0m \u001b[0mconvert_to_int8\u001b[0m \u001b[1;33m=\u001b[0m \u001b[0mCast\u001b[0m\u001b[1;33m(\u001b[0m\u001b[0mint8\u001b[0m\u001b[1;33m,\u001b[0m \u001b[0mname\u001b[0m\u001b[1;33m=\u001b[0m\u001b[1;34m'convert_to_int8'\u001b[0m\u001b[1;33m)\u001b[0m\u001b[1;33m\u001b[0m\u001b[1;33m\u001b[0m\u001b[0m\n\u001b[0;32m   2372\u001b[0m \u001b[0mconvert_to_int16\u001b[0m \u001b[1;33m=\u001b[0m \u001b[0mCast\u001b[0m\u001b[1;33m(\u001b[0m\u001b[0mint16\u001b[0m\u001b[1;33m,\u001b[0m \u001b[0mname\u001b[0m\u001b[1;33m=\u001b[0m\u001b[1;34m'convert_to_int16'\u001b[0m\u001b[1;33m)\u001b[0m\u001b[1;33m\u001b[0m\u001b[1;33m\u001b[0m\u001b[0m\n",
      "\u001b[1;32m~\\Anaconda3\\lib\\site-packages\\theano\\scalar\\basic.py\u001b[0m in \u001b[0;36m__init__\u001b[1;34m(self, o_type, name)\u001b[0m\n\u001b[0;32m   2321\u001b[0m         \u001b[0msuper\u001b[0m\u001b[1;33m(\u001b[0m\u001b[0mCast\u001b[0m\u001b[1;33m,\u001b[0m \u001b[0mself\u001b[0m\u001b[1;33m)\u001b[0m\u001b[1;33m.\u001b[0m\u001b[0m__init__\u001b[0m\u001b[1;33m(\u001b[0m\u001b[0mspecific_out\u001b[0m\u001b[1;33m(\u001b[0m\u001b[0mo_type\u001b[0m\u001b[1;33m)\u001b[0m\u001b[1;33m,\u001b[0m \u001b[0mname\u001b[0m\u001b[1;33m=\u001b[0m\u001b[0mname\u001b[0m\u001b[1;33m)\u001b[0m\u001b[1;33m\u001b[0m\u001b[1;33m\u001b[0m\u001b[0m\n\u001b[0;32m   2322\u001b[0m         \u001b[0mself\u001b[0m\u001b[1;33m.\u001b[0m\u001b[0mo_type\u001b[0m \u001b[1;33m=\u001b[0m \u001b[0mo_type\u001b[0m\u001b[1;33m\u001b[0m\u001b[1;33m\u001b[0m\u001b[0m\n\u001b[1;32m-> 2323\u001b[1;33m         \u001b[0mself\u001b[0m\u001b[1;33m.\u001b[0m\u001b[0mctor\u001b[0m \u001b[1;33m=\u001b[0m \u001b[0mgetattr\u001b[0m\u001b[1;33m(\u001b[0m\u001b[0mnp\u001b[0m\u001b[1;33m,\u001b[0m \u001b[0mo_type\u001b[0m\u001b[1;33m.\u001b[0m\u001b[0mdtype\u001b[0m\u001b[1;33m)\u001b[0m\u001b[1;33m\u001b[0m\u001b[1;33m\u001b[0m\u001b[0m\n\u001b[0m\u001b[0;32m   2324\u001b[0m \u001b[1;33m\u001b[0m\u001b[0m\n\u001b[0;32m   2325\u001b[0m     \u001b[1;32mdef\u001b[0m \u001b[0m__str__\u001b[0m\u001b[1;33m(\u001b[0m\u001b[0mself\u001b[0m\u001b[1;33m)\u001b[0m\u001b[1;33m:\u001b[0m\u001b[1;33m\u001b[0m\u001b[1;33m\u001b[0m\u001b[0m\n",
      "\u001b[1;32m~\\Anaconda3\\lib\\site-packages\\numpy\\__init__.py\u001b[0m in \u001b[0;36m__getattr__\u001b[1;34m(attr)\u001b[0m\n\u001b[0;32m    351\u001b[0m             msg = (\"The current Numpy installation ({!r}) fails to \"\n\u001b[0;32m    352\u001b[0m                    \u001b[1;34m\"pass simple sanity checks. This can be caused for example \"\u001b[0m\u001b[1;33m\u001b[0m\u001b[1;33m\u001b[0m\u001b[0m\n\u001b[1;32m--> 353\u001b[1;33m                    \u001b[1;34m\"by incorrect BLAS library being linked in, or by mixing \"\u001b[0m\u001b[1;33m\u001b[0m\u001b[1;33m\u001b[0m\u001b[0m\n\u001b[0m\u001b[0;32m    354\u001b[0m                    \u001b[1;34m\"package managers (pip, conda, apt, ...). Search closed \"\u001b[0m\u001b[1;33m\u001b[0m\u001b[1;33m\u001b[0m\u001b[0m\n\u001b[0;32m    355\u001b[0m                    \"numpy issues for similar problems.\")\n",
      "\u001b[1;31mAttributeError\u001b[0m: module 'numpy' has no attribute 'bool'.\n`np.bool` was a deprecated alias for the builtin `bool`. To avoid this error in existing code, use `bool` by itself. Doing this will not modify any behavior and is safe. If you specifically wanted the numpy scalar type, use `np.bool_` here.\nThe aliases was originally deprecated in NumPy 1.20; for more details and guidance see the original release note at:\n    https://numpy.org/devdocs/release/1.20.0-notes.html#deprecations"
     ]
    }
   ],
   "source": [
    "import sys, random\n",
    "import numpy as np\n",
    "import theano\n",
    "import theano.tensor as T\n",
    "from theano import config\n",
    "from theano.sandbox.rng_mrg import MRG_RandomStreams as RandomStreams\n",
    "import cPickle as pickle\n",
    "from collections import OrderedDict\n",
    "from sklearn.metrics import roc_auc_score"
   ]
  },
  {
   "cell_type": "code",
   "execution_count": 327,
   "id": "6acde6a9",
   "metadata": {},
   "outputs": [],
   "source": [
    "def unzip(zipped):\n",
    "    new_params = OrderedDict()\n",
    "    for key, value in zipped.iteritems():\n",
    "        new_params[key] = value.get_value()\n",
    "    return new_params\n",
    "def numpy_floatX(data):\n",
    "    return np.asarray(data, dtype=config.floatX)\n",
    "\n",
    "def get_random_weight(dim1, dim2, left=-0.1, right=0.1):\n",
    "    return np.random.uniform(left, right, (dim1, dim2)).astype(config.floatX)\n",
    "def init_params(options):\n",
    "    params = OrderedDict()\n",
    "    inputDimSize = options['inputDimSize'] \n",
    "    hiddenDimSize = options['hiddenDimSize'] #hidden layer does not need an extra space\n",
    "    params['W_emb'] = np.eye(inputDimSize, dtype=config.floatX)\n",
    "    params['W_gru'] = get_random_weight(inputDimSize+1, 3*hiddenDimSize)\n",
    "    params['U_gru'] = get_random_weight(hiddenDimSize, 3*hiddenDimSize)\n",
    "    params['b_gru'] = np.zeros(3*hiddenDimSize).astype(config.floatX)\n",
    "    params['W_logistic'] = get_random_weight(hiddenDimSize,1)\n",
    "    params['b_logistic'] = np.zeros((1,), dtype=config.floatX)\n",
    "\n",
    "    return params\n",
    "def dropout_layer(state_before, use_noise, trng):\n",
    "    proj = T.switch(use_noise, (state_before * trng.binomial(state_before.shape, p=0.5, n=1, dtype=state_before.dtype)), state_before * 0.5)\n",
    "    return proj\n",
    "def _slice(_x, n, dim):\n",
    "    if _x.ndim == 3:\n",
    "    return _x[:, :, n*dim:(n+1)*dim]\n",
    "    return _x[:, n*dim:(n+1)*dim]"
   ]
  },
  {
   "cell_type": "code",
   "execution_count": null,
   "id": "11b331eb",
   "metadata": {},
   "outputs": [],
   "source": []
  },
  {
   "cell_type": "code",
   "execution_count": null,
   "id": "9f7c1417",
   "metadata": {},
   "outputs": [],
   "source": []
  },
  {
   "cell_type": "code",
   "execution_count": null,
   "id": "3d66d682",
   "metadata": {},
   "outputs": [],
   "source": []
  },
  {
   "cell_type": "code",
   "execution_count": null,
   "id": "6de792b1",
   "metadata": {},
   "outputs": [],
   "source": []
  },
  {
   "cell_type": "code",
   "execution_count": null,
   "id": "7681c990",
   "metadata": {},
   "outputs": [],
   "source": []
  },
  {
   "cell_type": "code",
   "execution_count": null,
   "id": "423acfb5",
   "metadata": {},
   "outputs": [],
   "source": []
  },
  {
   "cell_type": "code",
   "execution_count": null,
   "id": "455e1123",
   "metadata": {},
   "outputs": [],
   "source": []
  },
  {
   "cell_type": "code",
   "execution_count": null,
   "id": "eff30d40",
   "metadata": {},
   "outputs": [],
   "source": []
  },
  {
   "cell_type": "code",
   "execution_count": null,
   "id": "8b793c0f",
   "metadata": {},
   "outputs": [],
   "source": []
  },
  {
   "cell_type": "code",
   "execution_count": null,
   "id": "b72c2406",
   "metadata": {},
   "outputs": [],
   "source": []
  },
  {
   "cell_type": "code",
   "execution_count": null,
   "id": "0b5637de",
   "metadata": {},
   "outputs": [],
   "source": []
  },
  {
   "cell_type": "code",
   "execution_count": null,
   "id": "47bfda64",
   "metadata": {},
   "outputs": [],
   "source": []
  }
 ],
 "metadata": {
  "kernelspec": {
   "display_name": "Python 3 (ipykernel)",
   "language": "python",
   "name": "python3"
  },
  "language_info": {
   "codemirror_mode": {
    "name": "ipython",
    "version": 3
   },
   "file_extension": ".py",
   "mimetype": "text/x-python",
   "name": "python",
   "nbconvert_exporter": "python",
   "pygments_lexer": "ipython3",
   "version": "3.12.4"
  }
 },
 "nbformat": 4,
 "nbformat_minor": 5
}
